{
  "nbformat": 4,
  "nbformat_minor": 0,
  "metadata": {
    "colab": {
      "name": "group2application.ipynb",
      "provenance": [],
      "collapsed_sections": []
    },
    "kernelspec": {
      "name": "python3",
      "display_name": "Python 3"
    },
    "language_info": {
      "name": "python"
    }
  },
  "cells": [
    {
      "cell_type": "markdown",
      "metadata": {
        "id": "cK3xZ2UEzfjM"
      },
      "source": [
        "#Lab 5: Flask Framework"
      ]
    },
    {
      "cell_type": "markdown",
      "metadata": {
        "id": "DqZ1ojEszNmU"
      },
      "source": [
        "Link to App: [Internet of things](http://jdbelloro.pythonanywhere.com/)"
      ]
    }
  ]
}