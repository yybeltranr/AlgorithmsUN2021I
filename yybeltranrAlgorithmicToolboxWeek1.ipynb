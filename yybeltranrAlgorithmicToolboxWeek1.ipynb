{
  "nbformat": 4,
  "nbformat_minor": 0,
  "metadata": {
    "colab": {
      "name": "AlgorithmicToolboxWeek1.ipynb",
      "provenance": [],
      "collapsed_sections": []
    },
    "kernelspec": {
      "name": "python3",
      "display_name": "Python 3"
    },
    "language_info": {
      "name": "python"
    }
  },
  "cells": [
    {
      "cell_type": "markdown",
      "metadata": {
        "id": "3v3G_NgimwJ3"
      },
      "source": [
        "# **Algorithmic Toolbox**"
      ]
    },
    {
      "cell_type": "markdown",
      "metadata": {
        "id": "mrklDqdfm9dl"
      },
      "source": [
        "# *Week1*"
      ]
    },
    {
      "cell_type": "markdown",
      "metadata": {
        "id": "SuuN3eHimgVT"
      },
      "source": [
        "----------------------------------------------------------\n",
        "# **Sum of two digits**\n",
        "----------------------------------------------------------"
      ]
    },
    {
      "cell_type": "markdown",
      "metadata": {
        "id": "QZdGHL56nIEN"
      },
      "source": [
        "Compute the sum of two single digit numbers.\n",
        "\n",
        "**Input:** Two single digit numbers.  \n",
        "**Output:** The sum of these numbers."
      ]
    },
    {
      "cell_type": "markdown",
      "metadata": {
        "id": "QR3OBdWsoRHa"
      },
      "source": [
        "### **Solution in C++**"
      ]
    },
    {
      "cell_type": "markdown",
      "metadata": {
        "id": "nGbv5YVdoxbL"
      },
      "source": [
        "> *Writting *main.cpp* file.*"
      ]
    },
    {
      "cell_type": "code",
      "metadata": {
        "colab": {
          "base_uri": "https://localhost:8080/"
        },
        "id": "1GFa9foOnHEc",
        "outputId": "bf4def81-4c33-4c18-e442-7ae7c080bfc0"
      },
      "source": [
        "%%writefile main.cpp\n",
        "#include <iostream>\n",
        "using namespace std;\n",
        "\n",
        "int sum(int x, int y){\n",
        "    return x+y;\n",
        "}\n",
        "\n",
        "int main() {\n",
        "    int a, b;\n",
        "    cin >> a >> b;\n",
        "    cout << sum(a,b) << endl;\n",
        "    return 0;\n",
        "}"
      ],
      "execution_count": 289,
      "outputs": [
        {
          "output_type": "stream",
          "text": [
            "Overwriting main.cpp\n"
          ],
          "name": "stdout"
        }
      ]
    },
    {
      "cell_type": "markdown",
      "metadata": {
        "id": "GPZuv1wFo5qS"
      },
      "source": [
        "> *Compile *main.cpp* file into *main* executable.*"
      ]
    },
    {
      "cell_type": "code",
      "metadata": {
        "id": "jWuM3Maco5R7",
        "colab": {
          "base_uri": "https://localhost:8080/"
        },
        "outputId": "ba154e82-3150-4378-df28-8f9c6b3e8007"
      },
      "source": [
        "!g++ main.cpp -o main\n",
        "!./main"
      ],
      "execution_count": 290,
      "outputs": [
        {
          "output_type": "stream",
          "text": [
            "-45 89\n",
            "44\n"
          ],
          "name": "stdout"
        }
      ]
    },
    {
      "cell_type": "markdown",
      "metadata": {
        "id": "5VLGSaK0pY9P"
      },
      "source": [
        "> *Create test1 files.*"
      ]
    },
    {
      "cell_type": "code",
      "metadata": {
        "colab": {
          "base_uri": "https://localhost:8080/"
        },
        "id": "EMHChuRCpYXi",
        "outputId": "6465fd11-ce09-44b2-d652-8e0554a637b0"
      },
      "source": [
        "%%writefile test1.in\n",
        "2 3"
      ],
      "execution_count": 291,
      "outputs": [
        {
          "output_type": "stream",
          "text": [
            "Overwriting test1.in\n"
          ],
          "name": "stdout"
        }
      ]
    },
    {
      "cell_type": "code",
      "metadata": {
        "colab": {
          "base_uri": "https://localhost:8080/"
        },
        "id": "jmvzVby-ps3G",
        "outputId": "4e1dcdb5-e5e0-4c42-ad3b-494738584140"
      },
      "source": [
        "%%writefile test1.out\n",
        "5"
      ],
      "execution_count": 292,
      "outputs": [
        {
          "output_type": "stream",
          "text": [
            "Overwriting test1.out\n"
          ],
          "name": "stdout"
        }
      ]
    },
    {
      "cell_type": "markdown",
      "metadata": {
        "id": "vCyN9VWVp06S"
      },
      "source": [
        "> *Executing test1.*"
      ]
    },
    {
      "cell_type": "code",
      "metadata": {
        "id": "z4BGcEa2p0Zi"
      },
      "source": [
        "!./main < test1.in > result.out\n",
        "!grep -xvFf test1.out result.out"
      ],
      "execution_count": 293,
      "outputs": []
    },
    {
      "cell_type": "markdown",
      "metadata": {
        "id": "fbOduF6zqaRm"
      },
      "source": [
        "No result. The answer is correct!"
      ]
    },
    {
      "cell_type": "markdown",
      "metadata": {
        "id": "idNl0JgrnrIQ"
      },
      "source": [
        "> *Create test2 files.*"
      ]
    },
    {
      "cell_type": "code",
      "metadata": {
        "colab": {
          "base_uri": "https://localhost:8080/"
        },
        "id": "B8GjPYPXmfOb",
        "outputId": "26f8e0d4-c7d8-4da5-86d4-958ecfecd5b0"
      },
      "source": [
        "%%writefile test2.in\n",
        "-8 9"
      ],
      "execution_count": 294,
      "outputs": [
        {
          "output_type": "stream",
          "text": [
            "Overwriting test2.in\n"
          ],
          "name": "stdout"
        }
      ]
    },
    {
      "cell_type": "code",
      "metadata": {
        "colab": {
          "base_uri": "https://localhost:8080/"
        },
        "id": "DVJGG7wtmknS",
        "outputId": "c82c1f5a-4c26-42b8-acb9-1df5c2447de8"
      },
      "source": [
        "%%writefile test2.out\n",
        "1"
      ],
      "execution_count": 295,
      "outputs": [
        {
          "output_type": "stream",
          "text": [
            "Overwriting test2.out\n"
          ],
          "name": "stdout"
        }
      ]
    },
    {
      "cell_type": "markdown",
      "metadata": {
        "id": "21R3smY-nllp"
      },
      "source": [
        "> *Executing test2.*"
      ]
    },
    {
      "cell_type": "code",
      "metadata": {
        "id": "6xFWjZZemzwP"
      },
      "source": [
        "!./main < test2.in > result.out\n",
        "!grep -xvFf test2.out result.out"
      ],
      "execution_count": 296,
      "outputs": []
    },
    {
      "cell_type": "markdown",
      "metadata": {
        "id": "Y6uA0pN1n7Et"
      },
      "source": [
        "No result. The answer is correct!"
      ]
    },
    {
      "cell_type": "markdown",
      "metadata": {
        "id": "6Q3VX0Qpufi8"
      },
      "source": [
        "> *Create test3 files.*"
      ]
    },
    {
      "cell_type": "code",
      "metadata": {
        "colab": {
          "base_uri": "https://localhost:8080/"
        },
        "id": "4CBXtKQSufEy",
        "outputId": "8bbe7abd-ba3a-4822-cf49-d5de84c8d44e"
      },
      "source": [
        "%%writefile test3.in\n",
        "-25 -12"
      ],
      "execution_count": 297,
      "outputs": [
        {
          "output_type": "stream",
          "text": [
            "Overwriting test3.in\n"
          ],
          "name": "stdout"
        }
      ]
    },
    {
      "cell_type": "code",
      "metadata": {
        "colab": {
          "base_uri": "https://localhost:8080/"
        },
        "id": "fbeDvzCPukfo",
        "outputId": "10aaea14-e6dc-4261-8885-b4ac0ee283a2"
      },
      "source": [
        "%%writefile test3.out\n",
        "-37"
      ],
      "execution_count": 298,
      "outputs": [
        {
          "output_type": "stream",
          "text": [
            "Overwriting test3.out\n"
          ],
          "name": "stdout"
        }
      ]
    },
    {
      "cell_type": "markdown",
      "metadata": {
        "id": "S3e27a1xuo6v"
      },
      "source": [
        "> *Executing test3.*"
      ]
    },
    {
      "cell_type": "code",
      "metadata": {
        "id": "FRMyLQ65unip"
      },
      "source": [
        "!./main < test3.in > result.out\n",
        "!grep -xvFf test3.out result.out"
      ],
      "execution_count": 299,
      "outputs": []
    },
    {
      "cell_type": "markdown",
      "metadata": {
        "id": "OLr09RIZuwru"
      },
      "source": [
        "No result. The answer is correct!"
      ]
    },
    {
      "cell_type": "markdown",
      "metadata": {
        "id": "uinyldK7qAxD"
      },
      "source": [
        "> *Excecuting main executable for test1, test2 and test3.*"
      ]
    },
    {
      "cell_type": "code",
      "metadata": {
        "colab": {
          "base_uri": "https://localhost:8080/"
        },
        "id": "Gh7YdDuWoIQ0",
        "outputId": "30ec6755-ad5a-42b2-bfa1-95245861b97a"
      },
      "source": [
        "!./main < test1.in"
      ],
      "execution_count": 300,
      "outputs": [
        {
          "output_type": "stream",
          "text": [
            "5\n"
          ],
          "name": "stdout"
        }
      ]
    },
    {
      "cell_type": "code",
      "metadata": {
        "colab": {
          "base_uri": "https://localhost:8080/"
        },
        "id": "f_tffqN8pws_",
        "outputId": "e04faa38-d412-4d44-d676-0d607b3eb999"
      },
      "source": [
        "!./main < test2.in"
      ],
      "execution_count": 301,
      "outputs": [
        {
          "output_type": "stream",
          "text": [
            "1\n"
          ],
          "name": "stdout"
        }
      ]
    },
    {
      "cell_type": "code",
      "metadata": {
        "colab": {
          "base_uri": "https://localhost:8080/"
        },
        "id": "RNy5eTbNvDkL",
        "outputId": "7a9513a4-99a2-4b87-a5e1-767956c6e2ee"
      },
      "source": [
        "!./main < test3.in"
      ],
      "execution_count": 302,
      "outputs": [
        {
          "output_type": "stream",
          "text": [
            "-37\n"
          ],
          "name": "stdout"
        }
      ]
    },
    {
      "cell_type": "markdown",
      "metadata": {
        "id": "mStjUn3RqhFk"
      },
      "source": [
        "### **Solution in python**"
      ]
    },
    {
      "cell_type": "markdown",
      "metadata": {
        "id": "Trv9mWM7qo2K"
      },
      "source": [
        "> *Writting main.py file.*"
      ]
    },
    {
      "cell_type": "code",
      "metadata": {
        "colab": {
          "base_uri": "https://localhost:8080/"
        },
        "id": "PrJMO9Evqfam",
        "outputId": "1a056b32-7060-4c39-db9a-da4b4b748e5b"
      },
      "source": [
        "%%writefile mainsump.py\n",
        "a, b = map(int, input().split())\n",
        "print(a + b)"
      ],
      "execution_count": 303,
      "outputs": [
        {
          "output_type": "stream",
          "text": [
            "Overwriting mainsump.py\n"
          ],
          "name": "stdout"
        }
      ]
    },
    {
      "cell_type": "code",
      "metadata": {
        "colab": {
          "base_uri": "https://localhost:8080/"
        },
        "id": "slb1-d7_HlRr",
        "outputId": "12f6db57-a92e-44e9-e3e8-840119fb9dc8"
      },
      "source": [
        "!python mainsump.py"
      ],
      "execution_count": 304,
      "outputs": [
        {
          "output_type": "stream",
          "text": [
            "45 8\n",
            "53\n"
          ],
          "name": "stdout"
        }
      ]
    },
    {
      "cell_type": "markdown",
      "metadata": {
        "id": "zF6BxfGYqy7a"
      },
      "source": [
        "> *Create test files.*"
      ]
    },
    {
      "cell_type": "code",
      "metadata": {
        "colab": {
          "base_uri": "https://localhost:8080/"
        },
        "id": "ZTnZ3_pNqzuq",
        "outputId": "cc8bf830-9088-411f-cfca-89dfc9d86115"
      },
      "source": [
        "%%writefile t1.in\n",
        "29 8"
      ],
      "execution_count": 306,
      "outputs": [
        {
          "output_type": "stream",
          "text": [
            "Overwriting t1.in\n"
          ],
          "name": "stdout"
        }
      ]
    },
    {
      "cell_type": "code",
      "metadata": {
        "colab": {
          "base_uri": "https://localhost:8080/"
        },
        "id": "8mzrB61_q0Ud",
        "outputId": "06db8399-7f93-44d5-b6f1-a4da7cfd553d"
      },
      "source": [
        "%%writefile t1.out\n",
        "37"
      ],
      "execution_count": 307,
      "outputs": [
        {
          "output_type": "stream",
          "text": [
            "Overwriting t1.out\n"
          ],
          "name": "stdout"
        }
      ]
    },
    {
      "cell_type": "code",
      "metadata": {
        "colab": {
          "base_uri": "https://localhost:8080/"
        },
        "id": "R1oO9Pu3qv4z",
        "outputId": "c9e9bf77-29d7-41db-e83e-e54238d6922c"
      },
      "source": [
        "%%writefile t2.in\n",
        "-52 14"
      ],
      "execution_count": 308,
      "outputs": [
        {
          "output_type": "stream",
          "text": [
            "Overwriting t2.in\n"
          ],
          "name": "stdout"
        }
      ]
    },
    {
      "cell_type": "code",
      "metadata": {
        "colab": {
          "base_uri": "https://localhost:8080/"
        },
        "id": "ScC2qCc8qvm1",
        "outputId": "70d70b3f-f865-46b9-da5d-bd5d3d3cf7ae"
      },
      "source": [
        "%%writefile t2.out\n",
        "-38"
      ],
      "execution_count": 309,
      "outputs": [
        {
          "output_type": "stream",
          "text": [
            "Overwriting t2.out\n"
          ],
          "name": "stdout"
        }
      ]
    },
    {
      "cell_type": "code",
      "metadata": {
        "colab": {
          "base_uri": "https://localhost:8080/"
        },
        "id": "qCihjhPPvbuR",
        "outputId": "6a756849-5c08-4d63-c8dc-d556a308c6f3"
      },
      "source": [
        "%%writefile t3.in\n",
        "-155 -285"
      ],
      "execution_count": 310,
      "outputs": [
        {
          "output_type": "stream",
          "text": [
            "Overwriting t3.in\n"
          ],
          "name": "stdout"
        }
      ]
    },
    {
      "cell_type": "code",
      "metadata": {
        "colab": {
          "base_uri": "https://localhost:8080/"
        },
        "id": "hxA-EBV3vgAX",
        "outputId": "8b1e5204-626a-4106-a469-b1f8f78612f8"
      },
      "source": [
        "%%writefile t3.out\n",
        "-440"
      ],
      "execution_count": 311,
      "outputs": [
        {
          "output_type": "stream",
          "text": [
            "Overwriting t3.out\n"
          ],
          "name": "stdout"
        }
      ]
    },
    {
      "cell_type": "markdown",
      "metadata": {
        "id": "PNzr-UGSq0nr"
      },
      "source": [
        "> *Executing test para t1, t2 and t3.*"
      ]
    },
    {
      "cell_type": "code",
      "metadata": {
        "id": "ImY2WtMKsBQf"
      },
      "source": [
        "!python mainsump.py < t1.in > result.out\n",
        "!grep -xvFf t1.out result.out"
      ],
      "execution_count": 312,
      "outputs": []
    },
    {
      "cell_type": "code",
      "metadata": {
        "id": "tT7Y3lxkFcPU"
      },
      "source": [
        "!python mainsump.py < t2.in > result.out\n",
        "!grep -xvFf t2.out result.out"
      ],
      "execution_count": 313,
      "outputs": []
    },
    {
      "cell_type": "code",
      "metadata": {
        "id": "ermq8691Fbze"
      },
      "source": [
        "!python mainsump.py < t3.in > result.out\n",
        "!grep -xvFf t3.out result.out"
      ],
      "execution_count": 314,
      "outputs": []
    },
    {
      "cell_type": "markdown",
      "metadata": {
        "id": "v2cqrRQOqssw"
      },
      "source": [
        "No result. The answer is correct!"
      ]
    },
    {
      "cell_type": "markdown",
      "metadata": {
        "id": "5gvoDFJ7XgCH"
      },
      "source": [
        "### *Pruebas de Tiempo*"
      ]
    },
    {
      "cell_type": "markdown",
      "metadata": {
        "id": "JalAPTWaXsoj"
      },
      "source": [
        "> *Prueba 1:*"
      ]
    },
    {
      "cell_type": "code",
      "metadata": {
        "colab": {
          "base_uri": "https://localhost:8080/"
        },
        "id": "wW2Pnz-gV7eW",
        "outputId": "9d17bd87-0fd9-4dac-8d57-7b0692edbc40"
      },
      "source": [
        "%%time\n",
        "# C++\n",
        "!./main < test1.in > result.out\n",
        "!grep -xvFf test1.out result.out"
      ],
      "execution_count": 322,
      "outputs": [
        {
          "output_type": "stream",
          "text": [
            "CPU times: user 9.66 ms, sys: 13.9 ms, total: 23.5 ms\n",
            "Wall time: 221 ms\n"
          ],
          "name": "stdout"
        }
      ]
    },
    {
      "cell_type": "code",
      "metadata": {
        "colab": {
          "base_uri": "https://localhost:8080/"
        },
        "id": "vK5ppaztWPIQ",
        "outputId": "05fc0736-b2d5-4719-a4ed-a9bab3125958"
      },
      "source": [
        "%%time\n",
        "# Python\n",
        "!python mainsump.py < t1.in > result.out\n",
        "!grep -xvFf t1.out result.out"
      ],
      "execution_count": 323,
      "outputs": [
        {
          "output_type": "stream",
          "text": [
            "CPU times: user 11 ms, sys: 12.8 ms, total: 23.8 ms\n",
            "Wall time: 229 ms\n"
          ],
          "name": "stdout"
        }
      ]
    },
    {
      "cell_type": "markdown",
      "metadata": {
        "id": "3c4Tw-tFX0DG"
      },
      "source": [
        "> *Prueba 2:*"
      ]
    },
    {
      "cell_type": "code",
      "metadata": {
        "colab": {
          "base_uri": "https://localhost:8080/"
        },
        "id": "ToJUhV5aX8TZ",
        "outputId": "bfaabb5f-8230-47c8-dc86-7631e584861a"
      },
      "source": [
        "%%time\n",
        "# C++\n",
        "!./main < test2.in > result.out\n",
        "!grep -xvFf test2.out result.out"
      ],
      "execution_count": 324,
      "outputs": [
        {
          "output_type": "stream",
          "text": [
            "CPU times: user 8.55 ms, sys: 15.4 ms, total: 23.9 ms\n",
            "Wall time: 228 ms\n"
          ],
          "name": "stdout"
        }
      ]
    },
    {
      "cell_type": "code",
      "metadata": {
        "colab": {
          "base_uri": "https://localhost:8080/"
        },
        "id": "qDKRMTWJX7yJ",
        "outputId": "1c59d334-d55b-4274-9f62-7fdfdf2b6068"
      },
      "source": [
        "%%time\n",
        "# Python\n",
        "!python mainsump.py < t2.in > result.out\n",
        "!grep -xvFf t2.out result.out"
      ],
      "execution_count": 325,
      "outputs": [
        {
          "output_type": "stream",
          "text": [
            "CPU times: user 12 ms, sys: 13.7 ms, total: 25.7 ms\n",
            "Wall time: 239 ms\n"
          ],
          "name": "stdout"
        }
      ]
    },
    {
      "cell_type": "markdown",
      "metadata": {
        "id": "f2i2uqU_X2Ul"
      },
      "source": [
        "> *Prueba 3:*"
      ]
    },
    {
      "cell_type": "code",
      "metadata": {
        "colab": {
          "base_uri": "https://localhost:8080/"
        },
        "id": "HqPAsOEtX-MC",
        "outputId": "7b4979b5-223c-4dbb-bd32-9f7ab7003a1a"
      },
      "source": [
        "%%time\n",
        "# C++\n",
        "!./main < test3.in > result.out\n",
        "!grep -xvFf test3.out result.out"
      ],
      "execution_count": 326,
      "outputs": [
        {
          "output_type": "stream",
          "text": [
            "CPU times: user 10.2 ms, sys: 12.7 ms, total: 22.9 ms\n",
            "Wall time: 229 ms\n"
          ],
          "name": "stdout"
        }
      ]
    },
    {
      "cell_type": "code",
      "metadata": {
        "colab": {
          "base_uri": "https://localhost:8080/"
        },
        "id": "S_5a6AgEX9ms",
        "outputId": "5a03915e-c8f2-406c-df94-56fbff7cb047"
      },
      "source": [
        "%%time\n",
        "# Python\n",
        "!python mainsump.py < t3.in > result.out\n",
        "!grep -xvFf t3.out result.out"
      ],
      "execution_count": 327,
      "outputs": [
        {
          "output_type": "stream",
          "text": [
            "CPU times: user 10.6 ms, sys: 13.8 ms, total: 24.4 ms\n",
            "Wall time: 230 ms\n"
          ],
          "name": "stdout"
        }
      ]
    },
    {
      "cell_type": "markdown",
      "metadata": {
        "id": "JE4zjYPxs62e"
      },
      "source": [
        "----------------------------------------------------------\n",
        "# **Maximum Pairwise Product**\n",
        "----------------------------------------------------------"
      ]
    },
    {
      "cell_type": "markdown",
      "metadata": {
        "id": "wZ9EbCvstBiS"
      },
      "source": [
        "Find the maximum product of two distinct numbers in a sequence of non-negative integers.\n",
        "\n",
        "**Input:** A sequence of non-negative integers.  \n",
        "**Output:** The maximum value that can be obtained by multiplying two different elements from the sequence."
      ]
    },
    {
      "cell_type": "markdown",
      "metadata": {
        "id": "DDd5GusYtP-W"
      },
      "source": [
        "## **Solution in C++**"
      ]
    },
    {
      "cell_type": "markdown",
      "metadata": {
        "id": "gP1YZQxstavQ"
      },
      "source": [
        "> *Writting main.cpp file.*"
      ]
    },
    {
      "cell_type": "markdown",
      "metadata": {
        "id": "4wteJOsS2b2P"
      },
      "source": [
        "### *CÓDIGO INEFICIENTE*"
      ]
    },
    {
      "cell_type": "code",
      "metadata": {
        "colab": {
          "base_uri": "https://localhost:8080/"
        },
        "id": "CBWQQVEZtPva",
        "outputId": "da1977d3-6877-47ad-db20-db62e1cfe862"
      },
      "source": [
        "%%writefile max_pairwise_product1.cpp\n",
        "#include <iostream>\n",
        "#include <vector>\n",
        "#include <algorithm>\n",
        "\n",
        "int MaxPairwiseProduct(const std::vector<int>& numbers) {\n",
        "    int max_product = 0;\n",
        "    int n = numbers.size();\n",
        "\n",
        "    for (int first = 0; first < n; ++first) {\n",
        "        for (int second = first + 1; second < n; ++second) {\n",
        "            max_product = std::max(max_product,\n",
        "                numbers[first] * numbers[second]);\n",
        "        }\n",
        "    }\n",
        "\n",
        "    return max_product;\n",
        "}\n",
        "\n",
        "int main() {\n",
        "    int n;\n",
        "    std::cin >> n;\n",
        "    std::vector<int> numbers(n);\n",
        "    for (int i = 0; i < n; ++i) {\n",
        "        std::cin >> numbers[i];\n",
        "    }\n",
        "\n",
        "    std::cout << MaxPairwiseProduct(numbers) << \"\\n\";\n",
        "    return 0;\n",
        "}\n"
      ],
      "execution_count": 210,
      "outputs": [
        {
          "output_type": "stream",
          "text": [
            "Overwriting max_pairwise_product1.cpp\n"
          ],
          "name": "stdout"
        }
      ]
    },
    {
      "cell_type": "markdown",
      "metadata": {
        "id": "_ToNRENSuSEK"
      },
      "source": [
        "> *Compile max_pairwise_product1.cpp file into main executable.*"
      ]
    },
    {
      "cell_type": "code",
      "metadata": {
        "id": "Rb-OAjz1uhb4",
        "colab": {
          "base_uri": "https://localhost:8080/"
        },
        "outputId": "e9dffaa9-7d33-4255-f21d-eb81a0146188"
      },
      "source": [
        "!g++ max_pairwise_product1.cpp -o max_pairwise_product1\n",
        "!./max_pairwise_product1"
      ],
      "execution_count": 211,
      "outputs": [
        {
          "output_type": "stream",
          "text": [
            "3\n",
            "1 3 4\n",
            "12\n"
          ],
          "name": "stdout"
        }
      ]
    },
    {
      "cell_type": "markdown",
      "metadata": {
        "id": "Nqgamj-Juhb5"
      },
      "source": [
        "> *Create test files.*"
      ]
    },
    {
      "cell_type": "markdown",
      "metadata": {
        "id": "epS1OHSw5KFd"
      },
      "source": [
        "> *Test 1: lagest input numbers 200000 200000 in the input*"
      ]
    },
    {
      "cell_type": "code",
      "metadata": {
        "colab": {
          "base_uri": "https://localhost:8080/"
        },
        "id": "TPmPRUNVuhb7",
        "outputId": "12debf9c-fac4-439e-bf99-28f1013f33e7"
      },
      "source": [
        "%%writefile te1.in\n",
        "5\n",
        "1 3 200000 9 200000 23"
      ],
      "execution_count": 226,
      "outputs": [
        {
          "output_type": "stream",
          "text": [
            "Overwriting te1.in\n"
          ],
          "name": "stdout"
        }
      ]
    },
    {
      "cell_type": "code",
      "metadata": {
        "colab": {
          "base_uri": "https://localhost:8080/"
        },
        "id": "D_d4r03A5Rpf",
        "outputId": "a9f3e25a-6602-4f9d-a45d-e612171e86c2"
      },
      "source": [
        "!./max_pairwise_product1 < te1.in"
      ],
      "execution_count": 228,
      "outputs": [
        {
          "output_type": "stream",
          "text": [
            "1345294336\n"
          ],
          "name": "stdout"
        }
      ]
    },
    {
      "cell_type": "markdown",
      "metadata": {
        "id": "E3UoXMoqv0Od"
      },
      "source": [
        "> *Propia implementación con optimización del código.*\n",
        "\n",
        "### *CÓDIGO EFICIENTE*"
      ]
    },
    {
      "cell_type": "code",
      "metadata": {
        "colab": {
          "base_uri": "https://localhost:8080/"
        },
        "id": "mW1IOrVHDFwW",
        "outputId": "6f685d07-475c-4176-a5a8-1eb0714df305"
      },
      "source": [
        "# Implementación del código OPTIMIZADO \n",
        "%%writefile mainpr.cpp\n",
        "#include <iostream>\n",
        "#include <vector>\n",
        "#include <algorithm>\n",
        "using namespace std;\n",
        "\n",
        "int main() {\n",
        "    int n;\n",
        "    cin >> n;\n",
        "    vector<long long> nums(n);\n",
        "\n",
        "    for(int i = 0; i < n; i++){\n",
        "        cin >> nums[i];\n",
        "    }\n",
        "    sort(nums.begin(), nums.end());\n",
        "    cout << nums[n-1] * nums[n-2] << endl;\n",
        "    return 0;\n",
        "}\n"
      ],
      "execution_count": 215,
      "outputs": [
        {
          "output_type": "stream",
          "text": [
            "Writing mainpr.cpp\n"
          ],
          "name": "stdout"
        }
      ]
    },
    {
      "cell_type": "markdown",
      "metadata": {
        "id": "pPtCmhSE4fwH"
      },
      "source": [
        "> *Compile main.cpp file into main executable.*"
      ]
    },
    {
      "cell_type": "code",
      "metadata": {
        "colab": {
          "base_uri": "https://localhost:8080/"
        },
        "id": "Tvxo_tTS4eMW",
        "outputId": "d2a61d00-4f25-4df2-f223-f5df6d87d5b5"
      },
      "source": [
        "!g++ mainpr.cpp -o mainpr\n",
        "!./mainpr"
      ],
      "execution_count": 230,
      "outputs": [
        {
          "output_type": "stream",
          "text": [
            "2 \n",
            "100000 99000\n",
            "9900000000\n"
          ],
          "name": "stdout"
        }
      ]
    },
    {
      "cell_type": "markdown",
      "metadata": {
        "id": "wQHJ2kh65zu_"
      },
      "source": [
        "> *Create test files.*"
      ]
    },
    {
      "cell_type": "code",
      "metadata": {
        "colab": {
          "base_uri": "https://localhost:8080/"
        },
        "id": "OyHzqubQwJw6",
        "outputId": "82b4d9ad-51b0-4f16-e847-12c6d5f5707d"
      },
      "source": [
        "%%writefile te2.in\n",
        "10\n",
        "1 3 200000 9 200000 23 900000 58964 400000 25"
      ],
      "execution_count": 231,
      "outputs": [
        {
          "output_type": "stream",
          "text": [
            "Overwriting te2.in\n"
          ],
          "name": "stdout"
        }
      ]
    },
    {
      "cell_type": "code",
      "metadata": {
        "colab": {
          "base_uri": "https://localhost:8080/"
        },
        "id": "ZCogvfkaJAbx",
        "outputId": "6fb8c841-1f2c-457d-c439-ef17504a2da5"
      },
      "source": [
        "!./mainpr < te2.in"
      ],
      "execution_count": 233,
      "outputs": [
        {
          "output_type": "stream",
          "text": [
            "360000000000\n"
          ],
          "name": "stdout"
        }
      ]
    },
    {
      "cell_type": "markdown",
      "metadata": {
        "id": "VGwFfX4ovaLz"
      },
      "source": [
        "## **Solution in Python**"
      ]
    },
    {
      "cell_type": "markdown",
      "metadata": {
        "id": "DiCgfd7EvaL0"
      },
      "source": [
        "> *Writting main.py file.*"
      ]
    },
    {
      "cell_type": "markdown",
      "metadata": {
        "id": "nxe8flSR90_y"
      },
      "source": [
        "### *CÓDIGO INEFICIENTE*"
      ]
    },
    {
      "cell_type": "code",
      "metadata": {
        "colab": {
          "base_uri": "https://localhost:8080/"
        },
        "id": "YM5dA5mPvaL2",
        "outputId": "6588f5b1-49be-4905-c8ff-e7fe6803f1a1"
      },
      "source": [
        "%%writefile mainp.py\n",
        "def solve(a):\n",
        "    max1 = -1\n",
        "    max2 = -1\n",
        "    n = len(a)\n",
        "    for i in range(n):\n",
        "      if a[i] >= max1:\n",
        "        max2 = max1\n",
        "        max1 = a[i]\n",
        "      elif a[i] >= max2:\n",
        "        max2 = a[i]\n",
        "    return max1 * max2;\n",
        "\n",
        "\n",
        "if __name__ == '__main__':\n",
        "    n = int(input())\n",
        "    a = [int(x) for x in input().split(\" \")]\n",
        "    print(solve(a))"
      ],
      "execution_count": 239,
      "outputs": [
        {
          "output_type": "stream",
          "text": [
            "Overwriting mainp.py\n"
          ],
          "name": "stdout"
        }
      ]
    },
    {
      "cell_type": "code",
      "metadata": {
        "colab": {
          "base_uri": "https://localhost:8080/"
        },
        "id": "hP43cNFJKMJa",
        "outputId": "7bb8d250-26ad-4884-e050-f9dcdffeefa5"
      },
      "source": [
        "!python mainp.py"
      ],
      "execution_count": 243,
      "outputs": [
        {
          "output_type": "stream",
          "text": [
            "5\n",
            "1 8 9 7 6\n",
            "72\n"
          ],
          "name": "stdout"
        }
      ]
    },
    {
      "cell_type": "markdown",
      "metadata": {
        "id": "7dm6ttPEvaL3"
      },
      "source": [
        "> *Create test files.*"
      ]
    },
    {
      "cell_type": "code",
      "metadata": {
        "colab": {
          "base_uri": "https://localhost:8080/"
        },
        "id": "8ZC1ChS4vaL4",
        "outputId": "3e8e9a70-c8fe-4373-d206-193fb07f248f"
      },
      "source": [
        "%%writefile p1.in\n",
        "5\n",
        "1 3 200000 9 200000 23"
      ],
      "execution_count": 244,
      "outputs": [
        {
          "output_type": "stream",
          "text": [
            "Overwriting p1.in\n"
          ],
          "name": "stdout"
        }
      ]
    },
    {
      "cell_type": "code",
      "metadata": {
        "colab": {
          "base_uri": "https://localhost:8080/"
        },
        "id": "vD1x7Z8LvaL5",
        "outputId": "3d8496d3-ce7c-4b72-dd20-a6f53c10abea"
      },
      "source": [
        "%%writefile p1.out\n",
        "40000000000"
      ],
      "execution_count": 245,
      "outputs": [
        {
          "output_type": "stream",
          "text": [
            "Overwriting p1.out\n"
          ],
          "name": "stdout"
        }
      ]
    },
    {
      "cell_type": "code",
      "metadata": {
        "colab": {
          "base_uri": "https://localhost:8080/"
        },
        "id": "06vC5HeREEoK",
        "outputId": "016e1ac5-7261-48ff-b637-92b71db35099"
      },
      "source": [
        "%%writefile p2.in\n",
        "10\n",
        "1 3 200000 9 200000 23 900000 58964 400000 25"
      ],
      "execution_count": 246,
      "outputs": [
        {
          "output_type": "stream",
          "text": [
            "Overwriting p2.in\n"
          ],
          "name": "stdout"
        }
      ]
    },
    {
      "cell_type": "code",
      "metadata": {
        "colab": {
          "base_uri": "https://localhost:8080/"
        },
        "id": "dzJkoP8_EEGi",
        "outputId": "a5330209-234d-49be-e1fc-182b674fa553"
      },
      "source": [
        "%%writefile p2.out\n",
        "360000000000"
      ],
      "execution_count": 247,
      "outputs": [
        {
          "output_type": "stream",
          "text": [
            "Overwriting p2.out\n"
          ],
          "name": "stdout"
        }
      ]
    },
    {
      "cell_type": "markdown",
      "metadata": {
        "id": "0rQAKVl-vaL6"
      },
      "source": [
        "> *Executing test.*"
      ]
    },
    {
      "cell_type": "code",
      "metadata": {
        "id": "G-wkV-9eDShM"
      },
      "source": [
        "!python mainp.py < p1.in > result.out\n",
        "!grep -xvFf p1.out result.out"
      ],
      "execution_count": 266,
      "outputs": []
    },
    {
      "cell_type": "code",
      "metadata": {
        "id": "z9C3jIQOvaL7"
      },
      "source": [
        "!python mainp.py < p2.in > result.out\n",
        "!grep -xvFf p2.out result.out"
      ],
      "execution_count": 267,
      "outputs": []
    },
    {
      "cell_type": "markdown",
      "metadata": {
        "id": "oHjHFZuOvaL8"
      },
      "source": [
        "No result. The answer is correct!"
      ]
    },
    {
      "cell_type": "markdown",
      "metadata": {
        "id": "i_sFb3Q--a50"
      },
      "source": [
        "> *Propia implementación con optimización del código.*\n",
        "\n",
        "### *CÓDIGO EFICIENTE*"
      ]
    },
    {
      "cell_type": "code",
      "metadata": {
        "colab": {
          "base_uri": "https://localhost:8080/"
        },
        "id": "jzUFD-3A4F9h",
        "outputId": "faeeeb62-1d64-414c-c041-0da5fbd76866"
      },
      "source": [
        "# Implementación del código OPTIMIZADO \n",
        "%%writefile main_efficient.py\n",
        "import numpy as np\n",
        "\n",
        "arr = []\n",
        "ord = []\n",
        "n = int (input())\n",
        "\n",
        "for i in range(0, n):\n",
        "  arr.append(int (input())) \n",
        "  ord = np.sort(arr)\n",
        "\n",
        "#print(arr)\n",
        "#49print(ord)\n",
        "print(ord[n-1] * ord[n-2])\n",
        "\n",
        "    "
      ],
      "execution_count": 275,
      "outputs": [
        {
          "output_type": "stream",
          "text": [
            "Overwriting main_efficient.py\n"
          ],
          "name": "stdout"
        }
      ]
    },
    {
      "cell_type": "code",
      "metadata": {
        "colab": {
          "base_uri": "https://localhost:8080/"
        },
        "id": "i0RrAB3ULGrb",
        "outputId": "c4231956-f220-4d45-f8dd-0c35cbe146a2"
      },
      "source": [
        "!python main_efficient.py"
      ],
      "execution_count": 276,
      "outputs": [
        {
          "output_type": "stream",
          "text": [
            "3\n",
            "12\n",
            "65\n",
            "10\n",
            "780\n"
          ],
          "name": "stdout"
        }
      ]
    },
    {
      "cell_type": "markdown",
      "metadata": {
        "id": "z5h4aXtTEq2M"
      },
      "source": [
        "> *Create test files.*"
      ]
    },
    {
      "cell_type": "code",
      "metadata": {
        "colab": {
          "base_uri": "https://localhost:8080/"
        },
        "id": "qmZI2M5FEuwC",
        "outputId": "900ba0f9-f0de-428c-f304-e2dd6a4c9053"
      },
      "source": [
        "%%writefile p3.in\n",
        "5\n",
        "1\n",
        "3\n",
        "200000\n",
        "9\n",
        "200000\n",
        "23"
      ],
      "execution_count": 278,
      "outputs": [
        {
          "output_type": "stream",
          "text": [
            "Overwriting p3.in\n"
          ],
          "name": "stdout"
        }
      ]
    },
    {
      "cell_type": "code",
      "metadata": {
        "colab": {
          "base_uri": "https://localhost:8080/"
        },
        "id": "xGEt1wfwE0ur",
        "outputId": "cb601ee6-979d-47b2-8c28-e05435ff5f1b"
      },
      "source": [
        "%%writefile p3.out\n",
        "40000000000"
      ],
      "execution_count": 279,
      "outputs": [
        {
          "output_type": "stream",
          "text": [
            "Overwriting p3.out\n"
          ],
          "name": "stdout"
        }
      ]
    },
    {
      "cell_type": "code",
      "metadata": {
        "colab": {
          "base_uri": "https://localhost:8080/"
        },
        "id": "ww0N_zCDE5_w",
        "outputId": "d6439fe3-95d7-47f7-ea41-67a271aa2afe"
      },
      "source": [
        "%%writefile p4.in\n",
        "4\n",
        "28\n",
        "100000\n",
        "5856\n",
        "99999"
      ],
      "execution_count": 280,
      "outputs": [
        {
          "output_type": "stream",
          "text": [
            "Overwriting p4.in\n"
          ],
          "name": "stdout"
        }
      ]
    },
    {
      "cell_type": "code",
      "metadata": {
        "colab": {
          "base_uri": "https://localhost:8080/"
        },
        "id": "iXj6vkNFE-TU",
        "outputId": "9638b90f-6005-4788-f639-434f1dba55b1"
      },
      "source": [
        "%%writefile p4.out\n",
        "9999900000"
      ],
      "execution_count": 281,
      "outputs": [
        {
          "output_type": "stream",
          "text": [
            "Overwriting p4.out\n"
          ],
          "name": "stdout"
        }
      ]
    },
    {
      "cell_type": "markdown",
      "metadata": {
        "id": "HZhzn61uFFFV"
      },
      "source": [
        "> *Executing test.*"
      ]
    },
    {
      "cell_type": "code",
      "metadata": {
        "id": "TbsDY9gBFDYk"
      },
      "source": [
        "!python main_efficient.py < p3.in > result.out\n",
        "!grep -xvFf p3.out result.out"
      ],
      "execution_count": 282,
      "outputs": []
    },
    {
      "cell_type": "code",
      "metadata": {
        "id": "sAYSNOYPN9ML"
      },
      "source": [
        "!python main_efficient.py < p4.in > result.out\n",
        "!grep -xvFf p4.out result.out"
      ],
      "execution_count": 283,
      "outputs": []
    },
    {
      "cell_type": "markdown",
      "metadata": {
        "id": "Oz-FZP2iOB_c"
      },
      "source": [
        "No result. The answer is correct!"
      ]
    },
    {
      "cell_type": "markdown",
      "metadata": {
        "id": "hWaIIq10Yk__"
      },
      "source": [
        "### *Pruebas de Tiempo para los códigos eficientes*"
      ]
    },
    {
      "cell_type": "markdown",
      "metadata": {
        "id": "t71g9-nDYoP4"
      },
      "source": [
        "> *Prueba 1:*"
      ]
    },
    {
      "cell_type": "code",
      "metadata": {
        "colab": {
          "base_uri": "https://localhost:8080/"
        },
        "id": "oNGF_xQdYmyr",
        "outputId": "37958a10-272e-4fe4-f37c-2333eb2f68c3"
      },
      "source": [
        "%%time\n",
        "# C++\n",
        "!./main < te2.in> result.out"
      ],
      "execution_count": 328,
      "outputs": [
        {
          "output_type": "stream",
          "text": [
            "CPU times: user 5.28 ms, sys: 7.55 ms, total: 12.8 ms\n",
            "Wall time: 115 ms\n"
          ],
          "name": "stdout"
        }
      ]
    },
    {
      "cell_type": "code",
      "metadata": {
        "colab": {
          "base_uri": "https://localhost:8080/"
        },
        "id": "pN9M-K0hY6-m",
        "outputId": "420eab1f-68da-480c-af91-344d2ae87ca9"
      },
      "source": [
        "%%time\n",
        "# Python\n",
        "!python main_efficient.py < p3.in > result.out\n",
        "!grep -xvFf p3.out result.out"
      ],
      "execution_count": 329,
      "outputs": [
        {
          "output_type": "stream",
          "text": [
            "CPU times: user 6.95 ms, sys: 19.3 ms, total: 26.3 ms\n",
            "Wall time: 434 ms\n"
          ],
          "name": "stdout"
        }
      ]
    },
    {
      "cell_type": "markdown",
      "metadata": {
        "id": "T5Vn57LCY2VC"
      },
      "source": [
        "> *Prueba 2:*"
      ]
    },
    {
      "cell_type": "code",
      "metadata": {
        "colab": {
          "base_uri": "https://localhost:8080/"
        },
        "id": "W0KJfKbnY5mw",
        "outputId": "286043e8-c42e-4f7b-aee3-96a04b3ebda6"
      },
      "source": [
        "%%time\n",
        "# C++\n",
        "!./main < te2.in > result.out"
      ],
      "execution_count": 330,
      "outputs": [
        {
          "output_type": "stream",
          "text": [
            "CPU times: user 6.87 ms, sys: 7.03 ms, total: 13.9 ms\n",
            "Wall time: 124 ms\n"
          ],
          "name": "stdout"
        }
      ]
    },
    {
      "cell_type": "code",
      "metadata": {
        "colab": {
          "base_uri": "https://localhost:8080/"
        },
        "id": "mwoVPu1nY47W",
        "outputId": "54f6fa5b-a84d-46b3-d38d-2a7e1ad1cc11"
      },
      "source": [
        "%%time\n",
        "# Python\n",
        "!python main_efficient.py < p4.in > result.out\n",
        "!grep -xvFf p4.out result.out"
      ],
      "execution_count": 331,
      "outputs": [
        {
          "output_type": "stream",
          "text": [
            "CPU times: user 9.95 ms, sys: 14.6 ms, total: 24.5 ms\n",
            "Wall time: 431 ms\n"
          ],
          "name": "stdout"
        }
      ]
    },
    {
      "cell_type": "markdown",
      "metadata": {
        "id": "aikEuUyVQuDy"
      },
      "source": [
        "# **Imágenes correspondientes a las actividades aprobadas para la semana 1 de Coursera**"
      ]
    },
    {
      "cell_type": "markdown",
      "metadata": {
        "id": "ECPdIFIUSUiX"
      },
      "source": [
        "![1_Sum of Two Digits.JPG](data:image/jpeg;base64,/9j/4AAQSkZJRgABAQEAYABgAAD/4RDSRXhpZgAATU0AKgAAAAgABAE7AAIAAAAEWSBCAIdpAAQAAAABAAAISpydAAEAAAAIAAAQwuocAAcAAAgMAAAAPgAAAAAc6gAAAAgAAAAAAAAAAAAAAAAAAAAAAAAAAAAAAAAAAAAAAAAAAAAAAAAAAAAAAAAAAAAAAAAAAAAAAAAAAAAAAAAAAAAAAAAAAAAAAAAAAAAAAAAAAAAAAAAAAAAAAAAAAAAAAAAAAAAAAAAAAAAAAAAAAAAAAAAAAAAAAAAAAAAAAAAAAAAAAAAAAAAAAAAAAAAAAAAAAAAAAAAAAAAAAAAAAAAAAAAAAAAAAAAAAAAAAAAAAAAAAAAAAAAAAAAAAAAAAAAAAAAAAAAAAAAAAAAAAAAAAAAAAAAAAAAAAAAAAAAAAAAAAAAAAAAAAAAAAAAAAAAAAAAAAAAAAAAAAAAAAAAAAAAAAAAAAAAAAAAAAAAAAAAAAAAAAAAAAAAAAAAAAAAAAAAAAAAAAAAAAAAAAAAAAAAAAAAAAAAAAAAAAAAAAAAAAAAAAAAAAAAAAAAAAAAAAAAAAAAAAAAAAAAAAAAAAAAAAAAAAAAAAAAAAAAAAAAAAAAAAAAAAAAAAAAAAAAAAAAAAAAAAAAAAAAAAAAAAAAAAAAAAAAAAAAAAAAAAAAAAAAAAAAAAAAAAAAAAAAAAAAAAAAAAAAAAAAAAAAAAAAAAAAAAAAAAAAAAAAAAAAAAAAAAAAAAAAAAAAAAAAAAAAAAAAAAAAAAAAAAAAAAAAAAAAAAAAAAAAAAAAAAAAAAAAAAAAAAAAAAAAAAAAAAAAAAAAAAAAAAAAAAAAAAAAAAAAAAAAAAAAAAAAAAAAAAAAAAAAAAAAAAAAAAAAAAAAAAAAAAAAAAAAAAAAAAAAAAAAAAAAAAAAAAAAAAAAAAAAAAAAAAAAAAAAAAAAAAAAAAAAAAAAAAAAAAAAAAAAAAAAAAAAAAAAAAAAAAAAAAAAAAAAAAAAAAAAAAAAAAAAAAAAAAAAAAAAAAAAAAAAAAAAAAAAAAAAAAAAAAAAAAAAAAAAAAAAAAAAAAAAAAAAAAAAAAAAAAAAAAAAAAAAAAAAAAAAAAAAAAAAAAAAAAAAAAAAAAAAAAAAAAAAAAAAAAAAAAAAAAAAAAAAAAAAAAAAAAAAAAAAAAAAAAAAAAAAAAAAAAAAAAAAAAAAAAAAAAAAAAAAAAAAAAAAAAAAAAAAAAAAAAAAAAAAAAAAAAAAAAAAAAAAAAAAAAAAAAAAAAAAAAAAAAAAAAAAAAAAAAAAAAAAAAAAAAAAAAAAAAAAAAAAAAAAAAAAAAAAAAAAAAAAAAAAAAAAAAAAAAAAAAAAAAAAAAAAAAAAAAAAAAAAAAAAAAAAAAAAAAAAAAAAAAAAAAAAAAAAAAAAAAAAAAAAAAAAAAAAAAAAAAAAAAAAAAAAAAAAAAAAAAAAAAAAAAAAAAAAAAAAAAAAAAAAAAAAAAAAAAAAAAAAAAAAAAAAAAAAAAAAAAAAAAAAAAAAAAAAAAAAAAAAAAAAAAAAAAAAAAAAAAAAAAAAAAAAAAAAAAAAAAAAAAAAAAAAAAAAAAAAAAAAAAAAAAAAAAAAAAAAAAAAAAAAAAAAAAAAAAAAAAAAAAAAAAAAAAAAAAAAAAAAAAAAAAAAAAAAAAAAAAAAAAAAAAAAAAAAAAAAAAAAAAAAAAAAAAAAAAAAAAAAAAAAAAAAAAAAAAAAAAAAAAAAAAAAAAAAAAAAAAAAAAAAAAAAAAAAAAAAAAAAAAAAAAAAAAAAAAAAAAAAAAAAAAAAAAAAAAAAAAAAAAAAAAAAAAAAAAAAAAAAAAAAAAAAAAAAAAAAAAAAAAAAAAAAAAAAAAAAAAAAAAAAAAAAAAAAAAAAAAAAAAAAAAAAAAAAAAAAAAAAAAAAAAAAAAAAAAAAAAAAAAAAAAAAAAAAAAAAAAAAAAAAAAAAAAAAAAAAAAAAAAAAAAAAAAAAAAAAAAAAAAAAAAAAAAAAAAAAAAAAAAAAAAAAAAAAAAAAAAAAAAAAAAAAAAAAAAAAAAAAAAAAAAAAAAAAAAAAAAAAAAAAAAAAAAAAAAAAAAAAAAAAAAAAAAAAAAAAAAAAAAAAAAAAAAAAAAAAAAAAAAAAAAAAAAAAAAAAAAAAAAAAAAAAAAAAAAAAAAAAAAAAAAAAAAAAAAAAAAAAAAAAAAAAAAAAAAAAAAAAAAAAAAAAAAAAAAAAAAAAAAAAAAAAAAAAAAAAAAAAAAAAAAAAAAAAAAAAAAAAAAAAAAAAAAAAAAAAAAAAAAAAAAAAAAAAAAAAAAAAAAAAAAAAAAAAAAAAAAAAAAAAAAAAAAAAAAAAAAAAAAAAAAAAAAAAAAAAAAAAAAAAAAAAAAAAAAAAAAAAAAAAAAAAAAAAAAAAAAAAAAAAAAAAAAAAAAAAAAAAAAAAAAAAAAAAAAAAAAAAAAAAAAAAAAAAAAAAAAAAAAAAAAAAAAAAAAAAAAAAAAAAAAAAAAAAAAAAAAAAAAAAAAAAAAAAAAAAAAAAAAAAAAAAAAAAAAAAAAAAAAAAAAAAAAAAAAAAAAAAAAAAAAAAAAAAAAAAAAAAAAAAAAAAAAAAAAAAAAAAAAAAAAAAAAAAAAAAAAAAAAAAAAAAAAAAAAAAAAAAAAAAAAAAAAAAAAAAAAAAAAAAAAAAAAAAAAAAAAAAAAAAAAAAAAAAAAAAAAAAAAAAAAAAAAAAAAAAAAAAAAAAAAAAAAAAAAAAAAAAAAAAAAAAAAAAAAAAAAAAAAAAAAAAAAAAAAAAAAAAAAAAAAAAAAAAAAAAAAAAAAAAAAAAAAAAAAAAAAAAAAAAAAAAAAAAAAAAFkAMAAgAAABQAABCYkAQAAgAAABQAABCskpEAAgAAAAMwNwAAkpIAAgAAAAMwNwAA6hwABwAACAwAAAiMAAAAABzqAAAACAAAAAAAAAAAAAAAAAAAAAAAAAAAAAAAAAAAAAAAAAAAAAAAAAAAAAAAAAAAAAAAAAAAAAAAAAAAAAAAAAAAAAAAAAAAAAAAAAAAAAAAAAAAAAAAAAAAAAAAAAAAAAAAAAAAAAAAAAAAAAAAAAAAAAAAAAAAAAAAAAAAAAAAAAAAAAAAAAAAAAAAAAAAAAAAAAAAAAAAAAAAAAAAAAAAAAAAAAAAAAAAAAAAAAAAAAAAAAAAAAAAAAAAAAAAAAAAAAAAAAAAAAAAAAAAAAAAAAAAAAAAAAAAAAAAAAAAAAAAAAAAAAAAAAAAAAAAAAAAAAAAAAAAAAAAAAAAAAAAAAAAAAAAAAAAAAAAAAAAAAAAAAAAAAAAAAAAAAAAAAAAAAAAAAAAAAAAAAAAAAAAAAAAAAAAAAAAAAAAAAAAAAAAAAAAAAAAAAAAAAAAAAAAAAAAAAAAAAAAAAAAAAAAAAAAAAAAAAAAAAAAAAAAAAAAAAAAAAAAAAAAAAAAAAAAAAAAAAAAAAAAAAAAAAAAAAAAAAAAAAAAAAAAAAAAAAAAAAAAAAAAAAAAAAAAAAAAAAAAAAAAAAAAAAAAAAAAAAAAAAAAAAAAAAAAAAAAAAAAAAAAAAAAAAAAAAAAAAAAAAAAAAAAAAAAAAAAAAAAAAAAAAAAAAAAAAAAAAAAAAAAAAAAAAAAAAAAAAAAAAAAAAAAAAAAAAAAAAAAAAAAAAAAAAAAAAAAAAAAAAAAAAAAAAAAAAAAAAAAAAAAAAAAAAAAAAAAAAAAAAAAAAAAAAAAAAAAAAAAAAAAAAAAAAAAAAAAAAAAAAAAAAAAAAAAAAAAAAAAAAAAAAAAAAAAAAAAAAAAAAAAAAAAAAAAAAAAAAAAAAAAAAAAAAAAAAAAAAAAAAAAAAAAAAAAAAAAAAAAAAAAAAAAAAAAAAAAAAAAAAAAAAAAAAAAAAAAAAAAAAAAAAAAAAAAAAAAAAAAAAAAAAAAAAAAAAAAAAAAAAAAAAAAAAAAAAAAAAAAAAAAAAAAAAAAAAAAAAAAAAAAAAAAAAAAAAAAAAAAAAAAAAAAAAAAAAAAAAAAAAAAAAAAAAAAAAAAAAAAAAAAAAAAAAAAAAAAAAAAAAAAAAAAAAAAAAAAAAAAAAAAAAAAAAAAAAAAAAAAAAAAAAAAAAAAAAAAAAAAAAAAAAAAAAAAAAAAAAAAAAAAAAAAAAAAAAAAAAAAAAAAAAAAAAAAAAAAAAAAAAAAAAAAAAAAAAAAAAAAAAAAAAAAAAAAAAAAAAAAAAAAAAAAAAAAAAAAAAAAAAAAAAAAAAAAAAAAAAAAAAAAAAAAAAAAAAAAAAAAAAAAAAAAAAAAAAAAAAAAAAAAAAAAAAAAAAAAAAAAAAAAAAAAAAAAAAAAAAAAAAAAAAAAAAAAAAAAAAAAAAAAAAAAAAAAAAAAAAAAAAAAAAAAAAAAAAAAAAAAAAAAAAAAAAAAAAAAAAAAAAAAAAAAAAAAAAAAAAAAAAAAAAAAAAAAAAAAAAAAAAAAAAAAAAAAAAAAAAAAAAAAAAAAAAAAAAAAAAAAAAAAAAAAAAAAAAAAAAAAAAAAAAAAAAAAAAAAAAAAAAAAAAAAAAAAAAAAAAAAAAAAAAAAAAAAAAAAAAAAAAAAAAAAAAAAAAAAAAAAAAAAAAAAAAAAAAAAAAAAAAAAAAAAAAAAAAAAAAAAAAAAAAAAAAAAAAAAAAAAAAAAAAAAAAAAAAAAAAAAAAAAAAAAAAAAAAAAAAAAAAAAAAAAAAAAAAAAAAAAAAAAAAAAAAAAAAAAAAAAAAAAAAAAAAAAAAAAAAAAAAAAAAAAAAAAAAAAAAAAAAAAAAAAAAAAAAAAAAAAAAAAAAAAAAAAAAAAAAAAAAAAAAAAAAAAAAAAAAAAAAAAAAAAAAAAAAAAAAAAAAAAAAAAAAAAAAAAAAAAAAAAAAAAAAAAAAAAAAAAAAAAAAAAAAAAAAAAAAAAAAAAAAAAAAAAAAAAAAAAAAAAAAAAAAAAAAAAAAAAAAAAAAAAAAAAAAAAAAAAAAAAAAAAAAAAAAAAAAAAAAAAAAAAAAAAAAAAAAAAAAAAAAAAAAAAAAAAAAAAAAAAAAAAAAAAAAAAAAAAAAAAAAAAAAAAAAAAAAAAAAAAAAAAAAAAAAAAAAAAAAAAAAAAAAAAAAAAAAAAAAAAAAAAAAAAAAAAAAAAAAAAAAAAAAAAAAAAAAAAAAAAAAAAAAAAAAAAAAAAAAAAAAAAAAAAAAAAAAAAAAAAAAAAAAAAAAAAAAAAAAAAAAAAAAAAAAAAAAAAAAAAAAAAAAAAAAAAAAAAAAAAAAAAAAAAAAAAAAAAAAAAAAAAAAAAAAAAAAAAAAAAAAAAAAAAAAAAAAAAAAAAAAAAAAAAAAAAAAAAAAAAAAAAAAAAAAAAAAAAAAAAAAAAAAAAAAAAAAAAAAAAAAAAAAAAAAAAAAAAAAAAAAAAAAAAAAAAAAAAAAAAAAAAAAAAAAAAAAAAAAAAAAAAAAAAAAAAAAAAAAAAAAAAAAAAAAAAAAAAAAAAAAAAAAAAAAAAAAAAAAAAAAAAAAAAAAAAAAAAAAAAAAAAAAAAAAAAAAAAAAAAAAAAAAAAAAAAAAAAAAAAAAAAAAAAAAAAAAAAAAAAAAAAAAAAAAAAAAAAAAAAAAAAAAAAAAAAAAAAAAAAAAAAAAAAAAAAAAAAAAAAAAAAAAAAAAAAAAAAAAAAAAAAAAAAAAAAAAAAMjAyMTowMzoyOCAyMzo0MDozMgAyMDIxOjAzOjI4IDIzOjQwOjMyAAAAWQAgAEIAAAD/4QsWaHR0cDovL25zLmFkb2JlLmNvbS94YXAvMS4wLwA8P3hwYWNrZXQgYmVnaW49J++7vycgaWQ9J1c1TTBNcENlaGlIenJlU3pOVGN6a2M5ZCc/Pg0KPHg6eG1wbWV0YSB4bWxuczp4PSJhZG9iZTpuczptZXRhLyI+PHJkZjpSREYgeG1sbnM6cmRmPSJodHRwOi8vd3d3LnczLm9yZy8xOTk5LzAyLzIyLXJkZi1zeW50YXgtbnMjIj48cmRmOkRlc2NyaXB0aW9uIHJkZjphYm91dD0idXVpZDpmYWY1YmRkNS1iYTNkLTExZGEtYWQzMS1kMzNkNzUxODJmMWIiIHhtbG5zOmRjPSJodHRwOi8vcHVybC5vcmcvZGMvZWxlbWVudHMvMS4xLyIvPjxyZGY6RGVzY3JpcHRpb24gcmRmOmFib3V0PSJ1dWlkOmZhZjViZGQ1LWJhM2QtMTFkYS1hZDMxLWQzM2Q3NTE4MmYxYiIgeG1sbnM6eG1wPSJodHRwOi8vbnMuYWRvYmUuY29tL3hhcC8xLjAvIj48eG1wOkNyZWF0ZURhdGU+MjAyMS0wMy0yOFQyMzo0MDozMi4wNjY8L3htcDpDcmVhdGVEYXRlPjwvcmRmOkRlc2NyaXB0aW9uPjxyZGY6RGVzY3JpcHRpb24gcmRmOmFib3V0PSJ1dWlkOmZhZjViZGQ1LWJhM2QtMTFkYS1hZDMxLWQzM2Q3NTE4MmYxYiIgeG1sbnM6ZGM9Imh0dHA6Ly9wdXJsLm9yZy9kYy9lbGVtZW50cy8xLjEvIj48ZGM6Y3JlYXRvcj48cmRmOlNlcSB4bWxuczpyZGY9Imh0dHA6Ly93d3cudzMub3JnLzE5OTkvMDIvMjItcmRmLXN5bnRheC1ucyMiPjxyZGY6bGk+WSBCPC9yZGY6bGk+PC9yZGY6U2VxPg0KCQkJPC9kYzpjcmVhdG9yPjwvcmRmOkRlc2NyaXB0aW9uPjwvcmRmOlJERj48L3g6eG1wbWV0YT4NCiAgICAgICAgICAgICAgICAgICAgICAgICAgICAgICAgICAgICAgICAgICAgICAgICAgICAgICAgICAgICAgICAgICAgICAgICAgICAgICAgICAgICAgICAgICAgICAgICAgICAKICAgICAgICAgICAgICAgICAgICAgICAgICAgICAgICAgICAgICAgICAgICAgICAgICAgICAgICAgICAgICAgICAgICAgICAgICAgICAgICAgICAgICAgICAgICAgICAgICAgIAogICAgICAgICAgICAgICAgICAgICAgICAgICAgICAgICAgICAgICAgICAgICAgICAgICAgICAgICAgICAgICAgICAgICAgICAgICAgICAgICAgICAgICAgICAgICAgICAgICAgCiAgICAgICAgICAgICAgICAgICAgICAgICAgICAgICAgICAgICAgICAgICAgICAgICAgICAgICAgICAgICAgICAgICAgICAgICAgICAgICAgICAgICAgICAgICAgICAgICAgICAKICAgICAgICAgICAgICAgICAgICAgICAgICAgICAgICAgICAgICAgICAgICAgICAgICAgICAgICAgICAgICAgICAgICAgICAgICAgICAgICAgICAgICAgICAgICAgICAgICAgIAogICAgICAgICAgICAgICAgICAgICAgICAgICAgICAgICAgICAgICAgICAgICAgICAgICAgICAgICAgICAgICAgICAgICAgICAgICAgICAgICAgICAgICAgICAgICAgICAgICAgCiAgICAgICAgICAgICAgICAgICAgICAgICAgICAgICAgICAgICAgICAgICAgICAgICAgICAgICAgICAgICAgICAgICAgICAgICAgICAgICAgICAgICAgICAgICAgICAgICAgICAKICAgICAgICAgICAgICAgICAgICAgICAgICAgICAgICAgICAgICAgICAgICAgICAgICAgICAgICAgICAgICAgICAgICAgICAgICAgICAgICAgICAgICAgICAgICAgICAgICAgIAogICAgICAgICAgICAgICAgICAgICAgICAgICAgICAgICAgICAgICAgICAgICAgICAgICAgICAgICAgICAgICAgICAgICAgICAgICAgICAgICAgICAgICAgICAgICAgICAgICAgCiAgICAgICAgICAgICAgICAgICAgICAgICAgICAgICAgICAgICAgICAgICAgICAgICAgICAgICAgICAgICAgICAgICAgICAgICAgICAgICAgICAgICAgICAgICAgICAgICAgICAKICAgICAgICAgICAgICAgICAgICAgICAgICAgICAgICAgICAgICAgICAgICAgICAgICAgICAgICAgICAgICAgICAgICAgICAgICAgICAgICAgICAgICAgICAgICAgICAgICAgIAogICAgICAgICAgICAgICAgICAgICAgICAgICAgICAgICAgICAgICAgICAgICAgICAgICAgICAgICAgICAgICAgICAgICAgICAgICAgICAgICAgICAgICAgICAgICAgICAgICAgCiAgICAgICAgICAgICAgICAgICAgICAgICAgICAgICAgICAgICAgICAgICAgICAgICAgICAgICAgICAgICAgICAgICAgICAgICAgICAgICAgICAgICAgICAgICAgICAgICAgICAKICAgICAgICAgICAgICAgICAgICAgICAgICAgICAgICAgICAgICAgICAgICAgICAgICAgICAgICAgICAgICAgICAgICAgICAgICAgICAgICAgICAgICAgICAgICAgICAgICAgIAogICAgICAgICAgICAgICAgICAgICAgICAgICAgICAgICAgICAgICAgICAgICAgICAgICAgICAgICAgICAgICAgICAgICAgICAgICAgICAgICAgICAgICAgICAgICAgICAgICAgCiAgICAgICAgICAgICAgICAgICAgICAgICAgICAgICAgICAgICAgICAgICAgICAgICAgICAgICAgICAgICAgICAgICAgICAgICAgICAgICAgICAgICAgICAgICAgICAgICAgICAKICAgICAgICAgICAgICAgICAgICAgICAgICAgICAgICAgICAgICAgICAgICAgICAgICAgICAgICAgICAgICAgICAgICAgICAgICAgICAgICAgICAgICAgICAgICAgICAgICAgIAogICAgICAgICAgICAgICAgICAgICAgICAgICAgICAgICAgICAgICAgICAgICAgICAgICAgICAgICAgICAgICAgICAgICAgICAgICAgICAgICAgICAgICAgICAgICAgICAgICAgCiAgICAgICAgICAgICAgICAgICAgICAgICAgICAgICAgICAgICAgICAgICAgICAgICAgICAgICAgICAgICAgICAgICAgICAgICAgICAgICAgICAgICAgICAgICAgICAgICAgICAKICAgICAgICAgICAgICAgICAgICAgICAgICAgICAgICAgICAgICAgICAgICAgICAgICAgICAgICAgICAgICAgICAgICAgICAgICAgICAgICAgICAgICAgICAgICAgICAgICAgIAogICAgICAgICAgICAgICAgICAgICAgICAgICAgPD94cGFja2V0IGVuZD0ndyc/Pv/bAEMABwUFBgUEBwYFBggHBwgKEQsKCQkKFQ8QDBEYFRoZGBUYFxseJyEbHSUdFxgiLiIlKCkrLCsaIC8zLyoyJyorKv/bAEMBBwgICgkKFAsLFCocGBwqKioqKioqKioqKioqKioqKioqKioqKioqKioqKioqKioqKioqKioqKioqKioqKioqKv/AABEIAv8EsgMBIgACEQEDEQH/xAAfAAABBQEBAQEBAQAAAAAAAAAAAQIDBAUGBwgJCgv/xAC1EAACAQMDAgQDBQUEBAAAAX0BAgMABBEFEiExQQYTUWEHInEUMoGRoQgjQrHBFVLR8CQzYnKCCQoWFxgZGiUmJygpKjQ1Njc4OTpDREVGR0hJSlNUVVZXWFlaY2RlZmdoaWpzdHV2d3h5eoOEhYaHiImKkpOUlZaXmJmaoqOkpaanqKmqsrO0tba3uLm6wsPExcbHyMnK0tPU1dbX2Nna4eLj5OXm5+jp6vHy8/T19vf4+fr/xAAfAQADAQEBAQEBAQEBAAAAAAAAAQIDBAUGBwgJCgv/xAC1EQACAQIEBAMEBwUEBAABAncAAQIDEQQFITEGEkFRB2FxEyIygQgUQpGhscEJIzNS8BVictEKFiQ04SXxFxgZGiYnKCkqNTY3ODk6Q0RFRkdISUpTVFVWV1hZWmNkZWZnaGlqc3R1dnd4eXqCg4SFhoeIiYqSk5SVlpeYmZqio6Slpqeoqaqys7S1tre4ubrCw8TFxsfIycrS09TV1tfY2dri4+Tl5ufo6ery8/T19vf4+fr/2gAMAwEAAhEDEQA/APCqKKKYgooooAKKKKACiiigAooooAKKKKACiiigAooooAKKKKACiiigAooooAKKKKACiiigAooooAKKKKACiiigAooooAKKKKACiiigAooooAKKKKACiiigAooooAKKKKACiiigAooooAKKKKACiiigAooooAKKKKACiiigAooooAKKKKACiiigAooooAKKKKACiiigAooooAKKKKACiiigAooooAKKKKACiiigAooooAKKKKACiiigAooooAKKKKACiiigAooooAKKKKACiiigAooooAKKKKACiiigAooooAKKKKACiiigAqW28j7VF9r8z7PvHm+VjftzzjPGcdM1FRQB1Mmg6TquiXN14WTVJ7m1kQSQTqjMVbPICDPUfoayP+Ed1v8A6A+of+Ar/wCFa3gS4l/ta60+GZ4Xv7WSKN0YqVkA3KQR9D+dZR8Q64rEHV9QBBwQbp+P1oA3vCmjXVndzz6hZXFuwULGZomTOc5xkew/Ou8trG2l8N316/m/abeaJFAI2bW3fjnivLLLxRqkF2kl3e3N5EOGjmnZhj2yeDXZ3fiC30y0iS6nlhW8hS4EABO5TnaSBxnr1r6LAYmlHDqDlytM8XGUajrcyjdNGL42gQ2dvPgeYsmzPcggn+n61xla2va22sXC7FMcEedinqfc1k15WOqwrV3OGx6GEpyp0VGW4UUUVxHUPiiknmSKFGkkkYKiKMlieAAPWtceG2Mn2capppven2Tzm3Z/u79vl59t9J4XymryzDgwWV1IH/uMIH2n/vrbj3xWNQA+WKSCZ4pkaOSNirowwVI4II9aZWz4oy+sRznkz2VrKz/32MCb2+u7dn3zWNQAUUUUAWp/+Qfaf8D/AJ1Vq1P/AMg+0/4H/OqtABVvTbF9R1CK2Tjcfmb+6O5qpXT+Cog1zdSn7yIqj8Sf8K2owU6iiznxNV0qMpo6q1tYrO2SC3QJGgwB/Wus8IeDZfFDTSvP9ntYSFZwu5mb0H+PuK5ivQfhfrtrYyXmn306QCYrJE0jbVJAwRk9+n5V7FdyhSbpnzWFjCpXSq7MxfF/g2Xwu8MqT/aLWYlVcrtZW9D/AI1yd1axXls8FwgeNxgj+tei/FDXbW/ks9PsbhJxCWklaNgyhjwBkd+v515/RQcp0k6gYqMKddqlsjzTUrF9O1CW2fnaflb+8OxqpXT+NYgtzayj7zoyn8CP8afoXhey1vS7e9SeaOO1mcauSwPkwgF1kTjjIVl5z8wHrivGrxVObXRH0uFqOrSjJ7s5Wit6XwvctfCO3eJUlsG1KISSElYQCwUkKMvgdhjNX9X8O2kOnTXVrAUFvpllcNicj55QAx2lW3ZJ6blx79Kxuv6+f+R02/r7v8zkqK7Tw54RttW0bT7ptO1a+e7vXtpXspFVLZRsw7Zjb+8epA4rLg8JS3Vw6w6hZxxvdvaWbzsym8dTj5AobA5XlsDLAZ6027P+v66i6X/r+tDn6K7ax8Jaffafpv2iYWEzadd3E7OXy7xu4GQFbAAUZAA4Bxk1jnws62Fpdyatpscd4zi38yR1MgVyrNymFAxn5sEjgAnildX/AK7tfoOzMGiuhj8HXdxe2EFnfWVxFqEUssFyrusZEYYuDuUMCNvcY5HNUdV0STS4LO4F1b3lteIzQz2+/adrbWBDqrAg+3cUXX9f15BYzKK9s0/4N6Bd6Za3Elxqu+aFHbbLHjJAPH7uisnWgnZ/kxxi5JNHidFFFbEhRRRQAUUUUAFFFFABRRRQAUUUUAFFFFABRRRQAUUUUAFFFFABRRRQAUUUUAFFFFABRRRQAUUUUAFFFFABRRRQAUUUUAFFFFABRRRQAUUUUAFFFFABRRRQAUUUUAFFFFABRRRQAUUUUAFFFFABRRRQAUUUUAFFFFABRRRQAUUUUAFFFFABRRRQAUUUUAFFFFABRRRQAUUUUAFFFFABRRRQAUUUUAFFFFABRRRQAUUUUAFFFFABRRRQAUUUUAFFFFABRRRQAUUUUAFFFFABRRRQAUUUUAFFFFABRRRQAUUUUAFFFFABRRRQBb0q+bTNXtb1cnyJVcgdwDyPxFdlqOh6C9tJrVzpviKG2ncyllEG1dxz93JIHPGa4KvQdT+JEF/4XlsUsZFu54fKkJI8tcjBI7/QYoAq6d4d8P6tayXOnWPiOeGM4Zh5AyfQZPJ+lc94l1RNX16a5gjeKEBY4o3GCiqAMEfnXSeFfH9toWgDT7uzllaIsYmiIw2TnDZ6cnrzXGXly17fT3TqFaeRpCF6Ak5/rQBBRRRQAUUUUAbepyf2TYRaXafK1xbwz3kv8Uu9VkVPZAGXju3J6DGJWrD4o1+3gSGDXNSiijUIiJdyBVUDAAAPAFdCfH1xu+3DVNa+2eTs+yfaD9n8zZt8zO7OP4tu3r3pajMTTJBq1hLpd2NzW9vNPZy/xRbFaRk90IVuOzcjqc4las3ijX7iB4Z9c1KWKRSjo93IVZSMEEE8g1lUxBRRRQBan/5B9p/wP+dVatT/APIPtP8Agf8AOqtABXR+DbkR6hNAxx5yZX3K/wD1ia5ypIJ5La4SaFtrxtuU1pSn7OakY16XtaTh3PafDfh+fxLqwsreRYgqGSSRhnaoIHTuckcV6Da/CjSo8G7vbqc+ibUB/Qn9a8r8G+OJrMSXGlGKO6dAkqSLuKjOePbPeuq/4WZ4i/56W/8A35FepU9vUd6UtDwaLw1FcteL5jqrr4UaVJk2l7dQH0fa4H6A/rXnviTw/P4b1Y2VxIsoKCSORRjcpJGcduQeK2P+FmeIv+elv/35Fcr4y8cTXgjuNUMUl0iFIkjXaWGc8+wOeaKft6bvVloFb6tWXLQi+Y4jxlciTUIYFOfJTLexb/6wFZ+m6x/Z2l6rZ+R5n9oQpFv348va4fOMc/dx2qhPPJc3DzTNueRtzGo68urP2k3Lue9h6fsacYdvz3/M6uHxjbx2kRl0ppL2PTH03zxdYTyyGAbZtzuAYD7xBweATkQ3vixbvSbizWxKNcWNraNIZsgGAg7gNvcAcZ49TXNUVk0n/Xr/AJs3vpb+un+SOgsdf06PRbKw1LTbq4+x3L3Eb296IdxbbkEeWx/gHIIPNaafEW8lWZb4XsYe6e5T+zL9rTBc5ZGwrb1zgjow555rjKKbV/6/rsK9lb+uv+bOos/GCW8VhHPYSTi3trm1mb7ThpkmLHIO07WG48ndn0FRReKLWGbRh/ZQmttKMwWKeYOZQ7lhk7MZXPXBGRnHaucopWV7/wBdf82Nu6sdlc+PjPe6bObS5l+wQ3EQa7vjNJL5qFcs5UdM9AMYwOOtc/e6v9s0LTNO8jZ/Z/m/vN+fM3tu6Y4x9TWbRRyr+v68wu2ep2fxp+yWMFv/AGBv8mNY932zGcDGcbKK8sorF4ek3dopTlFWQUU7YfVf++hRsPqv/fQrcgbRTth9V/76FGw+q/8AfQoAbRTth9V/76FGw+q/99CgBtFO2H1X/voUbD6r/wB9CgBtFO2H1X/voUbD6r/30KAG0U7YfVf++hRsPqv/AH0KAG0U7YfVf++hRsPqv/fQoAbRTth9V/76FGw+q/8AfQoAbRTth9V/76FGw+q/99CgBtFO2H1X/voUbD6r/wB9CgBtFO2H1X/voUbD6r/30KAG0U7YfVf++hRsPqv/AH0KAG0U7YfVf++hRsPqv/fQoAbRTth9V/76FGw+q/8AfQoAbRTth9V/76FGw+q/99CgBtFO2H1X/voUbD6r/wB9CgBtFO2H1X/voUbD6r/30KAG0U7YfVf++hRsPqv/AH0KAG0U7YfVf++hRsPqv/fQoAbRTth9V/76FGw+q/8AfQoAbRTth9V/76FGw+q/99CgBtFO2H1X/voUbD6r/wB9CgBtFO2H1X/voUbD6r/30KAG0U7YfVf++hRsPqv/AH0KAG0U7YfVf++hRsPqv/fQoAbRTth9V/76FGw+q/8AfQoAbRTth9V/76FGw+q/99CgBtFO2H1X/voUbD6r/wB9CgBtFO2H1X/voUbD6r/30KAG0U7YfVf++hRsPqv/AH0KAG0U7YfVf++hRsPqv/fQoAbRTth9V/76FGw+q/8AfQoAbRTth9V/76FGw+q/99CgBtFO2H1X/voUbD6r/wB9CgBtFO2H1X/voUbD6r/30KAG0U7YfVf++hRsPqv/AH0KAG0U7YfVf++hRsPqv/fQoAbRTth9V/76FGw+q/8AfQoAbRTth9V/76FGw+q/99CgBtFO2H1X/voUbD6r/wB9CgBtFO2H1X/voUbD6r/30KAG0U7YfVf++hRsPqv/AH0KAG0U7YfVf++hRsPqv/fQoAbRTth9V/76FGw+q/8AfQoAbRTth9V/76FGw+q/99CgBtFO2H1X/voUbD6r/wB9CgBtFO2H1X/voUbD6r/30KAG0U7YfVf++hRsPqv/AH0KAG0U7YfVf++hRsPqv/fQoAbRTth9V/76FGw+q/8AfQoAbRTth9V/76FGw+q/99CgBtFO2H1X/voUbD6r/wB9CgBtFO2H1X/voUbD6r/30KAG0U7YfVf++hRsPqv/AH0KAG0U7YfVf++hRsPqv/fQoAbRTth9V/76FGw+q/8AfQoAbRTth9V/76FGw+q/99CgBtFO2H1X/voUbD6r/wB9CgBtFO2H1X/voUbD6r/30KAG0U7YfVf++hRsPqv/AH0KAG0U7YfVf++hRsPqv/fQoAbRTth9V/76FGw+q/8AfQoAbRTth9V/76FGw+q/99CgBtFO2H1X/voUbD6r/wB9CgBtFO2H1X/voUbD6r/30KAG0U7YfVf++hRsPqv/AH0KAHPMzwxxkDEecY96jp2w+q/99CjYfVf++hQA2inbD6r/AN9CjYfVf++hQAscrwyCSJ2R15DKcEVsQeK9ThUKzRzY7yJz+mKxth9V/wC+hRsPqv8A30KuNScPhdjKpRp1PjVzZn8V6nMpVWjhz3jTn9c1jySvNIZJXZ3bksxyTSbD6r/30KNh9V/76FEqk5/E7hTo06fwKw2inbD6r/30KNh9V/76FQajaKdsPqv/AH0KNh9V/wC+hQA2inbD6r/30KNh9V/76FADaKdsPqv/AH0KNh9V/wC+hQA2inbD6r/30KNh9V/76FADaKdsPqv/AH0KKAG0UUUAFFFFABRRRQAUUUUAFFFFABRRRQAUUUUAFFFFABRRRQAUUUUAFFFFABRRRQAUUUUAFFFFABRRRQAUUUUAFFFFABRRRQAUUUUAFFFFABRRRQAUUUUAFFFFABRRRQAUUUUAFFFFABRRRQAUUUUAFFFFABRRRQAUUUUAFFFFABRRRQAUUUUAFFFFABRRRQAUUUUAFFFFABRRRQAUUUUAFFFFABRRRQAUUUUAFFFFABRRRQAUUUUAFFFFABRRRQAUUUUAFFFFABRRRQAUUUUAFFFFABRRRQAUUUUAFFFFABRRRQAUUUUAFFFFABRRRQAUUUUAFFFFABRRRQAUUUUAFFFFABRRRQAUUUUAFFFFABRRRQAUUUUAFFFFABRRRQAUUUUAFFFFABRRRQAUUUUAFFFFABRRRQAUUUUAFFFFABRRRQAUUUUAFFFFABRRRQAUUUUAFFFFABRRRQAUUUUAFFFFABRRRQAUUUUAFFFFABRRRQAUUUUAFFFFABRRRQAUUUUAFFFFABRRRQAUUUUAFFFFABRRRQAUUUUAFFFFABRRRQAUUUUAFFFFABRRRQAUUUUAFFFFABRRRQAUUUUAFFFFABRRRQAUUUUAFFFFABRRRQAUUUUAFFFFABRRRQAUUUUAFFFFABRRRQAUUUUAFFFFABRRRQAUUUUAFFFFABRRRQAUUUUAFFFFABRRRQAUUUUAFFFFABRRRQAUUUUAFFFFABRRRQAUUUUAFFFFABRRRQAUUUUAFFFFABRRRQAUUUUAFFFFABWx4X0r+2PENvbtE8sKZmmVFLEooyQAO5xj6mserlrqM1nZXltCqAXiLHI5B3BQ27AOehIGfpQG51N94aiuvF9kLu0m0u11O2a4MKRbDA6o29QpHTcucehFM0LSdFu73Sb6G3ujbyakLSW3uJkfccBlbIQceq4/GsTTvEd3pttDDFHBIIJJJImlUkrvTYwGCOCMH6gVHY69d6dbW8NsIwLe8F4jMpJ3gYwecYqUmn/Xf/IJao1rHQtOvrW61HypUtkuBbxwPqMELbsZZjJIoBHTChc89eKW60LRdOsr+7mup76OC8W3g+yzIFlDJu5fDAY5zjPIx71nL4iKi5iOmWLWdw4ka0YS+Wrj+NTv3A8no2Paq1xq8k+ny2SW8EFvJci42RBvlYKVwMk8YPfJ96LP+vl/wSm03f8Arr/wDevNHtfJF9fyTyW1rplrIY4iiO7ScKobbgAc8kE8d6Zb+HNLmY3jTXa6e+nNeooKmRWSQIyE4wec4OB1B7YrNXxNdb/31vbTQm0jtJIJFbZIifdJwwIYEZyCKSTxJdyPNtht44pLP7EkKKQsUeQ2F5znIzkk9TQ72dvP9f8AgCVuvl+n/BMy4aBrhzaRyRQk/Iksgdh9WAAP5CoqKKoQUUUUAFFOwn95v++f/r0YT+83/fP/ANegBtFOwn95v++f/r0YT+83/fP/ANegBtFOwn95v++f/r0YT+83/fP/ANegBtFOwn95v++f/r0YT+83/fP/ANegBtFOwn95v++f/r0YT+83/fP/ANegBtFOwn95v++f/r0YT+83/fP/ANegBtFOwn95v++f/r0YT+83/fP/ANegBtFOwn95v++f/r0YT+83/fP/ANegBtFOwn95v++f/r0YT+83/fP/ANegBtFOwn95v++f/r0YT+83/fP/ANegBtFOwn95v++f/r0YT+83/fP/ANegBtFOwn95v++f/r0YT+83/fP/ANegBtFOwn95v++f/r0YT+83/fP/ANegBtFOwn95v++f/r0YT+83/fP/ANegBtFOwn95v++f/r0YT+83/fP/ANegBtFOwn95v++f/r0YT+83/fP/ANegBtFOwn95v++f/r0YT+83/fP/ANegBtFOwn95v++f/r0YT+83/fP/ANegBtFOwn95v++f/r0YT+83/fP/ANegBtFOwn95v++f/r0YT+83/fP/ANegBtFOwn95v++f/r0YT+83/fP/ANegBtFOwn95v++f/r0YT+83/fP/ANegBtFOwn95v++f/r0YT+83/fP/ANegBtFOwn95v++f/r0YT+83/fP/ANegBtFOwn95v++f/r0YT+83/fP/ANegBtFOwn95v++f/r0YT+83/fP/ANegBtFOwn95v++f/r0YT+83/fP/ANegBtFOwn95v++f/r0YT+83/fP/ANegBtFOwn95v++f/r0YT+83/fP/ANegBtFOwn95v++f/r0YT+83/fP/ANegBtFOwn95v++f/r0YT+83/fP/ANegBtFOwn95v++f/r0YT+83/fP/ANegBtFOwn95v++f/r0YT+83/fP/ANegBtFOwn95v++f/r0YT+83/fP/ANegBtFOwn95v++f/r0YT+83/fP/ANegBtFOwn95v++f/r0YT+83/fP/ANegBtFOwn95v++f/r0YT+83/fP/ANegBtFOwn95v++f/r0YT+83/fP/ANegBtFOwn95v++f/r0YT+83/fP/ANegBtFOwn95v++f/r0YT+83/fP/ANegBtFOwn95v++f/r0YT+83/fP/ANegBtFOwn95v++f/r0YT+83/fP/ANegBtFOwn95v++f/r0YT+83/fP/ANegBtFOwn95v++f/r0YT+83/fP/ANegBtFOwn95v++f/r0YT+83/fP/ANegBtFOwn95v++f/r0YT+83/fP/ANegBtFOwn95v++f/r0YT+83/fP/ANegBtFOwn95v++f/r0YT+83/fP/ANegBtFOwn95v++f/r0YT+83/fP/ANegBtFOwn95v++f/r0YT+83/fP/ANegBtFOwn95v++f/r0YT+83/fP/ANegBtFOwn95v++f/r0YT+83/fP/ANegBtFOwn95v++f/r0YT+83/fP/ANegBtFOwn95v++f/r0YT+83/fP/ANegBtFOwn95v++f/r0YT+83/fP/ANegBtFOwn95v++f/r0YT+83/fP/ANegBtFOwn95v++f/r0YT+83/fP/ANegBtFOwn95v++f/r0YT+83/fP/ANegBtFOwn95v++f/r0YT+83/fP/ANegBtFOwn95v++f/r0YT+83/fP/ANegBtFOwn95v++f/r0YT+83/fP/ANegBtFOwn95v++f/r0YT+83/fP/ANegBtFOwn95v++f/r0YT+83/fP/ANegBtFOwn95v++f/r0YT+83/fP/ANegBtFOwn95v++f/r0YT+83/fP/ANegBtFOwn95v++f/r0YT+83/fP/ANegBtFOwn95v++f/r0YT+83/fP/ANegBtFOwn95v++f/r0YT+83/fP/ANegBtFOwn95v++f/r0YT+83/fP/ANegBtFOwn95v++f/r0YT+83/fP/ANegBtFOwn95v++f/r0YT+83/fP/ANegBtFOwn95v++f/r0YT+83/fP/ANegBtFOwn95v++f/r0YT+83/fP/ANegBtFOwn95v++f/r0YT+83/fP/ANegBtFOwn95v++f/r0YT+83/fP/ANegBtFOwn95v++f/r0UANooooAKKKKACiiigAooooAKKKKACiiigAooooAKKKKACiiigAooooAKKKKACiiigAooooAKKKKACiiigAooooAKKKKACiiigAooooAKKKKACiiigAooooAKKKKACiiigAooooAKKKKACiiigAooooAKKKKACiiigAooooAKKKKACiiigAooooAKKKKACiiigAooooAKKKKACiiigAooooAKKKKACiiigAooooAKKKKACiiigAooooAKKKKACiiigAooooAKKKKACiiigAooooAKKKKACiiigAooooAKKKKACiiigAooooAKKKKACiiigAooooAKKKKACiiigAooooAKKKKACiiigAooooAKKKKACiiigAooooAKKKKACiiigAooooAKKKKACiiigAooooAKKKKACiiigAooooAKKKKACiiigAooooAKKKKACiiigAooooAKKKKACiiigAooooAKKKKACiiigAooooAKKKKACiiigAooooAKKKKACiiigAooooAKKKKACiiigAooooAKKKKACiiigAooooAKKKKACiiigAooooAKKKKACiiigAooooAKKKKACiiigAooooAKKKKACiiigAooooAKKKKACiiigAooooAKKKKACiiigAooooAKKKKACiiigAooooAKKKKACiiigAooooAKKKKACiiigAooooAKKKKACiiigAooooAKKKKACiiigAooooAKKKKACiiigAooooAKKKKACiiigAooooAKKKKACiiigAooooAKKKKACiiigAooooAKKKKACiiigAooooAKKKKACiiigAooooAKKKKACiiigAooooAKKKKACiiigAooooAKKKKACiiigAooooAKKKKACiiigAooooAKKKKACiiigAooooAKKKKACiiigAooooAKKKKACiiigAooooAKKKKACiiigAooooAKKKKACiiigAooooAKKKKACiiigAooooAKKKKACiiigAooooAKKKKACiiigAooooAKKKKACiiigAooooAKKKKACiiigAooooAKKKKACiiigAooooAKKKKACiiigAooooAKKKKACiiigAooooAKKKKACiiigAooooAKKKKACiiigAooooAKKKKACiiigAooooAKKKKACiiigAooooAKKKKACiiigAooooAKKKKACiiigAooooAKKKKACiiigAooooAKKKKACiiigAooooAKKKKACiiigAooooAKKKKACiiigAooooAKKKKACiiigAooooAKKKKACiiigAooooAKKKKACiiigAooooAKKKKACiiigAooooAKKKKACiiigAooooAKKKKACiiigAooooAKKKKACiiigAooooAKKKKACiiigAooooAKKKKACiiigAooooAKKKKACiiigAooooAKKKKACiiigAooooAKKKKACiiigAooooAKKKKACiiigAooooAKKKKACiiigAooooAKKKKACiiigAooooAKKKKACiiigAooooAKKKKACiiigAooooAKKKKACiiigAooooAKKKKACiiigAooooAKKKKACiiigAooooAKKKKACiiigAooooAKKKKACiiigAooooAKKKKACiiigAooooAKKKKACiiigAooooAKKKKACiiigAooooAKKKKACiiigAooooAKKKKACiiigAooooAKKKKACiiigAooooAKKKKACiiigAooooAKKKKACiiigAooooAKKKKACiiigAooooAKKKKACiiigAooooAKKKKACiiigAooooAKKKKACiiigAooooAKKKKACiiigAooooAKKKKACiiigAooooAKKKKACiiigAooooAKKKKACiiigAooooAKKKKACiiigAooooAKKKKACiiigAooooAKKKKACiiigAooooAKKKKACiiigAooooAKKKKACiiigAooooAKKKKACiiigAooooAKKKKACiiigAooooAKKKKACiiigAooooAKKKKACiiigAooooAKKKKACiiigAooooAKKKKACiiigAooooAKKKKACiiigAooooAKKKKACiiigAooooAKKKKACiiigAooooAKKKKACiiigAooooAKKKKACiiigAooooAKKKKACiiigAooooAKKKKACiiigAooooAKKKKACiiigAooooAKKKKACiiigAooooAKKKKACiiigAooooAKKKKACiiigAooooAKKKKACiiigAooooAKKKKACiiigAooooAKKKKACiiigAooooAKKKKACiiigAooooAKKKKACiiigAooooAKKKKACiiigAooooAKKKKACiiigAooooAKKKKACiiigAooooAKKKKACiiigAooooAKKKKACiiigAooooAKKKKACiiigAooooAKKKKACiiigAooooAKKKKACiiigAooooAKKKKACiiigAooooAKKKKACiiigAooooAKKKKACiiigAooooAKKKKACiiigAooooAKKKKACiiigAooooAKKKKACiiigAooooAKKKKACiiigAooooAKKKKACiiigAooooAKKKKACiiigAooooAKKKKACiiigAooooAKKKKACiiigAooooAKKKKACiiigAooooAKKKKACiiigAooooAKKKKACiiigAooooAKKKKACiiigAooooAKKKKACiiigAooooAKKKKACiiigAooooAKKKKACiiigAooooAKKKKACiiigAooooAKKKKACiiigAooooAKKKKACiiigAooooAKKKKACiiigAooooAKKKKACiiigAooooAKKKKACiiigAooooAKKKKACiiigAooooAKKKKACiiigAooooAKsWVhealci3060nu5yCRFBGXYgdTgc1XqxZX93p1yLjT7qe0nAIEsEhRgD15HNAjT/wCEM8Uf9C3q/wD4Ay//ABNZ1/pt9pdwINTsrizmK7hHcRNGxHrggHHBr0W08Ra23wTv75tY1A3a6usa3Bun8wLsX5Q2c49q4mzvbfWNaSbxlqeoywLGQ0qnzpjjJCAueOT9OaWt2u3+Vyul/wCt7GNRXcS+GvDOs+FdU1TwncarHPpQSSeDURGRJGxxlSg4IwTz6fjUuneDvDy+A9P8T69qN5BDLLLHNBbhWeVgxCLGCMA4BJLEjjtRdBY4Kiuy0vw1oOpyatrLXOoWnhjTtgzIqNdSuwACDHy5znnoBj6h174Z0DU/Ct7rXg+41HOmsv2y11EIX2McB1KcYz2+v4jdkCV9ji6K6TSI/BaaXG+vza3Jeux3xWCxKkYzxy+ckjnite5+Hts/j7SdF07UXbT9Xt1ure4lT51jKs2COAW+U+nUU+oulzhKK7DVrTwJbR31taHxHDqEAZYvtaQ7GcdmAAZcmuQ69KSd9htW3ErQ1LRNQ0iCym1G38mO+hE9ud6tvQ9DwTj6HBrr9R8L+EfCotrDxVeavLq0sKyzrp4i8u33dFO/kn6Gr/xI0k3Fz4N0rS5lu/M0+OC3lA2iUEgK2O2eD7Udku9vz/yEtm32v+R5jRXoTeGfAtrry+HbzU9YfU/MFvJeQpH9mSY8Y2n5iAeDzXG67o8/h/XrzSrsq0trIULL0YdiPqMGi6HZmfRXc6L4S8Py/D8eJtev72BI71oHitgjNKNowqAjhsnOScYB4qLU/C+g33g+48QeD7u/ZLGRUvbTUAnmIGOFcFOMZ/r6U3oJanF0V6HN4N8K6R4Y0bXNf1HURFqFsG+y2mxpXk7lSwAVAMdcnnrWdo/hjQ7jTNR8Ravd31toEFybe1jjCG6uGPIXn5QQuCT06+lK+/kG6T7nG0V2l/4Y0HU/C13rfg26v2GnMv2yz1BU8xVY4DqU4I9vr+Lj4b8NaF4f0m98UzapPc6rF9oji04xqsUWeNxcHJPtii66gcTRXoOu+EPDdn4m8PaXpT6m8Wrm3lM880Z/cytjgBBhvrkVV8UeH/CPhiS/0yS+1S81eJm8ryBGIIsn5FkJGWbbgkrxk4pvRX9fwHb+vU4iiuq0yLwGthbf2zca9JeSDMxtEiWOI56fNkt65/8A1Vqw/Dy1j+LEPha6u5pLKdDLHPHhXKGMuvUEZyMHj8qOtv60F0ucBRXoul+EvBmsa2/huz1PVzrGHjS7aOMWryICThfvbeD3o07wn4K1LXj4ag1PVzq2XiW88uMWrSqDnC/e25B780rjtbc86orX0yz0qDW57bxRPdQ29vvVvsSK7u6nG0buB35Nb174c8N6l4P1DW/ClxqaPpkkYubfURGSyucBlKAd/X0ourXQWd7HFVd0vR9Q1q5e30q1kupUjaVkTqFXqa6m08L+HtI8NWOr+NLvUQ+pgtaWemqm8Rj+Ni/GDxgf/XxY8KaTo2r+Mb2Hw7f61Z2UemyzLIZUjnLADKsVBG056d6UpKKflcS1scGqs7hUUszHAAGSTWt4j8N3Phi8htNQuLWS6kiWWSGByzQZ5CvkABvYE/yrX8K+HrIaLP4p1+/u7HT7OdYoPsOBcSzfeAQnhcdc/wCFWNV8PaPrnh2+8ReFb/Up5bJw1/b6ptaYhz/rAy8HnOc89T9XJ2/UFqcRRXfjwl4W03wZo3iDXr7UgL9HDWtoELu4bAKlhhVAHOc9Ris7xP4Z0i28M6f4j8M3V3Jp91M1u8N8F82KQAnqvBBAP6evDeja7AtUn3ORqxZWF5qVyLfTrSe7nIJEUEZdiB1OBzWr4ps/D1ndWq+FtQuL6F7dWnadcbJD1UfKPbt+Jrf+DhI+IUZBwRazYI/3KOjfa/4CelvO34nLXnhrXdOtmuNQ0XUbWFfvSz2joo/EjFZlemfC/XPFOqeMYIri+v8AUNMZXW9F1K0sKx7T13ZA5xVTSPBmgaxo+u61c6jLZWWn6iUV0wymDqABjJY5AHOOaTdnqVvsefUV2GneGtF8U+KksvDNxf2umxW7T3lxqQQvEqn5mATjGCuPc1f0/wAOeCPEt8+keHL/AFmDU3Vvssl+sZhmZRnHyjcucHGf58UxHAUV12geFLFtG1bWfFEt1DZ6ZKtu0FoF86SUnGMtwAPpV7UNB8Hf8IA/iHSf7bZ/tBsxFcTxARy7dwJwnzLj0INK6tf+tRpNu39aHB0V6Jf+D/CXh/StJ1LX9Q1Rk1KximS0sxGZfMIy7ZYBQgyAB1688VzekR+Ef9Ll12bV9olxawWax7ynPLM3GenAFN6NrsLpc5+ius8VeGtLsdB0vX/Dlzdy6bqBePy71V82J0OCCV4IPP5Vu+IfCXgjwlqkVrrN9rc5uIUmSO0EWYVI5Lsw5yc4AHQUrhY82or0bXvCHg3whqC2+vanq179pUTWyWCRq0cJ6Fy/BJ56Y6e9VZfAVjB8TtN0D7ZNNpmpIk8M6YWTymUkZyCM5X0prUHornB0V6Pa+EvBE/ihvDH9pay2pmV4FukSL7OJBn5cY3HBGM8ZPoKZbeFPBI8RJ4YvNT1d9WMn2druBIxarN024PzEZ4z3PpSTvt1G1a9+hxGn6Rf6qty2nWslwLWFp5yn8CDqTVKu38N+GnW/8W2U9/d20mlWNxk2cvliYocbX4OUOOlHh/wnoV34Dn8Sa7fXlslrfGCSO3VWMq7FIVARwxZupOMA8U+l+lr/AI2Cz287fgcRRXa6j4Z8O33gy71/wnc6kP7PmSO6ttRCFsOcBlKDHU/z/FT4b8NaF4f0m98UzapPc6rF9oji04xqsUWeNxcHJPtilfuL0OJorsfHvh/QPDzafHoR1CU3lsl2s11KhUxODgbVQENketc7oelTa5rtnplsD5l1MsYI/hBPJ/AZP4U1q7A9FdkFxYXlrbwT3VpPDDcqWgkkjKrKB1Kk9R9Kr17D4rns/Fnh7XtH0yNQfCsiPZberQKojkH4FSfyri/CnhfTdR0HVNd12W9NjpxRGg09VMzlv4stwFHqff0pJ3u+n6DatZdf1OSorprvT/DGp6hpln4Un1SOa7uFglGpCMhNxADAp16n8q2NY0TwHoWqXOkahL4kW8tso04jhETPj7wUjdtPbn/Gi9kFjjho+oNorauLWQ2CzeQbjHyh8ZxVKuqTTP8Ai00mqC9vB/xNxAbQS/uD+63bymPv9s56VfuvDnhXw3ZaWviibV576/tku2TTzEqQxt0Hzg7jwfSqej+78VcLaL+utjhqK9KvvAfh6P4laV4ZtJNT8i6XzJZ5JoyWUoWXbhBg5BznNV4PDfgMeIl8Oz6lrUmoNP8AZjdxJGLcS5wBgjcRnjP9KlO+wWPPaK7jw54Bg1Hxhrmg6rePbtptvM63EeAu5GUBmBByuDnAwferuieEPBvi1rqx8P6nq1rfW0XnGa/jjMLopAZgq8jr0JourX8r/ILNO3yPOqK9A0/wv4O8SRX9n4avdYXU7W2e4je9WMQzhOoAX5hntk8fpWV4d8NaZN4fuvEXii6ubfS4Zhbxx2aqZriUjOF3cAAc5NF0KxylFdhrPhnRpvCX/CSeE7m9e0gnFvd29+E82Jj0YFeCDkfnWrrPhLwb4Zt9Nn1q+1eY6hZxzrbWflb0JGWYswA254Axng80X/r8QPOqK7rUvCmgaTrmg3X2i+u9A1iPzIgAizqcgFG7dSMke/1q38WR4cTxXqaW6amusK8Qbc0f2YDy16DG77uPxobtb+tgWr/rqedVZfT72PT0vpLSdbOR9iXBiIjZvQNjBPB49qLCeC11G3nu7VbuCOQNJbsxUSKDyuRyM16H4s1648R/CGzvbiKG3VdZMUMECbUhjWE7UA9BTe1xdbHmdFbujWfh640LVpta1C4ttQhjBsIY1yszc5DfKe+O4/GsMYyM9KfWw+lzSsvDmuajbC40/RtQu4DwJYLV3U/iBiqNxbz2lw8F1DJBMhw0cilWU+4PSvXPGI8Var9n1jwFqF3NoAto1ig0ucobcgDKtGpBJz7HHTtXGeGdPk8d+PPs/iW6unllicyyqQsmY04HII/hA6VN9X5X/AfRedjkaK2/B+jW/iDxfp+lXrypBdSbHaIgMBgngkEdvSug8O+CNK1fUfFEF9fXFpBo25o5hhsKrsCWGPm+VegxzTen9dhf195wlFejaT4Q8GeKbK+fQtT1axk05BPcPqKRsrQj7zKE5yAOhPp+FWLw14R1/RtWk8LXerx3+m2xuimoCLZNGv3tuzkH6+o/BXsNK5wdFFd1L4Y8MeGtOsf+EyutVk1G+hFwLXTBGPIjb7u8v1J9B/8AXL6C6nC10TeAvEqaCdZk0xo7ERed5kk0ats/vbC27H4Voaz4X0XQ9Q0u/e7vL3w7qcTSwSwKonBHBQg/LkEjJ/Str4wS6E/iS4jUan/a0UcKLuaP7MsewHAGN2cH880m7LQaV35bnAafo2p6uZBpWnXd8Y8b/s0DSbM9M7QcdDV7/hDPFH/Qt6v/AOAMv/xNUdP1jUtJMh0vUbuyMmN/2ado92OmdpGepr0Dxj4j1u28DeDZ7bWNQhmuLadppI7p1aUhlwWIOT+NN7XJvrb+un+Z5vc209ncvb3cMkE8Z2vFKhVlPoQeRUVdVrWiRS+B9M8Ux3V1c3V5cyQX5uJA+JBypBxnkDPJPatLxh8P7fw54R0/UraeeW73JFqMTkFYZHjDgLgAgduSeopXstfQpK70ODorvZfh1HNrPh7RrGeWO+vrEXl+85BS3U88AAHgA8EnJx0p9loHgHW9VGi6TqetRX0pMdvd3KRG3kft8oG4A9qfkLpc8/rSsfD2tapb/aNM0e/vIdxXzLe1eRc+mQCM1Vv7KbTdRuLK6XbPbStFIB2ZTg/yrvrfUr7S/gVBNpl7cWcra0ymS3laNiPLPGQRxxRpy3/rcLPm5f62bOG1DR9T0koNU067st/3ftMDR7vpuAzRa6PqF9p13f2lrJLa2QU3EqjiMMcDNd58PvFOoa9rS+F/E1zLqumaorxlbtzI0T7SVZWPIPHr71k6doBi8MeM2N/eRNpckMRigl2xXH71l/eLj5sYyPSk7pP0/WxUVzNJdzjKkggluriOC3RpJZXCIijlmJwAK6+38OeH9K8J6drPimbUpJNUZzbW+nmNdiIcFmZwc9uBV/W/C3hzTrzwwdDl1cf2zJDKk808YMaFgCAFQEOCRg5I+tPROz72I6X+Zw2o6fd6TqE1jqMDQXMDbZI26qarV7D4U0rSrP41anaX0+pX15alzbTzyq+4eX8zSMRktg8YrltF8NeGvFPiH7NocmsQWdtaSXV0LkRyTSBSPliCDGTnvmpjK6T7q5XVpd7HD0V02rp4KOlzHQm12O/RhsS/ERjYZ55TkHFczVJ3EFFFFABRRRQAUUUUAFFFFABRRRQAUUUUAFFFFABRRRQAUUUUAFFFFABRRRQAUUUUAFFFFABRRRQAUUUUAFFFFABRRRQAUUUUAFFFFABRRRQAUUUUAFFFFABRRRQAUUUUAFFFFAHe2X/JBNR/7DSf+gLUnwvthPb66+mw2s/iKK3RtMS52nByd7KG43AYxn+Wa8+oo6vz/wAkv0H28v8AO57cp8Up4C8VJ421APePZb4LJpIy8aA4LkJwASQB9DXHa1/yQ7w3/wBf9x/Nq4KiocLu/p+DuF/1/FHp3wz1q5/4RbWNA0XUY9O1uaVbixeUqBMRgNGNwxnA4+vsaTxRJ8T7Tw3dt4puvJ091EciSPbky7iBgBMn3+grzKiqkriWh7TNZ+Jo9D0UfDIW0GkS2SNc3ULRKxm/jMjNzx/iPasn4jW2o6p4u8Mw6NefbtQfS4zFdRTBPNdWcl1ckAZwSDmvLKKb1d/O/wCY4u0beVvy/wAj2SSy1668N6n/AMLU0+0S3gtHNpqMxiFysw+4ilDls+h698149DIYZ0lUAlGDAH2NMooV1LmE7NWPU/GvhHVPG2vL4l8Kxx3+n6hDGzOJ0XyHChWVwxGMYqfxZe2/hrxD4CuXmjurfT7OIPLCdyuFbDMvr3IryWiktGrdHf8AP/MH7yafVW/L/I9x1lvibd6tPdeENUXUNFnYyWs8MlvtVDztO7ByOleQ+Ip9QufEV6+s3C3N8JSk8qEEMy/LwRx27VmUUlGw277nqOjaDceIvgellYPF9sGrs8EUkgTziE5QE4GcEnHsahXSbnwF8Nddi8QeXb6lrRiht7LzFZ9inLOdpOBgn9PWsKTW9Pb4RQ6KLj/iYLqpuDDsbiPYRndjHXtnNcjTlq2u9vyQR0Sfa/5v/hzvvH//ACJXgf8A7B7/AM1qTQIP+Et+GMnhnT5Yhq9nf/bILaSQIblCpBCkkDIyTXntFO2jXf8AzuT28v8AKx6XaaXdfD/wL4g/4SMR21/rEK2trZearSFcnc5Ck4AB/T3Fa+jabrmofDDQn07QbDxFIsk3Gpqo+yoGwqplkJU4z1Ppj08dr0TxBdeFfGc1lqM3iVtGeO1jt3sZrCSURbRj5GTjB9OP6Unff0/Uatf7/wCv67Dbq28Tx/FbQLjxfaG2nlvLdYFQL5SxrIMKm0kYGemc889a5zxxz8QNc3dPt82f++zWh4s13S5PDmk+G9BmmvbXTWkke9nj8syu5z8q9VUZPX+mTyFEXt5X+e3+RTelu9vwue4axZ+K4Lm2TwBLZ6b4V8iN0vIHhRAMfO8jH5ieuf8AHNPuZFl/aL0eSOTzUexDLIP4wYZOfxrwyii2v3/imv1J6W8jtvhd/wAla03/AK6zf+i3o8Ef8llsv+v+T/2auJoprRxfYc3zc3n/AME9V8IWzSz+L5dChtZ/E8VyTYrcBCyp5h3sgfjdjv8AT1rTv/8AhJU+FviePxnqIlv2WB0szIjPAnmj5iE4G49v9mvF6KhRtHl8kvuHGVpc3nc9O1DRbv4heDvDs3hjyrq80u1+x3dn5ypJHj7r4Yjg4P8AnOD4e6Ff+HfHWo2GrRLDcjR53aNZFfbnGASpIzXmNFOUeZNLrf8AESe1+lvwPQtAg/4S34YyeGdPliGr2d/9sgtpJAhuUKkEKSQMjJNWbTS7r4f+BfEH/CRiO2v9YhW1tbLzVaQrk7nIUnAAP6e4rzSinJXv5iWlvL/h/wAzvfGP/JMfBH/XK5/9DFNvv+SD6b/2Gn/9FtXCUU3rfz/zuK2kfL/J/wCZu+KPCl54TurWC/nt5murdbhDA5YAHscgen0rf+DbFfiHEy8EWsxH/fFcHRRrr8wavb5fgdJq3xC8Va3aPa6lrU8kDjDxoFjDj0OwDI9jW1o3/JDPEX/YQg/mtcDRSaVrf1vcfVM7P4aalZ2us6hp2o3KWkOrWEtmLiQ4WN2+6Sew7flW14V8B6v4V8VW+ueJ1h0/S9NYzPctcIwkwDtCAEkknHGP14rzKind3ug0as9j1XwFJe68/jK4sLOO/F0fOj0y7UeRK7SEgsTwCo6DIz68VmeNdM8aQ+HoU1Xw/a6To1tJv8nTgnliQ8b32uxz2yTiquk6poWqfD1PDmq6q+iTW941yJvszTR3IIwAwTkEf0H4SJqnh7wp4V1fT9G1aXW7zV4lhZhatBDAgJyfn5ZueOKiStt0sVF3/EZ8Sf8Aj38J/wDYAt/610Hhm11kfDWwn+HcFs2rPPKupzL5ZnQZOwZfouMdP8a8morR6383f8bib1T7f5WPV/iO1/8A8Kz0NNZ1BNQ1GO9kW5kRw4R9pOzI4yoIBx3rF+MX/I7xf9eEH8jXBUVnya387/hYL/187nffF/8A5Gyw/wCwXb/+zV0kn/JYPBH/AGCrb/0CSvHaK0Wn33/P/Mhq6+Vvy/yO50D/AJLlF/2GJP8A0Nqr2/8AyWxP+xg/9uK46ilD3OXy/wCB/kOWrb7/APB/zPV9G/5G34k/9eV7/wChmsBP+SDy/wDYfH/omuHopJWjbyS+53NOb3m/Nv71Y73wz/yR/wAYf9dbX/0Oul0bTdc1D4YaE+naDYeIpFkm41NVH2VA2FVMshKnGep9MenjteieILrwr4zmstRm8Stozx2sdu9jNYSSiLaMfIycYPpx/SnLXX0/BER0VvX8TD8eW3iePXFuPF9obaeWMLAqBfKWNeiptJGBnpnPPPWtf4dFfD2l6z4zuI1c6fF9nslcZV55OP0HX2Y1n+LNd0uTw5pPhvQZpr2101pJHvZ4/LMruc/KvVVGT1/pk8hSjezX9f1/w43a6/r+v6R6Z4Z+J6L4kt0vfDvh+ztbt/Iup7Oy8qTY/By27pnBOfSq9l4W8aeH/GOrQeC/NzZTbGMc0YDxt8ybkc/MNp9Dg153RRZbr+v6/UV29z03x3pjz6Rozalp1jp3i66ujHJb2bonmxn7ruAdqsWxzn1+g3dF07xbKn2H4l6da3OgRxN5l5qEsRkthtOGSQNuJzjnn614rRRbRofW53jiMfA64EBZoh4h+QsOSPJ4zXXQaXr974F8MzaZ4e03xFItud02pooeABvkjUFkyoHc7s14xG4jlRyocKwJU9D7V6F4lk8J+Mta/tmTxY+mGaNFayn0+WUwbVA2qU+UjjP4mm/8vwVg5rv5P8XctaFb+I4vjjpU/i+B4b64dmGdu0qI2AClSVwOnBrl9O/5Kvbf9hpf/R1S+M9f07UbHRtG0Vpp7PR4WjW6nXa07MQSQvZeOAa5OphpJS7X/Nf5Clqmu9j162/5Kb8Qf+wVef8Aslc98Jf+Q3rX/YFuP/Za4KihRtHl8rfn/mW53d/O/wCX+R3Xwl/5Gy8/7Blx/wCgitzwFrOpXfw9uND8K6jHZa9b3ZuIonKA3UZHKrvGM5/kPWvKaKdtW/JL7ncz/wA7/hY9E8ZyfEa28OsnjK62WM8qp5LvAWkP3gQE5wNv8qg+Kv8Ax+eHf+wHb/8As1cFRRbS3n+hV9b+VvxT/Q9D8USrB4Q+Hs0hwkcUrMfYSIad8VPDepy+I9Q8UQQpNotz5TxXccqMrAoqjjOeo9K86opvX73+JEVyr5JfcFdxdf8AJC7L/sOP/wCijXD0UdGv63H1TN3RvCl5rmhatqtrPbxw6VGJJUlchnBz90Y9j1xWLFGZpkjDKpdgu5jgDJ6k+lMoo6h0PQtN+G/xA0bU1udJj+zbWGLyG+jWMrnqfmyV9iPwroP7d0Vvj3BcxXduIntvs891GQInnMZBbPTGcDPrXjtFL1/q+gz1TwV8PNc8PeP9Pvdcjhs7OCchJnnQ+exBCqgBySSR26UzQv8Ampv/AFwm/wDRj15dRSabXya+8el7+n4Hd/Dr/kBeM/8AsCyVD8NvveJ/+wBc/wDstcVRV/5W/P8AzFH3Xfzv+X+QV6h4q0DUPiI+na/4Ujjv1ezjguoFmRXtpVzkMGI4OeD+PpXl9FJpMNmd745kh0jwx4e8KC4iuLzTxJNeGJtyxO7ZCZHGRk5/Cq/xb/5KRff9coP/AEUtcVRS31fdv7ylKyt5W/G4V3fjf/kn3gb/AK9J/wD0Na4Sim9rf11Itrf+un+R6j8KbeDxFoupeHb1lEcN1b6igb0VwJP/AB0AfjVrwxqkXj3xP4p0a9c/Z9XYXFtk42+U42ge+zH5V5JRR1v/AF0/yQdLf1/WrPVoPF1ivxw1K4vphBYTJJpqzE4WJQAob2GV6++ao6B8Nta0XxVaalrX2e00iwnW4fUDcIY3RDuBXByd2OOO9eb0Uorls1uinrddDW8Uaomt+K9T1KEYiubl3j4x8ueP0xXdaR4d1XxN8EYrPRLX7VcJrDSMnmKmFEeM5YgdSK8vooSSjyg23Lm/rU9Q8MeGG+Hd/wD8JL40lhs5LRHNpp6zK808hBUcKSMc9c/XFZvh65kvfh54+upuZJ2tZH+pmYn+dcDRT3Tv2t+NxxfK013ueu+FtO1jUPhRaDTdGsvEEi30my31JQEtkxzsJZc5PJ+bHt1rE1m08VR+O/D8/izT1sU+0wRWkUAXyIkVx8ibSQPoTmk1S88MeLtL0d7vxE+iTWFklo9nLZSSpleroU459/QVQ8Sa3o8Hg2y8LaDdTajFBdNdTXssXlKzEEBUQ8gc9/60PSV/P/gflr+BK1jb+u/5/wCZ1ljd29p+0ZqP2qZIVmeWFGc4G5oxgZ9zxXJ2vgfxtoviOCGwtJLbUtrywGK6jVmVSAxB3cj5hx3B6da42ipjHlUV2Vgerb7u5614ltNRn8B6jdfEbTrO01eIxjT7tPLW4uWz8ysEPzAD6eteS0UU0tbjvpYKKKKYgooooAKKKKACiiigAooooAKKKKACiiigAooooAKKKKACiiigAooooAKKKKACiiigAooooAKKKKACiiigAooooAKKKKACiiigAooooAKKKKACiiigAooooAKKKKACiiprW3e7uo4I/vSMFHt70CbSV2Q0V6PZ6LFpdrEUtmUSDKzOnMmOCQfr6V0mo/DGS68GTazqbRWrqoaON1w5U9DnsT2XvWXtd3bQ82GYe0nyxg7d/I8Uoqa6t3tLqSCT70bFT7+9LZ2c+oX0NnZxmW4ncRxoP4mJwBzWq12PSTTV0QUVPe2dxp19PZ3sRiuIHMciH+FgcEcVBRuMKKKv22kT3Wi32pxvGIbFolkVidxMhIGOMfwnPIo8wKFFFFABRV/UdJn0yCxlneNlvrYXMYQkkKWZcHI65U+tUKA8woorRudC1Oz0a21W6tHisrpykMrkDeQM8DOce+MUbAZ1FXodG1C4tLe5gtXkjupzbwbCC0kgAJAXqfvDnGOabqml3mi6lLYanD5F1DjfHuDYyARyCR0IoAp0UUUAFFFWf7Puv7LOo+Ufsgm8jzcj7+3djHXpzQBWooooAKKKKACiiigAooooAKKKKACiiigAooooAKKKKACiiigAooooAKKKKACiiigAooooAKKKKACiiigAooooAKKKKACiiigAooooAKKKKACiiigAooooAKKKKACiiigAooooAKKKKACiiigAooooAKKKKACiiigAooooAKKKKACiiigAooooAKKKKACiiigAooooAKKKKACiiigAooooAKKKKACiiigAooooAKKKKACiiigAooooAKKKKACiiigAooooAKKKKACiiigAooooAKKKKACiiigAooooAKKKKACiiigAooooAKKKKACiiigAooooAKKKKACiiigAooooAKKKKACr+iTpb61bSSHC7sEntkEf1qhRSaurETipxcX1PqDw34w0PUtFhtfE0VvHNpoDws6fK4UcFR/e9u9cj4u8XXPie+/ihsYj+5gz/wCPN6n+X8/KbDxRdWkIinQXCKMAlsMPxov/ABRdXcJigQW6MMEhssfxrCUJyep48qGLlFUXa3fuuhS1udLjWrmSM5XdgEd8AD+lb3ghbbTo9S8QahNLBFZQ+RbyRRCR/PlBVSqllBKrubqOgrkqK3SsrHsQioRUV0/Q9f0uI6jq48Q+H5HuJbzRLiAyTxKjG7iVVyy7mVSw2MOTUejtfpqHhlvEyyvrY+3EreDMxt/JO0SBvmI3b8Z7ZrzPS9Wn0hrs2yRsbq1ktX8wE4RxgkYI5qhQ09bdv8/8/u0NIu39eSX9eep3uiapr2r6Bq9zpd3eXXiIzwgvC5NwLb58iPHIUOVyF6DHaujmOpjTvEA0IsNeNrp/2wWf+t+0Yfzdm3+PHXbz96vH6KGrgnY9VksrqbXWu1lvzrtnosLXttpjhbqeZm2n5sMQwUoWIBNXNVivEutQfSEuE8RyaJaNHtlEt0f3hE2HUDdJtABIAPBrx6ihq/8AXr/mJaf16f5Hrt0dSN3beZn/AISX/hG/9GzjzfO89t+3v5uzd75z3rkfGouv7L0H+3N/9ueTL9r87/XbN/7rzO+7GevOMZrkKKGru/8AXX/Md9Lf1sl+hbvbi0njtRZ2ItGihCTN5rP575OX5+7kYGBxxW7NNcXnw1h86WSeT+1zGm9ixwIFAUZ7DoBXL0UNXVv63uLrf+tjqfFd3LpGoWGj2E7wnRrfyWkicqfPf5piCOerbfotV/HP/I3T/wDXvbf+k8dc9RTFbW57BYjXfN8IeR5g8PnTI/7R/wCeGz5vM87t9zGN34Vk6fpVxq1v4Kn0e3kns7O7lE0oGVtwLnePMPRflweevauE1PVp9VWyFwkaiytUtY/LBGUUkgnJPPzGqFH2r+d/z/zD7PL5L8j0/Wdb1HSLKyGl3ktoZtfvvMaFtrOBKmFJHVeTx0Pepdfk1AaB4gs9MkvPslr4hmFzBau2IrYqS2VHRCc9eM15XRSSsku3/A/y/Erv/Xf/AD/A9W1j+0jJ4l/tPP8Awi/2Jv7Mz/x77uPs/k9t3rt981n+K21PU/CM1/fJq+ipE0Kf2XeAray8bQbcHBXAGSuD1615zRS5dAuFFFFUIKKKKACiiigAooooAKKKKACiiigAooooAKKKKACiiigAooooAKKKKACiiigAooooAKKKKACiiigAooooAKKKKACiiigAooooAKKKKACiiigAooooAKKKKACiiigAooooAKKKKACiiigAooooAKKKKACiiigAooooAKKKKACiiigAooooAKKKKACiiigAooooAKKKKACiiigAooooAKKKKACiiigAooooAKKKKACiiigAooooAKKKKACiiigAooooAKKKKACiiigAooooAKKKKACiiigAooooAKKKKACiiigAooooAKKKKACiiigAooooAKKKKACiiigAooooAKkhiM8uwMq8EktnAAGT0+lR1Ysv+Pg/9cpP/QDVQSckmTJ2i2H2ZP8An7h/J/8A4mj7Mn/P3D+T/wDxNR0U+Zdvz/zDlfck+zJ/z9w/k/8A8TR9mT/n7h/J/wD4mo6KOZdvz/zDlfck+zJ/z9w/k/8A8TR9mT/n7h/J/wD4mo6KOZdvz/zDlfck+zJ/z9w/k/8A8TR9mT/n7h/J/wD4mo6KOZdvz/zDlfck+zJ/z9w/k/8A8TR9mT/n7h/J/wD4mo6KOZdvz/zDlfck+zJ/z9w/k/8A8TR9mT/n7h/J/wD4mo6KOZdvz/zDlfck+zJ/z9w/k/8A8TR9mT/n7h/J/wD4mo6KOZdvz/zDlfck+zJ/z9w/k/8A8TR9mT/n7h/J/wD4mo6KOZdvz/zDlfck+zJ/z9w/k/8A8TR9mT/n7h/J/wD4mo6KOZdvz/zDlfck+zJ/z9w/k/8A8TR9mT/n7h/J/wD4mo6KOZdvz/zDlfck+zJ/z9w/k/8A8TR9mT/n7h/J/wD4mo6KOZdvz/zDlfck+zJ/z9w/k/8A8TR9mT/n7h/J/wD4mo6KOZdvz/zDlfck+zJ/z9w/k/8A8TR9mT/n7h/J/wD4mo6KOZdvz/zDlfck+zJ/z9w/k/8A8TR9mT/n7h/J/wD4mo6KOZdvz/zDlfck+zJ/z9w/k/8A8TR9mT/n7h/J/wD4mo6KOZdvz/zDlfck+zJ/z9w/k/8A8TR9mT/n7h/J/wD4mo6KOZdvz/zDlfck+zJ/z9w/k/8A8TR9mT/n7h/J/wD4mo6KOZdvz/zDlfck+zJ/z9w/k/8A8TR9mT/n7h/J/wD4mo6KOZdvz/zDlfck+zJ/z9w/k/8A8TR9mT/n7h/J/wD4mo6KOZdvz/zDlfck+zJ/z9w/k/8A8TR9mT/n7h/J/wD4mo6KOZdvz/zDlfck+zJ/z9w/k/8A8TR9mT/n7h/J/wD4mo6KOZdvz/zDlfck+zJ/z9w/k/8A8TR9mT/n7h/J/wD4mo6KOZdvz/zDlfck+zJ/z9w/k/8A8TR9mT/n7h/J/wD4mo6KOZdvz/zDlfck+zJ/z9w/k/8A8TR9mT/n7h/J/wD4mo6KOZdvz/zDlfck+zJ/z9w/k/8A8TR9mT/n7h/J/wD4mo6KOZdvz/zDlfck+zJ/z9w/k/8A8TR9mT/n7h/J/wD4mo6KOZdvz/zDlfck+zJ/z9w/k/8A8TR9mT/n7h/J/wD4mo6KOZdvz/zDlfck+zJ/z9w/k/8A8TR9mT/n7h/J/wD4mo6KOZdvz/zDlfck+zJ/z9w/k/8A8TR9mT/n7h/J/wD4mo6KOZdvz/zDlfck+zJ/z9w/k/8A8TR9mT/n7h/J/wD4mo6KOZdvz/zDlfck+zJ/z9w/k/8A8TR9mT/n7h/J/wD4mo6KOZdvz/zDlfck+zJ/z9w/k/8A8TR9mT/n7h/J/wD4mo6KOZdvz/zDlfck+zJ/z9w/k/8A8TR9mT/n7h/J/wD4mo6KOZdvz/zDlfck+zJ/z9w/k/8A8TR9mT/n7h/J/wD4mo6KOZdvz/zDlfck+zJ/z9w/k/8A8TR9mT/n7h/J/wD4mo6KOZdvz/zDlfck+zJ/z9w/k/8A8TR9mT/n7h/J/wD4mo6KOZdvz/zDlfck+zJ/z9w/k/8A8TR9mT/n7h/J/wD4mo6KOZdvz/zDlfck+zJ/z9w/k/8A8TR9mT/n7h/J/wD4mo6KOZdvz/zDlfck+zJ/z9w/k/8A8TR9mT/n7h/J/wD4mo6KOZdvz/zDlfck+zJ/z9w/k/8A8TR9mT/n7h/J/wD4mo6KOZdvz/zDlfck+zJ/z9w/k/8A8TR9mT/n7h/J/wD4mo6KOZdvz/zDlfck+zJ/z9w/k/8A8TR9mT/n7h/J/wD4mo6KOZdvz/zDlfck+zJ/z9w/k/8A8TR9mT/n7h/J/wD4mo6KOZdvz/zDlfck+zJ/z9w/k/8A8TR9mT/n7h/J/wD4mo6KOZdvz/zDlfck+zJ/z9w/k/8A8TR9mT/n7h/J/wD4mo6KOZdvz/zDlfck+zJ/z9w/k/8A8TR9mT/n7h/J/wD4mo6KOZdvz/zDlfck+zJ/z9w/k/8A8TR9mT/n7h/J/wD4mo6KOZdvz/zDlfck+zJ/z9w/k/8A8TR9mT/n7h/J/wD4mo6KOZdvz/zDlfck+zJ/z9w/k/8A8TR9mT/n7h/J/wD4mo6KOZdvz/zDlfck+zJ/z9w/k/8A8TR9mT/n7h/J/wD4mo6KOZdvz/zDlfck+zJ/z9w/k/8A8TR9mT/n7h/J/wD4mo6KOZdvz/zDlfck+zJ/z9w/k/8A8TR9mT/n7h/J/wD4mo6KOZdvz/zDlfcka1Aid0nik2DJChs4yB3A9ar1ah/497r/AK5D/wBDWqtEraNBG+qYUUUVBQUUUUAFFFFABRRRQAUUUUAFFFFABRRRQAUUUUAFFFFABRRRQAUUUUAFFFFABRRRQAUUUUAFFFFABRRRQAUUUUAFFFFABRRRQAUUUUAFFFFABRRRQAVYsv8Aj4P/AFyk/wDQDVerFl/x8H/rlJ/6Aaun8aJn8LI6kiiDhnkbZGvU4yc+g96jqf72njb/AASEt+IGP5GiKQSY9ooVVC8VxEsgykjchhnGQMDjI7GohbSNdLboA0jsFTB4bPTn3qxfeT9l0/yfL3/Zz5uzGd3mP973xjr2xUtp8usaajfeV4w3/fef5EVq4pysZOTjG68/wLGoeEdZ0u1uLi6t4TFauI7gwXUUxhYnGHCMSvPHOKxa7/XNTsD4t1vRLG0e0l1XUfs93fXNyJAiecCSqBVCjIB5LcDGe9dFfW92umyJqcerH7NrdottJqlwHLAOyl40CLsQjHQkHt0rmi7pN9bfp/mdMkotrtf+vwPHqK9Rs9XudR8feI4riW4nurVbiPS7aCcQtGRKAwhJVgrlAeQuTz35pUu7671e4K6Tead4ij0crZNfyiS5uG8wZfOxD5mzeAcZ4pJ6J+V/z/yC2tvO35f5nltFeo6M+uQ6JqD3dvrdz4jFzCZktrnyb37Ps+QncjsV3dQB6Z4rm5J7W6+K0M2r6aumW8l9Ebm0lYMI+V3bjgDk5J4HU1S1lykvSNzkqK9M1f8A4ST/AIQzxIfFH2jAvoPs5uAcY3tny8/8s/u4x8vp3qzqWk3sfiDxtqstu6WFxp8hguGGEnDGMgoejcDt0qebRv1/JP8AUpxs7f1ueVUV6v4pvJodN1GGy0XUbzQpbFFtrj7WrWUK4XbIiCL5XB4I3ZJzmsPwKxTw5q7aZBfz6qJYTs025ENz5Hzbth2OSN23IUZ6Z4pp7k9vM4SrElhcxafBfSRFba4d44pCR8zLjcMdeNwr1CxvtV1HWb+0h0PW9DNxdRPLe6dy0EnlqMTkKqspzvI+XBJNZ00Orap4S0rTotVuprFdWntL26jkZokUyRhGcZxtySRnj0prV2/roGn9ej/yPOKK9O8ZxXg8D3i6lFqoeHVY1gfVbgSOy7JAWRQi7EOBwMg44PFQ+EJ57bwZby6DZale3iX7NeRaXciKQjC+WJF8ty0Z+bjhc5z7JO9/67f5jaat53/C/wDkeb1Zs9Pur9bg2kRkFtCZ5TkDagwCefqK9K0+bUdWsruygsNW8M2yzXcgurTP2Pkksk5woO3BQMDxwMVzvw9udQR9dttJnuUuZtLkMMVs7B3kVlI2gclgN2Mc9aV9H6XC2vzOOor0zTdJ1TU5vBNylvPMLS5kF7M4J8hxdMzCQn7rYOeeTmsvwkCfjA4UIWM93gPjbnZJ1z2pt2dvX8P8wt+hw9WILQz2tzOJoEFuqkpJIFd8nGEHViOpx0FepaH/AGt52gf8Jf551P8Atv8A0UXn+u8nyzv68+Xu247elc1barfav4Z8Vz6jcyTsqWqoGPyxr9o4VR0VR2A4qo+9JR/rp/mT/X4v/I4qivW9Y8R6tFrXjhI76VUsolNqgPywN5qLuQfwthm5HOTmm2s32nUIbthcXOtXHhuGSBoJxFcTSeYQ5RyrfvNg64LEA49alO6Uv62f+RXW3y/L/M8mor1AatfR6lq15Npd1pd/b+HvvX7iSeVhOm2VzsX5hxgkZ+UGp/A8epyJpF+brWdQXUr1nvWiuwkEQVgpE5ZW3llH3SVyMAc0+tv63a/QT0V/62ueY2Gn3WqXqWlhEZp3DFUBAyACTyeOgNVq7PwPLJZfE7ybOV7cO1zCqxuV3fI+1ff5guB6gV0XhOy1y1Nnd3kmvT3N1qOL+NLjyVtwm3m5LqxYFT91sAjvSi+a3p+o5e67HlVFeg+J9RudI8KpZ6ZK1pDPquoRSeSdpaMMo2ZHO3nkdDxnpWt4ou5odN1CCy0XUbzQprKNba4+1q1jCuF2yIgi+Vweo35JzmkndXQW1t6/nY8oor1jWNPurDwhr9hdHVLm0tbSAW1zeXCm3lIkj+aCPbwMH7wY9eeTXO+GBqn/AAg95/wif2j+1v7Qj8/7Hnzvs+w46c7d/XHHTNO4W0T/AK2ucvq+kz6LqBs7p43kEccmYySMOgcdQOzCqNewTuw8U+JGgiuJtY+xWRhj06dYZyvlr5vlNtb/AGeFGSOlcF4zuprzxIkt5pU+mXPkRrLHcuGlkYD/AFjkKvzEYzwKqOslHuLp/Xkc5RXr/icauNU8Xf235g0D7K5tPM/1Pn5Xy/L7b92c4565qpfavcT/ABSXTbi4UW8FupsreQgQi5NtmNmHQtvbqeegqIyv91/68wPK6K9U0san5nh8+LoJptWGrN5IvgTMttsO52yCdivhhnjg9qv2N5qP9p6FBLe3OrWdvJeF7y4uYplkkMDFUKxyyDgA43HPzHAApt2TbGld/wBeZ45RXf8AhmbWtWs9Q1pb7W7+/wDOitjBp1z5UqodzBmcq22MHIwABz2Fa/ivUbrRLXxLLo1w1nJJq9sDLbvhsNAWOGHqepHX8aL23/rb/MW7Vv60f+R5TRXq2uaneX2ueLNNup2exi0dZ47Y/wCrSTETbwvQNuZjnrzUt7ptzZeF9c0+6bVLqwtdNj+z3N1cL9mlYNGQ0EW3jAz8wY+/Whu2/a/5/wCQ1rb+u3+Z5RbQm5uooA8cZlcIHlYKq5OMknoPerNvpvn3dzC97ZwC3V2aWWX5H28YTAJYk9MA+vTmvRr4a7/wmumfY/tX/CKi7svsvlZ+y7NybcY+XduznvnrTP8AiefZbceDPO83+1rr+0vs/wDe8z9352P+We3PX5etF7tLvf8ATf7xdL/11/yPL6K9I1rVzo3hnUJPCl21pA/iKZY5bVtp2eWpwrD+AkdB1AFY3j7R7n/hJ9Y1K3tgLKO4iSWRSABI8Ybp15OT0pKV3/XVL/Mpq39ev+RyKqXYKgLMxwABkk1ozeH9SgikeSBf3S75I1mRpIx6sgO4fiOKTQLiG08Q2M91gQxzKWJ6Dnr+HWtbSdLv9L1/+0NSRo7SAu8t0xykqkH7rdG3Z6DPWu6jQjUim76u3ptq/wClszjrVpQbSttf18l/XUwbuxksltmlZSLiETJtJ4Ukjn34qOS1mit4Z5E2xz7vLbI+bBwf1rtbY6mToPk7/wCyxar9r/55bdzbvM7fd6Z/Cq0M0k+n6CZ5Z5NKSdkuNzExqBL8gfsOMde1dDwUXKybXy84q/pr+BisVKy0v/T/AB0OOoruJZ7w6lp8N/p18mNSjaO5u5xIBzyqEIo2nrxxwKpxXrahb6iNWlMttb3sBVXPyxKXYMFHYbeMCsnhI3S5tXfdW2Sbv95f1p2vy9ut93Y5Oiu61C4uBeCGfTr0wNfRGC5nnDxIN/HlYQAAjsD6VzPiG9uLvWrpJ5WaOGeRYo8/LGN2MAdB0H1rOth40o3v+Fi6NeVR2t+NzLo612yaneRan9nSZhDHo4kWLqu8QBgxHQkEDn2FQ2yz6pb6RdTXNw12sVywkRszS7D8qKT35OOtbvBLmcYyva/Ts7PqZ/Wmldx/Hyb7eRyt1bi1uDEJoptoGWhbcufTPfHtxUIGTiu6uJbuCbTZRYahPdyWsscoEhkuohv4beFyGAPccA4rm9ehlg1wCe5muXZUYm4/1iZH3X5PzCpqYRQkrPdpbbXLo4hzdmvx7aGbPCbe4eIvG5RiN0bBlPuCOoqxY6c98k8nnRW8NuoaSWXdtXJwB8oJyT7V0+s31zYWmqyWUzwSNrDKZIztYDaTgHqOgp1/eXNqniE2txLBlLWT905X5mC7jx3OeaccNBNtu9vLybXXyMvrM5RVlv8A5pdvM4ojDEA59x3ortf9JNxzv/4Rz7CM/wDPH/Vfl5nmf8CzUIvbhdU8N2aSslu0VuzxqcBzv6t69BjPSn9SSlyuXVLbztffYr602tF0vv8A8DfyOQorq5Nb1I6PqkovJVkjvUWJlbBiU78qp/hHyjgelXJracatqN5Ym9eYmBWhsJBG53Rhi7Ng4GfbqeaiOEU1eMnbTp3TffyG8S4u0l+Pp5eZxFSPAUt4pS8ZEhbCq4LLj1Hb2rtNRW5S61j+wQ4vzcQs32Y5kMRjySuOSNxGcfyqG28wJpP2z/j8/wBN2edj/X5+XOe+79av6laTi3+Gm6Wmur/XQn63eKkl+Plc42iu40z7WLrSjrgkOofaZPLFyCZDD5Zzuzzjd0z74rEury41Hwi019M88sd+qo8hyUUoxIHoMgcdOKynhVGDlf8AD08/M0jiHKVrfj5tdvIwqKKK4jrCiiigAooooAKKKKACiiigAooooAKKKKACiiigAooooAKKKKACiiigAooooAKKKKACiiigAooooAK3tM8OLrWhzzaZcmXU7Yl5bErgvF/eQ/xEdx/9bODXTeENKkE/9vXd2+nadYOGe5Xhnb/nmg7k9PoaOgdStoXhz+0LafUdTnNjpVtxJcFcl27Ig7t/KsI9eOleg67dL8QdN8/RS8FzYb3bSiR+8QknzUwBlueR/k+fVKbb1G0raE0P/Hvdf9ch/wChrVWrUP8Ax73X/XIf+hrVWtZbL+urIjuwoooqCgooooAKKKKACiiigAooooAKKKKACiiigAooooAKKKKACiiigAooooAKKKKACiiigAooooAKKKKACiiigAooooAKKKKACiiigAooooAKKKKACiiigAqxZf8AHwf+uUn/AKAar1ZsVLXW1QSTHIAAOvyGrp/GvUmfwsip0cjRNuQ9sEEZBHoRUv2K6/59pv8Av2aPsV1/z7Tf9+zTUJrVJi5ovqH2nbykESN/eAJ/QnFQElmJY5J5JPep/sV1/wA+03/fs0fYrr/n2m/79mm41HuhJwXUgoqf7Fdf8+03/fs0fYrr/n2m/wC/ZqfZz7Fc8e5BRU/2K6/59pv+/Zo+xXX/AD7Tf9+zR7OfYOePcgoqf7Fdf8+03/fs0fYrr/n2m/79mj2c+wc8e5PbatPa6NfaZGkZhvmiaRmB3AxkkY5x/Ec8GqNT/Yrr/n2m/wC/Zo+xXX/PtN/37NHs59g549yCip/sV1/z7Tf9+zR9iuv+fab/AL9mj2c+wc8e5BRU/wBiuv8An2m/79mj7Fdf8+03/fs0ezn2Dnj3IKKn+xXX/PtN/wB+zR9iuv8An2m/79mj2c+wc8e5BRU/2K6/59pv+/Zo+xXX/PtN/wB+zR7OfYOePcgq9o2rT6Hqkd/aJG8sauoEoJXDIVPQjsxqD7Fdf8+03/fs0fYrr/n2m/79mj2c9rBzx7kFFT/Yrr/n2m/79mj7Fdf8+03/AH7NHs59g549yCip/sV1/wA+03/fs0fYrr/n2m/79mj2c+wc8e5BRU/2K6/59pv+/Zo+xXX/AD7Tf9+zR7OfYOePcgoqf7Fdf8+03/fs0fYrr/n2m/79mj2c+wc8e5BRU/2K6/59pv8Av2aPsV1/z7Tf9+zR7OfYOePcgoqf7Fdf8+03/fs0fYrr/n2m/wC/Zo9nPsHPHuQUA4IPpU/2K6/59pv+/Zo+xXX/AD7Tf9+zTUJp3SYc8e5NrGqz63rFzqV2saTXLl3WMEKD7ZJP61Sqf7Fdf8+03/fs0fYrr/n2m/79mpVOSVkg549yfSNWn0XUBd2yRSHY0bxzLuSRGUqykAg4IJ6EGp9Q1573TE063sLTT7NZfOaK2Dne+MBmZ2ZjgEgDOOTxVH7Fdf8APtN/37NH2K6/59pv+/Zp+zm+gc8e5BRU/wBiuv8An2m/79mj7Fdf8+03/fs0ezn2Dnj3IKKn+xXX/PtN/wB+zR9iuv8An2m/79mj2c+wc8e5BRU/2K6/59pv+/Zo+xXX/PtN/wB+zR7OfYOePcgoqf7Fdf8APtN/37NH2K6/59pv+/Zo9nPsHPHuQUVP9iuv+fab/v2aPsV1/wA+03/fs0ezn2Dnj3IKKn+xXX/PtN/37NH2K6/59pv+/Zo9nPsHPHuQUVP9iuv+fab/AL9mj7Fdf8+03/fs0ezn2Dnj3IKKn+xXX/PtN/37NH2K6/59pv8Av2aPZz7Bzx7kFFT/AGK6/wCfab/v2aPsV1/z7Tf9+zR7OfYOePcgoqf7Fdf8+03/AH7NH2K6/wCfab/v2aPZz7Bzx7kFFT/Yrr/n2m/79mj7Fdf8+03/AH7NHs59g549yCip/sV1/wA+03/fs0fYrr/n2m/79mj2c+wc8e5BRU/2K6/59pv+/Zo+xXX/AD7Tf9+zR7OfYOePcgoqf7Fdf8+03/fs0fYrr/n2m/79mj2c+wc8e5BRU/2K6/59pv8Av2aPsV1/z7Tf9+zR7OfYOePcgoqf7Fdf8+03/fs0fYrr/n2m/wC/Zo9nPsHPHuQUVP8AYrr/AJ9pv+/Zo+xXX/PtN/37NHs59g549yCip/sV1/z7Tf8Afs0fYrr/AJ9pv+/Zo9nPsHPHuQUVP9iuv+fab/v2aPsV1/z7Tf8Afs0ezn2Dnj3IKKn+xXX/AD7Tf9+zR9iuv+fab/v2aPZz7Bzx7kFFT/Yrr/n2m/79mj7Fdf8APtN/37NHs59g549yCip/sV1/z7Tf9+zR9iuv+fab/v2aPZz7Bzx7kFFT/Yrr/n2m/wC/Zo+xXX/PtN/37NHs59g549yCip/sV1/z7Tf9+zR9iuv+fab/AL9mj2c+wc8e5BRU/wBiuv8An2m/79mj7Fdf8+03/fs0ezn2Dnj3IKKn+xXX/PtN/wB+zR9iuv8An2m/79mj2c+wc8e5BRU/2K6/59pv+/Zo+xXX/PtN/wB+zR7OfYOePcgoqf7Fdf8APtN/37NH2K6/59pv+/Zo9nPsHPHuQUVP9iuv+fab/v2aPsV1/wA+03/fs0ezn2Dnj3IKKn+xXX/PtN/37NH2K6/59pv+/Zo9nPsHPHuQVK11O1qts08hgRi6xFztVj1IHQGnfYrr/n2m/wC/Zo+xXX/PtN/37NHs59g549xlvcT2k6z2s0kEqfdkjYqy/QioycnJ61P9iuv+fab/AL9mj7Fdf8+03/fs0ezn2Dnj3Eh/497r/rkP/Q1qrV5beaK1uWlhkQeWBllI/jWqNOaaSv8A1qxRabdgooorMsKKKKACiiigAooooAKKKKACiiigAooooAKKKKACiiigAooooAKKKKACiiigAooooAKKKKACiiigAooooAKKKKACiiigAooooAKKKKACiiigAooooAKKKKACiiigAooooAKKKKACiiigAooooAKKKKACiiigAooooAKKKKACiiigAooooAKKKKACiiigAooooAKKKKACiiigAooooAKKKKACiiigAooooAKKKKACiiigAooooAKKKKACiiigAooooAKKKKACiiigAooooAKKKKACiiigAooooAKKKKACiiigAooooAKKKKACiiigAooooAKKKKACiiigAooooAKKKKACiiigAooooAKKKKACiiigAooooAKKKKACiiigAooooAKKKKACiiigAooooAKKKKACiiigAooooAKKKKACiiigAooooAKKKKACiiigAooooAKKKKACiiigAooooAKKKKACiiigAooooAKKKKACiiigAooooAKKKKACiiigAooooAKKKKACiiigAooooAKKKKACiiigAooooAKKKKACiiigAooooAKKKKACiiigAooooAKKKKACiiigAooooAKKKKACiiigAooooAKKKKACiiigAooooAKKKKACiiigAooooAKKKKACiiigAooooAKKKKACiiigAooooAKKKKACiiigAooooAKKKKACiiigAooooAKKKKACiiigAooooAKKKKACiiigAooooAKKKKACiiigAooooAKKKKACiiigAooooAKKKKACiiigAooooAKKKKACiiigAooooAKKKKACiiigAooooAKKKKACiiigAooooAKKKKACiiigAooooAKKKKACiiigAooooAKKKKACiiigAooooAKKKKACiiigAooooAKKKKACiiigAooooAKKKKACiiigAooooAKKKKACiiigAooooAKKKKACiiigAooooAKKKKACiiigAooooAKKKKACiiigAooooAKKKKACiiigAooooAKKKKACiiigAooooAKKKKACiiigAooooAKKKKACiiigAooooAKKKKACiiigAooooAKKKKACiiigAooooAKKKKACiiigAooooAKKKKACiiigAooooAKKKKACiiigAooooAKKKKACiiigAooooAKKKKACiiigAooooAKKKKACiiigAooooAKKKKACiiigAooooAKKKKACiiigAooooAKKKKACiiigAooooAKKKKACiiigAooooAKKKKACiiigAooooAKKKKACiiigAooooAKKKKACiiigAooooAKKKKACiiigAooooAKKKKACiiigAooooAK1fDGmQ614p03TbppEhurhYnaMgMAT2yCM/hWVWr4Y1SHRfFOm6ldLI8NrcLK6xgFiAe2SBn8aqNuZXJlfldjrPEngSyh1i20bw1pviFb6a7aBZtUjRLeVVByyMAMjjOfSs27+GuswyWa2Nxp+qLdXRtBJY3G9Y5QCSrEgY4BP4VPF8RLuH4jJr8k15eWEN3LLDaXExPlxvkYUZIUhW7ccVu3nxRsota06/sLvXr5Le7M0lrqPkiNUKsuE2c5AY4yaiN7K5pK13b+t/wDgFDw98PrW38f6XpWuX+latDcPMk1vY3bM0bJGxw+ApXnHfsax9c8AX+i2sF89/plxZ3F19lM1tcl1gk/uyHHGMHOM9K1bLxT4Q0bx9ZeINJg1oxiWeW7S4WIkb1IURgN0BY5yelN0Lx1pOmeG7DT76xnunt9Z+3yKUUo0e0jHJ+8Cc4xjjrQru1/n9/8AkDsk7f1o/wDgGNrfge80bQxq8epaXqdl5/kPLp1wZRG+M4b5RRZ+G7S4+GuoeIXknF3a3qW6IGHllSASSMZzz610njL4iaX4g8L3ml2Z1aaSe8W5SS+Ee2Ne8ahT8qjjHXPOay/DPiPw5b+B77w94lj1TbdXi3AfT1jyAFAAy59R6VPvNP5fpf8AUNLr5/r/AMAqaToKXHgh9Q/s+2nmutSTT4rma6kUwMVzkRqAD1+8WP8Au1py/CDWovtQfVdEDWZH2pTeEG3U8h3yvyrgZ55x2qJfFWg2Hh5NI0uLUmhi1yPUI2uVj3GJUUEHacbsg8YxjHNXL34g6Vc3HjSRLe8A16KJLXKL8hVSDv8Am4/DNVJ7tdv0X/BCy0X9bv8ASxFp3w+udO8Q3en6ra2GqD+yXvoJEvZI49uRiRWVcsRz8pAB9arap8O/sfhXRtRtdVs573UFyLTzvmlLOqqsQx8xG75sng1p2nxF0mC8tJXt70rD4c/spgETJl/vD5vu+/X2qiPGeit4Z8PLLbX41nw++63C7Ps8v7xW+ck7ui9h1p/a8v0vL/gCfS39Oy/4Jn638O9V0PS7q9lvNOuxZOiXkNpcF5LYt03ggY544zXJ16T40+Ien+ItIvIrG+15JLooTZXHk/ZkwQSAR8x6cV5tUq/UHa2gVsQaTBL4OvNWZ5BPBeQ26qCNpV0ckkYzn5R39ax66HSdS0oeFb3SNVmvLdp7uK4SW2tkm+4rgghpE/v/AKVXR/11Qlur+f5P9SpouhLrMiRLqtjZzSSrDFFcmTdIx6Y2IwAzxkkCrHhzw8mqeM7fQ9Tn+yZnMMpGS2QcFVwCM8Hk8VvaH4t0fQ7Oyt7W91m3Szu2nkNrAkR1BflKrIRJlcYIx84IPYmsOx8QQWfxCXX/ACpHtxftc+XwH2FicemcH1o+0v67f8ETvyvv/wAOQ2+g21zfy26a/pkao6pHLIJwspbso8rdx0JIA96tN4KvLeyvLvUL6xsYbO8eykM7uSZVAOFCqxOc8Y9DnFamk+J9G0exltbK+1m2/wBNFz9otYEiluY9o/dORJ8oBB5BYck4ql4l8UWWs6fewW0U6PcazNfr5igARuoABwT83H096TvbT+tv+D9xppd/13/4H3lX/hDb37Gz/a7L7Wlp9tbT97eeIcbt33dudvzbd27HaoE8NvNo899aanY3T20C3E9rE0nmxoSBk5QKcFhkBjit3U/Gqappi51nXrKYWS28lhA+bWRlTaDnzBtVgORsPU1c1Dx1pdxpurQ282rCO+s1t7fTyiJa2ZG3O0Bzu+6edoPPfNEtL2/r+v6sTG2l/wCtv+D/AME4nTbCK/eQT6laaesag77rzMNzjACKxJ/CtZ/Bd7b3eoxX95ZWUOnsiy3UzuY2ZxlAu1SzEjnhenXFS+GPEFnpOk3trNc6hp1zPLG63unIrS7FzujyWUqDkHIPbkGtHWPF2j+ILnWIb5b+3tL6a3uYZkRJZY5I4vLIZSyhgcnncD0PtTfl/W3/AARLzMTTPC/9rXn2S01nTPtLTtDBEzS5nI6FSI8AHsWK5rTXwna3nhLRLtL2x067up54ZGu5JP3zBlCABVYDHOScDkZNaWgeNtF0NNLS3uNZghsJ5Hlgto0QXwL5VpSJByFwNpDDjAI61lxa34dvNC0qy1b+0opNPuZpi1tCjiVXcNs5cbT8o+bnHoaNL+X9f1/Vgez/AK7/APA/rUj0rwsbSWefxD9ht4455LKOO+uJI1e4Awf9WrEquQScqOR81Yr6FqCeIf7EaA/b/P8AI8oEcuTgc9Me/pXQ3/inSvE0ci+IlvbXbqEt3C1nGkuUkxujO5lwRtGG578VRk8Wu3xCXxOlsBsuVlWAt/AuAFz67R19aUbtq/8AW3/BHLRPl/rf/gFrTfBwGtaW015Zapp8uqRWNybSST5GLDKnKqeRnDLkccGsPytOt/EE8WoLcCyilkXZbEbyATtALcDnHJz9DXSz+LrX+29OvP7c8Rajb22oxXTWt+QVjRWzhf3rbm7A4XvWFp11o0nih7zXo7p9PaV5fKgRSzknKggsOPXBz6etCu7fP9P+CDsk7f1v/wAAu6hoejxxaHepc3OnWWpLI0q3WJ5IQjY3Aoq7g3QcDkHnHNUPFWmWmj+JLiy05pntlSJ4zOQXw8avzgAfxVJ4m1Cz1W9F5b6hd3UrfJ5c1ilvHCgGFVAsr8Dpjj8ag8SanDrGuSXtssixtFCgEgAOUiVD0J7qaES73N/wp4LS81rRv7ZubNYr8+athJJIs00OSNwKrgZwSMsCccVm2Hg671KO2ZLyytpb5nFlbTyMJLjaSPlwpA5BA3FckVr6X4q0KPUdA1XU01BbzSIEt2ht4kaOUITtbcXBBw3Iwc46im2njSNtBsLKTWNe0iSxDx40xsxzoWLAkeYm1huIz82RimxrbXyOd0PQLrXtUewt5ILeSOKSV2uXKqqoMtkgHHArWi8BTTx2MkOu6O0eouYrN/MmHnuDgqAY8qQcDLADkc1neH9Zh0vUL64vBNL9psriAFcFi8iFQTk9Mnmrtn4ks7e38LI8c5Oj3kk9xhR8ytIjALzycKeuKa1aTE9L+v6L9SppfhmTVLv7GdSsLS9a4NtHa3DSb5H6YBVGUZPGSRzSjwrcJ4f/ALXvL2ztIDJJCkczP5jyJjKBVU889eg7kcV1GlePdLsZrOUTatZC3vprmeCyRFW9DSbl8xt4PA4wQwIGOM1zOta7a6lodnZQpMskF5czsXAAKylSoHPX5Tmoi5NK/wDW3/BK0v8A15/8Awo9hkXzSwTI3FRkgd8Cunl0nQLrw7c6tp41K1itLyKBvtMkcnnq+SdgCrhwFztyRg9axboaSdbxZNejS968zKhnCcbuAdueuOfSt/XdV8O6kltb2V3qcGnWjAQWIsI1CqSN7F/OO5yMnJXk4HA6U9hLck1Pwvp8fh06hHa6no7tcxxWw1aRSLpGzlwAilQowSfmGD1pdN8HwvpeoXDWd9r8trfLaqNFmBRl2Mxk3eU5I4AzgdaqjV9EsPDl7pFhNqd3HqE8TStcQpCIURs5VQ77nPTJxxVSH/hGBeSv9s1q2iS53QbLeJ3aMYxk+Yu1+vIyKS3f9dv+CH9fmW7TRNKj0aXVdTtdUeN9RNlFaW8qrJDhQxLsYzubkADauSD0qGfwyln8RI/DtzLI0LXscBkUbX2OVwcHOGw351fHi63uvFGpatNqOs6VDdyhja6aRmZQMYd964PHXa3U1mHxL9q8fxeIr2JlQXsdw0UfzFUVhhRnGSFAHanD4lfb/hv+CEtnb+tzWm8MaNdWN/Pp6alanT9QjtHNzMkqThnK/KwRcMMZxzxTn8NeH73xLqPhzTRqVtqMEksdrLcXCSxTtHk4YCNSmQpwcnBrF1HxPe6pry3d/f3t1ax3ZmiinmZ/LXdnABJAOOOK2pPE3h+y8Saj4i0z+0rnUriSWS1juII4YoGkyNxIkYuQG4GBULm5Fff/AIC/W/kPTmfy/W/6FO2sfDUnhO41eWw1Uvb3MVs0a6jGA5dWJYHyDj7nTnr1rlnKl2MYKrn5QxyQPr3rWg1aCLwdeaSySefPeQ3CsANoVEcEE5zn5h29ax6t/E/66L9RfZX9dX+gUUUUAFFFFABRRRQAUUUUAFFFFABRRRQAUUUUAFFFFABRRRQAUUUUAFFFFABRRRQAUUUUAFFFFABRRRQAUUUUAFFFFABRRRQAUUUUAFFFFABRRRQAUUUUAFFFFABRRRQAUUUUAFFFFABRRRQAUUUUAFFFFABRRRQAUUUUAFFFFABRRRQAUUUUAFFFFABRRRQAUUUUAFFFFABRRRQAUUUUAFFFFABRRRQAUUUUAFFFFABRRRQAUUUUAFFFFABRRRQAUUUUAFFFFABRRRQAUUUUAFFFFABRRRQAUUUUAFFFFABRRRQAUUUUAFFFFABWtpfhnUtYtpJ7D7GyRqWkEl/BEyKMZYq7gheRzjFZNb/he4ht49b+0TRxebpU0ce9gu9iyYUZ6ng8UpO0Ww6oxJ4Wt7iSGQoWjYqTHIrqSPRlJBHuDipbKwudRleKzj8x44nmYbgMIilmPPoAa7Xw1/Zf9m6V5v8AYn2DE39sfbfK+0ZycbN37z7m3b5X8Wc1c0y5sbXTQ1jNo0WntocyOZGgF2bkxuGBz+9yW4H8O3GKb0T/AK7jSu0jzWrVhp1zqd19nsow8gRnO51RVVRksWYgAADqTXoNw+gaV4ZLqml6i9mbSS2kZ7QvdjI81TGkYkXgkESsx74yMirPD4b04Xmm2smnXSNYXd0l0WRzvc4hjDHkMqAHAOdzH0pPqLsefUV6F4kt9Eg8GT29tLp9xPbyW4tLmKa1824XaQ7bIkDqORkSMx/EE1LodraxeHPDk9zFoaWMxuP7Te9WETPEJCMqW/eEhcgeXznGe1F1ewdjziiu+istGlW3v0l0lbRdCljdJJolkN0FkAzETvL52kNj0welTX8vh1dAt0g06zmsGgt91wl/arcRNlfMJj8sTls7gQWZcHI4xh/1+f8AkH9fl/n+BwkWn3M+n3F9FHut7ZkWV9wG0vnbx1Odp6VWr1U3Okxx31vrMuhrpMuq27W8enNAHe3V3++IvmIAK53/ADcmqVzcaeuuWgOh6O7IJh5qatpxRlIABwsaxZXqvmKScn0GFf8Ar5L/ADH/AF+Z5vRXUzWdhJ8Q4Le51W0+yNJEZLuK2gjiX5QduxMxdflJyVzknIzXYLbaVeyJJaWuipqCaVdtIjy2k0cUiyR+UzmNFhzhjglcc4YnBwm7K4W1seTUV6DcXWlWVveXEkWhS6smlR71ijikh+0GcDKKP3ZYREEhQVyDkHmgSaXLpQkYaGNMfSnacFYVu/thDfdA/eg+ZtwB8mz2qnov68/8vyBK7t/XT/P8zh76wudNufs97H5UuxJNu4H5WUMp49QQarV6ZrU9heW91Je3OhyaedIhS3eJoWuhchI1AO397wQc5+XbVvyfDUL2EFw+kzRQanbotw01mTPBtcO7LEilVJ25EjMenQ5ydbf1vb/g+molqr+X6X/rzPKKK6DTL7T9Q8a2U2vw2sOnCYLJHbwrFGEBOAQo5HTJOSR1JrqZbjT/AO3LcHRNIDCKVWnTVdNZSu5cMFEaw5HOA67mDHkbcgDq0ebUV6NObebSbzSY9X0Uxf2nGbi5NraRFYWjAZ0QcHacj92SeDg4NU/HK6SdDtDZpYJeJeSofs09rIzQ7V2s32dEUAkHggkc881PNb+vT/P8wWv9ev8AkcLRXpMcttqUmj3FxdaP9nttLBSAfYo5JbgAqYnMikIOd2XUrxxyQaj1q60TT/7YutNh0d7r7PZGFSsFwqyEES7FCiNj67V298Dg0SlZ/wBef+X5BHVX/r+tTzqivRJX0CTwvawQWWnmCazjWa7N7bJNbzEjzJDEYxOxVs/KHKlcYHpB42TR18OxrZiw+1w35jje3ntXeWDYcORbooAJA4bcw9eeW3ZjOCor0LT4NDi8DzRzy6fcNJpskqzSS2qSx3O4kRBNnn5GPvF9p6AYIFM1zVdLNzrsFpb6KsFoLeTT2htYcswdN2GAzICC2VORx0wKa1nyC6XOAor1Sa502XW9cubhNGvbt7hXs9tzYRI9sWfJ3PG8ZfJXO8CTGOeoOUDp1zo2qJFa6Xo6iS4kRzcWV4zcHEQDfvRyMK8fHOdp+9Sv/X9f1fQdtTgo0aWRY0GWYhQPUmpb2zn0++ns7xPLnt5GjkTIO1gcEZHB5rq/CjW6aIGtDpA1BdQQ3B1PyeLfbxs83j727Oz5vu10ct34fkn1O4t7PTtUnl1O5NyJ9QtYN8Zb5CjTIxKkZ5jZTn8CHLT+vT/MS1/r1/yPKqK6TwqbYx6qUFgNR8hfsI1ExeUP3g3/AOt+Tdt6bvfviuj8R6RZ3FvdWsA0a21FoNPnG2aC3R8xyeaY2JCkFipIB54x0FD0VxpXb/r+tzzirWnabdareC1sYw8pVn+Z1RVVQSSWYgAAAnJIr0lJPDUF9qzafaaTezi+TbG91awRtB5Y+4Z42TG7dnbtbpzXMeGNVh0zW9beJLO1hksroRRTiOdVO1tkYZwQ3px97vmknf7r/hcl6ff+tjnL2wudOnEN5EY2K7lOQVdezKw4ZTjhgSD2NVq7xr/SrTRbu7totIe//s2zMavbwyYlLnzMRkEbsHkY449BWjpP9gvq0moMdJbzjZ+faFrSKKJTCGlkHnI4OH3ApGAw/KiN3+Q+lzgP7G1E2MN4lpJJBMkkiPGN3yxkB2IHIAyOTiqNej3M2hf2W1qJ7F4re31UW6NIrbCZF8rbk9SB8p6ntTT/AGV/wlVj5o0Q+Gt6/ZgjW6yFvKOzziAZgN+NxcFc9QRiknewW1Z51ViwsbjU7+GysY/NuJ3CRpuA3MegyeBXQeLJrKW/sM6dbWe1SJ3s722n81d3XFuqorAZHTJ4zXXyXuh2vibTHtLTTILKPUYnt76LUbUlIueGRI1kAIxkykkEdeTmlsmJ6XPKSCrEHqDg0ldH4YNsbnUyfsJv/s5+w/2h5fkb943Z8z5N2zdt3cZ98VuWFjZ3zaPJfy6FHPa6q7al+/tYlMX7ojAUhXXAbhAR19aFuhvRu39aXOAort7nUbC3uNEttPsdHuo2keS6VxCpkIuZCqtK3EY2BfQEEZ3DAq7PHp63dy8Fzo0mqSWStaQzx2Qht28350Zk/cO+zJDNgkfwqcClcbVnY87orqPFdlYy3Ut3YXOmI8EFut1DayALJOyneYlX5SoI528AniuXoTuIKKKKYBRRRQAUUUUAFFFFABRRRQAUUUUAFFFFABRRRQAUUUUAFFFFABRRRQAUUUUAFFFFABRRRQAUUUUAFFFFABRRRQAUUUUAFFFFABRRRQAUUUUAFFFFABRRRQAUUUUAFFFFABRRRQAUUUUAFFFFABRRRQAUUUUAFFFFABRRRQAUUUUAFFFFABRRRQAUUUUAFFFFABRRRQAUUUUAFFFFABRRRQAUUUUAFFFFABRRRQAUUUUAFFFFABRRRQAUUUUAFFFFABRRRQAUUUUAFFFFABRRRQAUUUUAFFFFABVmfULm5srW0mk3QWgYQptA2bjubnqefWq1FABRRRQAUUUUAFWbPULmwFwLSTyxcwtBL8oO5Dgkc9Og5HNVqKN9ACiiigAooooAKKKKACiiigAooooAKKKKACiiigAooooAKKKKACrN7qFzqDxPeSeY0MKQIdoGEQYUceg79arUUAFFFFABRRRQAUUUUAFFFFABRRRQAUUUUAFFFFABRRRQAUUUUAFFFFABRRRQAUUUUAFFFFABRRRQAUUUUAFFFFABRRRQAUUUUAFFFFABRRRQAUUUUAFFFFABRRRQAUUUUAFFFFABRRRQAUUUUAFFFFABRRRQAUUUUAFFFFABRRRQAUUUUAFFFFABRRRQAUUUUAFFFFABRRRQAUUUUAFFFFABRRRQAUUUUAFFFFABRRRQAUUUUAFFFFABRRRQAUUUUAFFFFABRRRQAUUUUAFFFFABRRRQAUUUUAFFFFABRRRQAUUUUAFFFFABRRRQAUUUUAFFFFABRRRQAUUUUAFFFFABRRRQAUUUUAFFFFABRRRQAUUUUAFFFFABRRRQAUUUUAFFFFABRRRQAUUUUAFFFFABRRRQAUUUUAFFFFABRRRQAUUUUAFFFFABRRRQAUUUUAFFFFABRRRQAUUUUAFFFFABRRRQAUUUUAFFFFABRRRQAUUUUAFFFFABRRRQAUUUUAFFFFABRRRQAUUUUAFFFFABRRRQAUUUUAFFFFABRRRQAUUUUAFFFFABRRRQAUUUUAFFFFABRRRQAUUUUAFFFFABRRRQAUUUUAFFFFABRRRQAUUUUAFFFFABRRRQAUUUUAFFFFABRRRQAUUUUAFFFFABRRRQAUUUUAFFFFABRRRQAVLb2813cJBawyTTSHakcalmY+gA5NRV0XgH/koGi/8AX2n86aV3YmTtFs54gqSCMEcEHtSV3sdzDpnhjRZYdN06ae81OdJprm0jmZkVk+X5gePmPPUdiK0YodJ/4SDUvDmlW9laamupziA3mnpcxTpnCxbiC0WMHkDHvS1t/Xl/maNWb8n+rX6Hmz280UEU0kMiRTZ8t2UhXwcHB74NRV6npkpvIvAdhf2tnPbTvNHKj2cR3bJSMA7cjoM469Tmufjli1rw74quTptlFJax2/2ZLe1RDCnnc4IGTx1YkkjqaV/zf4E7Np9Lfj/wxxlFemx6Lb2VlbXP9k281/b+HBdR20kAIkkMxBkdMfOVQ55z0HpWVBcSJ4MuteXSdPk1B72K3bdp0Zjih8vIYR7do3Nxuxz2pvR/13sC1Sff/JP9TkJbC6gsLe9lhZba5LrDIejlcBsfTIqtXpWk6ZZ3lpoNxc6ZbNdumpzm3EAUTyx4KRsoHIBzhfbFS+GrO11pvD9/rGlWUc8mpTWxjS0SJLmEQlslAAp2txkD9RQ9P687Atf6+Z5hRXo2gw2Hiqws5dVsbG3A1yGAG1t0gzE6MfLJUDcMqBk8+9R6hqvh23uIf7R0aWeSz1IGVV0mKyVY8HMJ2SHeQQCN3JAOTzR/X5f5gtVdf1v/AJHntFdV4wtw1np2o2k1jcWFyZRBLb6etm+VI3K6KADjIAIz35rlaEAUUUUAS29vNd3CQWsMk80h2pHGpZmPoAOTU50jUl1Maa2n3QvicC1MDeb0z9zGenPStbwB/wAlB0T/AK+0/nXslxBZnxKPGpK7oUfTQpHP2jz/ACQ3/fJP4U7bP1/r9Cb6teh4c/hjWY9Nvb6bT5YYLF1jufNwjRM2MAoSG5yO3esqvYfHFjaS6f48vJbWF7qG9tFinaMF4wRHkBuoz7VQ+Guj6XN4M1TVLizgu72O6WIedp5vvLjwDxECDySeR6e1KOqv6fjb/Md/zf4N/wCR5bRXsDReHrD/AITPVLDQLeVbOO0khtdQs9ohkfII2NyFOQccZq5c6ToN34oh0o6TYWz6/oKyxGO3UCG4wxBTj5eM9OuBQ7/16XL5f6+7/M8h0nRr/XL77JpduZ5thcjcFCqOpLMQAPcmqksbQzPG5UsjFSUcMOPQjgj3Fez2+j6Jb+JG8Pf2XYTPpfh6R7mVrZCz3B2HcSRyQOh7bjU+g+HtONr4X0+LwzZX2nanp7S3+oyW++SOQpniX+DnjH5dKPT+t/8AIXTX+tv8zw6irF/FFb6lcw2z+ZDHK6xvnO5QSAfyqvSTurg1Z2CiiimIKKKKACiiigAooooAKKKKACiiigAooooAKKKKACiiigAooooAKKKKACiiigAooooAKKKKACiiigAooooAKKKKACiiigAooooAKKKKACiiigAooooAKKKKACiiigAooooAKKKKACiiigAooooAKKKKACiiigAooooAKKKKACiiigAooooAKKKKACiiigAooooAKKKKACiiigAooooAKKKKACiiigAooooAKKKKACiiigAooooAKKKKACiiigAooooAKKKKACiiigAooooAKKKKACiiigAooooAKKKKACiiigAooooAKKKKACiiigAooooAKKKKACiiigAqW3uJrS4Se1mkhmjO5JI2Ksp9QRyKipaAJmvbpooomuZjHC5eNDIcIxxkgdicDn2q4niXXYo5Y49a1FEmZnlVbpwHZupIzyT3zWbj6fnRj6fnQBettc1aytVtrPVL23gV96xRXDqobruwDjPvUVlqV9ptybjTry4tJyCplglZGIPUZBzVbH0/OjH0/OgC82uas19Hetqd4bqIERzm4fegJJOGzkck/makTxJriXr3iazqC3UihXnF04dgOgLZyRWbj6fnRj6fnQBabVdQeSKR765Z4ZGliYzMTG7HLMDngk8kjqalm17V7i9ivLjVb2W6hGI53uHZ0HsxORVDH0/OjH0/OgCVbq4S2Nuk8qwFxIYg5ClgMBsdMjJ5q9L4m12doWm1rUZGgbfCXu3JjbGMrzwcEjiszH0/OjH0/OgC1f6pqGqyLJql9c3roMK1xM0hUegLE1UpcfT86MfT86AEopcfT86MfT86AJLe4mtLhJ7WaSCaM7kkjYqyn1BHIqyda1UwmI6neGMzfaCn2hsGXOd+M/ezznrS6VDp810y6tcPBDsJVo+SWyOOh7ZrX+weE/8AoKXX/fJ/+IpNnPUrqErOLfomzGm1nVLmO4S41K7lS6ZWuFknZhMR0LZPzEYGM+lNsNV1DSpGk0u/ubJ3GGa3maMsPQlSK2/sHhP/AKCl1/3yf/iKPsHhP/oKXX/fJ/8AiKXMZ/Wo/wAkv/AWY0msanN9q87UbuT7Zt+07p2Pn7fu7+fmx2z0ofWNTkure5fUbtp7ZQsEpnYtEB0CnOVA9q2fsHhP/oKXX/fJ/wDiKPsHhP8A6Cl1/wB8n/4ijmH9aX8kv/AWYy6xqaXk12mo3a3NwpWaYTsHkB6hmzkg4HWnQa5q1rYNY22qXsNowIa3juHWM565UHHNa/2Dwn/0FLr/AL5P/wARR9g8J/8AQUuv++T/APEUXXYPra/ll/4CzmaKmuUiW6lW2cvCHIjZjyVzwfyqLH0/OqOpO6uJRS4+n50Y+n50DEopcfT86MfT86AEopcfT86MfT86AEopcfT86MfT86AEopcfT86MfT86AEopcfT86MfT86AEopcfT86MfT86AEopcfT86MfT86AEopcfT86MfT86AEopcfT86MfT86AEopcfT86MfT86AEopcfT86MfT86AEopcfT86MfT86AEopcfT86MfT86AEopcfT86MfT86AEopcfT86MfT86AEopcfT86MfT86AEopcfT86MfT86AEopcfT86MfT86AEopcfT86MfT86AEopcfT86MfT86AEopcfT86MfT86AEopcfT86MfT86AEopcfT86MfT86AEopcfT86MfT86AEopcfT86MfT86AEopcfT86MfT86AEopcfT86MfT86AEopcfT86MfT86AEopcfT86MfT86AEopcfT86MfT86AEopcfT86MfT86AEopcfT86MfT86AEopcfT86MfT86AEopcfT86MfT86AEopcfT86MfT86AEopcfT86MfT86AEopcfT86MfT86AEopcfT86MfT86AEopcfT86MfT86AEopcf5zSUAFFFFABRRRQAUUUUAFFFFABRRRQAUUUUAFFFFABRRRQAUUUUAFFFFABRRRQAUUUUAFFFFABRRRQAUUUUAFFFFABRRRQAUUUUAFFFFABRRRQAUUUUAFFFFABRRRQAUUUUAFFFFABRRRQAUUUUAFFFFABRRRQAUUUUAFFFFABRRRQAUUUUAFFFFABRRRQAUUUUAFFFFABRRRQAUUUUAFFFFABRRRQAUUUUAFFFFABRRRQAUUUUAFFFFABRRRQAUUUUAFFFFABRRRQAUUUUAFFFFABRRRQAUUUUAFFFFABRRRQAUUUUAFFFFABRRRQAUUUUAFFFFABRRRQAUUUUAFFFFABRRRQAUUUUAFFFFABRRRQAUUUUAFFFFABRRRQAUUUUAFFFFABRRRQAUUUUAFFFFABRRRQAUUUUAFFFFABRRRQAUUUUAFFFFABRRRQAUUUUAFFFFABRRRQAUUUUAFFFFABRRRQAUUUUAFFFFABRRRQAUUUUAFFFFABRRRQAUUUUAFFFFABRRRQAVa062S7v44JCwV85K9ehNVav6J/yGYPq3/oJrahFSqxT7ozqtqnJrszY/wCEatP+es35j/Cj/hGrT/nrN+Y/wrYor6f6nh/5UeB9arfzGP8A8I1af89ZvzH+FH/CNWn/AD1m/Mf4Vv2Vlc6jdpa2MDzzyZ2RoMlsDJ/QVHLFJBM8MyFJI2KurDBUg4INH1TDXtyoPrNe1+ZmJ/wjVp/z1m/Mf4Uf8I1af89ZvzH+FbFFH1PD/wAqD61W/mMf/hGrT/nrN+Y/wo/4Rq0/56zfmP8ACtiij6nh/wCVB9arfzGP/wAI1af89ZvzH+FH/CNWn/PWb8x/hWxRR9Tw/wDKg+tVv5jH/wCEatP+es35j/Cj/hGrT/nrN+Y/wrYoo+p4f+VB9arfzGP/AMI1af8APWb8x/hR/wAI1af89ZvzH+FbFFH1PD/yoPrVb+Yx/wDhGrT/AJ6zfmP8KP8AhGrT/nrN+Y/wrYoo+p4f+VB9arfzHJ6xpsWnGHyWdvM3Z3kdsf41mVv+KPvW30b+lYFfO4yEYV5RirLT8j2sLKU6KlLf/ghRRRXIdIUUUUAFFFFABRRRQAUUUUAFFFFABRRRQAUUUUAFFFFABRRRQAUUUUAFFFFABRRRQAUUUUAFFFFABRRRQAUUUUAFFFFABRRRQAUUUUAFFFFABRRRQAUUUUAFFFFABRRRQAUUUUAFFFFABRRRQAUUUUAFFFFABRRRQAUUUUAFFFFABRRRQAUUUUAFFFFABRRRQAUUUUAFFFFABRRRQAUUUUAFFFFABRRRQAUUUUAFFFFABRRRQAUUUUAFFFFABRRRQAUUUUAFFFFABRRRQAUUUUAFFFFABRRRQAUUUUAFFFFABRRRQAUUUUAFFFFABRRRQAUUUUAFFFFABRRRQAUUUUAFFFFABV/RP+QzB9W/9BNUKv6J/wAhmD6t/wCgmt8P/Gh6r8zKt/Cl6M7CiiivsT5g9G+GF14dGq2NvLp9wdcLyeXdBz5YG1j03f3cj7tYvjy68Pz6tKmh2NxbXUdzKLySViVkbd1Ubj3z6da5VHaNw8bMjDoVOCKQkkkk5J6k1yrDpVva8z9L/wBaeR0+3/dezsv6/rc6XTp7jTvA9xf6Q8kF216Ibi4hJEkcW0FRuHKgtnpjOAPam/YrW+0a21HU7i8uNR1C6e3Esk42JtCgO5KknG4cZHHcY5xLLUb3TZGk068uLR2G1mglZCR6ZBpLm/vL3/j8u57j5i/72Qt8xxk89zgc+1X7N8zf/D+hHOuVL+vU6u88K6MmqjTrG9kku4JitxFI7rmNVJdyxhAjwBnA8zOeM92T+G9FhzdCW6ls/wCzWvFWKXJZhMI8BnjU4Oeuzjrz3586/rDLCG1W+IgIaEG5f92QMArzxwSOKjuNW1G7dnu7+6nZ08tjJMzFlznacnpkA49RWapVdLy/r+vuNFUpdY/1f/h156fPR0DSbHVbq/lupXt7O0hM2zeS5G4KMssbHAzksE7dBnIuSaT4dg0++1COe7v7eGWGOJYJRH8zqSwLPHk4KnB2jPHA7c5a3lzY3AnsriW2mUECSFyjDPuOakudSvrzzPtd7cT+awaTzZWbeQMAnJ5IHArSVObldPTT+v8Ag3M4zilqu/5HV3PhvRrOOW3eK7mkOqpaRzicIVRlDDK7SD156ZI7dKjXw/oDXWrl5ruG10qRYHaabBlcuV3ZSJ9ijaRjBySORXNx6zqkTTGLUrtDOQZSs7DzCOm7nn8aZb6nf2l291a3tzBcSZ3zRysrtk5OWBycnms1Rq21l/Wn/B+8r2kP5f61/wCB9x1Vp4c8NvG9y+oSz2P2mSMXH2lLbYiorD5JELSNlsfKB9OagXwvZPoFzcSNJBfR2X25IvP8z92XG3cBEFGVP9/Pfb2DNN8bS2VvB5y30lzDM0ryw3xjF0SQR5w2EyYxjqOOKxJNb1OS2a1N/cratn/RlmYRAHsEzgDnpURp129/xLc6SS0/r+vMoUUUV3HIc/4o+9bfRv6VgVv+KPvW30b+lYFfK4//AHmXy/JH0OD/AIEf66hRRRXCdYUUUUAFFFFABRRRQAUUUUAFFFFABRRRQAUUUUAFFFFABRRRQAUUUUAFFFFABRRRQAUUUUAFFFFABRRRQAUUUUAFFFFABRRRQAUUUUAFFFFABRRRQAUUUUAFFFFABRRRQAUUUUAFFFFABRRRQAUUUUAFFFFABRRRQAUUUUAFFFFABRRRQAUUUUAFFFFABRRRQAUUUUAFFFFABRRRQAUUUUAFFFFABRRRQAUUUUAFFFFABRRRQAUUUUAFFFFABRRRQAUUUUAFFFFABRRRQAUUUUAFFFFABRRRQAUUUUAFFFFABRRRQAUUUUAFFFFABRRRQAUUUUAFFFFABRRRQAUUUUAFFFFABV3SJEi1aF5WVFGcsxwBwapUVdOfJNS7EzjzRce52/8AaFn/AM/UP/fwUf2hZ/8AP1D/AN/BXEUV6v8AatT+VHnf2fD+Y7f+0LP/AJ+of+/go/tCz/5+of8Av4K4iij+1an8qD+z4fzHb/2hZ/8AP1D/AN/BR/aFn/z9Q/8AfwVxFFH9q1P5UH9nw/mO3/tCz/5+of8Av4KP7Qs/+fqH/v4K4iij+1an8qD+z4fzHb/2hZ/8/UP/AH8FH9oWf/P1D/38FcRRR/atT+VB/Z8P5jt/7Qs/+fqH/v4KP7Qs/wDn6h/7+CuIoo/tWp/Kg/s+H8x2/wDaFn/z9Q/9/BR/aFn/AM/UP/fwVxFFH9q1P5UH9nw/mO3/ALQs/wDn6h/7+Cj+0LP/AJ+of+/griKKP7VqfyoP7Ph/MbfiK4hnNv5EqSbd2djA46ViUUV5teq61R1H1O6lTVKCgugUUUViahRRRQAUUUUAFFFFABRRRQAUUUUAFFFFABRRRQAUUUUAFFFFABRRRQAUUUUAFFFFABRRRQAUUUUAFFFFABRRRQAUUUUAFFFFABRRRQAUUUUAFFFFABRRRQAUUUUAFFFFABRRRQAUUUUAFFFFABRRRQAUUUUAFFFFABRRRQAUUUUAFFFFABRRRQAUUUUAFFFFABRRRQAUUUUAFFFFABRRRQAUUUUAFFFFABRRRQAUUUUAFFFFABRRRQAUUUUAFFFFABRRRQAUUUUAFFFFABRRRQAUUUUAFFFFABRRRQAUUUUAFFFFABRRRQAUUUUAFFFFABRRRQAUUUUAFFFFABRRRQAUUUUAFX9H0a+17UVsdKhE1wylghkVMgcnliB+tUKKBHY/8Kp8Zbd39kptJxn7bBj/ANDrmdS0260jUprDUIxFcwkCRA6vg4z1UkHr2Nddf/8AJDdK/wCwxL/6AazdO0ixn+Gus6rLBuvba8gjil3sNqtnIxnB/EVLdr+Vvxt/mCadvO/4X/yOYqa0tJr+9gtLRPMnnkWONMgbmY4AyeBya6XS9GsLn4Za7q00G6+tLmCOGXew2Kx+YYzg/iKzPCP/ACOui/8AX/B/6MFaRV58voK/u3XmbDfCrxipIbSowR1BvYOP/H65BlKsVbqDg16J4v8ABaXPizWLs+KPDsJkupZPIlvWEi/MTtI2cN2xmq+k6b4asfhnF4h1rS5L+6/tFrZIluXiEo25AYjoByeBknHOKzi7q5pJJS5UcFRXc6rZ+GrjwvpfifTdIeyhXUvsd7p/2l5FkAXfkOfmGV4/H2p2oeCIW+K1romnKf7MvnjuICGJ/wBGYbicnngBhk+lV1s/66/kS9rmD4e8OJrFtqF9f339nadYRb5bgxeZuc/djVcjLHnv2rDrvL/R/D914W8WarpViIlstQihsWEztsjLbSeW53YzznGadqFl4Z8FWmnWmsaDJrepXdql3cM948CQh+iKE69OSf8A9SvfX0/FXDy9fwdjgKK9ITwToMvjbRMTSR6JrNr9rt4JZQr7sH9wX+uBnrzjrzWT4uTT9Pt3sZPA0+gX5YGOd76WRSAecBhhh7g0X/r8AONooopgFFFFABRRRQAUUUUAFFFFABRRRQAUUUUAFFFFABRRRQAUUUUAFFFFABRRRQAUUUUAFFFFABRRRQAUUUUAFFFFABRRRQAUUUUAFFFFABRRRQAUUUUAFFFFABRRRQAUUUUAFFFFABRRRQAUUUUAFFFFABRRRQAUUUUAFFFFABRRRQAUUUUAFFFFABRRRQAUUUUAFFFFABRRRQAUUUUAFFFFABRRRQAUUUUAFFFFABRRRQAUUUUAFFFFABRRRQAUUUUAFFFFABRRRQAUUUUAFFFFABRRRQAUUUUAFFFFABRRRQAUUUUAFFFFABRRRQAUUUUAFFFFABRRRQAUUUUAFFFFABRRRQAUUUUAFFFFABRRRQAUUUUAdXd6zYS/Cqw0dJ838OpPO8OxuEKEA5xjr2zmpvCmqaNJ4V1jw7r18+mpeyRTw3ghaVVZD90qvPIrjqKN736/pb/ISVreX63/AMz0C51DwvpPw21bQNJ1iTUb25uIZhMbV4lkAYfKoPTaBnnGc8VyPh27hsPFGl3d2/lwQXcUkj4J2qrgk4HJ4FZtFOOkuYHqrHf69pvg7WfEF/qa+OI4Rd3DzCM6VOdu4k4zjmsu51jT2+FVtosdxuvo9Wa4aLYw/d+WVDZxjr2zmuUoqUrKxTfM7vc6VtWsj8Lk0gTf6cNYNyYtjf6vydu7OMdeMZzXTab430q38BLJNMw8SWVlLptqvlt80TsuH3YwNq7gOa80opy969+v+VvyEtGn2/4c6vS9ZsLb4Za7pM0+2+u7mCSGLYx3qp+Y5xgfia07+98NeNbPTrvWddfRNTtLVLS4V7N50nCfddSnQ4PIP/1zwNFG/wDXlYSVv67u52uvarofiPWdM0tNQl07RNLtPs0N5LbmVpCOS5ReRuP5enarupa7pdj4AvtDHiSXxJJcvH9lR7WRFs9pyWDSc8jjA/rXntFK2lv63uUnZ3CiiimIKKKKACiiigAooooAKKKKACiiigAooooAKKKKACiiigAooooAKKKKACiiigAooooAKKKKACiiigAooooAKKKKACiiigAooooAKKKKACiiigAooooAKKKKACiiigAooooAKKKKACiiigAooooAKKKKACiiigAooooAKKKKACiiigAooooAKKKKACiiigAooooAKKKKACiiigAooooAKKKKACiiigAooooAKKKKACiiigAooooAKKKKACiiigAooooAKKKKACiiigAooooAKKKKACiiigAooooAKKKKACiiigAooooAKKKKACiiigAooooAKKKKACiiigAooooAKKKKACiiigAooooAKKKKACiiigAooooAKKKKACiiigAooooAKKKKACiiigAooooAKKKKACiiigAooooAKKKKACiiigAooooAKKKKACiiigAooooAKKKKACiiigAooooAKKKKACiiigAooooAKKKKACiiigAooooAKKKKACiiigAooooAKKKKACiiigAooooAKKKKACiiigAooooAKKKKACiiigAooooAKKKKACiiigAooooAKKKKACiiigAooooAKKKKACiiigAooooAKKKKACiiigAooooAKKKKACiiigAooooAKKKKACiiigAooooAKKKKACiiigAooooAKKKKACiiigAooooAKKKKACiiigAooooAKKKKACiiigAooooAKKKKACiiigAooooAKKKKACiiigAooooAKKKKACiiigAooooAK1fDGmQ614p03TbppEhurhYnaMgMAT2yCM/hWVWr4Y1SHRfFOm6ldLI8NrcLK6xgFiAe2SBn8aqNuZXJlfldjrPEngSyh1i20bw1pviFb6a7aBZtUjRLeVVByyMAMjjOfSs27+GuswyWa2Nxp+qLdXRtBJY3G9Y5QCSrEgY4BP4VPF8RLuH4jJr8k15eWEN3LLDaXExPlxvkYUZIUhW7ccVu3nxRsota06/sLvXr5Le7M0lrqPkiNUKsuE2c5AY4yaiN7K5pK13b+t/+AUPD3w+tbfx/pela5f6Vq0Nw8yTW9jdszRskbHD4Clecd+xrH1zwBf6LawXz3+mXFncXX2UzW1yXWCT+7IccYwc4z0rVsvFPhDRvH1l4g0mDWjGJZ5btLhYiRvUhRGA3QFjnJ6U3QvHWk6Z4bsNPvrGe6e31n7fIpRSjR7SMcn7wJzjGOOtCu7X+f3/5A7JO39aP/gGNrfge80bQxq8epaXqdl5/kPLp1wZRG+M4b5RXM16V4y+Iml+IPC95pdmdWmknvFuUkvhHtjXvGoU/Ko4x1zzmvNaUW9b/ANaCdtLBRRRVCCiiigAooooAKKKKACiiigAooooAKKKKACiiigAooooAKKKKACiiigAooooAKKKKACiiigAooooAKKKKACiiigAooooAKKKKACiiigAooooAKKKKACiiigAooooAKKKKACiiigAooooAKKKKACiiigAooooAKKKKACiiigAooooAKKKKACiiigDpfAPh208VeL7fStRknjgkjkZmt2Af5VJGMgjt6V0+rfC+1nt9Hfw6+oWU2pXL232bXEEbqVVm3/IvC4X0PUVzHgLxFa+FvF0Gq38c0kMccilYFBbLKQOpA7+tGi+M76y8Zadrer3N3qS2cpO2ednYIQQQpY8cGh6tJf1qJaJv+thE8D6k+l6hfie18qwvxYSgu25pCwXI+X7uSOuD7Vpap8K9a0qy1CeS+0q4k05PNuba3uS0qJ/eKlRgY55wcdq1dQ8c+F18P6jp+jW2rB77Uk1B3ulj6+YGZRtbgYXjr15qO6+IWlT6z4yu1t7wR67ZiC2BRMowj25f5uBn0zU+9b+uy/W4/teX/Bf6WINU+GH2a30JbHW9Plu9USPMUkx+ZnPDRgLygHU1hS+CdShsteuWntSmhTiC5AdsuxbblPl5GfXFdBJ450KSz8M3htdQ/tfQUhiCDZ9nkVGG7nO7JAOOOpq3qnjzwq2k+IINKsdUafWriO5l+1iPZuEgYrwxwuM+p5p9/V/mrfhcatpfy/W/6HNz+AbxfD9xq9nq2kajFaxrLcQ2d0XkiVu7DaAPfnsaXUfAV7omkpfatqOlQSmJJv7Oe6IuWVjgfIF/r6+ldfrvxT0TUNG1ezso9XAv7QQw28qxCC1YYwEVTnB5yTzwOKwPF/inwz4rgXU5LbVINdFvHFsUx/ZsqeTn73TPp2oi3zrtp+oJL+vl/wAEu3PgDzPHd9H9gsNP0nTFhku0k1NxAAyghfOZN2W/3eOmehqnefDbVb3xPqFpbRaZpsVvbrdri6doDATgMsjZJHUknHQ+wrUvviPoOr6l4ht9StNRGj6wkBDQBBPG8aqOhYrgkev8+Ir34k6VcyatFBZ3kVrLog0qy3bWfjOGk5wOvbNLW39dv8we33fp+lzkvE3hK+8LNZtd3FpdwX0Rlt7izlMkcgHXBIHqO3esGup8UeJrPW/DXhvTrWKdJtKtninaRQFYnb93BOR8p64rlqaEFFFFMAqeytTe38FqskcRnkWMSTNtRMnGWPYDuagrtvhZplpqHiqWS4iW6urK2a5srNpAguJ1IKrk/n/9YGmt9RMg8O+Co7/xtdaRql5G1lp8ck15dWUgZQiL1ViMdSByPWrOpfDid/Hx0DQbhHhmthd2k10+PMiK55KrjOQR0xxW1L4lvPA766/iLSYpfEmtssphlVJbZYSTlW2vnn5vl9lya3PB3jLT/FvibQy9h9k1OxtLmKVLeIJbmLb8oT5iRjA4xgZNRra/Zfo/+B+I5aP1f6r/AIP4HBXHw01aG40tIb3TLuHVJzbw3NrcGSJJB/Cx2+x6A9DTj8MNXGrf2eL/AEkyxwvNdMLvK2SrjPmnHy5zwOe/pWtF478OaVH4fsNEs9S/s/TdQN9O91sMrMQRtUA4Iw3fHQVm6J400+y8SeI5NQtrmTSteEySiHaJo1diVIycZw2MZ/lT1/P8v8xdfu/N/oaXhn4cCHxvZaf4hW11KwvrSWe3mtLhjFLtXqGG08Ej865/VfAN/pMenTzajpc1nfzeQl7Bc7oYnzyHbHGOeRkcGuos/iVoWm61oiWVlqB0nR7OaBPN2GeVpAOSAdoHHY9+lR2nj/wvo66DYaXpmoT6bp95Jdz/AG0RtIXZGUbQDg43Z5x90fWjr/Xd/oCvZ/10X6mFP8NtWR9N+w32malFqNwbaKeyuS8ayAZIYlRjgE8Z6Ve074YmTxlZ6Jf69pbmVn85bO4LSR7MZXayjDHPGfQntWlrvxF0XWLPT7Qz+ICLbUvtb3bNEs4XYw+Qg4UgkYHTA61LefFDR38SeHtQitr+8bTGk+0Xd3HEk8qspULhPlOM55x+uaFf+vT/ADG+pzf/AAru6m1DUUttX0n7BYbfN1CS5IhQsSFQttzv45GOK0NG8B6dF4ik8P8AieLVpdSLK0TaU0RgEBA/es7j7v4D86u6N8QtA0KbVrPTjrkGn6gy3C3KeV9phmydwAztKkYHPPX14xb3xVp1/rerXN1f+IJ4p7A21rI0qJIzY+7KFIBTOeOePWpV7f1/W5WjZzevWVpp2v3tnp12L21hmZIrgfxqO/HB+o4NZ9FFUlZWE9WFFFFMQUUUUAFFFFABRRRQAUUUUAFFFFABRRRQAUUUUAFFFFABRRRQAUUUUAFFFFABRRRQAUUUUAFFFFABRRRQAUUUUAFFFFABRRRQAUUUUAFFFFABRRRQAUUUUAFFFOXaWG8kL3IGaAG0VLtt/wDnpJ/37H/xVG23/wCekn/fsf8AxVAEVFS7bf8A56Sf9+x/8VRtt/8AnpJ/37H/AMVQBFRUu23/AOekn/fsf/FUbbf/AJ6Sf9+x/wDFUARUVLtt/wDnpJ/37H/xVG23/wCekn/fsf8AxVAEVFS7bf8A56Sf9+x/8VRtt/8AnpJ/37H/AMVQBFRUu23/AOekn/fsf/FUbbf/AJ6Sf9+x/wDFUARUVLtt/wDnpJ/37H/xVG23/wCekn/fsf8AxVAEVFS7bf8A56Sf9+x/8VRtt/8AnpJ/37H/AMVQBFRUu23/AOekn/fsf/FUbbf/AJ6Sf9+x/wDFUARUVLtt/wDnpJ/37H/xVG23/wCekn/fsf8AxVAEVFS7bf8A56Sf9+x/8VRtt/8AnpJ/37H/AMVQBFRUu23/AOekn/fsf/FUbbf/AJ6Sf9+x/wDFUARUVLtt/wDnpJ/37H/xVG23/wCekn/fsf8AxVAEVFS7bf8A56Sf9+x/8VRtt/8AnpJ/37H/AMVQBFRUu23/AOekn/fsf/FUbbf/AJ6Sf9+x/wDFUARUVLtt/wDnpJ/37H/xVG23/wCekn/fsf8AxVAEVFS7bf8A56Sf9+x/8VRtt/8AnpJ/37H/AMVQBFRUu23/AOekn/fsf/FUbbf/AJ6Sf9+x/wDFUARUVLtt/wDnpJ/37H/xVG23/wCekn/fsf8AxVAEVFS7bf8A56Sf9+x/8VRtt/8AnpJ/37H/AMVQBFRUu23/AOekn/fsf/FUbbf/AJ6Sf9+x/wDFUARUVLtt/wDnpJ/37H/xVG23/wCekn/fsf8AxVAEVFS7bf8A56Sf9+x/8VRtt/8AnpJ/37H/AMVQBFRUu23/AOekn/fsf/FUbbf/AJ6Sf9+x/wDFUARUVLtt/wDnpJ/37H/xVG23/wCekn/fsf8AxVAEVFS7bf8A56Sf9+x/8VRtt/8AnpJ/37H/AMVQBFRUu23/AOekn/fsf/FUbbf/AJ6Sf9+x/wDFUARUVLtt/wDnpJ/37H/xVG23/wCekn/fsf8AxVAEVFS7bf8A56Sf9+x/8VRtt/8AnpJ/37H/AMVQBFRUu23/AOekn/fsf/FUbbf/AJ6Sf9+x/wDFUARUVLtt/wDnpJ/37H/xVG23/wCekn/fsf8AxVAEVFS7bf8A56Sf9+x/8VRtt/8AnpJ/37H/AMVQBFRUu23/AOekn/fsf/FUbbf/AJ6Sf9+x/wDFUARUVLtt/wDnpJ/37H/xVG23/wCekn/fsf8AxVAEVFS7bf8A56Sf9+x/8VRtt/8AnpJ/37H/AMVQBFRUu23/AOekn/fsf/FUbbf/AJ6Sf9+x/wDFUARUVLtt/wDnpJ/37H/xVG23/wCekn/fsf8AxVAEVFS7bf8A56Sf9+x/8VRtt/8AnpJ/37H/AMVQBFRUu23/AOekn/fsf/FUbbf/AJ6Sf9+x/wDFUARUVLtt/wDnpJ/37H/xVG23/wCekn/fsf8AxVAEVFS7bf8A56Sf9+x/8VRtt/8AnpJ/37H/AMVQBFRUu23/AOekn/fsf/FUbbf/AJ6Sf9+x/wDFUARUVLtt/wDnpJ/37H/xVG23/wCekn/fsf8AxVAEVFS7bf8A56Sf9+x/8VRtt/8AnpJ/37H/AMVQBFRUu23/AOekn/fsf/FUbbf/AJ6Sf9+x/wDFUARUVLtt/wDnpJ/37H/xVG23/wCekn/fsf8AxVAEVFS7bf8A56Sf9+x/8VRtt/8AnpJ/37H/AMVQBFRUu23/AOekn/fsf/FUbbf/AJ6Sf9+x/wDFUARUVLtt/wDnpJ/37H/xVG23/wCekn/fsf8AxVAEVFS7bf8A56Sf9+x/8VRtt/8AnpJ/37H/AMVQBFRUu23/AOekn/fsf/FUbbf/AJ6Sf9+x/wDFUARUVLtt/wDnpJ/37H/xVG23/wCekn/fsf8AxVAEVFSMIQp2O5bsCgH9ajoAKKKKACiiigAooooAKKKKACiiigAooooAKKKKACiiigAooooAKKKKACiiigAooooAKKKKACiiigAooooAKKKKACiiigAooooAKKKKACiiigAooooAKKKKACiirFjY3Op30NnYQPPcTNtjjQZLGgCvRVu70u+sdUfTbu1ljvUk8swFctu7AAdc9sdafq2jahoV+bLV7SS1uAobY/cHoQRwaAKNFWLK1N9fRWwmhg8xsebPIERPcnsK218FXtxJYf2ZeWOoxX1w1tHNbu4VJFGSG3qpHHPTkdKAOcorZ1Tw5Jp2mR6jDf2eoWjztbmW0Z8JIBnaQ6qenIIBFRaN4e1HW7iMWdndSWxmWOW5it2dIckZLEcDAOeSKFrsD0MuitifwzqZ1jUbHTLK71EWFw8LyW9szfdYjJAzjOM1mwWlxdXS21rBLNOxIWKNCzEjrwOaNwIaK1/+ET8ReYqf2Bqm9l3Kv2OTJHr06c1XtND1bUJJo7DS725eA7ZVht3cxn0YAcdO9AFCir9toWrXm/7Jpd7PsZlfyrd22suNwOBwRkZ9M0648P6zaWP2y60m+gtcA+fJbOqYPT5iMc5FAGdRV680XVNOt459Q028tYZDhJJ4GRX4zwSMGmWGlajqruml2F1etGMuLeFpCo9TtBxQBUore1Twnf2fiB9J06G51KZIY5mEFuxYBkVvujJ43YzWQ9pPFe/ZLiM28wfYyTjYUP8AtZ6fjQHS5BRXQXPhG5Sye50/ULDVFinS3lWykdjG78L95VBBPGVyM07UPBl5YW88q3+n3RtJ0gu0gmbNs7HA3llAxnjIJANAHO0Vu3vhWa20ya+tNRsNSit5lhnFm7sY2bO37yrkEjGVyM1Hr3he/wDDcVk2pNBuu0ZhHFJuaMqcFW4wDnsCaV1/X3gY1FbWjeFtQ1yxvLy1MMVvZxu7vM+3eVUsUUYJLbQT6epFQ+HvD974m1iPTtNCCVwWLykhI1HdiAcDoPqRVdbB0uZdFaKaHdtd+U4WGD7SbU3kuVgWQdQXIwOOfXHatL/hC7yeO1k0q9sdTjubv7GHtncBJcbsNvVTjAJyMjiktVdA9NznKK2dU8Ny6dpwvob+y1G1E5t5JLN2PlyYyAQyqeQDgjIOOtS6f4Wa90u1v59W06wju5nghW6aUFmXGeVRgB8w5JFC12AwaK6RvBV1bwXMuq6jYaattemxb7QZTmQLu42I3GO5xUcvhKa11ZLC+1OwtTMiPbTsZZIrlWOAUaNG4z64oWuwPTc5+itTXdEGhXr2b6lZ3lxFI0c0dsJf3TKcEEuig8+melZdF7jaa3CiiigQUUUUAFFFFABRRRQAUUUUAFFFFABRRRQAUUUUAFFFFABRRRQAUUUUAFFFFABRRRQAUUUUAFFFFABRRRQAUUUUAFFFFABRRRQAUUUUAFFFFABRRRQAUUUUAFFFFABRRRQAUUUUAFFTWlpPf3kNpaRmWeZwkaD+InoKu69oVx4e1JbK7mt5naJJQ9s+9CGGRg4Gfw4oAzKK6e28A6tdapcWCyWiSW0KyTPJKQqMybxH0yXwDwAeh54zXMUrq9gCiiimAUUUUAFFFFABRRRQAUUUUAFFbtl4Xe50u3v7zVNP02G6kaO3+1vJmXbwxGxGwATjLYqndabHaaPbXbXEjTXMjhIxbsIyinG4SHAbJ7AHHcg8UAZ1FFFABRRRQAUUUUAFFFFABRRRQAUUUUAFFFFABRRRQAUUUUAFFFFABRRRQAUUUUAFFFFABRRRQAUUUUAFFFFABRRRQAUUUUAFFFFABRRRQAUUUUAFFFFABRRRQAUUUUAFFFFABRRRQAVYsb6502+hvLCZ4LiFt0ciHBU1XooA9ntPih4audMj8Qaxpkb+KLKMwxIqH96T/EG6AdevIycdefKdd12/8R6vLqOqzGWeQ8DoqL2VR2ArOootrcd3axd0jTxqmrW9k93b2aythri5kCRxjqSSf8k13SNZ2XiDRbM3Fpa6BYXBKSR6nC8ksxU4lk8pyyglVGeijjNecUUCO78Zam+o+GLf+2LjTm1RL1zFFptwkkZhIJZmWNigO7GD94jr0qXR547rR/CjWmrWdn/ZV5I95HPdrCy5kDbwpIL5XjjJ7V5/RQtAeqsepSataXMF0ulNo891ba7c3OL6+a3Vgz/JKjLKivgAjqTjp1557w1qij4tRalqU9pb5u5pJZY5AsKkhuVYn7uTwc1x1FK39fd/kHS39df8zrRrUh+G/ktqLfa21vz2j8794R5ed+M5xu7+tdPd/wBi3Ov6pqFtc6Xczvq4ZjdakYokhVQwlQI6mQ7iw43fTmvK6KrZ3/rp/kD1Vn/W/wDmegeMNYt5dB1a3sNQicXHiKeYxwzA+ZHsG1sA8rnv0yKUi38OafpFrb3Wn3NklzDe6tLDfQu8zBhiMRhtxVB2xyST2rz6ilH3Xf0/BJfpccnzNt+f4noGqzJZ6d4rlvNYs75NVmQ2ccF0szSHzQ4kKgkphAR82D2rN0Yrf+AbnS7O/tbS+GpR3DLcXK24li2FRhmIB2tzjPuK5GiklZW/rQT1/rues6jq+n3l54htYLrS766uEsnV7u7aKG6CRAMokV0wwY5wW/UccN4lubrW/Fai8fTY53WKEyWtxugGFABMhZs4GMnJ6Vz9FPrcd9LHoc5h8MLp9tplxYXGnWl5Dd391HqFvJJeOrDG2NXLbFycDGe5pt3Ba2lr4lUatp051y7ijs9l2jDaZvMMkgB/dgDjLYwc159RSt1f9bf5CO18RWi6R4dOk6Nc2E9krrNeXceo27yXcg4G2NXLBFycDGepNZWs3MEvg/w5DFNG8sKXPmxq4LJmXIyO2RzzXP0UuW7uPpY3/B9zBbanetczRwq2nXSKZGCgsYmAAz3J4ArZ8G6zodjBp1nLd3djdS6hFNeTfZ0aOREcFELmRSiD7xO08/SuHoq07NP+t7k9Lf1tY6e/sf7QurhdP122+wTak4jgu7gRfPtJ80pkqF/hD5546Vuz61eaf4f00y3mkjWLbUlezisJYREqFSHMoiIiGSVGTg4zk4rzuipSskvT8Cm7u/r+J2/iG/tbbwWdO8nSLe9vL5bl4NKmMyxoqsMu+9xkluFBwAOgzUMGu2mm+BtHX7Hp2oXUV7cSeVdM7GHiPDbFdeDj+IEcVx1FNaX/AK/rYL7eV/xv/mduJ5/FHgm4WfULEajNrZuZRdXkUB2mLG4B2HGeOKg1q9soLvw1pNteQ3a6SoWe7jbMZdpd7BWPVVzjNcfRQtGrdHf7lYmS5otPrf8AE2PFs8Vz4y1ie3lSWKS8lZJI2DKwLHBBHUVj0UUkrKxUnzNsKKKKYgooooAKKKKACiiigAooooAKKKKACiiigAooooAKKKKACiiigAooooAKKKKACiiigAooooAKKKKACiiigAooooAKKKKACiiigAooooAKKKKACiiigAooooAKKKKACiiigAooooAK7d5NMvPF+hzXl3bmytNMtpLg+auCYotxj6/eJG3b15riKKP6/P8AzA6jw1q/2n4hLqmqTxxGdriSSSRwqgtG/GT7nArl6KKlRSeg229woooqhBRRRQAUUUUAFFFFABRRRQB3HhRpm0+0tdVm0O60KWVmlgvruJZbUZw7INwkViBkbcg8cVQ8U3FhJ4e0G30y5WaO3F0oXcC6KZ2Kbh2JXB5rlqKTV2mC0VgooopgFFFFABRRRQAUUUUAFFFFABRRRQAUUUUAFFFFABRRRQAUUUUAFFFFABRRRQAUUUUAFFFFABRRRQAUUUUAFFFFABRRRQAUUUUAFFFFABRRRQAUUUUAFFFFABRRRQAUUUUAFFFFABRRRQAU5VLsFGMn1IH86bRQBL9nf+9H/wB/V/xo+zv/AHo/+/q/41FRQBL9nf8AvR/9/V/xo+zv/ej/AO/q/wCNRUUAS/Z3/vR/9/V/xo+zv/ej/wC/q/41FRQBL9nf+9H/AN/V/wAaPs7/AN6P/v6v+NRUUAS/Z3/vR/8Af1f8aPs7/wB6P/v6v+NRUUAS/Z3/AL0f/f1f8aPs7/3o/wDv6v8AjUVFAEv2d/70f/f1f8aPs7/3o/8Av6v+NRUUAS/Z3/vR/wDf1f8AGj7O/wDej/7+r/jUVFAEv2d/70f/AH9X/Gj7O/8Aej/7+r/jUVFAEv2d/wC9H/39X/Gj7O/96P8A7+r/AI1FRQBL9nf+9H/39X/Gj7O/96P/AL+r/jUVFAEv2d/70f8A39X/ABo+zv8A3o/+/q/41FRQBL9nf+9H/wB/V/xo+zv/AHo/+/q/41FRQBL9nf8AvR/9/V/xo+zv/ej/AO/q/wCNRUUAS/Z3/vR/9/V/xo+zv/ej/wC/q/41FRQBL9nf+9H/AN/V/wAaPs7/AN6P/v6v+NRUUAS/Z3/vR/8Af1f8aPs7/wB6P/v6v+NRUUAS/Z3/AL0f/f1f8aPs7/3o/wDv6v8AjUVFAEv2d/70f/f1f8aPs7/3o/8Av6v+NRUUAS/Z3/vR/wDf1f8AGj7O/wDej/7+r/jUVFAEv2d/70f/AH9X/Gj7O/8Aej/7+r/jUVFAEv2d/wC9H/39X/Gj7O/96P8A7+r/AI1FRQBL9nf+9H/39X/Gj7O/96P/AL+r/jUVFAEv2d/70f8A39X/ABo+zv8A3o/+/q/41FRQBL9nf+9H/wB/V/xo+zv/AHo/+/q/41FRQBL9nf8AvR/9/V/xo+zv/ej/AO/q/wCNRUUAS/Z3/vR/9/V/xo+zv/ej/wC/q/41FRQBL9nf+9H/AN/V/wAaPs7/AN6P/v6v+NRUUAS/Z3/vR/8Af1f8aPs7/wB6P/v6v+NRUUAS/Z3/AL0f/f1f8aPs7/3o/wDv6v8AjUVFAEv2d/70f/f1f8aPs7/3o/8Av6v+NRUUAS/Z3/vR/wDf1f8AGj7O/wDej/7+r/jUVFAEv2d/70f/AH9X/Gj7O/8Aej/7+r/jUVFAEv2d/wC9H/39X/Gj7O/96P8A7+r/AI1FRQBL9nf+9H/39X/Gj7O/96P/AL+r/jUVFAEv2d/70f8A39X/ABo+zv8A3o/+/q/41FRQBL9nf+9H/wB/V/xo+zv/AHo/+/q/41FRQBL9nf8AvR/9/V/xo+zv/ej/AO/q/wCNRUUAS/Z3/vR/9/V/xo+zv/ej/wC/q/41FRQBL9nf+9H/AN/V/wAaPs7/AN6P/v6v+NRUUAS/Z3/vR/8Af1f8aPs7/wB6P/v6v+NRUUAS/Z3/AL0f/f1f8aPs7/3o/wDv6v8AjUVFAEv2d/70f/f1f8aPs7/3o/8Av6v+NRUUAS/Z3/vR/wDf1f8AGj7O/wDej/7+r/jUVblt4J8V3lulxaeGdYnhkG5JIrCVlYeoIXBoAyPs7/3o/wDv6v8AjR9nf+9H/wB/V/xrc/4QDxl/0KWu/wDgtm/+Jo/4QDxl/wBClrv/AILZv/iaAMP7O/8Aej/7+r/jR9nf+9H/AN/V/wAa3P8AhAPGX/Qpa7/4LZv/AImj/hAPGX/Qpa7/AOC2b/4mgDD+zv8A3o/+/q/40fZ3/vR/9/V/xrc/4QDxl/0KWu/+C2b/AOJo/wCEA8Zf9Clrv/gtm/8AiaAMP7O/96P/AL+r/jR9nf8AvR/9/V/xrc/4QDxl/wBClrv/AILZv/iaP+EA8Zf9Clrv/gtm/wDiaAMP7O/96P8A7+r/AI0fZ3/vR/8Af1f8a3P+EA8Zf9Clrv8A4LZv/iaP+EA8Zf8AQpa7/wCC2b/4mgDD+zv/AHo/+/q/40fZ3/vR/wDf1f8AGtz/AIQDxl/0KWu/+C2b/wCJo/4QDxl/0KWu/wDgtm/+JoAw/s7/AN6P/v6v+NH2d/70f/f1f8a3P+EA8Zf9Clrv/gtm/wDiaP8AhAPGX/Qpa7/4LZv/AImgDCaFkUsSmB6SKf5Go66H/hAPGX/Qpa7/AOC2b/4mj/hAPGX/AEKWu/8Agtm/+JoA56iuh/4QDxl/0KWu/wDgtm/+Jo/4QDxl/wBClrv/AILZv/iaAOeorof+EA8Zf9Clrv8A4LZv/iaP+EA8Zf8AQpa7/wCC2b/4mgDnqK6H/hAPGX/Qpa7/AOC2b/4mj/hAPGX/AEKWu/8Agtm/+JoA56iuh/4QDxl/0KWu/wDgtm/+Jo/4QDxl/wBClrv/AILZv/iaAOeorof+EA8Zf9Clrn/gtm/+JrCngltp3guYnhljO145FKsp9CD0oAjooooAKKKKACiiigAooooAKKKKACiiigAooooAKKKKACiiigAooooAKKKKACiiigAooooAKKKKACiiigAooooAKKKKACiiigAooooAKkMEwt1nMTiFmKrIVO0kdRnpmo62rm6nuvCMAnkLCK7McY6BVEY4AFJ6IFvYx0RpJFSNSzscKqjJJ9KWSN4ZGjlRkdCVZWGCpHUEVejZtKvopLDUYZnYbS8CuCgPB5dRg+4qzqbyp4i1nyrVLjdJMH3x7/LXfy49CPX3o/4IGXbWlxezeVZwS3EhGdkSFmx9BSXFtPaTGG6hkglXqkiFWH4GrulX0drDdw3UEslpcqqStC210w2QQSCO3Q9a0rvS47PSNRIY3B2WssUkseJERt3BHO3sOvpQ3YaVzm6K677NDYmR3soDJHokcwWWIECQuvzEEcnnv9DT7aSG5vNFgksbHbqFuzXJW1QFjudQRgfJwoPy45pN/wBff/kCV1f+un+Zx1S29vLd3MdvboZJZGCqo7mtDQIY5Lm6keJZpILWSWGJ13BnGOo74GTj2rd0aT/TdHvzb28VzcGeNwtuiq6KvysFxgHJIyAM4+tNuwkrnMDTLx702kEJuZwM7LVhNkexQkGlutJ1GxiEt7p91bRk7Q80LICfTJFV55muJmlkCBmOSI41RfwVQAPwrpZ44rjxcbSZEYXNlHChYA7XMC7SPQ7sUa2Hpc5aiu1fTrGKAzLbwk6NE8d0CgPmSGMbS3r+8LDn0FVkghOpRaX9jg+wPYiVpvJXf/qt5k8zG7hu2ccYxS5gSOZtbS5vZvKsreW4kxnZEhc49cCpJdNvbe6jtri0nhnkICRyxlWbJwMA1d0D/mJ/9g+X+laOiRtJo9umooXgfUoBarKMhuT5mAf4cbc9s4p9fu/Owun9djmXRo5GSQFWUkMD2NSrZ3LRxSJBIyzFhGVXO4r1x9M12OlWSeUtzb2MU0MN5Mt1GbD7Q0igghVwjBODjkrz61BojCOXSZ44IVmn+2Bz5Cc4XIGMcY9vcdDUqWlynHU46iuk0q4i1GH7JCtpDqU0jHMtjG8cwIGFB2/u8YPQY55IrnOlUSJRRRTAKKKKACiiigAooooAKKKKACiiigAooooAKKKKACiiigAooooAKKKKACiiigAooooAKKKKACiiigAooooAKKKKACiiigAooooAKKKKACiiigAooooAKKKKACiiigAooooAKKKKACiiigAooooAKKKKACiiigAqSaCa3kCXETxOQGCupU4PIPNEMz286TREB42DKSAcEex4rdvoH1bxFp8dxKxM1rA00rHJC+WCzE/QE0B3MVbO6eYRJbTNIU8wIIySVxndj0xzn0qCul0vV57rxTM8TGKG635Qf3FRtq59AMcew9K5qkncbQUUUUxG54Jtobz4geHra6jWWGbVLaORGGQymVQQfwNdV4s8R+Lb7xXfGwNzOiFdxjtvNwSobrg469PSua+H/wDyUvwz/wBhe0/9HLWn8QTe/wBsWnl+b5Hljy9mceZk56fxYx74xXNKjTrYiMaseZcsnbfW8V+pp7SdOk3B2baX4Sf6GU3jLxCjFXvirKcEGCMEH/vmk/4TTX/+f/8A8gx//E1q36BGv72SCKfUreytvNWWMOEdsB2KngkDHXoTWRdRNd+HYbj7LGtzJfMhMUITqi7VwBx3IH1rrqZRhoXtCLt/dX83Kc8Mwqyt7z+/yv8AcWE8U+JpLWS5S83RRuqMwij4Zs4GMZ7GopPGPiKKRo5b1kdCVZWgQFSOoI21sXKLY32pJBFHGsepWgCCNdo+V88YxVS63ya5rN9cGCOK2uDB8thHKxLO2PkOFJ4OWPNazybCR0UFf/Cu3yM45jWk78ztp1fW3+ZR/wCE01//AJ//APyDH/8AE0f8Jpr/APz/AP8A5Bj/APia1NTittMOsyw2NuZI2tfKEsC4jLxksdhyB3+XkflWP4e8p7y/mubeG48uzllVJEG3cMEcDp+FYzynCwqezcI31+yun/DGkcfVlBzTdtOvdJ/qSf8ACaa//wA//wD5Bj/+Jo/4TTX/APn/AP8AyDH/APE1csZbOPRU1K7iQyTXTJKY9OilUBVXCbSVCZyTkDJ/Dks3sL15LDSYorW5aeUxreWiy+ap+6pY7ihUAjjj1NV/ZGF0XLG7W1l1tb8/w0uL+0K2ur083/X9dCn/AMJpr/8Az/8A/kGP/wCJqx/wkvinyIJhcsyXG7ytsMZLbfvcAZ4qWz0+KfX/AA4i2sbxzWyNKvlgq+GfcW9eBzmrOiSvFa6L5aoxaK9GGjDds8ZB9P6VcMmwrvzQj1+yunL/AJkzzGsl7sn977S/yMn/AITTX/8An/8A/IMf/wATTo/GHiKWVI477LuwVR5MfJP/AAGr+g26zT6eb5YJBqUzEQx6dG+VB2nLcbBwT8vTrUNmgsbXSPslpDM11dOszyQrIx2uAFBIyvHPGDzSjk2Gbi5QjZ/3V/d/+SQ5ZjVTaUnf1fn/AJMrz+LfEdtcyQT3u2WJyjr5UZwQcEcCmf8ACaa//wA//wD5Bj/+Jq/qZ+xNc3NpaQXM0+qzxytNAsuMEbUAYHGck5HPFUpNNsh48XT8BbU3Soybvu5xlM+xJFQ8ow/MoqEdWl8K66rp95UcwqtXcns3v23/AOAPTxV4mktJblLzMMLKrt5UfBbOOMZ7GmR+MPEUsqRx32XdgqjyY+Sf+A1bE0l5oOoJeWsNoi30MZMUCxbRlsqcAZx6nn3qxqDaZb6lNYLbOJobqMW+2xSIRAOBkyByzgr3YcnB4rSOT4SVnyRs7dF6/wBbkf2hXTcbu/q/L/MzZ/FviO2uZIJ73bLE5R18qM4IOCOBTP8AhNNf/wCf/wD8gx//ABNOFtBefEKW3u+YZNQdWGcZ+c8fj0otWuL+9mmuYLS0jsY5JHVbBDtGQNuzA3EEj7x47msY5VhpK/s47v7K6av8zV46st5PZPd9SS38U+Jrvzfs95v8qNpX/dRjCjqeRU0WveLZrgwrchWEQmJkSFFVCAQxZgAByO/erUsMMVzJJDHs8/QpJH/cLDuOWGdikgZAHSmNN9gstTFrDbqP7OtJMNbowLHy8kgg56k/XnrXT/Y2DivfprS/RdpPt/dMP7RxEnaMn06vul+pSuvFPiazlEdzebGZQ6/uoyGU9CCBgiof+E01/wD5/wD/AMgx/wDxNaEltBbafJeQWkD3EOm2zqrRKygscPIVIwT05OetV9JRmC3t2kCi7uhCsSabHKWIAJG04CAhh05rP+x8M58qpx/8BXe2+nUtZhV5eZyf3vtfz6FceNPEBOBf/wDkGP8A+JqW68V+JbK6ktrm82SxttdfKjOD9QKs30MelLKdPsoJS+qTQN5kIl2qpGyMZBxnJ5HPHWptbxaS6tewW0Mtz/aPksZoVlEabcjhgQMnjPtSeT4WMdYRv/hXZP8AUP7RrOSs3Z+fnYzY/G+vxyq/27O0g48pBn8hmug+LzmfXdGu5fmuLnSUaaQ9ZGWeaMEnudqKM+1Z15FbabDq00Vjb+cptiqSxhxbu6EuADkdc8Hjp6Vf+LH/ACEPD/8A2CP/AG7uK5KuEp4TFxhBJXjK9lZaONvXqdNPESxFGUpX0a3803/kcDRRRW5AUUUUAFFFFABRRRQAUUUUAFFFFABRRRQAUUUUAFFFFABRRRQAUUUUAFFFFABRRRQAUUUUAFFFFABRRRQAUUUUAFFFFABRRRQAU/zZPJ8re3l7t2zPGemcetMooAUEg5HBqUXdwJJZBPKHmBErbzmQHqCe+feoaKALFpf3lgzNY3c9szDDGGQpn64p0WpX0N091De3Edw/35UlYO31OcmqtFAE7313IztJczOXTYxaQncuc4PqM84pFu7hHiZJ5VaEYiIcgoMk4HpyT09ahooAfFLJBKssEjRyIcq6MQVPqCKmk1C9muxdS3c73AGBM0rFwPrnNVqKACpTczm4WczSGZMbZN53Ljpg9eMDH0qKigCb7XcFZlM8uJzmYbz+8Oc5b1555p41C9Fl9jF3OLU9YPNOz1+7nFVqKAJrW7ubKbzbK4lt5MY3xOUOPTIp82oXtzcpcXF3PLOmNsskpZlx0wSciq1FAGxFrNs0Np9ttJpprPPlulzsVssWyw2kk5PUEZqlNqV3Nd/aDPIjiVpU2OQI2Y5JX05qpRRYC8da1QxyIdSvCkpJkUzth89cjPNUaKKACiiigAooooAKKKKACiiigAooooAKKKKACiiigAooooAKKKKACiiigAooooAKKKKACiiigAooooAKKKKACiiigAooooAKKKKACiiigAooooAKKKKACiiigAooooAKKKKACiiigAooooAKKKKACiiigAooooAKKKKACpvtVwG3CeTds8vO852Yxt+mOMVDRQA+OWSGQPC7RuOjKcEdutMoooAKKKKANjwjfwaV430PULxtlvaajbzytjOEWRWJ/IV6Nrnw68ZT65c3nh2ed7O52skto8hjlAUKGDRggggZ6968horGdObmqlOXK1dfJ2/yRcZR5XGaumeiQ/CPx3bXBuLe3uIpjnMkaTq3PXkJmpk+F3xEjklkjF6rzf61h9oBf6nZz+Nea0VKjiVoqv4DfsXvA9Ef4R+O5Q4ltrh/MYM+6Oc7iOAT8nJGanHwx+Iwm84G/EuwJvBuN20dBnZ056V5pRTtil/y9/AP3L3geiSfCPx3KriW2uHEm3eGjnO7aMLn5OcDp6UyP4O+Nod3k2c0e9SjbYphuU9Qfk6e1efUVPJiL39r+CHzUrW5PxPRrX4T+PrAsbGG6ti33jCs6Z+uEqRfhd8Q0geFRerFISXjH2ja2euRs5zXmtFNRxKVlV/AT9i3dwPSYfhZ8QraAQW63kUQO4RoLhVBznOAnrUSfCPx3H5Xl29wnkkmLak48snqV+Tj8K87oo5cT/z9/AP3P8h6Z/wrH4jAMAb/AA7b2Gbj5m9T8nXiooPhT4/tY5I7aO7hST76xrOob6gJzXnFFO2Kvf2r+4X7j+Q9Ig+FXxBtpZJLdLyJ5jmRoxcKXPuQnNVv+FNeM9277BJuznPkzZz/AN8VwFFS4Yh71fwKTpLaH4npFx8K/iDdx7LtLydOPllFww46cFKVvhZ8Qnt0t3W8aFMbYyLgquOmBswMV5tRVWxX/P38Cf3P8h6C/wAHPGskzSyWUrSM25naKYkn1zs61aPwx+IzSxysb8yRghHJuMoD1AOzjoK80opKOJW1X8Bv2L3gejP8J/H0sjPJDdO7IUZmWckqTkrnZ0JJOPemt8IvHTqwa2uGDoqMDHP8yrjAPycgYGB7V53RRy4n/n7+AXo/yfiejR/Cfx9DMk0MN1HLGmxHVZwyr6A7OB7VIPhd8RFMpX7cDNzKR9o/ecY+b5OePWvNaKaWKW1X8A/cv7B6RF8K/iDA0rQJeRtMcylBcAyH3wnP40Q/Cr4gW9w88Ed5FNJ9+RBcBm+pCZNeb0UuXE/8/fwD9z/Ieip8HvG0jNHLbTiOZw0v7ub5j6nKYJ5PWq3xamg/4SLTbGGeOaXT9OWC4MTBlSQzSyFcjgkCQA++RXB0UQoz9p7SpK7Ssum9v8kOU48vLFWCiiiugyCiiigAooooAKKKKACiiigAooooAKKKKACiiigAooooAKKKKACiiigAooooAKKKKACiiigAooooAKKKKACiiigAooooAKKKKACiiigBV+8PrRuPqfzoX7w+tJQAu4+p/OjcfU/nWlc6fZ2sMscl+4vYQA0BtztLZ5UPnqO+QBxxmop9GvrdVMkIYs4j2RyK7K56KyqSVY4PBAPB9KAKW4+p/OjcfU/nV+TRL+OaOPy43MhIVo50dQQMnLKSFwOTkjA5o1PS202O1LvvaeMucbSo5x8rKxDD3pXQ7Mobj6n86Nx9T+dWbCxa/uRGskcagjczyxpgZ7b2UE+2afDpV1PNPGixqYG2SNLMkaqckY3MQM8HjPY+lMRT3H1P50bj6n861k8O3U1issQxMs7wSxTFYtjjGACzfMTnpjPB61TSyLWF1cOxR7d0QxleTu3fljb+tK6HZlXcfU/nRuPqfzpKuW1iJbeOeaUxo9wsIwu4njLEDI6ZHHuKYipuPqfzo3H1P51s3Ph42sV7I9xkQSLHBhP9fnHPX5RhlPfriq39h3/22G1VIWlnJEey5jZWI6ruDbc+2c8j1FJNMbTRn7j6n86Nx9T+dT3NlPaRwvOEAnTem2RWJXpkgHI/GpNP0yfUmlW3eBDEhdvOnWPI9txFMRU3H1P50bj6n86uQ6ZLLNcR7os26M77Jo2zgE/L8w3dOducD1qS10K/vLMXVvHEYSSNzXEa4x1yCwIxkHnsQaNAM/cfU/nRuPqfzq8dFvxC8hiQbN2UMyCQhSQxCZ3EDB5AxwfQ1RoANx9T+dG4+p/Ork2lXcEc7yLHtt9vmbZkbAYAqRg8g5HIyOafJod/HEkhiRg8ixBY5kdlduisoJKng8EDpQBQ3H1P50bj6n86uyaNexzQxCOOQzMVRoZkkUkdRuUkDAIJyeBzU9zoU8AsEjIlnvWKKishUtkAbXViGHOM8YII7UaBqZe4+p/OjcfU/nUlxBJa3MtvOuyWJyjrkHBBwRxU9jaQTrJLeXD28EZVS6ReYSx6DGR2BOc9qAKm4+p/OjcfU/nUlzA1rdS28hBaJyhI6Eg4q5Z6bHc26tJcNHNMWW3jEW4OVGeWyNuc4HB56460dLh1sZ+4+p/OjcfU/nWgumxtYeZ9oYXRiMyweV8pQHB+bPXAJxjGB1zxVdbX/iXNdu+0eYI41x984y30wMf99CgCvuPqfzo3H1P51bv7OG1W2a3uDcLNFvLeXsAIYqQOckZHU4+gqG1t2urqOBCFMjBcnoPegCLcfU/nRuPqfzrSOmW7zRNBdSPZuju0zQ7XTZ94bAx56Y55yORzirfWqWsyiGQywyIJI3K7SwPqMnBBBHU9KVwK+4+p/OjcfU/nSVo2uhX95Zi6t44jCSRua4jXGOuQWBGMg89iDTAz9x9T+dG4+p/Orq6RePFM4SP9yzK6GZA+VGWwhO44HoDS/wBjXv2YXGyLyjAZw3nx/cB25+91zxjrntSug1KO4+p/OjcfU/nToo2mmSNNu52CjcwUZPqTwPqa0Ljw7qdt/rbdclxHtSZHbdnGMAk9ePY8UwM3cfU/nRuPqfzrRGg6g9xHDGkMjShthjuY2VioyRuDYyBzjOaH0HUY5Y42ijzIGIInjKgAAklt2FGCDkkAggjrSug1M7cfU/nRuPqfzq/HoeoS3jWsUKvME8xVWVD5i9coc4f/AIDnofSmzaReQRTSSJGEhZFdhMhGX5XGD82cHkZ6H0p6AUtx9T+dG4+p/OpryzmsLp7a6VVlTG4K4YcjI5BI6GpoNJu7hYjCsbCZWZP3yDO3qOTwfbqaNNwKe4+p/OjcfU/nV2PSLyWyN1GkZjCGQjzkD7R1bZndjjrikn0i9t7YTyRps+XcElRmTPTcoJZfxAo0Ap7j6n86Nx9T+dadzoc9npT3dyQrrMsRjVkcDIJwxViVYY+6QDVS9sLnTpY47yPy2kjWVRuByrcg8UXQFfcfU/nRuPqfzqxYWq3l0I3kMaBGd2VdxCqpY4GRk4HqPwq8mjwNqkFtJdyRw3KK8EjQfM+44A25wOc98YHGeATYDJ3H1P50bj6n86tWNva3EhW7uZIckKixQeazE+2QMfjnkYB7W7bRUkmkiuLlkYXP2WMwxeYHk568jC8deT7UAZW4+p/OjcfU/nWpZ6KLmMLJNIlzJI8UMSQ7wzIASGbI29R0B98ClGiE6D/aO6b7u/Pkfusb9u3zM/f77cdO/aldDszK3H1P50bj6n86uyaaYtHW9eXDtIoEO3+Fg2Gz77Dx+NR/Y8WUM7vtaaQpGm3qo6t+ZA9+fSn1sIrbj6n86Nx9T+dauq6MumX8ds73USsxUy3doYlwDjcuCxYfSluNBdNRtrW3eUm4QuBcQGJ0AzklAWOMDIxkkdqSaYzJ3H1P50bj6n862V0JZNXkskOoExRb3Q2OJicjhY9/PUHJI4yccVCumWkeoT2l5dzrIkoijWC2DtITnqCy7ccDGc5PtRe4tjM3H1P50bj6n8604dKt5J5UkvSqmc29u6xbhK3qeflXlcnk89DS2Oji7hXfNIlxNI8UESw7wzKASGORt6joD74FF0OzMvcfU/nRuPqfzq2bOH+yPtaXBaUSqjxeXgKCGx82eT8nTGORz1Akksbb+zWuba7aWSLYJUaHaoLZ4Vs8kYPUDocZpiKG4+p/OjcfU/nQOvPSrF/aGxvZIC28Lgq+MblIypx7gg0AV9x9T+dG4+p/OkooAXcfU/nRuPqfzpKKAF3H1P50bj6n86SigBdx9T+dG4+p/OkooAXcfU/nRuPqfzpKKAF3H1P50bj6n86SigBdx9T+dG4+p/OkooAXcfU/nRuPqfzpKKAF3H1P50bj6n86SigBdx9T+dG4+p/OkooAXcfU/nRuPqfzpKKAF3H1P50bj6n86SigBdx9T+dG4+p/OkooAXcfU/nRuPqfzpKKAF3H1P50bj6n86SigCWI5znmpMVHD3qWgQyT7hqCp5P9WagoGFFFFABRRRQAUUUUAFFFFABRRRQAUUUUAFFFFABRRRQAUUUUAFFFFABRRRQAUUUUAFFFFABRRRQAUUUUAFFFFABRRRQAUUUUAFFFFABRRRQAUUUUAFFFFABRRRQAUUUUAFFFFACr94fWkpV+8PrSUAbjeI2W0uVtluoprvBnP2rMTNkEsI9owTt7k8EiozrNvFMZrGzkilkmWWUyTh1bBztUBQQM+pJ4rHopWQGsmq2duohtLKdbdy3npLch2cFSowwQbcZJ6Hn8qh1G+tbq2tYbO1kt1t1ZQZJxIWBOecKOck/hjjuc+iiwXLVjBFNPme8htQhBzMrndz0GxW/WrR1G0kmvFu7eaaCa4MyeVMImU5PUlW7Hp7Vl0U9wNt9asbi28m806aTE7TApdbMZAUL9w8YUe59RWdLd/aPtTzCQy3EnmfI+1AcknK4568cjHPWqtFKwXCtG3vYU02GKcMxt7vzginaXVgA3ODgjYv51nUUwN3/hIIS8hktbiZfMVoY5rkMkah95UjZyCc+nB9qkuPEVpdzWbXlne3a2sjP/AKRqG9nzjjds4AIHT/69c9RSSS2G3fc0dY1QavPHcyROt0UC3ErSBvOI4DYAG3jj8B75gsLqO1uGaeJpYnjaN0R9jEEY4JBx+RqrRTtpYV7u5p2l/p9vezTPYTGNkKRxx3IXaCpUkko244OeMDPbHFSJqtlFYtbRWVwAfNwzXKnG/bj+AdNi/Xnp2yKKAudHP4qM8UqL/aUCsX2JBqGxBuJb5l2fNyx9MjA965yiikkkFzYfWLR9Pmh+wSCeaGKJ5vtHA8sAAhdvQ7eRk+xFTXPiXcbf7JHdKIJ1mjW6vDMI9ucKnygqOeeSeB6Vg0U7Ablz4g+0Twux1GeNd6vHeX/nAqylSF+QbTgnnmoJ9S0+SOyhi06UQWspd0kudxlUkEgkKMHjGR27d6yqKVkO5LcPHJcyvBF5MTOSke4tsGeBk9cetT2V1bwrJFewSTwSENsilEZDDODkq3YkYx3qnRTEXhfQSzXs17aCeW4DGNhIUELk53YHX6Gn2eoxW1uokgkknhLNBIJQqoWHddpzgjI5FZ1FKwGiuoxLY7PIkN0IjCJvNG0ITk/JtznBIzu6dqgvLpZxBFCCsMEYRQepPVifqSfwx6VVop2A0L28sriyt4ra0uIpIF275LhXBBJJ4CDnJ9aa99bpqFvcWVn9mWJU3x+aW3sPvHJ6Z9O1UaKANM6lbLNEkFtMlmiOjRNOC7bvvHftAB6fw9h1p0N3p82oGS7gItYLdlgt3csWYA7QWUD+I7ieKyqKVgCtS31S3g0sWrWsrPiUNIJwAd4XHG3tsXvzz07ZdFMDpI/FMKfaFFpdpHO0paKK92I/mDncNnzEZOD7Dg45rLrlquiHSxYy+Qybm/0nrPxiX7voMbemPfmsSilyod2SQukc8byKzorAsqttJGegODj8jW3/AMJHElwZ4LORJASUJuAQD5vmDoo75Hbt0xzgUUxG9L4hinuI3nGqXCIrgpc6j5mNylcjMfHU+tMOuWskBhlspjG4CybbgAkbUHHyccxqe/cc5yMSilZDuzXi1SxS6DNZXBt47doIoxdKGAYNuJbZg/fOOBjjrU2gXOnQ6hcm9kWKwdMGCcs7Pg7lGVTGQwGSQOCawqKLCJbm4ku7qW4nO6SVy7n1JOTWlper2tjFCLmxkuJIHdo2W42DDgA5G05Ixwc/UGsiiiytYOtzZ/tyNNGawgiu1Vo9hR7wvDnOS3l7eG/HrzUl34lmu7UKZdQEuUYq16WgypB4iK8Djpu4/SsKiiyA1rnU7GTT7iC3sJopLiVZWdrkMFYZ4A2Dj5jwTnpz60r2a2nljaztPsqrGqsvmF9zDq2T0z6dqrUUWC5Ysp1tb2Od/OwhzmCXy3B7ENg459q0Drcc2uRX97Dc3CwBfKRrr58qcgs5U7uc54HXjHSseimBr6fqen2E1y6WNwTIAIZBdKJIR3w3lkZPrgEdqTT9Yi065uJraK7i8xsxxw3hRAOcK/y5cfiO/rWTRSsBrafrj6fFOyNd/aJWLZS62RE44LIF+Ygknrj29Yft9t/Z/l/ZH+0+V5Xm+aNmN2c7Nuc++73rPoosgua82ufaNDaxngVpSyETqkS4VBgA4TceD1Lf1zUvLxJ71HSPNvCFSKJ8jKDscHvyTg9Sap0U+twNObUbIrBDb2DrbJKZZIpbguXJAGAQFwABx1PqTUketJa3lpJp9vJFFbB1CyTbnYPkN84AxweMDjr1rIopWQXNU6nZtII3s5zaLB5Kp9oXzB8+/O/Zjrn+Hp+dV1v1TVjeRwYCkmNC33TjCknHJBwe2SO1UqKLAaFhfwWqAXNvJOYpBLDtlCBW/wBobTuBwOOOnWpdN1ptNgm8trvz5CTlLrZETjgsgX5iDk9ce3rlUU7XDY0IryyTR5LR7S4aeRg/mi4UKGUMF+XZnGG5Gefap73VLG40uO0trCaAxgbf9JDJu43Pt2AljjuTgcDoKyKKVrgWbma2lhtkt7X7O8abZpPMLea2fvY/h+gqTVbiK51BmtzmJESJGxjcEUKDz64zVKimAUUUUAFFFFABRRRQAUUUUAFFFFABRRRQAUUUUAFFFFABRRRQAUUUUAFFFFABRRRQAUUUUAFFFFABRRRQBLD3qWooe9S0CGSf6s1BU8n+rNQUDCiiigAooooAKKKKACiiigAooooAKKKKACiiigAooooAKKKKACiiigAooooAKKKKACiiigAooooAKKKKACiiigAooooAKKKKACiiigAooooAKKKKACiiigAooooAKKKKACiiigBV+8PrU+1f7o/KoF+8PrVmgQ3av90flRtX+6Pyp1FADdq/3R+VG1f7o/KnUUAN2r/dH5UbV/uj8qdRQA3av90flRtX+6Pyp1FADdq/3R+VG1f7o/KnUUAN2r/dH5UbV/uj8qdRQA3av90flRtX+6Pyp1FADdq/3R+VG1f7o/KnUUAN2r/dH5UbV/uj8qdRQA3av90flRtX+6Pyp1FADdq/3R+VG1f7o/KnUUAN2r/dH5UbV/uj8qdRQA3av90flRtX+6Pyp1FADdq/3R+VG1f7o/KnUUAN2r/dH5UbV/uj8qdRQA3av90flRtX+6Pyp1FADdq/3R+VG1f7o/KnUUAN2r/dH5UbV/uj8qdRQA3av90flRtX+6Pyp1FADdq/3R+VG1f7o/KnUUAN2r/dH5UbV/uj8qdRQA3av90flRtX+6Pyp1FADdq/3R+VG1f7o/KnUUAN2r/dH5UbV/uj8qdRQA3av90flRtX+6Pyp1FADdq/3R+VG1f7o/KnUUAN2r/dH5UbV/uj8qdRQA3av90flRtX+6Pyp1FADdq/3R+VG1f7o/KnUUAN2r/dH5UbV/uj8qdRQA3av90flRtX+6Pyp1FADdq/3R+VG1f7o/KnUUAN2r/dH5UbV/uj8qdRQA3av90flRtX+6Pyp1FADdq/3R+VG1f7o/KnUUAN2r/dH5UbV/uj8qdRQA3av90flRtX+6Pyp1FADdq/3R+VG1f7o/KnUUAN2r/dH5UbV/uj8qdRQA3av90flRtX+6Pyp1FADdq/3R+VG1f7o/KnUUAN2r/dH5UbV/uj8qdRQA3av90flRtX+6Pyp1FADdq/3R+VG1f7o/KnUUAN2r/dH5UbV/uj8qdRQA3av90flRtX+6Pyp1FADdq/3R+VG1f7o/KnUUAN2r/dH5UbV/uj8qdRQBFJ8uNvH0pm5vU/nT5u1RUDHZJBySeKbSjofpSUAFFFFABRRRQAUUUUAFFFFABRRRQAUUUUAFFFFABRRRQAUUUUAFFFFABRRRQAUUUUAFFFFABRRRQAUUUUAFFFFABRRRQAUUUUAFFFFABRRRQAUUUUAFFFFABRRRQAUUUUAFFFFACg4NP81vao6KAJPNb2o81vao6KAJPNb2o81vao6KAJPNb2o81vao6KAJPNb2o81vao6KAJPNb2o81vao6KAJPNb2o81vao6KAJPNb2o81vao6KAJPNb2o81vao6KAJPNb2o81vao6KAJPNb2o81vao6KAJPNb2o81vao6KAJPNb2o81vao6KAJPNb2o81vao6KAJPNb2o81vao6KAJPNb2o81vao6KAJPNb2o81vao6KAJPNb2o81vao6KAJPNb2o81vao6KAJPNb2o81vao6KAJPNb2o81vao6KAJPNb2o81vao6KAJPNb2o81vao6KAJPNb2o81vao6KAJPNb2o81vao6KAJPNb2o81vao6KAJPNb2o81vao6KAJPNb2o81vao6KAJPNb2o81vao6KAJPNb2o81vao6KAJPNb2o81vao6KAJPNb2o81vao6KAJPNb2o81vao6KAJPNb2o81vao6KAJPNb2o81vao6KAJPNb2o81vao6KAJPNb2o81vao6KAJPNb2o81vao6KAJPNb2o81vao6KAJPNb2o81vao6KAJPNb2o81vao6KAJPNb2o81vao6KAJPNb2o81vao6KAJPNb2o81vao6KAJPNb2o81vao6KAJPNb2o81vao6KAJPNb2o81vao6KAJPNb2o81vao6KAJPNb2o81vao6KAHFy3UCkz7CkooAXPtSUUUAFFFFABRRRQAUUUUAFFFFABRRRQAUUUUAFFFFABRRRQAUUUUAFFFFABRRRQAUUUUAFFFFABRRRQAUUUUAFFFFABRRRQAUUUUAFFFFABRRRQAUUUUAFFFFABTlIVgSoYehz/Sm0UAS+an/PvH+bf40ean/PvH+bf41FRQBL5qf8+8f5t/jR5qf8+8f5t/jUVFAEvmp/z7x/m3+NHmp/z7x/m3+NRUUAS+an/PvH+bf40ean/PvH+bf41FRQBL5qf8+8f5t/jR5qf8+8f5t/jUVFAEvmp/z7x/m3+NHmp/z7x/m3+NRUUAS+an/PvH+bf40ean/PvH+bf41FRQBL5qf8+8f5t/jR5qf8+8f5t/jUVFAEvmp/z7x/m3+NHmp/z7x/m3+NRUUAS+an/PvH+bf40ean/PvH+bf41FRQBL5qf8+8f5t/jR5qf8+8f5t/jUVFAEvmp/z7x/m3+NHmp/z7x/m3+NRUUAS+an/PvH+bf40ean/PvH+bf41FRQBL5qf8+8f5t/jR5qf8+8f5t/jUVFAEvmp/z7x/m3+NHmp/z7x/m3+NRUUAS+an/PvH+bf40ean/PvH+bf41FRQBL5qf8+8f5t/jR5qf8+8f5t/jUVFAEvmp/z7x/m3+NHmp/z7x/m3+NRUUAS+an/PvH+bf40ean/PvH+bf41FRQBL5qf8+8f5t/jR5qf8+8f5t/jUVFAEvmp/z7x/m3+NHmp/z7x/m3+NRUUAS+an/PvH+bf40ean/PvH+bf41FRQBL5qf8+8f5t/jR5qf8+8f5t/jUVFAEvmp/z7x/m3+NHmp/z7x/m3+NRUUAS+an/PvH+bf40ean/PvH+bf41FRQBL5qf8+8f5t/jR5qf8+8f5t/jUVFAEvmp/z7x/m3+NHmp/z7x/m3+NRUUAS+an/PvH+bf40ean/PvH+bf41FRQBL5qf8+8f5t/jR5qf8+8f5t/jUVFAEvmp/z7x/m3+NHmp/z7x/m3+NRUUAS+an/PvH+bf40ean/PvH+bf41FRQBL5qf8+8f5t/jR5qf8+8f5t/jUVFAEvmp/z7x/m3+NHmp/z7x/m3+NRUUAS+an/PvH+bf40ean/PvH+bf41FRQBL5qf8+8f5t/jR5qf8+8f5t/jUVFAEvmp/z7x/m3+NHmp/z7x/m3+NRUUAS+an/PvH+bf40ean/PvH+bf41FRQBL5qf8+8f5t/jR5qf8+8f5t/jUVFAEvmp/z7x/m3+NHmp/z7x/m3+NRUUAS+an/PvH+bf40ean/PvH+bf41FRQBL5qf8+8f5t/jR5qf8+8f5t/jUVFAEvmp/z7x/m3+NHmp/z7x/m3+NRUUAS+an/PvH+bf40ean/PvH+bf41FRQBL5qf8+8f5t/jR5qf8+8f5t/jUVFAEvmp/z7x/m3+NHmp/z7x/m3+NRUUAS+an/PvH+bf40ean/PvH+bf41FRQBL5qf8+8f5t/jR5qf8+8f5t/jUVFAEvmp/z7x/m3+NHmp/z7x/m3+NRUUAS+an/PvH+bf40ean/PvH+bf41FRQBL5qf8+8f5t/jR5qf8+8f5t/jUVFAEvmp/z7x/m3+NHmp/z7x/m3+NRUUAS+an/PvH+bf40ean/PvH+bf41FRQBI0ispAhRT6gt/U1HRRQAUUUUAFFFFABRRRQAUUUUAFFFFABRRRQAUUUUAFFFFABRRRQAUUUUAFFFFABRRRQAUUUUAFFFFABRRRQAUUUUAFFFFABRRRQAUUUUAFFFFABRRRQAUUUUAf//Z)"
      ]
    },
    {
      "cell_type": "markdown",
      "metadata": {
        "id": "O85Y_U1VSYTJ"
      },
      "source": [
        "![2_Maximun Pairwise Product.JPG](data:image/jpeg;base64,/9j/4AAQSkZJRgABAQEAYABgAAD/4RDSRXhpZgAATU0AKgAAAAgABAE7AAIAAAAEWSBCAIdpAAQAAAABAAAISpydAAEAAAAIAAAQwuocAAcAAAgMAAAAPgAAAAAc6gAAAAgAAAAAAAAAAAAAAAAAAAAAAAAAAAAAAAAAAAAAAAAAAAAAAAAAAAAAAAAAAAAAAAAAAAAAAAAAAAAAAAAAAAAAAAAAAAAAAAAAAAAAAAAAAAAAAAAAAAAAAAAAAAAAAAAAAAAAAAAAAAAAAAAAAAAAAAAAAAAAAAAAAAAAAAAAAAAAAAAAAAAAAAAAAAAAAAAAAAAAAAAAAAAAAAAAAAAAAAAAAAAAAAAAAAAAAAAAAAAAAAAAAAAAAAAAAAAAAAAAAAAAAAAAAAAAAAAAAAAAAAAAAAAAAAAAAAAAAAAAAAAAAAAAAAAAAAAAAAAAAAAAAAAAAAAAAAAAAAAAAAAAAAAAAAAAAAAAAAAAAAAAAAAAAAAAAAAAAAAAAAAAAAAAAAAAAAAAAAAAAAAAAAAAAAAAAAAAAAAAAAAAAAAAAAAAAAAAAAAAAAAAAAAAAAAAAAAAAAAAAAAAAAAAAAAAAAAAAAAAAAAAAAAAAAAAAAAAAAAAAAAAAAAAAAAAAAAAAAAAAAAAAAAAAAAAAAAAAAAAAAAAAAAAAAAAAAAAAAAAAAAAAAAAAAAAAAAAAAAAAAAAAAAAAAAAAAAAAAAAAAAAAAAAAAAAAAAAAAAAAAAAAAAAAAAAAAAAAAAAAAAAAAAAAAAAAAAAAAAAAAAAAAAAAAAAAAAAAAAAAAAAAAAAAAAAAAAAAAAAAAAAAAAAAAAAAAAAAAAAAAAAAAAAAAAAAAAAAAAAAAAAAAAAAAAAAAAAAAAAAAAAAAAAAAAAAAAAAAAAAAAAAAAAAAAAAAAAAAAAAAAAAAAAAAAAAAAAAAAAAAAAAAAAAAAAAAAAAAAAAAAAAAAAAAAAAAAAAAAAAAAAAAAAAAAAAAAAAAAAAAAAAAAAAAAAAAAAAAAAAAAAAAAAAAAAAAAAAAAAAAAAAAAAAAAAAAAAAAAAAAAAAAAAAAAAAAAAAAAAAAAAAAAAAAAAAAAAAAAAAAAAAAAAAAAAAAAAAAAAAAAAAAAAAAAAAAAAAAAAAAAAAAAAAAAAAAAAAAAAAAAAAAAAAAAAAAAAAAAAAAAAAAAAAAAAAAAAAAAAAAAAAAAAAAAAAAAAAAAAAAAAAAAAAAAAAAAAAAAAAAAAAAAAAAAAAAAAAAAAAAAAAAAAAAAAAAAAAAAAAAAAAAAAAAAAAAAAAAAAAAAAAAAAAAAAAAAAAAAAAAAAAAAAAAAAAAAAAAAAAAAAAAAAAAAAAAAAAAAAAAAAAAAAAAAAAAAAAAAAAAAAAAAAAAAAAAAAAAAAAAAAAAAAAAAAAAAAAAAAAAAAAAAAAAAAAAAAAAAAAAAAAAAAAAAAAAAAAAAAAAAAAAAAAAAAAAAAAAAAAAAAAAAAAAAAAAAAAAAAAAAAAAAAAAAAAAAAAAAAAAAAAAAAAAAAAAAAAAAAAAAAAAAAAAAAAAAAAAAAAAAAAAAAAAAAAAAAAAAAAAAAAAAAAAAAAAAAAAAAAAAAAAAAAAAAAAAAAAAAAAAAAAAAAAAAAAAAAAAAAAAAAAAAAAAAAAAAAAAAAAAAAAAAAAAAAAAAAAAAAAAAAAAAAAAAAAAAAAAAAAAAAAAAAAAAAAAAAAAAAAAAAAAAAAAAAAAAAAAAAAAAAAAAAAAAAAAAAAAAAAAAAAAAAAAAAAAAAAAAAAAAAAAAAAAAAAAAAAAAAAAAAAAAAAAAAAAAAAAAAAAAAAAAAAAAAAAAAAAAAAAAAAAAAAAAAAAAAAAAAAAAAAAAAAAAAAAAAAAAAAAAAAAAAAAAAAAAAAAAAAAAAAAAAAAAAAAAAAAAAAAAAAAAAAAAAAAAAAAAAAAAAAAAAAAAAAAAAAAAAAAAAAAAAAAAAAAAAAAAAAAAAAAAAAAAAAAAAAAAAAAAAAAAAAAAAAAAAAAAAAAAAAAAAAAAAAAAAAAAAAAAAAAAAAAAAAAAAAAAAAAAAAAAAAAAAAAAAAAAAAAAAAAAAAAAAAAAAAAAAAAAAAAAAAAAAAAAAAAAAAAAAAAAAAAAAAAAAAAAAAAAAAAAAAAAAAAAAAAAAAAAAAAAAAAAAAAAAAAAAAAAAAAAAAAAAAAAAAAAAAAAAAAAAAAAAAAAAAAAAAAAAAAAAAAAAAAAAAAAAAAAAAAAAAAAAAAAAAAAAAAAAAAAAAAAAAAAAAAAAAAAAAAAAAAAAAAAAAAAAAAAAAAAAAAAAAAAAAAAAAAAAAAAAAAAAAAAAAAAAAAAAAAAAAAAAAAAAAAAAAAAAAAAAAAAAAAAAAAAAAAAAAAAAAAAAAAAAAAAAAAAAAAAAAAAAAAAAAAAAAAAAAAAAAAAAAAAAAAAAAAAAAAAAAAAAAAAAAAAAAAAAAAAAAAAAAAAAAAAAAAAAAAAAAAAAAAAAAAAAAAAAAAAAAAAAAAAAAAAAAAAAAAAAAAAAAAAAAAAAAAAAAAAAAAAAAAAAAAAAAAAAAAAAAAAAAAAAAAAAAAAAAAAAAAAAAAAAAAAAAAAAAAAAAAAAAAAAAAAAAAAAAAAAAAAAAAAAAAAAAAAAAAAAAAAAAAAAAAAAAAAAAAAAAAAAAAAAAAAAAAAAAAAAAAAAAAAAAAAAAAAAAAAAAAAAAAAAAAAAAAAAAAAAAAAAAAAAAAAAAAAAAAAAAAAAAAAAAAAAAAAAAAAAAAAAAAAAAAAAAAAAAAAAAAAAAAAAAAAAAAAAAAAAAAAAAAAAAAAAAAAAAAAAAAAAAAAAAAAAAAAAAAAAAAAAAAAAAAAAAAFkAMAAgAAABQAABCYkAQAAgAAABQAABCskpEAAgAAAAMzMQAAkpIAAgAAAAMzMQAA6hwABwAACAwAAAiMAAAAABzqAAAACAAAAAAAAAAAAAAAAAAAAAAAAAAAAAAAAAAAAAAAAAAAAAAAAAAAAAAAAAAAAAAAAAAAAAAAAAAAAAAAAAAAAAAAAAAAAAAAAAAAAAAAAAAAAAAAAAAAAAAAAAAAAAAAAAAAAAAAAAAAAAAAAAAAAAAAAAAAAAAAAAAAAAAAAAAAAAAAAAAAAAAAAAAAAAAAAAAAAAAAAAAAAAAAAAAAAAAAAAAAAAAAAAAAAAAAAAAAAAAAAAAAAAAAAAAAAAAAAAAAAAAAAAAAAAAAAAAAAAAAAAAAAAAAAAAAAAAAAAAAAAAAAAAAAAAAAAAAAAAAAAAAAAAAAAAAAAAAAAAAAAAAAAAAAAAAAAAAAAAAAAAAAAAAAAAAAAAAAAAAAAAAAAAAAAAAAAAAAAAAAAAAAAAAAAAAAAAAAAAAAAAAAAAAAAAAAAAAAAAAAAAAAAAAAAAAAAAAAAAAAAAAAAAAAAAAAAAAAAAAAAAAAAAAAAAAAAAAAAAAAAAAAAAAAAAAAAAAAAAAAAAAAAAAAAAAAAAAAAAAAAAAAAAAAAAAAAAAAAAAAAAAAAAAAAAAAAAAAAAAAAAAAAAAAAAAAAAAAAAAAAAAAAAAAAAAAAAAAAAAAAAAAAAAAAAAAAAAAAAAAAAAAAAAAAAAAAAAAAAAAAAAAAAAAAAAAAAAAAAAAAAAAAAAAAAAAAAAAAAAAAAAAAAAAAAAAAAAAAAAAAAAAAAAAAAAAAAAAAAAAAAAAAAAAAAAAAAAAAAAAAAAAAAAAAAAAAAAAAAAAAAAAAAAAAAAAAAAAAAAAAAAAAAAAAAAAAAAAAAAAAAAAAAAAAAAAAAAAAAAAAAAAAAAAAAAAAAAAAAAAAAAAAAAAAAAAAAAAAAAAAAAAAAAAAAAAAAAAAAAAAAAAAAAAAAAAAAAAAAAAAAAAAAAAAAAAAAAAAAAAAAAAAAAAAAAAAAAAAAAAAAAAAAAAAAAAAAAAAAAAAAAAAAAAAAAAAAAAAAAAAAAAAAAAAAAAAAAAAAAAAAAAAAAAAAAAAAAAAAAAAAAAAAAAAAAAAAAAAAAAAAAAAAAAAAAAAAAAAAAAAAAAAAAAAAAAAAAAAAAAAAAAAAAAAAAAAAAAAAAAAAAAAAAAAAAAAAAAAAAAAAAAAAAAAAAAAAAAAAAAAAAAAAAAAAAAAAAAAAAAAAAAAAAAAAAAAAAAAAAAAAAAAAAAAAAAAAAAAAAAAAAAAAAAAAAAAAAAAAAAAAAAAAAAAAAAAAAAAAAAAAAAAAAAAAAAAAAAAAAAAAAAAAAAAAAAAAAAAAAAAAAAAAAAAAAAAAAAAAAAAAAAAAAAAAAAAAAAAAAAAAAAAAAAAAAAAAAAAAAAAAAAAAAAAAAAAAAAAAAAAAAAAAAAAAAAAAAAAAAAAAAAAAAAAAAAAAAAAAAAAAAAAAAAAAAAAAAAAAAAAAAAAAAAAAAAAAAAAAAAAAAAAAAAAAAAAAAAAAAAAAAAAAAAAAAAAAAAAAAAAAAAAAAAAAAAAAAAAAAAAAAAAAAAAAAAAAAAAAAAAAAAAAAAAAAAAAAAAAAAAAAAAAAAAAAAAAAAAAAAAAAAAAAAAAAAAAAAAAAAAAAAAAAAAAAAAAAAAAAAAAAAAAAAAAAAAAAAAAAAAAAAAAAAAAAAAAAAAAAAAAAAAAAAAAAAAAAAAAAAAAAAAAAAAAAAAAAAAAAAAAAAAAAAAAAAAAAAAAAAAAAAAAAAAAAAAAAAAAAAAAAAAAAAAAAAAAAAAAAAAAAAAAAAAAAAAAAAAAAAAAAAAAAAAAAAAAAAAAAAAAAAAAAAAAAAAAAAAAAAAAAAAAAAAAAAAAAAAAAAAAAAAAAAAAAAAAAAAAAAAAAAAAAAAAAAAAAAAAAAAAAAAAAAAAAAAAAAAAAAAAAAAAAAAAAAAAAAAAAAAAAAAAAAAAAAAAAAAAAAAAAAAAAAAAAAAAAAAAAAAAAAAAAAAAAAAAAAAAAAAAAAAAAAAAAAAAAAAAAAAAAAAAAAAAAAAAAAAAAAAAAAAAAAAAAAAAAAAAAAAAAAAAAAAAAAAAAAAAAAAAAAAAAAAAAAAAAAAAAAAAAAAAAAAAAAAAAAAAAAAAAAAAAAAAAAAAAAAAAAAAAAAAAAAAAAAAAAAAAAAAAAAAAAAAAAAAAAAAAAAAAAAAAAAAAAAAAAAAAAAAAAAAAAAAAAAAAAAAAAAAAAAAAAAAAAAAAAAAAAAAAAAAAAAAAAAAAAAAAAAAAAAAAAAAAAAAAAAAAAAAAAAAAAAAAAAAAAAAAAAAAAAAAAAAAAAAAAAAAAAAAAAAAAAAAAAAAAAAAAAAAAAAAAAAAAAAAAAAAAAAAAAAAAAAAAAAAAAAAAAAAAAAAAAAAAAAAAAAAAAAAAAAAAAAAAAAAAAAAAAAAAAAAAAAAAAAAAAAAAAAAAAAAAAAAAAAAAAAAAAAAAAAAAAAAAAAAAAAAAAAAAAAAAAAAAAAAAAAAAAAAAAAAAAAAAAAAAAAAAAAAAAAAAAAAAAAAAAAAAAAAAAAAAAAAAAAAAAAAAAAAAAAAAAAAAAAAAAAAAAAAAAAAAAAAAAAAAAAAAAAAAAAAAAAAAAAAAAAAAAAAAAAAAAAAAAAAAAAAAAAAAAAAAAAAAAAAAAAAAAAAAAAAAAAAAAAAAAAAAAAAAAAAAAAAAAAAAAAAAAAAAAAAAAAAAAAAAAAAAAAAAAAAAAAAAAAAAAAAAAAAAAAAAAAAAAAAAAAAMjAyMTowMzoyOCAyMzo0MTowMwAyMDIxOjAzOjI4IDIzOjQxOjAzAAAAWQAgAEIAAAD/4QsWaHR0cDovL25zLmFkb2JlLmNvbS94YXAvMS4wLwA8P3hwYWNrZXQgYmVnaW49J++7vycgaWQ9J1c1TTBNcENlaGlIenJlU3pOVGN6a2M5ZCc/Pg0KPHg6eG1wbWV0YSB4bWxuczp4PSJhZG9iZTpuczptZXRhLyI+PHJkZjpSREYgeG1sbnM6cmRmPSJodHRwOi8vd3d3LnczLm9yZy8xOTk5LzAyLzIyLXJkZi1zeW50YXgtbnMjIj48cmRmOkRlc2NyaXB0aW9uIHJkZjphYm91dD0idXVpZDpmYWY1YmRkNS1iYTNkLTExZGEtYWQzMS1kMzNkNzUxODJmMWIiIHhtbG5zOmRjPSJodHRwOi8vcHVybC5vcmcvZGMvZWxlbWVudHMvMS4xLyIvPjxyZGY6RGVzY3JpcHRpb24gcmRmOmFib3V0PSJ1dWlkOmZhZjViZGQ1LWJhM2QtMTFkYS1hZDMxLWQzM2Q3NTE4MmYxYiIgeG1sbnM6eG1wPSJodHRwOi8vbnMuYWRvYmUuY29tL3hhcC8xLjAvIj48eG1wOkNyZWF0ZURhdGU+MjAyMS0wMy0yOFQyMzo0MTowMy4zMTI8L3htcDpDcmVhdGVEYXRlPjwvcmRmOkRlc2NyaXB0aW9uPjxyZGY6RGVzY3JpcHRpb24gcmRmOmFib3V0PSJ1dWlkOmZhZjViZGQ1LWJhM2QtMTFkYS1hZDMxLWQzM2Q3NTE4MmYxYiIgeG1sbnM6ZGM9Imh0dHA6Ly9wdXJsLm9yZy9kYy9lbGVtZW50cy8xLjEvIj48ZGM6Y3JlYXRvcj48cmRmOlNlcSB4bWxuczpyZGY9Imh0dHA6Ly93d3cudzMub3JnLzE5OTkvMDIvMjItcmRmLXN5bnRheC1ucyMiPjxyZGY6bGk+WSBCPC9yZGY6bGk+PC9yZGY6U2VxPg0KCQkJPC9kYzpjcmVhdG9yPjwvcmRmOkRlc2NyaXB0aW9uPjwvcmRmOlJERj48L3g6eG1wbWV0YT4NCiAgICAgICAgICAgICAgICAgICAgICAgICAgICAgICAgICAgICAgICAgICAgICAgICAgICAgICAgICAgICAgICAgICAgICAgICAgICAgICAgICAgICAgICAgICAgICAgICAgICAKICAgICAgICAgICAgICAgICAgICAgICAgICAgICAgICAgICAgICAgICAgICAgICAgICAgICAgICAgICAgICAgICAgICAgICAgICAgICAgICAgICAgICAgICAgICAgICAgICAgIAogICAgICAgICAgICAgICAgICAgICAgICAgICAgICAgICAgICAgICAgICAgICAgICAgICAgICAgICAgICAgICAgICAgICAgICAgICAgICAgICAgICAgICAgICAgICAgICAgICAgCiAgICAgICAgICAgICAgICAgICAgICAgICAgICAgICAgICAgICAgICAgICAgICAgICAgICAgICAgICAgICAgICAgICAgICAgICAgICAgICAgICAgICAgICAgICAgICAgICAgICAKICAgICAgICAgICAgICAgICAgICAgICAgICAgICAgICAgICAgICAgICAgICAgICAgICAgICAgICAgICAgICAgICAgICAgICAgICAgICAgICAgICAgICAgICAgICAgICAgICAgIAogICAgICAgICAgICAgICAgICAgICAgICAgICAgICAgICAgICAgICAgICAgICAgICAgICAgICAgICAgICAgICAgICAgICAgICAgICAgICAgICAgICAgICAgICAgICAgICAgICAgCiAgICAgICAgICAgICAgICAgICAgICAgICAgICAgICAgICAgICAgICAgICAgICAgICAgICAgICAgICAgICAgICAgICAgICAgICAgICAgICAgICAgICAgICAgICAgICAgICAgICAKICAgICAgICAgICAgICAgICAgICAgICAgICAgICAgICAgICAgICAgICAgICAgICAgICAgICAgICAgICAgICAgICAgICAgICAgICAgICAgICAgICAgICAgICAgICAgICAgICAgIAogICAgICAgICAgICAgICAgICAgICAgICAgICAgICAgICAgICAgICAgICAgICAgICAgICAgICAgICAgICAgICAgICAgICAgICAgICAgICAgICAgICAgICAgICAgICAgICAgICAgCiAgICAgICAgICAgICAgICAgICAgICAgICAgICAgICAgICAgICAgICAgICAgICAgICAgICAgICAgICAgICAgICAgICAgICAgICAgICAgICAgICAgICAgICAgICAgICAgICAgICAKICAgICAgICAgICAgICAgICAgICAgICAgICAgICAgICAgICAgICAgICAgICAgICAgICAgICAgICAgICAgICAgICAgICAgICAgICAgICAgICAgICAgICAgICAgICAgICAgICAgIAogICAgICAgICAgICAgICAgICAgICAgICAgICAgICAgICAgICAgICAgICAgICAgICAgICAgICAgICAgICAgICAgICAgICAgICAgICAgICAgICAgICAgICAgICAgICAgICAgICAgCiAgICAgICAgICAgICAgICAgICAgICAgICAgICAgICAgICAgICAgICAgICAgICAgICAgICAgICAgICAgICAgICAgICAgICAgICAgICAgICAgICAgICAgICAgICAgICAgICAgICAKICAgICAgICAgICAgICAgICAgICAgICAgICAgICAgICAgICAgICAgICAgICAgICAgICAgICAgICAgICAgICAgICAgICAgICAgICAgICAgICAgICAgICAgICAgICAgICAgICAgIAogICAgICAgICAgICAgICAgICAgICAgICAgICAgICAgICAgICAgICAgICAgICAgICAgICAgICAgICAgICAgICAgICAgICAgICAgICAgICAgICAgICAgICAgICAgICAgICAgICAgCiAgICAgICAgICAgICAgICAgICAgICAgICAgICAgICAgICAgICAgICAgICAgICAgICAgICAgICAgICAgICAgICAgICAgICAgICAgICAgICAgICAgICAgICAgICAgICAgICAgICAKICAgICAgICAgICAgICAgICAgICAgICAgICAgICAgICAgICAgICAgICAgICAgICAgICAgICAgICAgICAgICAgICAgICAgICAgICAgICAgICAgICAgICAgICAgICAgICAgICAgIAogICAgICAgICAgICAgICAgICAgICAgICAgICAgICAgICAgICAgICAgICAgICAgICAgICAgICAgICAgICAgICAgICAgICAgICAgICAgICAgICAgICAgICAgICAgICAgICAgICAgCiAgICAgICAgICAgICAgICAgICAgICAgICAgICAgICAgICAgICAgICAgICAgICAgICAgICAgICAgICAgICAgICAgICAgICAgICAgICAgICAgICAgICAgICAgICAgICAgICAgICAKICAgICAgICAgICAgICAgICAgICAgICAgICAgICAgICAgICAgICAgICAgICAgICAgICAgICAgICAgICAgICAgICAgICAgICAgICAgICAgICAgICAgICAgICAgICAgICAgICAgIAogICAgICAgICAgICAgICAgICAgICAgICAgICAgPD94cGFja2V0IGVuZD0ndyc/Pv/bAEMABwUFBgUEBwYFBggHBwgKEQsKCQkKFQ8QDBEYFRoZGBUYFxseJyEbHSUdFxgiLiIlKCkrLCsaIC8zLyoyJyorKv/bAEMBBwgICgkKFAsLFCocGBwqKioqKioqKioqKioqKioqKioqKioqKioqKioqKioqKioqKioqKioqKioqKioqKioqKv/AABEIAvkEswMBIgACEQEDEQH/xAAfAAABBQEBAQEBAQAAAAAAAAAAAQIDBAUGBwgJCgv/xAC1EAACAQMDAgQDBQUEBAAAAX0BAgMABBEFEiExQQYTUWEHInEUMoGRoQgjQrHBFVLR8CQzYnKCCQoWFxgZGiUmJygpKjQ1Njc4OTpDREVGR0hJSlNUVVZXWFlaY2RlZmdoaWpzdHV2d3h5eoOEhYaHiImKkpOUlZaXmJmaoqOkpaanqKmqsrO0tba3uLm6wsPExcbHyMnK0tPU1dbX2Nna4eLj5OXm5+jp6vHy8/T19vf4+fr/xAAfAQADAQEBAQEBAQEBAAAAAAAAAQIDBAUGBwgJCgv/xAC1EQACAQIEBAMEBwUEBAABAncAAQIDEQQFITEGEkFRB2FxEyIygQgUQpGhscEJIzNS8BVictEKFiQ04SXxFxgZGiYnKCkqNTY3ODk6Q0RFRkdISUpTVFVWV1hZWmNkZWZnaGlqc3R1dnd4eXqCg4SFhoeIiYqSk5SVlpeYmZqio6Slpqeoqaqys7S1tre4ubrCw8TFxsfIycrS09TV1tfY2dri4+Tl5ufo6ery8/T19vf4+fr/2gAMAwEAAhEDEQA/APCqKKKYgooooAKKKKACiiigAooooAKKKKACiiigAooooAKKKKACiiigAooooAKKKKACiiigAooooAKKKKACiiigAooooAKKKKACiiigAooooAKKKKACiiigAooooAKKKKACiiigAooooAKKKKACiiigAooooAKKKKACiiigAooooAKKKKACiiigAooooAKKKKACiiigAooooAKKKKACiiigAooooAKKKKACiiigAooooAKKKKACiiigAooooAKKKKACiiigAooooAKKKKACiiigAooooAKKKKACiiigAooooAKKKKACiiigAooooA3tJ8KS6xbwyW+q6XHLMSFt5bkiXIJH3QD6Z+lYkkbRSvHINroxVgexFS2N01jqFvdx/eglWQfgc12nijX10zXpY4tC0WeGVVmjmls8tIGGck55Oc0AcRbwm4uooVODI4QH6nFer6FoqSXNrpdkYoPNcIryHAJPcn1NcOPGRU5Tw/oSMOQyWZBU+oO7g12Gga7HPJBf2O0y27rIY2B+RgcgH2yPxr28plBc/SXQ8rMFL3dLx6kWu6RHeW89rMFaWMsEcDow9PavMK9H8QeIIbOKdjIjXUu4rGh6E9z6AV5xU5tKEpxt8VtSsvU1B326BRRRXjHphVqx02+1OVo9Nsri7kUZK28TSED1wBVWtvX5ntY7PS4GaO0jtLedo1OBJJLEsjO3qcvgH0UCgDImgltpmhuInilQ4ZJFKsp9CD0qOtyaeTUvCDz3jGWbT7uKCKVjlvLkSQ7Ce4Bi49NxrDoAKKKKALVl/wAvH/XBqq1asv8Al4/64NVWgAooqW3iNxdRQjrI4X8zimtdBN2V2dL4Z0FJI1v71dwP+qjI4/3jXXxRPNKkUKM8jsFVFGSxPQAVFGixRrGgwqgKo9AK2fCl1HZeLNNnn2iNZwGLdFzxn8M5r3oU1Rp2ij5KrVlia15vRv7kWb/wPr2naab25s/3Sjc4RwzIPUgVzksUc8TRzIrowwVYZBr6J1q6jsdCvbmbbsjgckN0PHA/E8V881lha0q0XzI3x2GhhpR5HucBr+jHSroNFk28v3Cf4T6GsivQ/EVsLnQrgEcxr5in0I5/lmuL0nSZtZuJbe1kiWaOB5lRyQZdgyVXAOWwCQDjoa8/FU1SnptuexgK7rUve3WhQorTvNBvbLTba9kXdHPCJiqKxMKFiqFzjC7iDjnmp7Tw3cT6bd3E5ktZbea3iEMsLZYTbsNxzjAB4BzniuX+v0O8xaK1bHQJ7/XJ9MS4hhe3WVpJZlkVQIwSxxt3jgHgrn2ov/D9zaCxe2li1GLUMi2ktA58xg20ptZVbdkjjHORjNAGVRW1aeGb2aTUYb2K4sriytPtIglgYPJ86qFwcEZ3deelLqHg/XdN1BLOXTLqWWSNZEEVu53Ahc4+XkgsFPoeKLhYxKKvy6Hq0FnJdzaXex20TFJJnt3CIwO0gtjAOeMetI+iarHYG+k0y8S0ABNw1uwjAOCDuxjnIx9RQFmUaKKKACiiigAooooAKKKKACiiigAooooAKKKKACiiigAooooAKKKKACiiigAooooAKKKKACiiigAooooAKKKKACiiigAooooAKKKKACiiigAooooAKKKKACiiigAooooAKKKKACiiigAooooAKKKKACiiigAooooAKKKKACiiigAooooAKKKKACiiigAooooAKKKKACiiigAooooAKKKKACiiigAooooAKKKKACiiigAooooAKKKKACiiigAooooAKKKKACiiigAooooAKKKKACiiigAooooAKKKKACiiigAooooAKKKKACiiigAooooAK7Cazg8S6BpEo1bTbS7tYWtpkvLgRkqrfJjg9jXH16D8N9T0WwtbxdRlgt7tnyJJiBujx0BPvnj3FAGF/wAId/1Megf+B3/2NWLyCDQPB11ZR6lY3l1f3KB/scwkCxIMjPcfNVrStR8Px/Eq4umWNNPYt9nZlwivgfNjsM7semRUfxGv9Jv9Wtm0p4pZVQieWHBVuRtGR1I5/MUAcbRRRQAUUUUAaWlWMM8c97fsy2Vpt8wIfmlZs7Y19CcHnsATzwDX1K/k1PUJbuVFjL4Cog+VFAAVR7AAD8Ksadq4sLG4tJtPtb6C4kjlZLgyDayBwCCjqekjdc1safc6TqNjKE0TRYL5JFKpcXVxEkkZBzhmmA3A44JGQeOlIDH0q/hgjnsr9Wayu9vmFB80TLnbIvqRk8dwSOOCK+pWEmmahLaSushTBV0PyupAKsPYgg/jW1qepaNa3ggstA0u4VI1EkoluirSY+bb++Hyg8A98ZrH1TUX1W/N08MUH7uOJYod21FRFRQNxJ6KOpNAFOiiimBasv8Al4/64NVWrVl/y8f9cGqrQAVPZSiDULeVukcqsfwOagopp2dxNXVmerV02m/D/X9SgjnS2SCKQZVp5AuR645P6VwPhXWIb2GKC6Y+bDgOB1dB3Hviva/+FtWP/QMuP++1r2alWpKKlRV7nzNLD0YVJRxDtb8Spe+A/Fd1pqW0+tx3MaY/cPM+3jp25/GuQ1nwprGgxiXUbXbCzbRKjBlz+HT8a7r/AIW1Y/8AQMuP++1rN8Q/ESx1zQLrThYTxmZRtcsCAQQR+orKlLExklKOhvXhgpRbjPXpueX63KIdDu2bvEV/E8f1rhNJvG0/WbO8jlMTQTI+8fw4PP1rZ8V6wlw4sbZtyRtmRh0Len4VzVc+LqKVTToduX0HCg+b7R3F5rmm6tfeKreTUY7aHUHi+xTyQv5Yjif5U2opZfkxj5e3NWrnxHosl5qDRX+Y2n0x4meFwZFhXbJwAcEeh/AmvPaK4VFJWX9W/wCGPUk+ZtvqddpWtWEHxB1TUXuo4ra5+2CGaaFnTMgcIWTaSQcjIKn3Fatv4o0m0m01L66tr64jhuYDdWdtJBb2ySjC4jURkkEsWKBThuCSK88oo5Va3y/r7wudw+uaeILyza601Iv7Hktrc2UVyU3mZXCEyguehwegzin3Ou6WL7U7+DU1Jv8ARBapEscgkjlCRKUb5cc7W5BI45rhKKTjdf15/wCYc1nf+un+R3ljqugWXhy5H25Zbu40hrY+cJ2mWU8+WOPKWMYGOpz3HaF/EWnvcTk3ZMbeG0sEBR8ecEX5MY/vA89PeuJoocU7+f8Awf8AME7f16f5BRRRVCCiiigAooooAKKKKACiiigAooooAKKKKACiiigAooooAKKKKACiiigAooooAKKKKACiiigAooooAKKKKACiiigAooooAKKKKACiiigAooooAKKKKACiiigAooooAKKKKACiiigAooooAKKKKACiiigAooooAKKKKACiiigAooooAKKKKACiiigAooooAKKKKACiiigAooooAKKKKACiiigAooooAKKKKACiiigAooooAKKKKACiiigAooooAKKKKACiiigAooooAKKKKACiiigAooooAKKKKACiiigAooooAKKKKACiiigAooooAKKKKACiiigAooooAKKKKACiiigAooooAKKKKAJ7eZYfN3AnfGUGPU1BRRQAUUUUAPileCVZIXKOpyrKcEV0ll4yljUJfQCXH8aHBP4dP5VzFFa06s6b91mFXD06ytNXO0bxnY7flt7gt6EKP61kal4qu71DFbqLaM8HacsR9f8ACsKitJ4qrJWbMaeBoU3dL7wooormO0KKKKACiiigAooooAKKKKACiiigB3mP/eb86PMf+83502igB3mP/eb86PMf+83502igB3mP/eb86PMf+83502igB3mP/eb86PMf+83502igB3mP/eb86PMf+83502igB3mP/eb86PMf+83502igB3mP/eb86PMf+83502igB3mP/eb86PMf+83502igB3mP/eb86PMf+83502igB3mP/eb86PMf+83502igB3mP/eb86PMf+83502igB3mP/eb86PMf+83502igB3mP/eb86PMf+83502igB3mP/eb86PMf+83502igB3mP/eb86PMf+83502igB3mP/eb86PMf+83502igB3mP/eb86PMf+83502igB3mP/eb86PMf+83502igB3mP/eb86PMf+83502igB3mP/eb86PMf+83502igB3mP/eb86PMf+83502igB3mP/eb86PMf+83502igB3mP/eb86PMf+83502igB3mP/eb86PMf+83502igB3mP/eb86PMf+83502igB3mP/eb86PMf+83502igB3mP/eb86PMf+83502igB3mP/eb86PMf+83502igB3mP/eb86PMf+83502igB3mP/eb86PMf+83502igB3mP/eb86PMf+83502igB3mP/eb86PMf+83502igB3mP/eb86PMf+83502igB3mP/eb86PMf+83502igB3mP/eb86PMf+83502igB3mP/eb86PMf+83502igB3mP/eb86PMf+83502igB3mP/eb86PMf+83502igB3mP/eb86PMf+83502igB3mP/eb86PMf+83502igB3mP/eb86PMf+83502igB3mP/eb86PMf+83502igB3mP/eb86PMf+83502igB3mP/eb86PMf+83502igB3mP/eb86PMf+83502igB3mP/eb86PMf+83502igB3mP/eb86PMf+83502igB3mP/eb86PMf+83502igB3mP/eb86PMf+83502igB3mP/eb86PMf+83502igB3mP/eb86PMf+83502igB3mP/eb86PMf+83502igB3mP/eb86PMf+83502igB3mP/eb86PMf+83502igB3mP/eb86PMf+83502igB3mP/eb86PMf+83502igB3mP/eb86PMf+83502igB3mP/eb86PMf+83502igB3mP/eb86PMf+83502igB3mP/eb86PMf+83502igB3mP/eb86PMf+83502igB3mP/eb86PMf+83502igB3mP/eb86PMf+83502igB3mP/eb86PMf+83502igB3mP/eb86PMf+83502igB3mP/eb86PMf+83502igB3mP/eb86PMf+83502igB3mP/eb86PMf+83502igB3mP/eb86PMf+83502igB3mP/eb86PMf+83502igB3mP/eb86PMf+83502igB3mP/eb86PMf+83502igB3mP/eb86PMf+83502igB3mP/eb86PMf+83502igB3mP/eb86PMf+83502igB3mP/eb86KbRQAUUUUAFFFFABRRRQAUUUUAFFFFABRRRQAUUUUAFFFFABRRRQAUUUUAFFFFABRRRQAUUUUAFFFFABRRRQAUUUUAFFFFABRRRQAUUUUAFFFFABRRRQAUUUUAFFFFABRRRQAUUUUAFFFFABRRRQAUUUUAFFFFABRRRQAUUUUAFFFFABRRRQAUUUUAFFFFABRRRQAUUUUAFFFFABRRRQAUUUUAFFFFABRRRQAUUUUAFFFFABRRRQAUUUUAFFFFABRRRQAUUUUAFFFFABRRRQAUUUUAFFFFABRRRQAUUUUAFFFFABRRRQAUUUUAFFFFABRRRQAUUUUAFFFFABRRRQAUUUUAFFFFABRRRQAUUUUAFFFFABRRRQAUUUUAFFFSQeV9oj+07xDvHmbBltuece+KYG5d+HY7fwpDqCyub3CTTwHGEhkLBG+uV5/3lpF8I3TLAv26yFzc2wuYLXe/mSJt3cfLtBwDwSOnFXW8Z/adVvFvLeNdLuomtzHFaxCVIsYjG/AJK4U8tjioIfEVpH4i0u/aOYxWdklvIAo3FhGVJHPTJrNt7r+t/+AUrdf6/rUjuPDKfZ9IGn30VxdahEG8nDg5LsMglQAoC85PUE9KZF4Turqa1SwvLO8S5mNus0TOFWQDdtO5QenQgEH1qxZeI7SzbRLxVuDeaYpiaIKAkiFnJIfdkNhyPun61PH4ngg1myupdX1rUoIJjIYrwA7BtIGP3hBPPXiqd7u3cX+Rnf2EF0++MUlvfSwPCge3lf5GdmG0AoA546g46YJpl74bns4Ll1u7S5ezYLdQwOxaDJxzlQDzwSpODSaRrSaXpd3EEZriSe3miOBtHlsSc8+4q5d6zpaLqs+mrdm51QbXSdFCQKXDsAwYl+QACQvFGt/68v+CGlyhrWhSaFObe7vLWS5VsNBCzMyjqCTtA59M556VlVpeIdRi1bxBd31srrFM+5RIAGHAHOCazaI3tqJhRRRTAKKdsPqv/AH0KNh9V/wC+hQA2inbD6r/30KNh9V/76FADaKdsPqv/AH0KNh9V/wC+hQA2inbD6r/30KNh9V/76FADaKdsPqv/AH0KNh9V/wC+hQA2inbD6r/30KNh9V/76FADaKdsPqv/AH0KNh9V/wC+hQA2inbD6r/30KNh9V/76FADaKdsPqv/AH0KNh9V/wC+hQA2inbD6r/30KNh9V/76FADaKdsPqv/AH0KNh9V/wC+hQA2inbD6r/30KNh9V/76FADaKdsPqv/AH0KNh9V/wC+hQA2inbD6r/30KNh9V/76FADaKdsPqv/AH0KNh9V/wC+hQA2inbD6r/30KNh9V/76FADaKdsPqv/AH0KNh9V/wC+hQA2inbD6r/30KNh9V/76FADaKdsPqv/AH0KNh9V/wC+hQA2inbD6r/30KNh9V/76FADaKdsPqv/AH0KNh9V/wC+hQA2inbD6r/30KNh9V/76FADaKdsPqv/AH0KNh9V/wC+hQA2inbD6r/30KNh9V/76FADaKdsPqv/AH0KNh9V/wC+hQA2inbD6r/30KNh9V/76FADaKdsPqv/AH0KNh9V/wC+hQA2inbD6r/30KNh9V/76FADaKdsPqv/AH0KNh9V/wC+hQA2inbD6r/30KNh9V/76FADaKdsPqv/AH0KNh9V/wC+hQA2inbD6r/30KNh9V/76FADaKdsPqv/AH0KNh9V/wC+hQA2inbD6r/30KNh9V/76FADaKdsPqv/AH0KNh9V/wC+hQA2inbD6r/30KNh9V/76FADaKdsPqv/AH0KNh9V/wC+hQA2inbD6r/30KNh9V/76FADaKdsPqv/AH0KNh9V/wC+hQA2inbD6r/30KNh9V/76FADaKdsPqv/AH0KNh9V/wC+hQA2inbD6r/30KNh9V/76FADaKdsPqv/AH0KNh9V/wC+hQA2inbD6r/30KNh9V/76FADaKdsPqv/AH0KNh9V/wC+hQA2inbD6r/30KNh9V/76FADaKdsPqv/AH0KNh9V/wC+hQA2inbD6r/30KNh9V/76FADaKdsPqv/AH0KNh9V/wC+hQA2inbD6r/30KNh9V/76FADaKdsPqv/AH0KNh9V/wC+hQA2inbD6r/30KNh9V/76FADaKdsPqv/AH0KNh9V/wC+hQA2inbD6r/30KNh9V/76FADaKdsPqv/AH0KNh9V/wC+hQA2inbD6r/30KNh9V/76FADaKdsPqv/AH0KNh9V/wC+hQA2inbD6r/30KNh9V/76FADaKdsPqv/AH0KNh9V/wC+hQA2inbD6r/30KNh9V/76FADaKdsPqv/AH0KNh9V/wC+hQA2inbD6r/30KNh9V/76FADaKdsPqv/AH0KNh9V/wC+hQA2inbD6r/30KNh9V/76FADaKdsPqv/AH0KNh9V/wC+hQA2inbD6r/30KNh9V/76FADaKdsPqv/AH0KNh9V/wC+hQA2inbD6r/30KNh9V/76FADaKdsPqv/AH0KNh9V/wC+hQA2inbD6r/30KNh9V/76FADaKdsPqv/AH0KNh9V/wC+hQA2inbD6r/30KNh9V/76FADaKdsPqv/AH0KNh9V/wC+hQA2inbD6r/30KNh9V/76FADaKdsPqv/AH0KNh9V/wC+hQA2inbD6r/30KKAG0UUUAFFFFABRRRQAUUUUAFFFFABRRRQAUUUUAFFFFABRRRQAUUUUAFFFFABRRRQAUUUUAFFFFABRRRQAUUUUAFFFFABRRRQAUUUUAFFFFABRRRQAUUUUAFFFFABRRRQAUUUUAFFFFABRRRQAUUUUAFFFFABRRRQAUUUUAFFFFABRRRQAUUUUAFFFFABRRRQAUUUUAFFFFABRRRQAUUUUAFFFFABRRRQAUUUUAFFFFABRRRQAUUUUAFFFFABRRRQAUUUUAFFFFABRRRQAUUUUAFFFFABRRRQAUUUUAFFFFABRRRQAUUUUAFFFFABRRRQAUUUUAFFFFABRRRQAUUUUAFFFFABRRRQAUUUUAFFFFABRRRQAUUUUAFFFFABRRRQAUUUUAFFFFABRRRQAUUUUAFFFFABRRRQAUUUUAFFFFABRRRQAUUUUAFFFFABRRRQAUUUUAFFFFABRRRQAUUUUAFFFFABRRRQAUUUUAFFFFABRRRQAUUUUAFFFFABRRRQAUUUUAFFFFABRRRQAUUUUAFFFFABRRRQAUUUUAFFFFABRRRQAUUUUAFFFFABRRRQAUUUUAFFFFABRRRQAUUUUAFFFFABRRRQAUUUUAFFFFABRRRQAUUUUAFFFFABRRRQAUUUUAFFFFABRRRQAUUUUAFFFFABRRRQAUUUUAFFFFABRRRQAUUUUAFFFFABRRRQAUUUUAFFFFABRRRQAUUUUAFFFFABRRRQAUUUUAFFFFABRRRQAUUUUAFFFFABRRRQAUUUUAFFFFABRRRQAUUUUAFFFFABRRRQAUUUUAFFFFABRRRQAUUUUAFFFFABRRRQAUUUUAFFFFABRRRQAUUUUAFFFFABRRRQAUUUUAFFFFABRRRQAUUUUAFFFFABRRRQAUUUUAFFFFABRRRQAUUUUAFFFFABRRRQAUUUUAFFFFABRRRQAUUUUAFFFFABRRRQAUUUUAFFFFABRRRQAUUUUAFFFFABRRRQAUUUUAFFFFABRRRQAUUUUAFFFFABRRRQAUUUUAFFFFABRRRQAUUUUAFFFFABRRRQAUUUUAFFFFABRRRQAUUUUAFFFFABRRRQAUUUUAFFFFABRRRQAUUUUAFFFFABRRRQAUUUUAFFFFABRRRQAUUUUAFFFFABRRRQAUUUUAFFFFABRRRQAUUUUAFFFFABRRRQAUUUUAFFFFABRRRQAUUUUAFFFFABRRRQAUUUUAFFFFABRRRQAUUUUAFFFFABRRRQAUUUUAFFFFABRRRQAUUUUAFFFFABRRRQAUUUUAFFFFABRRRQAUUUUAFFFFABRRRQAUUUUAFFFFABRRRQAUUUUAFFFFABRRRQAUUUUAFFFFABRRRQAUUUUAFFFFABRRRQAUUUUAFFFFABRRRQAUUUUAFFFFABRRRQAUUUUAFFFFABRRRQAUUUUAFFFFABRRRQAUUUUAFFFFABRRRQAUUUUAFFFFABRRRQAUUUUAFFFFABRRRQAUUUUAFFFFABRRRQAUUUUAFFFFABRRRQAUUUUAFFFFABRRRQAUUUUAFFFFABRRRQAUUUUAFFFFABRRRQAUUUUAFFFFABRRRQAUUUUAFFFFABRRRQAUUUUAFFFFABRRRQAUUUUAFFFFABRRRQAUUUUAFFFFABRRRQAUUUUAFFFFABRRRQAUUUUAFFFFABRRRQAUUUUAFFFFABRRRQAUUUUAFFFFABRRRQAUUUUAFFFFABRRRQAUUUUAFFFFABRRRQAUUUUAFFFFABRRRQAUUUUAFFFFABRRRQAUUUUAFFFFABRRRQAUUUUAFFFFABRRRQAUUUUAFFFFABRRRQAUUUUAFFFFABRRRQAUUUUAFFFFABRRRQAUUUUAFFFFABRRRQAUUUUAFFFFABRRRQAUUUUAFFFFABRRRQAUUUUAFFFFABRRRQAUUUUAFFFFABRRRQAUUUUAFFFFABRRRQAUUUUAFFFFABRRRQAUUUUAFFFFABRRRQAUUUUAFFFFABRRRQAUUUUAFFFFABRRRQAUUUUAFFFFABRRRQAUUUUAFFFFABRRRQAUUUUAFFFFABRRRQAUUUUAFFFFABRRRQAUUUUAFFFFABRRRQAUUUUAFFFFABRRRQAUUUUAFFFFABRRRQAUUUUAFFFFABRRRQAUUUUAFFFFABRRRQAUUUUAFFFFABRRRQAUUUUAFFFFABRRRQAUUUUAFFFFABRRRQAUUUUAFFFFABRRRQAUUUUAFFFFABRRRQAUUUUAFFFFABRRRQAUUUUAFFFFABRRRQAUUUUAFFFFABRRRQAUUUUAFFFFABRRRQAUUUUAFFFFABRRRQAUUUUAFFFFABRRRQAUUUUAFFFFABRRRQAUUUUAFFFFABRRRQAUUUUAFFFFABRRRQAUUUUAFFFFABRRRQAUUUUAFFFFABRRRQAUUUUAFFFFABRRRQAUUUUAFFFFABRRRQAUUUUAFFFFABRRRQAUUUUAFFFFABRRRQAUUUUAFFFFABRRRQAUUUUAFFFFABRRRQAUUUUAFFFFABRRRQAUUUUAFFFFABRRRQAUUUUAFFFFABRRRQAUUUUAFFFFABRRRQAUUUUAFFFFABRRRQAUUUUAFFFFABRRRQAUUUUAFFFFABRRRQAUUUUAFFFFABRRRQAUUUUAFFFFABRRRQAUUUUAFFFFABRRRQAUUUUAFFFFABRRRQAUUUUAFFFFABRRRQAUUUUAFFFFABRRRQAUUUUAFFFFABRRRQAUUUUAFFFFABRRRQAUUUUAFFFFABRRRQAUUUUAFFFFABRRRQAUUUUAFFFFABRRRQAUUUUAFFFFABRRRQAUUUUAFFFFABRRRQAUUUUAFFFFABRXp/gDxJba94q0zQ7/wr4bNvIrI8q6aPNO2MkHJJGSV54rnfE3i1b+O90tPDnh+yQTFVuLOwEcyhW7NnjOMHj1pN2dgWquclRXZWfw2vL3yI017w+l3cIGjs3v8AMxyMgYCkZOemaytK8H6tq+uXujwRpFfWUUkksMpOSUOCowDliTx2PrT62DcwqK6PWvBd5ocMAuL/AE24vZpVhOnWtz5txE5HRkA49Op5IrTHwt1YyfZf7U0Uans3f2Yb0faM4zt24xux2zQBxNFauk+HrrVtXl07zbaxlhVmme+mEKRBTg7ie4PatLV/Al9peiPq8GoaZqtjHII5pdOufNEJPTdkDGc0XSC2tjmKK6yy+H17PpdrfX+r6NpCXi+Zbx6jeeW8idmAAPH1rA1bTZNI1Saxmmt53hIBltpN8bZAOQ3frR1sHS5Sord8OeEdQ8TC5ltZLa1tLRd1xeXkvlwxZ6Atg8/hXc6N4auNA+HPjCR72x1C2ubWIR3NhP5sZZWO5ScAgjcOCO9KT5U32HFXaR5TRXRaF4Lv9c02TUmurHTNPjfyxd6jP5Ubv/dXgkn8Kg8ReFb/AMNPbm7e3uba6Tfb3dpL5kMwHXa3HSnsJamJRWt4b8PXfijWo9L054UnkRnUzEhflGSOAT29K34vhdq05e3g1PRZNSRCzaYl8DcggZK7cY3D60PTcFqcVRW/oHg3VvEh1BNNjQz2CqZIJCVdiW27QMYznrkin6r4NvNNv7Oxt7/TdVvLtzGtvp1x5zxsMDa/Awef0PpQBztFdufhZqpme1h1fQ59SRSTp0V9m4yBkrtxjP41haH4V1LXtRuLS3WO3+yKz3U10/lx26rwS5PTnt1/Ki6YGLRXZn4bz/2LPq0fiTQJbK3O2WWK4lba3YHEfBPb1qDTfh3q2p6PZastzYW2n3SSObm6nMaQbH2YckcEnoBnPtQBydFdBZ+EZr7Wr2wi1fR1jsxukvZLwLbsOBlWIy3JxwKfr3gq+0LSodUF5p+pafLJ5X2nT5/NRHxna2QCDSurXDrY5yiuyX4aamtnZ3l9qmj6fa3lvHPDPeXZjVt4zs+7ncBgnAwMjmnzfC3WLKdxqmoaRp1sMCK8u7wJDcZGf3ZwSePYU3o7MDiqK2PEnhm/8LailpqPkuJYxLDPA++OZD0ZW7ity3+GV/dSJbw674fa+kXctiL/ADMTjO3AXGfxovpcDi6K19J8L6trOvvo1nbf6ZEzCZZGCrCFOGLHsBV3W/BzaJpxvP8AhINB1Da4Qw2F75sgJ/2do4outwszm6s2+nX13az3NrZ3E8FuMzSxxMyxD1YgYH411PjfTdbuvGdpYXtrYvqE1tCkUWmIwRgR8vDY+b17fhW4/hDxF/wjh8K2Wq+HhKjtPPp1ren7VcSddr54JUDgAgcfjSvpcFujzGit7w/4O1XxLeX1ppyIt1YxGSSGYlWbBwVHH3s+uPrWpJ8NNSNndS2Gq6NqU9pGZJrOyvPMmRR1+XGDj2NNtJXBauxxtFblh4UvtR8J6h4ggltltNPdUlR5CJGJx90Yweo6kVh0dbB0uFFeq+MNfs/Cd3pVlZeFfDlxHLpkE8j3OnKzszAg8gj0rP8AE3hC01fWvDcnhq3i00+Irbzfs0jny4XAycEAkKc9h2oejt52/r7hJpxv5XPOqK6fVvAl9oWlSXeq6hpdvOmCNPa6/wBJdS2Awjx0PXk9KntPh1qM2nW15qOqaPo4u1328WpXflSSL2YLg8fWhNPYexyNFbOo+FNY0zxGmh3FoWvpWUQpGQVlDfdKnoQfX88Yrobb4V393qEmnw+INAN9ECZLUXbtIhHUYCHJHcDNF9Lh1scLRXT6b4C1PWpdSTRbizv/AOz5IkdoZG2yeYcZUso4GDknHTvUN/4Qms9ZstMg1fR7+a8O0PZ3gdIjnGHYgAUdbBsc9RXX3Hw5v10+7utO1fRdWNnGZZ4NPvPMkVB1bG0ZA9jVTQfA2qeItFm1Syms4rWCfyZnuJvLEXy7i7EjAUDvnPtSugsc3RXat8LdYeGK5sNQ0i/snZllvba8Bht8DJMjEDAx9f1FUNa8DX2j6KNXiv8ATdUsPN8qSfTrjzVibsG4GP8A9XqKLodmczRXYQfDbU5NKstTudS0mxsbyESx3F5dGNQT0Q5XO7vgZHvUs3wt1i1kLXuoaRa2JRXi1Ga822827oEbGSeD2/pTFucVRXQa54T1HwzqVjHdPaXMd4Fktbm3k82CYZHQ45HIzx3rZ8QeHdb8QfFWbRrr+zIdUmC5+zb0txtiDcZBb7o9OtG+3n+AdzhqK7WD4XarPILVdV0VdT2k/wBmNej7QDjO3aBjdjtmsTRPCmp67qdzZW6x25s1Zrua6fy47dVOCXPbmjrYLGLRXZn4bz/2LPq0fiTQJbK3O2WWK4lba3YHEfBPb1rjKLgFFeofDzQNFHhwT+JbeKRvEFydPsWkQExYRsyKT0O/C5HfFcA2h3//AAkTaHHA0l+Lg2wiHGXBx37e9H2uX+v62D7PN/X9aMzqK7C6+HVxaR3G/wAR+HWuLZGaS1W//egqCSuCuMjB4zVXSPA17qmjJqtxqOl6VZSuUhl1G58rziOu0AEnFF0FmczRXb+HNA1TRviRp9jpV1omoXkkbSQymQzWrDY2clRnOAfxxWNo3hjUPE15fPbvaWsFrmS6ubiTyoYQScZOD1IOABQO2hg0V2F38O57Xw9LrQ8Q6HcWUZKb4LiR9z4zs/1fDHsDjrSw/DXVG0yz1G61HSbGxvIFmjuLu6Ma/NnCcrktgZwAR70roVjjqK3fEfhLUPDMlr9sktrm3vE3291aS+ZFKO+DgdMjt3rcn+FOq2V+bTUtY0OwlZgIRc3hT7RkDlBtyRk45A5FMDhqK7Q/C/V7ecw6xqOj6RIZCkK394EM+DjcgAOV9zisLUPC+rad4mOgTWrPqHmBEjjO7zM9Cp9COc/nikmnsGxkUV2snwv1UedDbapo15qECFpNOtrzdcDHUbcYyPTNZnh7wRqviewvLvTTbhbOREmWaTYRuz82SMAAAk5I/GndAc7RXV6j8Pr+z0W41Sy1PSdXtrUj7R/Zt15rQg92GBx9K2oPh3YzfDq11E61o8F7cXn/AB83F2yxrH5f+p4BG/PJ4/GjoHU86oqSaPybiSLekmxiu+M5VsHqD6V6X8MbXwnPeWtpcWn9q6reRStKLqEeTaKqkgBTkMxwDnsPQ9T7Nw62PMKKt6Vp02r6va6dasizXUqxIZGwoLHHJ9Km17Rbjw7rt1pV68Tz2rBXaFiyngHgkD19KAM6ivUvhRYaJc6Bq76/YWtyjXNvbLLNCrtF5pKAqSMryRyK8/1LRLvT/Ek+ilGe6iuTbqoHLnOFx9eD+NH2uX+v61QLWN/6/rQzaK9b+Ieh6NpHw3toNNsrUXVjfx2c94kKiSVxCWfLAZPzHpnt7VxOk+CpdU0uG+l1zQ9NjnJEaX175btg4J2gHAyO+KL3vYdrJeZzVFdHN4J1G18YReHL+e0tLqbHlTTSHyZA33SGAPB6DjrTNP8ABWr6h4ju9GKR2s9irvdS3LFY4FXqzMAeOmDjnNF0I5+iuttbfUk+GOrPANNl0tdQRJJSjfaC4AwUJAG3B788n1qSL4bam2m2WoXepaTYWV7As0VxeXRjXLdE5XJbHOACMd6V1r/XS4HHUV2s3wt1i0lY6hqGkWdltVotQnvAsE+4ZARsZJ/CsrWfBupaJrFjYXMltKNQ2G1ureTfDKGIAIbHTn0p9bB0uc/RWhrmjXGga5daVePE89s+x2iJKk4zwSAe/pWxN4B1SDxtb+F3nsze3ChkkDt5YBUtydueg9KSaaTXUHocvRXbQ/C3V5pGtk1LRv7SVS39mG9/0ngZxtxjOOcE/XFJb/C7V7h1tjqWjxamybxpcl7i56Z27QMA45xmi6HZnFUU+WKSCZ4ZkKSRsVdWGCpBwQa9C8KT2mk/CnVdafRtL1G7h1FIkOoWqzAKVXI9f1obSVxWd7HnVFejO2l+NfAOtak2iWGkano3lyLLp8flRSo5xtKZPPB5+nvXPaT4Kl1TS4b6XXND02OckRpfXvlu2DgnaAcDI74p9bMOlzmqK6q18N6z4e+IunaW8dodQ+0RtAZyXgkyflYkDJU/n+NPbwnrPibxZ4ght0tDfWcks08MG5Udg+CsQx6ngHFG+3n+Abb+X4nJUV2n/CstRaWS3t9Y0S5vIoJJpLSC7MkqbMblIC4Dc464681meF/BeqeLkvm0owAWUYkfzmK785wq4ByTg9cUrodmc9RWvo/hu81uw1S8t5IYodLg8+dpmIyOyrgHLHHGcVueINL1y+sfCVlJbWDtdWgWwWyUrI6kjHmk4G7nqOOpp9Uu/wDwf8hf1+X+ZxlFdhdfDq4tI7jf4j8OtcWyM0lqt/8AvQVBJXBXGRg8ZrO8P+EL/wAQWtxeRz2dhYW5CyXt/N5UQY9Fzg5PsB/MUXuFmYFFb3iHwjf+HYLa5mmtb2xus+Te2MvmwuR1XOBgj0I/kawaACiiigAooooAKKKKACiiigAooooAKKKKACiiigAooooAKKKKACiiigAooooAKKKKACiiigAooooAKKKKACiiigAooooAKKKKACiiigAooooAKKKKACiiigAooooAKKKKAOy+E3/JUNI/3pP/AEU9Yqaf/a3jYaf5nlfa9Q8nfjO3dJjP61U0nVr3Q9Uh1HSpvIu4c+XJsVtuQQeGBHQmq7XMzXRufMYTF/M3rwQ2c5GOnNPTmi30/wAw+y1/XU9Ntbfw9pfxFtvDuk+E5ry7tL1Ize3N7KHJVgTJsXCgDr6ECtbSHaD47+KZIjtZLOdlI7HCHNcFP8TfGFza+RLrUmwgAssUauQOxcKGP581nReLtbh1y71iO9xf3iNHPN5SfOrYBGMYHQdBWMoya+TX32Kur/NfgXfh5cQJ8SNGm1BwUN0Ms5z85B2k/wDAiK6bXPEOjeHvHV01x4GxqdveGVZ21OcGRt+VkC9MHrjpzXmecdK622+KXjO0tEtodckMca7VMkMbtj/eZSx/Ote1uhPe/U1rSz0zxA3ifxp4g06do7SdSdLglKFnc4O98ZAB64GetaNlLZXnwh8V3emeHl0e2cwKrC5km84iQZ++e2R09fauD0nxdruh6jc32majJDcXZJuGKq4lJOcsrAgnJPOO5qxqXjvxLq9tc2+o6o80F1GscsXloFKq24YAAC89xgnvU293lXZf15lRlaSk+9zUsfFmj6xp1jpPjPSHuRaxi3t9RsZNlxFH2Ur918e/5E1keM/Dg8K+KbnS47j7RHGFeOQjDbWAIDDseauWPxK8WadYwWlnqoSG3QRxA20TFFAwAGKE/rXO3t7c6ley3l/PJcXEzbpJZGyzGm9ZXEttTt7NXuPgNepYBi8GrrJeKvXy9gCk+2cflU3gqG5X4V+NZnVxavFEqMfulgTux74I/SuO0LxJq/hq6e40O+ktJJF2vgBlce6sCD+Iq/f+P/E+qW9xBfaq8sNzEIZIvKRVKg5wAFwvPcYNErtSS6r/AC/yCLta/T/O52tzd6TB8IfDVzd+HRrVpC00cpF3JCLeUt/Fs659T/WuW8R+LrbVvCVlo+m+HxpVla3LSxMLl5gSQdygsP8AaB61k6D4t13wwZP7D1GS1WX76bVdGPrtYEZ98Ua/4s1vxQ0J12+a68jPljy0QLnGeFAHYUSV233FHRJdjovg3n/hZdnt6+TNj/vg1Q8KWGqD4qWFuI5hfQ6gGnBB3KFfLk+2M1e+D3/JSLT/AK4zf+izVGX4leLvsklkNbmEJUxlhGnmbfTzNu/8c5qm7Si12/ViSvGS8/0Oz067RdX+J9zpr7ALeUo6HvuYEg/XNcr8JJYIviRYeeVVnSVIWbtIUIH+H41zWn65qOlWt9bWFx5UWoReTcrsVvMT0yQSOvUYqjHI8UqyROyOhDKynBUjoQaiK5dPK35/5jn71/W/5HReH7DVR8SLG18qYajHqCGQEHcpD5Yn2xkk+ld5aXNpffEjxxp6xl9Iu7aR7ySA4kjEeMsgwdx3k8d85+vFSfE3xjLZNavrcuxk8sssUYkI/wCugXd+Oc1ufDmO5Xw5q9z4VMLeKxIiQLIybxAcbigf5Sc9ev8AiW016J/jZDvr6tfgZF34i0HTvCN9ofhiLUZTqUkbXNxqARdqocqqqhPfqSf/AK13xJcSr8HPB9urkRSS3TsvYlZCAfw3H866yK/8VxaLqr/FOWEaS9k6w29wsAklnP3NgQbsj9OvbjyS51m/vNJstMuZ99nYlzbxbFGzectyBk5PqTTvdOPo/wAylpZ+v5HTeHdE0a38EXnirXbOfU1huxaRWUcpiTJUHe7gZA5wMd/rx0F61tcfAu/ubHQ10e3l1KMxxiaSXzMYG8FyT7cccVwug+Ldc8MrMuiX7WyT48yMosisR32sCM+9Sap418Q61aXFrqmpyXEFwyNJGyKBlfu4wPlHsMClNc23l+FiYu34/qbvxKldrLwjEWJjTQoGVfQnqf0H5VJ8SXY6D4MQsSo0aMgehIH+ArjtS1m/1dbQajP5ws7dbaD5FXZGvReAM9ep5p2pa3qGrwWUOo3HnR2MIgtxsVdiDoOAM/U5NVLV6d7/AJ/5juvwS/L/ACO91vSv7eh+HemPN5QurIRGTrtBYf0qxoqeH7X4l2uhaL4SmmuLK9CG+uL2XzBsb5pSi4UAYzjoePWvPLrX9UvI9OSe7YjTECWhRQhhAORgqAc5HU81tXHxO8YXMQjl1qTAZWykMaMdpyMkKCRx0PB70R91382/vd0RbS3kjsbFGn1f4nWliu7UJVkMKIPmdBI28Ad+o/SvJNjkMQrYX7xx0+taCeINVi199ahvZItReUytPHhSWJyeBxg+mMVo634+8TeItPNjrGpm4tiwcxiGNMkdMlVBNQotJeiRpKSlJvzbPT5pYIv2gNL88qrPpqpCzdpDGwH+H415j4fsNVHxIsbXyphqMeoIZAQdykPlifbGST6Vm6pr+p61qUeoajdtLdxqqJKqqhUL93G0Dp69a2ZPib4xlsmtX1uXYyeWWWKMSEf9dAu78c5qo3i7+v53M7XTj3t+VjuLK6hPjz4i3GmuFVdNn2snHzgAMR/wIGuY+Dp/4uAg7G0nB9/krk9M1vUNHS8XTrjyRewNb3HyK2+M9RyDj6jmk0fWtQ0DUBfaRcfZ7kIyB9itwRgjDAiko2jbyt+f+Y5O/wB9/wAv8iOHTr+bTZ72C1uHsoWCzTKhMaE9Ax6Dr+tVK07XxFqtjoV3o9rdtHYXjBp4Qq/ORjvjI6DoazKrqHQ9d8da7oOlahoy6n4Wi1W8Gk27pcS3kiKFw2FMY4ODk8+tYnhbxNfeKfi9od3qAijWN/KgggXbHCgVsKo9K4zVta1DXJ4ZtUuPPkggW3jOxV2xrnA+UD1PPWo9M1O70bU4NQ02XybqBt0cm0NtOMdCCD1pr4rvuTZ8nL5WL/ia4M/jjVJrxml/0+Xfk8kByMfkMV0Xxfjnbx0brlrO5toWs3HKtHsH3T9c/n71xFzcy3l3Nc3Lb5pnaSRsAbmJyTgcdTW/pPxB8UaJp6WWm6s6W0ZzHHJEkuz/AHd6kgewqErRS7Ft+833O01i7vNHv/hyixK+s29uoeCU7TtdlVFb043D2qDUdU8K+CvH2o6jYxatc6vbyy7IZQi26yuCGO775Ubjj5ef1rB8EXdvrvxFiu/FV0LiaQM8b3UmFeYD92GPYZ6DpwB7V3Njd/FkavE2tzRWumJKGupLgWywrFn5vmxkjHpzTf53/HzEra/L8DkfB91ND8NvHM0TlJHjtlJX0Z2DD8QSKyfAXhyz8Sa3cx6k0/2Wys5LuSO3H7yUJj5F9zmjxJr6Q654hs/DEqw6LqU43xJGu2QIcjGRlRuyRjHBrF0nWNQ0LUUv9IuntbmPIWRMdD1BB4I9jQnzPm7pfkXLs9df8j1L4dXekalqOrSaJ4UGmxRadKsl0byWY8gYQ7vl5xnp2rntKkZPgPrgViA+qRK2O4wh/pWVP8S/F1zIrS6w/wAqsu1YY1Uhhg5UKATjuRkdqxYtb1CHQZtGjuNunzyiaSHYvzOMYO7GR0HeolFtv5fg7iTt+P5WOw0R2T4F+JArEBr+AHB6jKVX0An/AIU74sGePtFocf8AA65eHXNQt9CudHhuNthdSLLNDsU7mXGDnGR0HQ0231m/tdHu9Kgn2WV4yNPFsU7yhyvJGRg+hrT+bzt+Fv8AIjt5X/G/+Z2Xj92/4QbwOm47PsDnb2zleab43kf/AIV14Hj3HZ9mnO3PGdyiuR1DXNQ1SysbS+uPNg0+MxWybFXy1OOMgAnoOuaS+1rUNS0+xsb248y209GS2TYo8sMQSMgZPQdc0unzv+f+YK6aflb8v8jr9ZYt8PvARYkkS3I59POFdWf+ToB9P/bWvJptb1CfT7CxluN1tpzM1qmxR5ZZtzc4ycn1zVv/AIS/XP8AhKP+Ei+3f8TX/n48lP7mz7u3b93jpVt+83/i/EfRryS/EveDpZJvilpcsrFpJNRVmY9SS3JrrdDdZvH3jnS7uJm0y6S5kvHiOJY0RyQyDByctjHv7c+Z2Oo3WnanDqFnL5d1DIJY5NoO1gc5wRivQ/A1xqF9pWu6roMkM3jKa4BUyFFfyWOXZFbC5Jznjj8qiy5bdk/xsim05trq1+F2YV34i0HTvCN9ofhiLUZTqUkbXNxqARdqocqqqhPfqSf/AK3LWVnNqF/b2dqu6a4kWKNfVmOB/OvYor/xXFouqv8AFOWEaS9k6w29wsAklnP3NgQbsj9OvbjyHS9Tu9G1OHUNNlEV1A26NyivtOMZwwI7+lEX72v9f1YUr8uh6j4s1HwTYX+n6Hfy68JfD0awxvpvkiPzOGZvn53Z6+4rN8fXYtvEWjePfDRZYtQQSq0ij5Zo/lZWA4yRgEexrzq4uJbu6luLhzJNM5eRz1Zick/nWnZeKta0/T7aytL0x29pc/aoE8tT5cuMbgSM9zx09qEno3vv/mDtqlta3+R2Fhb+HfiVeXMUWmy6JrzRPcebbuXtpmAySynlMn0/Mng4mjeL7BdCg0HxTo66np1u7PbyRSGKe23HLbSOGGecH8+lR33xJ8WajYy2l1q7eTMNsgigjiLD0LIoP61DpHj/AMS6FpsdhpeoiK1iJKRtbxSbSTk4LKT1NCX3Bc7fwz4atPDvxe8OvpdzNPY6jaPdW4uFCyorRPw4Hf3rI8CGK70fxZpuqxynSDALm5ltz++jZHyu0Yw2T64HHWuXHjDXv+EkTX21GR9TQEJO6q20EEYCkbQME8Y712XgVdRXwXe3fgkwv4oe72z7inmLbYz8ivxgt14/kKbu18v10+7T7h3W3mvwTv8AeYGqeI9GtvBr+HPDMN88Nzci5ubi/CKxKjAVVQkAcDnNaPxDkY+EvBEZY7Bpe4D3O3/AV0l7feJY/B2tj4ozW/lS2pXTreZYRM0/8LKEGRjuT/jXlmo63qGq2tlbX9x5sVhF5NsuxV8tPTIAz075rNq7+d/wa/yDb8vyZ1+vDPwa8Ik9RdXIB/4Gaj+MEryfEy7V2JEcUKoD/CPLBx+ZP51yk+uajc6LaaTPcbrKydngi2KNhY5JyBk8+ppur6zf69qkmo6rP591IFDSbFXOAAOFAHQCtb+/zebf5AmrW8v1udh8ZXZviAwZiQtpCFz2G3P8ya7ITQJ8e9Ha6I3PpaLGW/56GJsc/nXj2s63qHiDUDfavcfaLkoqF9irwBgDCgCnanr2paxqEV9qF00l1EiJHKqhCoX7uNoHT161motJer/G/wDmTLX7v8v8jtovFWkeG/Fe+DwEbfV7WZgM6nOzbzkH5TnOc+nOaXSL97r4a+Pb2NPs5ubqFzGp+6HkOVz9DisZfir40W2EA1yQqF25MERbH+8V3Z985rAt9c1G00i90yC522d8ytcx7FPmFTkckZHPoRTt7rX9br/Iq/vKXnf8zrPh0f8AiQ+Mx2/sWQ4/Oi8Uv8BdPKgsE1p9xH8P7tutclp2tahpMF7Dp9x5Md9Abe4GxW3xnqOQcfUYNXdC8Y694agmh0XUGt4ZmDPG0aSKT64cEA+49Kp6/cvzuZpWd/P9LGHXcfCL/kolv/17z/8Aos1xlxcS3d1LcXDb5ZnMjtgDLE5J496s6RrN/oOorfaTP9nuVVlD7FbAYYPDAjoaOj9H+Q3uVreCa5uI4LWN5ZpGCxpGpLMx6AAdTTry1ubK8lt7+GWC5jbEkcqlWU+4NLY3txpt/Be2UpiuLdxJE4AO1gcg88VJqmqXmtanNqGpzGe6nIaSQqF3HGOgAA4A6UDOt8PMyfCHxWyEqy3NmQR2PmV2Udta6ne6b8S7hVNvbaa012mPvXcXyKPxJGP90V5Fb6zf2uj3elQT7LK8ZGni2Kd5Q5XkjIwfQ1JH4g1SLw9Locd2w02aUTPb7RguMc5xnsOM44old3t/Wlv+D9woq2/9a3/r5nYajdTX3wQW7uX3zT6+8kjHuxjJJp2taV4c8Gf2dptx4fm17Uby1juGnku5Iky/ARFjwT07nNcUdb1BtAXRTcf8S9Z/tAh2LxJjGd2M9O2cVsWXxH8WadpsVhaaw6W8KbIg0UbMi+gYqWH58UPy8vysO+1/P8Xc6L4s2U8nivQbS1tGjuX0uCNLeMlmVtzAICeTg8V03iv7TqHgy+0bT7yG58R2NvA2t+THh7mNQflDfxFcjPr+OK8tXxnr66taamb/AH3tnB9ngnkhR2ROfVTk8n5jzz1qnp2vanpOs/2rYXkkV9lmMxwxYt97IOQc570mrq3q/wDL/gjvZ3XZL/P/AIB1mmf8kI1r/sLRf+grTviHIx8JeCYyx2DS9wHudv8AgK5M+INTOkXWl/aFWyu7j7TNCsSKGk9RgZHToMD2pmo63qGq2tlbX9x5sVhF5NsuxV8tPTIAz075qOV3v53/APJbBt+P53Ow8fux8D+B0LHb9gc4z3ytWNUfHh/4bM7YAaTJJ6ATJXD6hrmoapZWNpfXHmwafGYrZNir5anHGQAT0HXNNvNZv9Q06xsbufzLbT1ZbZNijywxyeQMnkd81qtH87/n/mQ1dW8rfkdJ8RbG6l+K2p20UEjzXFwvlIF5fcq4xXc6kpX9pLS1PURID/35avPh8TPGAsBaDW5vLEflhvLTzAv/AF027vxzms9vF2uP4ig11r7OpQKFjnMScALtHy4weD3FRGPKox7f5WLk73fc6LwlI8nxygkdiztqUxJPf79RaRI7fHGJ2YljrTZOev7w1y9nrV/Ya2ur2k/l3yyGUS7FOGOcnBGO57UkOsX1vrg1eGfbfLObgS7FP7zOc4xjr2xinTTjy36f8D/IU/e5rdf+D/mWPFf/ACOWtf8AX/P/AOjGrt/CV5p9j8GtYm1jS/7UthqkYNt9oaHJ2rg7l54rzi7upr68mu7p9888jSSPgDczHJOBwOTVqLW9Qh0GbRo7jbp88omkh2L8zjGDuxkdB3qeV8nL6fmh3965ta143N9oZ0TRdJtdF0t3EksMBLvMw6b3PJ7flW1rWleHPBn9nabceH5te1G8tY7hp5LuSJMvwERY8E9O5zXnddPZfEfxZp2mxWFprDpbwpsiDRRsyL6BipYfnxVW0F1O+8SxeT8YfBaG3Fsy2tqphBJ8vDt8uTycdOaq+H55bbxr8RZ4HMcsdpeMjjqpDnBrzybxVrVxqlhqU980l5p6KltM6KSgUkjPHzck8nJNNh8T6vb3epXUN3tm1RHjvG8pD5qucsMYwM+2KOn/AIF+I9E1/wBu/huX/h7qo0fx9pVzIf3TTCGTnja42HPtzn8K726nHwuttPtY/ke81yS5mGM/6LGxQD8QcivHlYowZSQynII7GtPXvEeq+JryO71y7N1NHGIkYoqYUEnGFAHUmm+n9ab/AJi7/wBd1+TPRfGmlR+DPBmt2kQUHW9XHk7eP9HUCQfgCcVneLtTudG03wBqNiwW4ttNWSMkZGRjgj0rjNY8Tavr9vZw6veNcx2Ufl24KKuxcAdgM9Bycmnt4q1lpdLkN6d+koEsmEaDylHQdOenfNRytNeT/JWG3da9n97dzsLC38O/Eq8uYotNl0TXmie4823cvbTMBkllPKZPp+ZPBu2V1pkfwR02a60Ia3Da30ouoxcyQ+Q5J2uxTr8pA59RXJ33xJ8WajYy2l1q7eTMNsgigjiLD0LIoP61maF4n1nwzO8uh38lo0gw4ADK/wBVYEH8qq2jXoF9mbeteLrK/wDBf9iaV4b/ALMshdi4Egu5JgJNpBHzDuO2fwrjq3df8Z6/4nhii1zUGuo4W3InlogBxjOFA5rCoQNhRRRTEFFFFABRRRQAUUUUAFFFFABRRRQAUUUUAFFFFABRRRQAUUUUAFFFFABRRRQAUUUUAFFFFABRRRQAUUUUAFFFFABRRRQAUUUUAFFFFABRRRQAUUUUAFFFFABRRRQBpWPh7WtUt/tGmaPf3kO4r5lvavIufTIBGar3+mX+lzCLU7K4s5CMhLiJo2I9cECu8t9SvtL+BUE2mXtxZytrTKZLeVo2I8s8ZBHHFT3V1qd/8EbybxY80sq30Y0ya8yZWzjfgnkjG7n6+lKWl/K342/zBa287/hf/I8yor0S/wDB/hLw/pWk6lr+oaoyalYxTJaWYjMvmEZdssAoQZAA69eeKzdK8MaGnh+bxJ4jur6DSpLlrext7YIbicjuSflAA6+4PtlvRtdv+GDt5nG0V2Or+GNGufCj+IvCF1eSWttKIby2v1XzYS33WyvBU1ZPhjwz4e0LTrnxjdao99qUQuIrXTRGPJiP3S5cdT7f0zSuBydzo1/Z6TZancwbLO+Li3k3qd+w4bgHIwfUCqNekePrOzs/h74Ph0y6a6s2a5eGV12sVZ1bDDsRnB9xXMeOdBtfDPjC80qwkmkggCFWmYFjuQMckADqfSm936v8CraJrtf8TnqK7PXfAyW/i3RND0R5pJNTs4JiZ2B2s+d3QD5QBn1qXVNN+H2kTXOnSXuv3d/bbo2ngSFYGlHoD82M8UPT+uxMfe2/q5w9FesajF4Nh+FegPdRa19jmuJnjMDRCVpOjF8jGOOMdsV5QcZOOnbNK/vNdgtomJRRRTAKKKKACiiigAooooAKKKKACiiigAooooAKKKKACiiigAooooAKKKKACiiigAooooAKKKKACiiigAooooAKKKKACiiigAooooAKKKKACiiigAooooAKKKKACiiigAooooAKKKKACiiigAooooAKKKKACiiigAooooAKKKKACiiigAooooAKKKKACiiigAooooAKKKKACiiigAooooAKKKKACiiigAooooAKKKKACiiigAooooAKKKKACiiigAooooAKKKKACiiigAooooAKKKKACiiigAooooAKKKKACiiigAooooAKKKKACiiigAooooAKKKKACiiigAooooAKKKKACiiigAooooAKKKKACiiigAooooA9P0jxFqnhr4IxXeiXRtZ31ho2cIrZUx5x8wI7CuD1nxFq/iG4WbWtQmvHX7gkb5U+ijgfgKzKKHq7/wBbAtFb+t7nc/En/j38J/8AYAt/61c0+0k8a/C+x0TRmjfV9IupJDZvIqNNE+TuXJAOCf09xnzqih63v1d/xuNvVPt/lY9Gn02bwN8NNX0/XWjh1XWpYVishIHeOONtxdtpIGeR+X4WvEfh7UPiDpuh614WjS+MVhHZ3cCzIrQSJnqGI4Of6968voo1e/8AVlYW23n+P/DHo/jzT/7H+HvhCwaeKeS3e6ErQuHVX3qWXI4OCcfhV3x14K1fxV4qfX9ASC70m9iidbwXEapGAgVt2TkYxk/48V5XRQ7vV92/vKvol5W/G57B4i1ey8P/ABe8LX8k6y2MOmwIZ05UowkXePbBzXOa58MPET6lfX+nwwXelO7zx3yXUexoySwbls9PauCopNX166/iSrLTpp+B6bHol/4u+EOh2nh6Jby5067nFzCJVVowzEgncRxjFeZspVircEHBpKKf2m+4+lgooooEFFFFABRRRQAUUUUAFFFFABRRRQAUUUUAFFFFABRRRQAUUUUAFFFFABRRRQAUUUUAFFFFABRRRQAUUUUAFFFFABRRRQAUUUUAFFFFABRRRQAUUUUAFFFFABRRRQAUUUUAFFFFABRRRQAUUUUAFFFFABRRRQAUUUUAFFFFABRRRQAUUUUAFFFFABRRRQAUUUUAFFFFABRRRQAUUUUAFFFFABRRRQAUUUUAFFFFABRRRQAUUUUAFFFFABRRRQAUUUUAFFFFABRRRQAUUUUAFFFFABRRRQAUUUUAFFFFABRRRQAUUUUAFFFFABRRRQAUUUUAFFFFABRRRQAUUUUAFFFFABRRRQAUUUUAFFFFABRRRQAUUUUAFFdf4Z8PCa0N7LbtO20uF2bhGg/iP+JruvDXg248W3DQIiR2kY/ezSJuVfYDufas/aa2SPNnj0qvs4Rv0PFqK6Xxt4ZHhvXJreGRJYlkKbozlQw9P88ciuaqoyUldHfCanG6Cir1zo9/Z6XZ6jc2zR2l7u+zykjD7Tg8dR+PWqNUWFFFWdOsZNT1S1sIGRZbqZIULkhQWIAzjtzTSu7AVqKmu7Z7O9ntpSpeGRo2K9CQcHH5VDUppq6DYKKv2Wkz3+nahewvGsenxrJKGJywZwg28epHXFUKYBRRWjpGhanr00sWk2j3LQxmSQggKijuSSAP60bagZ1FWrDTrrVLo29jF5kgR5CCwUBVUsxJJAAABqaXQtSg0OLWJ7R47CaXyo5mIG9sE8DqRwecY460AZ9FFFABRRVnT9PutVv47KwiM1xKSEQEDOBk8njoDQBWooooAKKKKACiiigAooooAKKKKACiiigAooooAKKKKACiiigAooooAKKKKACiiigAooooAKKKKACiiigAooooAKKKKACiiigAooooAKKKKACiiigAooooAKKKKACiiigAooooAKKKKACiiigAooooAKKKKACiiigAooooAKKKKACiiigAooooAKKKKACiiigAooooAKKKKACiiigAooooAKKKKACiiigAooooAKKKKACiiigAooooAKKKKACiiigAooooAKKKKACiiigAooooAKKKKACiiigAooooAKKKKACiiigAooooAKKKKACiiigAooooAKKKKACiiigAooooAKKKKACiiigD2v4V+MbfRLOKK6iSSyuUWKdguWQqMZ9x6j3rrfFXjOx0vT/7F8H+XHGwJkng+6oPJCn19T2/l866bqtzpkhMBBRvvI3Q1rv4xlMeI7RFf+8zkj8sCsJxk9EeROjiqd4UtU9n1V9yx4wnQWkEGcu0m/8AAAj+tc7penzatq1rp9sMy3MqxLx0JOM/Qdaiurqa8uGmuHLu3f09qhrWC5VZndhqLo0lC+p6hqt1pHiOw1fQNIu7qdrGJJdOhkt1RFFuu1wjhyXLrub7o6Vqa2NZGvap/avmjwv/AGTk7v8AUbvIG3H8Pm+ZjH8X4V43V/WdWn1zVpdQu0jSWVUVliBC/KgUdSeyii2/n/VzqvZry/4B3l3q23xF4R0zUrny9GNlYyXEBO2KQ7R80g6NjC9egFXtP/tvzo/+E28/z/7ctP7N+1fez5v7zy/+me3HT5emK8moqut/O/43/wCALpbyt+D/AMz1HW4tWudO8QxeK5XjtJb+JdLluT+7UmXloc8bPLyTt4xjvWlqNo0Gianba+mqSWNpf2iRz6pcBkkQShXeGMKNiFT1BIII7145RUxjZJf1pYJa3PWdWOujTPGI18XH9l7o/sW//V+V9oTHk9tmzb93jpnmmaz/AGkZPEv9p5/4Rf7E39mZ/wCPfdx5Hk9t3rt9815TRRy6W/r+uw7/AJlu2uLSKxvIrmxE88yqIJ/NZfs5DZJ2jhsjjnp1rc8AXE6eLLa3SaRYZFlZ4wxCsRDJgkdCRk/nXMUU5K6aEdNpf/Eo8EanqR4n1Jxp1v67OHmP5bF/4EaGuZ7j4aTfaJpJfL1SCNN7FtqiGTCjPQD0rmaKe9/l+H9fiK23lf8Ar+ux3HgIamfDnij+wRJ/aAgg8nyf9Z/rOdnfdjOMc+lbzRXNzcS2d2rS+IbnwzJHcxdZZZfMBRWHUyeWBkHngV5xaatPZaTqGnxJGYtQWNZWYHcux9w28+vrmqFKSurf1s1+o46O/wDXT/I9a0q2vdB0jRFuYjb3kGk6rL5Uq/NGfvLuU9D0ODTPCusX92/hS9vdQnlupbu+tmnkmO908tCqFickbjwD3xXlFFFr/wBebf62Baf15W/4J6PZ/wDCWDw6Ro/9pDxANSP9p/f+1bdieTvz83l/e6/L61q28s03iTVtM0G11O2tJr9GOraGp2RS+WA6yYG1ogxZsbhjrzXkdFFtf68v8g6f15/5lnUIzDqV1GZ1uCkzqZlORJgn5h9etVqKKErKw3q7hRRRTEFFFFABRRRQAUUUUAFFFFABRRRQAUUUUAFFFFABRRRQAUUUUAFFFFABRRRQAUUUUAFFFFABRRRQAUUUUAFFFFABRRRQAUUUUAFFFFABRRRQAUUUUAFFFFABRRRQAUUUUAFFFFABRRRQAUUUUAFFFFABRRRQAUUUUAFFFFABRRRQAUUUUAFFFFABRRRQAUUUUAFFFFABRRRQAUUUUAFFFFABRRRQAUUUUAFFFFABRRRQAUUUUAFFFFABRRRQAUUUUAFFFFABRRRQAUUUUAFFFFABRRRQAUUUUAFFFFABRRRQAUUUUAFFFFABRRRQAUUUUAFFFFABRRRQAUUUUAFFFFABRRRQAUUUUAFFFFABRRRQAUUUUAFFFFABRRRQAUUUUAFFFFABRRRQAUUUUAFFFFABRRRQAUUUUAFFFFABRRRQAUUUUAFFFFABRRRQAUUUUAFFFFABRRRQAUUUUAFFFFABRRRQAUUUUAFFFFABRRRQAUUUUAFFFFABRRRQAUUUUAFFFFABRRRQAUUUUAFFFFABRRRQAUUUUAFFFFABRRRQAUUUUAFFFFABRRRQAUUUUAFFFFABRRRQAUUUUAFFFFABRRRQAUUUUAFFFFABRRRQAUUUUAFFFFABRRRQAUUUUAFFFFABRRRQAUUUUAFFFFABRRRQAUUUUAFFFFABRRRQAUUUUAFFFFABRRRQAUUUUAFFFFABRRRQAUUUUAFFFFABRRRQAUUUUAFFFFABRRRQAUUUUAFFFFABRRRQAUUUUAFFFFABRRRQAUUUUAFFFFABRRRQAUUUUAFFFFABRRRQAUUUUAFFFFABRRRQAUUUUAFFFFABRRRQAUUUUAFFFFABRRRQAUUUUAFFFFABRRRQAUUUUAFFFFABRRRQAUUUUAFFFFABRRRQAUUUUAFFFFABRRRQAUUUUAFFFFABRRRQAUUUUAFFFFABRRRQAUUUUAFFFFABRRRQAUUUUAFFFFABRRRQAUUUUAFFFFABRRRQAUUUUAFFFFABRRRQAUUUUAFFFFABRRRQAUUUUAFFFFABRRRQAUUUUAFFFFABRRRQAUUUUAFFFFABRRRQAUUUUAFFFFABRRRQAUUUUAFFFFABRRRQAUUUUAFFFFABRRRQAUUUUAFFFFABRRRQAUUUUAFFFT3Njd2QiN5azW4njEsXmxlfMQ9GXPUH1FAEFFFFABRUkEEt1cJBbRPNNIwVI41LMxPQADqadc2txZXL295BJbzxnDxSoVZT6EHkUAQ0UtT3ljd6dcG31C1mtZgATHPGUYA9Dg80AV6KKKACiiigAooooAKKKKACiiigAooooAKKKlgtp7kyC2hkmMaGR/LQttQdWOOgHrQBFRRU1xaXFoYxdW8sBlQSR+YhXeh6MM9QfWgCGiipZLaeGGKWaGSOOYFonZCFkAOCVPfkEcUARUUUUAFFFSzW09usTTwyRLMnmRl0IDrkjcM9RkHn2oAiooooAKKKKACiiigAooooAKKKKACiiigAooooAKKKKACiiigAooooAKKKKACiiigAooooAKKKKACiiigAooooAKKKKACiiigAooooAKKKKACiiigAooooAKKKKACiiigAooooAKKKKACiiigAooooAKKKKACiiigAooooAKKKKACiiigAooooAKKKKACiiigAooooAKKKKACiiigAooooAKKKKACiiigAooooAKKKKACiiigAooooAKKKKACiiigAooooAKKKKACiiigAooooAKKKKACiiigAooooAKKKKACiiigAooooAKKKKACiiigD2qPW20f4S+HfL8UHQmltp9sQ0/7T9qIY/LnHydcZ/wBr2qrZ+DPBdj4c0c6+9rFJqVj9oe8mvZI5UZhkeXGBsYAkDk15dea3qGoaXY6dd3HmWtgGFtHsUeWGOTyBk8jvmtXTvH/ifStKTTbHVGS0QFUjeGN9gPUBmUkfgaUtXJrr/wAEI6KK7HQazpXhvwt4Q0c3GiPqt/q1k04vGu5I1hYgYwi8MBkcH09669dM8PeIbzwnoesaVJcXVz4fjZLxblk8gKhIwo4Y5z19q8ttfHXiSy0FtFt9UddPaNo/JaNGwrDBUMQWA57Go4PGmv22o2N/Df7bnT7YWls/kxny4gCNuNuDwTycmm9U1/Wz/wA0O+mn9ar/ACZ3/gzwPo91YaZb+I9Ks/N1Mym3nOozLcSKoJDLEq7OMd2/wPL/AA4gFr8XdNgU7hFcyoCe+EcVSsPiL4r0ywhsrHV3jggOY18mNivOcZKk49s4rHsNav8AS9aTVrGfyr5HaRZdithjnJwRjue1LXmTCVmmkdb4MtIr740C3nMqxvdXWTDM8TcK54ZCGHTsa19B0HwwPC+i3+s6M+oXWp6s1izfa5IwAXIDnB5Ix04znmuYuPib4uurq1uJ9WDS2jmSFvssI2MVKk8JzwxHNZUfijWIrGzs47zEFjdfa7dPKT5Jc53Zxk89jke1EVyqK7JL8f8AIcne/n/k/wDgHfeI/DHhaLR/FUOlaVNa3nh+WALdNdO/nCRuQVPAxyPXpzXRT2ek6d4m8W/aNOk1D7Poay5ubyV2ZCvzJuYlhnjnPHavIZ/FmtXI1QT3u7+1mRr390g80ocr0Hy49sVaj8feJoddk1iPUyt9LCIHk8mPDIOgK7dvb0pWdkv62t+YNrp3/Vf8E7jQfDHg9vCllrutWtrDFqd3KNt1fzRi1jDEBIyoO9gBn5sZrzHWLe1tNbvbfTp/tFpFO6Qy/wB9ATtP5Vs2PxE8U6cbj7JqrKLmZp5FaCN1LnksAykL+GK564uJbu6luLh98szmR2IxuYnJP50/tXFdWsRV0PgL/koOif8AX5H/ADrnqs2F/c6XqEF9YyeVc27iSJ9obaw6HByD+NUnZ3IkrxaNHQ9NbU/Ebx+RBNFD5k04uZWjjWNQSzMy/MAPbmtDxdpem2ulaLqGlrar9uSYSizaYwko+AV875xwcHPGRxVFfF+rx3CzwGxgkUMC0Gm28e8MCGVtsY3KQejZFVdV8QalrcdvHqM6yR2oKwRxwpGsYOMhVQAAcDios9DSUryb7nX6nbprDeEdPtNHsd8mnrKxMsqAIskpdSd5AXALE4Leh7VatPDXh6/u9Bm+z2jwXb3sdwunS3AjbyotykGb5gwJ+h4964228WazZw2UdvdIv2An7M7W8bPGDnK7ypYqdx+UnHPSpH8Z668lq4u44/sfmfZ0itoo0i8xdr4VVAGR7e/WqlfW3n+Io2Vr9v0NrSbLQ7/SNS1y5sdOsooZ4raC3uZbtoV3BmLMY9zliFx1Vepx2qRdI0FL291CyTTbjRGnjht5b+W7UCQoGeNFjAkbGcbmGMY65rlNL1y/0cTrYTIsdwoWaKWFJY5ADkbkcFTjsccVdh8Y63A0piuIAJZVmKmzhKpIq7QyKUwhAAGVxR1/ryF0J9Y8O+T8RbnQdJhMwF75METvjIJ4Ut9O9dIvhTRNYh037KLGFpdZWxmbTJbh18soWIJm6t8vVeOa4eTXNSk17+2mum/tHzRN54AB3jvgDH6VavPF2tXsEUMt2kcUM4uY0t7eOAJKM4cBFGDyee/4ClG6ik/62CWrdv63/wCAaVlHY61rUgstA0+ytLFJZp/PurjZ5YwAZDuLEgkfcAJJ6V01hp2labqxurS2hltrvwzc3E0FrJN5chBZSEMn7wAhe/I5xXGHxrrhumuPPtRI6usmLCACYPjd5gCYfO0fez0pP+E18QDUI75b/bcRW5to2WCMBYiclAoXGMn06cdKHe1v66/8Aq6vf+t0/wDM6DTdB0bWrHT9YbT1tI1W8NxYwTSbbjyIxIu0uWZc7sHk9OMVla6tvrHheDxGlsbS6a9aznQTySrKAgZWBkZmBA4PJHTpWdJ4q1mS+s7sXYhksQRbLbwpEkWTzhEULznnjnvmoNU13UNYjhjvpYzFBnyoYYEhjTJySEQBcnucZoeu39f8P+AlbqdfYaL4XsdH0ZvEE1mg1G3eeeaVrrz4wWZV8oRqY+NuTvzk56DFY3iQAeEvCoU5H2W4wfX/AEh6oWXinVrCwjsoJoXt4mZokuLWKbyieuwupK59sVRuNRuruztLW4l3w2aMkC7QNgZixGQMnkk805a/f/n/AJgtFY6+y1fUoPBt7N4hvHfTrqzNnp1g+AsjjAEqp0ATGS+OTxknNU7jUpL34VrbmGCGK11OJEWFNu4mGTLMepY+vtxis+58Y6vexLHd/YJwkQhVpNMtmZUAwAGMeRgdOayxf3I0xtPEn+itMJzHtHLgFQc9ejHjpQ9b/wBdSe39dLGz4csbE6LrWr39ot9/Z8cQitndlRmkfbuYoQ2B6AjqK6+403StXGnXt3BDb2dl4dFwttNJMYwxnZQGKAyFAWJ456ZPU155pes32jSyvp8qp50ZjlSSJJUkXrhkcFSOO4q83jHXX1KG/N9+/hgNumIYwnlEk7CgXaV5PBGOnoKHt/XZ/wCY1o7/ANbr/IXxRHoiXFo/h+aB98A+0x2/neVHKCR8hlAYgjB5zjnmuufS/DUOtX2nN4fjeOy0cX5l+1TB5JBEkhH3sBTnGMZ9D6cBqOp3OqTJLd+SCibFWC3jhUDJP3UUDue1Tt4i1R724u2usz3Nr9klfy1+aLaE24xgfKAMjn3pdGH2r/10/wCCdONAstQTRdUstMs7eGeznuL2Ca4mFvGInKb924yY5XgEnPSryeG/D76hp909rDLZ3GkXV3JFZSzrGzxF8FDL84ztHDZGfUVx1p4o1exjt47a6UR20MkEcbwo6+XIdzqyspDAnn5s1JceL9cupUkmvFzHbPaoFgjVUicYZAoUADB7dO2KHfp5/rb9PuD18v0/4JmXtxFdXjy29nFZRtjbBCzsq/i7Mf1rrPA+patabLhtQksvD+ny+deAABJ8/wDLIj/lozAYAOcDngCuW/tO7OjjS/N/0MT/AGgR7F/1m3bnOM9O2cVetfFeq2mlQ6ahs5LSBmeOO40+CbazdTl0JyafTQN9zovBfiUJrltayarfafaG8LQafbRDyJd7fclYHO3OF5R+PSqVjquneH/GFs1/pn2e407UpXuZ7WQvuAJCoqHCgKR14yKzbbxhrFmE+yvaRNGzNG66fb74ixJOxtmU5JwFIx2xUEPiXVoIreNLlWS2lkmjEkKSfPIMOTuB3ZHZsilazVun/AB63v1/4J11rdot1pPiTU/EOoavpkV1LbE6jCxe1mMeVcIXcEA7W4P8PSqvidjd+AbK8vtZXWrxdRkiju9smfL2Bim6RVZgDg9MDdgVzl34l1O+NqLiSAxWjF4bdLSJIVJ6nylUIc98g5qDVNbv9YMP2+ZWSBdkMUcSRRxjqdqIAoz7Dmk1dDvqeg6VqzaR4X8I3E3iI6bZoJ3uLMLK/wBqUTtldiqUORx8xGM1mah4iv8ATfBulXPh68udMhn1K9cRQSlBtzGVVgOCADjB4rjLjUbq6sbSznl3wWassCbQNgZtx5AyeT3q/YeKtW02xhtLWS2MMEjSQiayhmMbNjJVnQkZwOh7U7at+v53F1X9dGv1O6tb+8sviZ4bFncTWJ1WK0udRtbeRo45JWzuLIDjkYOMd6871fVdQ1W9Z9Tv7m8aMlUa4maQqM9BknApV1zUl15daN276isolFxJhzuHQ85H4dKosxdizcknJot+o1omvT8LjaKKKYgooooAKKKKACiiigAooooAKKKKACiiigAooooAKKKKACiiigAooooAKKKKACiiigAooooAKKKKACiiigAooooAKKKKACiiigAooooAKKKKACiiigAooooAKKKKACiiigAooooAKKKKACiiigAooooAKKKKACiiigAooooAKKKKACiiigAooooAKKKKACiiigAooooAKKKKACiiigAooooAKKKKACiiigAooooAKKKKACiiigAooooAKKKKACiiigAooooAKKKKACiiigAooooAKKKKACiiigAooooAKKKKACiiigAooooAKsWT2cdyG1GCeeDBykE4iYnt8xRh+lV6KAOq17w3bL4mn0Xw3aXZktQXmmvLyMpsChtxOxFjAzyWJHSqH/CI6yLqWB7eJPKhSdppLqJYfLY4VhKW2EEnAw3Jz6GrMviuO58Rapf3Wnl7XVIfIntkn2sF+Ugq+04IZFPKkdsVYl8YWdxaPpk+ky/2T9mhgjhjvAJkMbs4cyFCCSXfI2AYIxjFSr2Xcen9f16kWq+Dp4PEkmlaa8JkjhgYrdXsMTM8kasQpZlDfMSBtz2rMPhvVhcwwNZssk0Ukq7nUALGWDkknC7djZBwRj6V08HxIS3vpp4dNubYNJbun2TUDE5EUYQRyPsJeM4zt+Xknmsyfxo82k6pafYyst7PK8Nx55zbxyurSRgY5B2Dnjq3HNN36f1/X6ArdfL/AIJDc+FbibWDpulw7LiGOJZI729t43lldc/IpYZBzgKCx6ZOTgZmnaLf6rdzW1lCDLBG0kolkWIRqpAYsXIAAzznpXXWnxLFrqEt2um3MTvcx3H+i3/k+ZsjVBHKQhLp8pO3j7x65rM8L6nYrqevXWpqohudPnHk+eI2cs6nYrEH5vTg9OhpSbV35foJba+Rl3nhnVrCGeW5tQIoI45XlSZHQo5wrKykhwTxlc9DmnJ4X1Z55YmhhhMSRu73F1FEgEi7kG92C5I5Azng8cGtQ+L7F7KXS30iYaU1rHbpEl4BOpWUy7jIYypJZmyNg4IxjHNpfiIy3F8I7a+s7W6WDYthqRgmiMUYjH7zYdwI6gr6elUHUztD8FalqOsW0F7ALa3a9FrN5lxHFJkEbwiucuwB/hB7VVm8Laji4mtoUa3jaUxh7iMSyIhIZljJDsBtOSFx8p9DWna+NLYT2U2qafeahLp1491aSyahhzuZW2ykxnzOVByNvenT+Pp7nRxZyHVbd41kSM2WqGGJlZiwEkewhsbiMgrkcH1qXey7/wDDDVr6/wBbmBqGhX2l26S3wt49+390LuJpVyMjdGGLrx6gYpbfQr+70uW/tlglhiQySIt1EZVUHBYxbt+B67enPSr+r+JLfUtCh09bS6eWJ0K3V9cpPIiKCPLRhErBMnO0sQMcAcmtC38efZ/DR0tbK5Xdp72RSO922x3EnzfJ2cyc8ktzz07N3s7CXS5lXvg7XLCKSS5tI/3LIsqR3MUjxb/ul1Viyg8YJAHI9RTpfBeuQXUtvcW9vDJAu6fzL2BRCMgDexfCEkjAYgntmt7xT4m0uDXtWOk2Xmz3nlRy3gvBJE6KUc7FC8ElFySzdDgDPGO3imC5vdcOoafJJZ6xOLh4YbgRyROHLLhyjA/eYHK857UXuk0PoSw+CbxtH1F7hFt9QsbuKFkuLqKGII6Mc7nIU5wuCGwQeM1nQeFtWuNRnsFhgjvIJBE1vPdxRSM56BVdgXz225zkeorVn8Yaff217Z6josjWk8kDQJb3vlvAsMZjQbmRtx2nkkc+grRs/icbbUJLttOnidrwXISyvzAsihVVY5fkYyKAvqByeOab3f8AXb/gi6L+u5ylx4f1K00mHUrqGOG1nG6IvPGGkGdp2pu3HB64HHenReG9Um037dHboYTGZVUzxiV0BwXWItvZRg/MARwfQ0msax/a0Onp5HlfYrYwZ37t/wC8d89Bj7+Me1a7eN55fDUGlytqkT29sbZDZ6mYYZE5x5kOwhuuDgjI/OjuPTmXYqW/grVp9ShsWawiuJSRsk1CDchCkkOocspAB4I9qqw+GdSuftAtvsc7W+7fHFfwO7bV3EoofLjHdQeh9DW4PHNuk2nSDTrm5ezl3NNfXiSzNHsZfLEgiVgvzE4O4AgYA7yaZ4+ttH05LOw029ihjSZBGupBY5fMBG6ZVjHmOAcA8DAXjipd9bCXS5z2meHrzVtNvb21ktEis9vmefdRxE7jxjcRn/IGTxSp4Z1SW1guII4J455I4l8i7ikKvJ9wOqsSmcH7wHPFGkavbWOnajY31nJcw3qpzFOImRkbIOSrAj1GPxFdLd/EgXECRpp9yqLdW9yIXv8AdDD5J4SGPYBGp/Ht1xT1/r8RHPHwlrC3UtvJFbRvAgaYyXsKrDk4CuxfajZB+ViG46U2Hwrq89xcWyQQi5tmZXt3uoklJAydsZYM/HI2g57Zq/pPjKTTLnViEvI4dTlEzGxvjbTRMGYjEgUgjDMCCvPB4IrU074knT9p+zalKySyyFm1Qj7SHAH+kfu/3rKBgHgAY445XvW+X4lu19DjbGwm1G48m3e3R9pbNxcxwLj/AHnYDPtnNa0XgnXpXlX7JFH5Nx9mYzXcMQMpAIUFnAYkEEYzkdM03w14jHh83gMNwTdRqgns7n7PcRYYN8sm1sA4wRjnjmruveNTrbOxsTCXv1vSTOX6RLHtyRz93Off8arqv66/5EdP67f5lFvCOrLYR3Oy3LPdPaC2FzH5/mqyqV8vO4nLDgAnuQAQS0+EtYE8caxW7iQORNHewvEuwAtukDlFwCOGI6j1FaUfjVIrz7aunuLuLVZdRt3FwNieYV3I67MsMJjIKnnNPuPGwn1WC7E3iMJCXZUbXd7IW6bGMXyjGQQQcjv6nT+u3+ZWhz6aNey6ymlW6R3F3IwRFt50lViRnh1JX6nPHOelbN14LuotI0uSAJNe3stwG8q7ikhWOMId3mKSoAy2SWwMdqgHieOHximt2mmxQwgBGtFKqHUx7HyUVQGYEnIUAE9K0bDx1Bo62MOj6bcwW9t9oEm+/wAzSCYKDtkVF2MNgwQPwPc6A7X0Oav9JvNMuo4LuJd8qh42ikWVJFPAKshKsM5HBPII6itOTwRr8bBTaQs32hLZlju4XZJXOFRwHJQk9mxUGq+IJb7WrbUIptQke22mM6le/anBVt33tq/Lntj19a6e18V6XHp2p6rZWJtb46pa3rwT3ok84q7sQg2KQoP+8fmHPqdNf61QvQ5C10HU72OJ7S1aVZbn7Km1l5kA3EYzxxznp70l9ol9p0tul0sIW5/1MsdzHJE/OD+8VivB688d8V0Np44tdIa0/sTSpoEgvXu38+98xn3xmNkDKi7flPB5IPPNY/iHXTrksLedqsixAgDUtR+1lc4+6di7Rx75qU3fX+tP8xu3Q2dd8FR6f/o1iJprqFLcSOt3BNHI8oXjapDRDJIGd27g8Dk41/4U1fTED3sMCL54tmK3cL+VIf4X2sdh4P3sdDWg3jPOoXdz9g/4+Gs22+d937OF77ed238M96bYeMBZatdXrack4uNSS/8ALeThdvmfL06/vchuxUHBp6/18v8Ag/cSttf63/4A2z8IzKbs6rhY106e7t5bW5jmSRo8DG9CynB6jOenSobjwhqMd5cxxIqQ2zIjzXs8NsNzIHC5aTaTjnAYnHJA6VqX3xAN3bLAbW8m2WVzaCa9vzPK3nbTuLbBnbt4GBx+Zg1HxhZ60tzFq2lTNbyTrcRLbXgjeNxEsbAsY2DAhFOMAjHWlr/Xr/kP+vwX6mQ3hrVV0z7ebdPJ8rzionjMojzjzPK3b9v+1jGOc4pum+HtS1a386yhjZDJ5SeZcRxmV8A7EDsC7cjhcnkeorYvfG0t94fj0+R9VheO1W12waoVtnVRtBaAocnbgHDAEjOOTTdF8aS6XoK6XI2pxpHM0sUmm6kbRvmAyr/IwYZAI4BHPPNV3/AOxmazpUWnWekSQmQve2fnyhyPlbzHXA46YUdc96km8JaxbyGKWGDzljeV4FvIWkjVV3tuQPuXAHQgHt1qPUtekv8A+y2WMxy6fAIhIz7zI3mM+48f7Xv0rUHirTV16bVY9HuFmvFmW9j+3Ao/moVcx/u8ocsSMl/Sh9bef/ADqvl/wTMsvC+r6hDHNa2qtFJA1wrtMiKI1fYzksw2gN1zj16c02fw5qNtZi6mFqqNyii9hMkg3FcogfcwJBwQCCORxzWnd+LbV9H/ALNsNMkgtxYtZoZboSMN06zFiQig8qRgAdfblll4risNBSyjtLi4nj2tC93cpLFbuHDloo/LDRk45w+DnnNP+vxf6WHoUdR8MatpVm11e26CKOQRSmO4jkMLnosiqxKHg8MB0rIrq5/Fmmyi6EehuF1G8judQSS9LCUKxYxx4QFASx5JYj1rl5WR5naKPy0ZiVTOdozwM96lX6hoMooopiCiiigAooooAKKKKACiiigAooooAKKKKACiiigAooooAKKKKACiiigAooooAKKKKACiiigAooooAKKKKACiiigAooooAKKKKACiiigAooooAKKKKACiiigAooooAKKKKACiiigAooooAKKKKACiiigAooooAKKKKACiiigAooooAKKKKACiiigAooooAKKKKACiiigAooooAKKKKACiiigAooooAKKKKACiiigAooooAKKKKACiiigAooooAKKKKACiiigAooooAKKKKACiiigAooooAKKKKACiiigAooooAKKKKACiiigAooooAKKKKACiiigAooooAKKKKACiiigAooooAKKKKACiiigAooooAKKKKACiiigAooooAKKKKACiiigAooooAKKKKACiiigAooooAKKKKACiiigAooooAKKKKACiiigAooooAKKKKACiiigAooooAKKKKACiiigAooooAKKKKACiiigAooooAKKKKACiiigAooooAKKKKACiiigAooooAKKKKACiiigAooooAKKKKACiiigAooooAKKKKACiiigAooooAKKKKACiiigAooooAKKKKACiiigAooooAKKKKACiiigAooooAKKKKACiiigAooooAKKKKACiiigAooooAKKKKACiiigAooooAKKKKACiiigAooooAKKKKACiiigAooooAKKKKACiiigAooooAKKKKACiiigAooooAKKKKACiiigAooooAKKKKACiiigAooooAKKKKACiiigAooooAKKKKACiiigAooooAKKKKACiiigAooooAKKKKACiiigAooooAKKKKACiiigAooooAKKKKACiiigAooooAKKKKACiiigAooooAKKKKACiiigAooooAKKKKACiiigAooooAKKKKACiiigAooooAKKKKACiiigAooooAKKKKACiiigAooooAKKKKACiiigAooooAKKKKACiiigAooooAKKKKACiiigAooooAKKKKACiiigAooooAKKKKACiiigAooooAKKKKACiiigAooooA6H/AIQ+/uf7Lj0oG9n1Cya88oAJ5ahmUjJPP3c9uvSoj4O1wXNtAtpHKboO0Tw3MUkbBPv5dWKjHfJGK3rLxHpcMenbrva0Ph+4s3xG/wAszGTavTvuHPTnrVXS9eS18P6Nb2WrQWF7bXN08rXELvGEdUADBUbcGwwxg++Kb3dv61f/AAAWqV/691P87oq6d4Hvr175Jrmxga1szdqRewOsgzgDcHwB1y2cDjPUVVfwfrcdrBcPbQrFcsFgY3cP74lto2fN83PpnA56c10Y1bw4mp3qW9zaWn2/Rntp57a3mW2FwXB+VCpcLhQOF69qy9U1uyW88MNb3P2tNKt40m8tWA3LMzHbuA6jBpdV/Xf/AIAP9P8ALT8X9xiNomoKdRBt+dMOLv51/dHfs9efm44zVubwfrdv5Ky2iCWdkVLcXEZmy/3cxht4z7gV0tzqug2aeKbu21iO9n1WZZbaBLeVcDzxIVcsoAP0JHB55Apf7Y0K3+IK+K49Y8+Ka48xrPyJBPEJFIbJK7PkzxhjnFLWy/r+v0Do3/X9fmYEXhG7gmuo9TiJMNpPOBZ3MEpUxgZ34fgAnkfe9Aarr4R1ttOF6tmDEYPtATz4/NMX9/y92/b74xWppb6PoE2p7Nchvlu9MureMxW8y4ZgAgO5ByefUDHWtSLX9EHiG38UPqQEsNgIjpnkSGQyiHytu7GzYeuc5xxih3tf+uv/AAAW9v66f8E5yDwTr9xbW88VlGVuovOt1N1ErzJjOUQtubjsBmobHwprOpWMd3Z2ivHKHMQM8avNs+9sQsGfH+yDXQW3iPTI/FnhG8e7IttNsYYrlvLb926l9wxjJ6jpmrNt4otpNL0h7LWrDSbzT42hf7VpYnfhmZXjk8piM7uhK4Oab2Ylr9y/4Y5MeGNV/stdQaGGOBommQS3USSPGOrLGWDkcdQOaya7S01awuPDEtt4j1DT74JauLOJbaX7XbyHlVEmwLtDHJBZh6VxdHUroFFFFAgrsL3wBJa/Dq28VRX4mEu0yWvk48tSxXO7cc8gdh1rj69b8P8Ajbw3F4f0XRdYu82RsZob9PJc+W/mK0fReejdM07XX9eZN2pf15GTN8Lf7Nt9BuNQuri6bU5kilsbWNI5Yi0ZfaHdtpIxjkCuMutKlbxLPpWnW87yi6eCKF9rSZDEAHbxnjkjivT5viJot/Jo1xd32yS31yS6lTyXPlwYdUPC88beBzXGaT4lstL+LD6+26ax+3zSBlU5KOWAYA89GzjrSjq1f+tF/wAEHdXX9df+AU9Q8BeJdLmtIr7TGja8nFvARNGwaQnAUkMQp+uKlvPhz4r0+3Se80loo3lWEMZozhmbaucNwCSOTxzXZ6r4z0dL3TxYa1YTWJ1iK7nhttIe3aNQ24yM38bcAHAyazrzxfpU2k+OI0v2afVLxJbH92+ZFV8g5x8uAB1xQtrv+tv839xpZXS/rrr+C+85JvBuvLdalbvYFZNKjEl4DKgESkZBzuwePTNa+peAr6TXE0bw/pOoveQ2yzXJu5oQOR1G07UHXALkn8K3vFfj7StT8EBNPk/4nOqCBdTAjZdojH94jBycdCeK0NQ8b+GdT1nxDaSam8Flq2nwQpfLbOwjdA2QUwGP3v0pO6X9a6fkJW3/AK3R5drWhal4e1A2Ws2jWtxtDbWIIIPcEEgj6Gs+ux+IOv6ZqzaPY6NO93Bpdktubt4yhmPHO08gcd/U1x1CBhRRRTEFFFFABRRRQAUUUUAFFFFABRRRQAUUUUAFFFFABRRRQAUUUUAFFFFABRRRQAUUUUAFFFFABRRRQAUUUUAFFFFABRRRQAUUUUAFFFFABRRRQAUUUUAFFFFABRRRQAUUUUAFFFFABRRRQAUUUUAFFFFABRRRQAUUUUAFFFFABRRRQAUUUUAFFFFABRRRQAUUUUAFFFFABRRRQAUUUUAFFFFABRRRQAUUUUAFFFFABRRRQAUUUUAFFFFABRRRQAUUUUAFFFFABRRRQAUUUUAFFFFABRRRQAUUUUAFFFFABRRRQAUUUUAFFFFABRRRQAUUUUAFFFFABRRRQAUUUUAFFLx6H86OPQ/nQAlFLx6H86OPQ/nQAlFLx6H86OPQ/nQAlFLx6H86OPQ/nQAlFLx6H86OPQ/nQAlFLx6H86OPQ/nQAlFLx6H86OPQ/nQAlFLx6H866X/hOdR/597X/vlv/iqTv0Makqkbckb/ADt+hzNFdN/wnOo/8+9r/wB8t/8AFUf8JzqP/Pva/wDfLf8AxVK8uxl7TEf8+1/4F/wDmaK6b/hOdR/597X/AL5b/wCKo/4TnUf+fe1/75b/AOKovLsHtMR/z7X/AIF/wDmaK6b/AITnUf8An3tf++W/+Ko/4TnUf+fe1/75b/4qi8uwe0xH/Ptf+Bf8A5mitTV9duNa8n7VHGnk7tvlgjOcdck+lZnHofzqjog5ON5Kz+8Sil49D+dHHofzoLEopePQ/nRx6H86AEopePQ/nRx6H86AEopePQ/nRx6H86AEopePQ/nRx6H86AEopePQ/nRx6H86AEopePQ/nRx6H86AEopePQ/nRx6H86AEopePQ/nRx6H86AEopePQ/nRx6H86AEopePQ/nRx6H86AEopePQ/nRx6H86AEopePQ/nRx6H86AEopePQ/nRx6H86AEopePQ/nRx6H86AEopePQ/nRx6H86AEopePQ/nRx6H86AEopePQ/nRx6H86AEopePQ/nRx6H86AEopePQ/nRx6H86AEopePQ/nRx6H86AEopePQ/nRx6H86AEopePQ/nRx6H86AEopePQ/nRx6H86AEopePQ/nRx6H86AEopePQ/nRx6H86AEopePQ/nRx6H86AEopePQ/nRx6H86AEopePQ/nRx6H86AEopePQ/nRx6H86AEopePQ/nRx6H86AEopePQ/nRx6H86AEopePQ/nRx6H86AEopePQ/nRx6H86AEopePQ/nRx6H86AEopePQ/nRx6H86AEopePQ/nRx6H86AEopePQ/nRx6H86AEopePQ/nRx6H86AEopePQ/nRx6H86AEopePQ/nRQAlFFFABRRRQAUUUUAFFFFABRRRQAUUUUAFFFFABRRRQAUUUUAFFFFABRRRQAUUUUAFFFFABRRRQAUUUUAFFFFABRRRQAUUUUAFFFFABRRRQAUUUUAFFFFABRRRQAUUUUAFFFFABRRRQAUUUUAFFFFABRRRQAUUUUAFFFFABRRRQAUUUUAFFFFABRRRQAUUUUAFFFFABRRRQAUUUUAFFFFABRRRQAUUUUAFFFFABRRRQAUUUUAFFFFABRRRQAUUUUAFFFFABRRRQAUUUUAFFFFABRRRQAUUUUAFFFFABRRRQAUUUUAFFFFABRRRQAUUUUAFFFFABRRRQAUUUUAFFFFABRRRQAUUUUAFFFFABRRRQAUUUUAFFFFABRRRQAUUUUAFFFFABRRRQAUUUUAFFFFABRRRQAUUUUAFFFFABRRRQAUUUUAFFFFABRRRQAUUUUAFFFFABRRRQAUUUUAFFFFABRRRQAUUUUAFFFFABRRRQAUUUUAFFFFABRRRQAUUUUAFFFFABRRRQAUUUUAdtp4H9m23H/LJf5VZwPQVX0/8A5Blt/wBcl/lVivtKX8OPofLVPjYYHoKMD0FT2lldX8/k2NtNcy4z5cMZdseuBXSa/wCBb3SNJ028t4Ly5Nzb+dcr9mb/AEY4BIbHTqeuOlEqkISUZPVjjTnJNxWxymB6CjA9BU9lZ3GoXsVpZxGWeZtqIO5/oPftVjUdOgsMiPVbK9cOUZLbzTj3yyBSPcE1Tkk7E2bVyhgegowPQUUVQgwPQUYHoKKKADA9BRgegp8UUk8qxQRtJIxwqIpJP0AplGgBgegowPQUUUAGB6CjA9BRRQBW1AD+zbnj/lk38q4mu31D/kGXP/XJv5VxFfP5r8cfQ9jL/gkFFFFeOemFFFFABRRRQAUUUUAFFFFABRRRQAUUUUAFFFFABRRRQAUUUUAFFFFABRRRQAUUUUAFFFFABRRRQAUUUUAFFFFABRRRQAUUUUAFFFFABRRRQAUUUUAFFFFABRRRQAUUUUAFFFFABRRRQAUUUUAFFFFABRRRQAUUUUAFFFFABRRRQAUUUUAFFFFABRRRQAUUUUAFFFFABRRRQAUUUUAFFFFABRRRQAUUUUAFFFFABRRRQAUUUUAFFFFABRRRQAUUUUAFFFFABRRRQAUUUUAFFFFABRRRQAUUUUAFFFFABRRRQAUUUUAFFFFABRRRQAUUUUAFFFFABRRRQAUUUUAFFFFABRRRQAUUUUAdvp//ACDLb/rkv8qsVX0//kGW3/XJf5VYr7Sl/Dj6Hy1T42XtJ1i/0O+F5pc5t5wpXeFDcHqMEEV2HiP4k3moaLYWumXkqSNamPUS8KASuVAOOOP4umOtcDRUzoU6klKS1RcK1Smmou1zU8OalDpPiC2u7pWaFdySbBlgrKVJHuN2a09Hk0/w9rD3cWtWt0vkTpEY4JdwYoQhKugHJx3P5VzFFOdJTvd7q39feTGbjbydzudH8VpHoirJe2y6h5ztdPqJunF0pAC5MR+YADG1wR6d6SXW9KXwjcWEN8rpJZoqW7tcM6zb1ZvlP7pVGGxt59+TXD0Vn9Whzcyb3uaRxE4o3fE+tnV/Es85uJLqxSdjbxklVCE/wr/DnHPGSeTzXUXPiyxk1mzlF5YtpyXscyoEujNboM8BWJjUAHBCcHjA9POqKbw8HGMewvbS5pS7ncaV4vXzrKfVdTnaeLUJW81t7NHC8eOCOi7sfKPTpUNx4nENlpFrLqkmopHcu+pBC/8ApKb1IVi4BYEbhg8VxtFJYWmpc39f1qN15tWPS4de/tHWg63lhcW1sLic3EBulnt4zGV3Ay7tgyV4Tdg9AcVHPrEcd1FfXWr7d1kkenzSXl0yOokIlLmNUkL5UfwhTjuRXn1reXNjcCeyuJbaZQQJIXKMM+45pbu9ur+fz7+5muZcY8yaQu2PTJrL6olLR6fiafWW4u+//DF/xRd2l/4ov7vTiGtppd6MEK5yOTg89c1k0UV2QioRUV0OWUnKTk+pX1D/AJBlz/1yb+VcRXb6h/yDLn/rk38q4ivBzX44+h6+X/BIKKKK8c9MKKKKACiiigAooooAKKKKACiiigAooooAKKKKACiiigAooooAKKKKACiiigAooooAKKKKACiiigAooooAKKKKACiiigAooooAKKKKACiiigAooooAKKKKACiiigAooooAKKKKACiiigAooooAKKKKACiiigAooooAKKKKACiiigAooooAKKKKACiiigAooooAKKKKACiiigAooooAKKKKACiiigAooooAKKKKACiiigAooooAKKKKACiiigAooooAKKKKACiiigAooooAKKKKACiiigAooooAKKKKACiiigAooooAKKKKACiiigAooooAKKKKACiiigAooooAKKKKACiiigAooooA27fxEYLaOL7Lu8tAufM64H0qT/hKD/z6D/v5/wDWrAortWOxCVlL8F/kcrwlBu7j+Zv/APCUH/n0H/fz/wCtR/wlB/59B/38/wDrVgUU/r+J/m/Bf5C+p0P5fzN//hKD/wA+g/7+f/Wo/wCEoP8Az6D/AL+f/WrAoo+v4n+b8F/kH1Oh/L+Zv/8ACUH/AJ9B/wB/P/rUf8JQf+fQf9/P/rVgUUfX8T/N+C/yD6nQ/l/M3/8AhKD/AM+g/wC/n/1qP+EoP/PoP+/n/wBasCij6/if5vwX+QfU6H8v5m//AMJQf+fQf9/P/rUf8JQf+fQf9/P/AK1YFFH1/E/zfgv8g+p0P5fzN/8A4Sg/8+g/7+f/AFqP+EoP/PoP+/n/ANasCij6/if5vwX+QfU6H8v5m/8A8JQf+fQf9/P/AK1H/CUH/n0H/fz/AOtWBRR9fxP834L/ACD6nQ/l/M27jxEZ7aSL7Lt8xCufM6ZH0rEoornq16lZ3qO5tTpQpK0FYKKKKxNQooooAKKKKACiiigAooooAKKKKACiiigAooooAKKKKACiiigAooooAKKKKACiiigAooooAKKKKACiiigAooooAKKKKACiiigAooooAKKKKACiiigAooooAKKKKACiiigAooooAKKKKACiiigAooooAKKKKACiiigAooooAKKKKACiiigAooooAKKKKACiiigAooooAKKKKACiiigAooooAKKKKACiiigAooooAKKKKACiiigAooooAKKKKACiiigAooooAKKKKACiiigAooooAKKKKACiiigAooooAKKKKACiiigAooooAKKKKACiiigAooooAKKKKACiiigAooooAKKKKACiiigD0LwpoHgXxPfx6dGfEMV19naWRjLAI8quWx8pP0rntUt/Dl6Le38H22uS30km0x3flvvGOiiMZJzitj4R/wDI9f8Ablcf+gGsv4df8lG0P/r7Wna80vT82RzcsJPt/kjBisrqe9FnDbTSXTPsECRkuW9NvXPtUcsUkMzxTI0ciMVdHGCpHBBHY12fhaN2+NdsqqSw1SQkemGYn+Vc74l/5GzV/wDr9m/9DNZxleMX3/4H+Zb0k12/4P8AkdLb6D4SsPBOj6z4hOtPPqTTKFsZIgq+W+Ojrnpjua5/UbPTdQ1OOHwbaatOnlFnjulWSXcMkkCMfdAx+tdpLqWkaf8ACjwqda0FdYDyXflhruSDy8Sc/c6546+lR/Dm+068+KtrPpOkrpluLWUG3E7zAkI2Tubnn09qt/E/K43pFef+Zw8nh7WodP8At02kX8dptDfaGtnEeD33YxiqstldQWkN1NbTR29xnyZnjISTBwdp6HHfFd/8PPE+s6v8QUt9T1G5ura+jnWe3mlZoyPLZsBScDkDoOlUtFz4h+F2raOcvdaPKNQtV7mM/LIo9hnP1NDul+P42/4IaXsczpekXF1cWcs9hfy2E1wIS9rbl2kPUonQF8Z4zVvxBO3iDxTJHpGiCyCnyYLC2tsOAufvKoyX65PX8q79HGk+OvBHhOJv+QWUlugD1uJfmb8gR+dUraaTStA8fatpcjRakuoi386P78UTSnJB6jPTPtSbW/r+i/X7iVe9u9vxu/0+8881DR9T0lkGq6dd2Rk+4LmBo9303AZqa08N65qFqLmw0bULm3OcSw2ruhx15AxXYeHtQvNf+Hniy3126mvYbOGK5t3uZC5hl3EDax5GcYx9fWr1vrtv4wh0210rxLfeGtXgt47WO0Mjrazsowu1kPyE+49BzRre3oM8wdGjdkkUqynDKwwQfSm1b1S2u7PVru31LcbuKZ0nLNuJcE7jnvz3qpQndXG1Z2CiiimIKKKKACiiigAooooAKKKKACiiigAooooAKKKKACiiigAooooAKKKKACiiigAooooAKKKKACiiigAooooAKKKKACiiigAooooAKKKKACiiigAooooAKKKKACiiigAooooAKKKKACiiigAooooAKKKKACiiigAooooAKKKKACiiigAooooAKKKKACiiigAooooAKKKKACiiigAooooAKKKKACiiigAooooAKKKKACiiigAooooAKKKKACiiigAooooAKKKKACiiigAooooAKKKKACiiigAooooAKKKKACiiigAooooAKKKKACiiigAooooAKKKKACiiigAooooAKKKKACiiigAooooAKKKKACiiigDV8OeIbvwxq39oWEcMkvlPFtmUlcMMHoRzVGyvLjTr6C8spDFcQOJI3H8LA5BqCijrcVlsdwvxT1OLUBqFrouhW18X3yXUNkRJLz8wLbv4u+ME+tcffXcmoahcXkwVZLiVpXCDABYknHtzVeilZDudXp/j65sdAs9In0TRdRt7MuYWvrZpGXe24/xgfp2pkHjm5s/EsGtadpGk2M0MLQiG2t2SJgwILEbs7ueuewrl6Ke7uHSxpeH9cufDetw6pYpFJPCHCrMCVO5SpyAQehPepPDXiO98LayupacsMkgRo2jnUskisMEMAQSO/XtWTRTuxG1H4ov4/GI8SsIpL77Sbna4JTdnpjOcDp1qTTPGGpaVrV9qNutvINQLm7tJo98EwYklWUnpk8c59+tYNFJJJWHu7nSaz42vtW0n+y4bHTtKsWkEktvptv5SzMOhfJJOP89Ks2fj+SxWBrbw34eW5t1AjuvsJ8wMOj/exu4znHWuSooAmu7qe+vJrq7kMs87mSR26sxOSahooo2DcKKKKACiiigAooooAKKKKACiiigAooooAKKKKACiiigAooooAKKKKACiiigAooooAKKKKACiiigAooooAKKKKACiiigAooooAKKKKACiiigAooooAKKKKACiiigAooooAKKKKACiiigAooooAKKKKACiiigAooooAKKKKACiiigAooooAKKKKACiiigAooooAKKKKACiiigAooooAKKKKACiiigAooooAKKKKACiiigAooooAKKKKACiiigAooooAKKKKACiiigAooooAKKKKACiiigAooooAKKKKACiiigAooooAKKKKACiiigAooooAKKKKACiiigAooooAKKKKACiiigAooooAKKKKACiiigAooooAKKKKACiip7mxu7IRG8tZrcTxiWLzYyvmIejLnqD6igCCiiigAooooAKKKKACiiigAooooAKKKKACiiigAooooAKKKKACiiigAooooAKKKKACiiigAooooAKKKKACiiigAooooAKKKKACiiigAooooAKKKKACiiigAooooAKKKKACiiigAooooAKKKKACiiigAooooAKKKKACiiigAooooAKKKKACiiigAooooAKKKKACiiigAooooAKKKKACiiigAoqx9hu/sH277LN9k8zy/tHlny9+M7d3TOO1K+nX0enpfvZ3C2cjbEuTEwjZvQNjBPB4oArUUUUAFFFFABRRRQAUUUUAFFFFABRRVi7sbuwkRL61mtnkQSIs0ZQsh6MM9QfWgCvRRRQAUUUUAFFFFABRRRQAUUUUAFFFFABRRRQAUUUUAFFFFABRRRQAUUUUAFFFFABRRRQAUUUUAFFFFABRRRQAUUUUAFFFFABRRRQAUUUUAFFFFABRRRQAUUUUAFFFFABRRRQAUUUUAFFFFAHtUetto/wl8O+X4oOhNLbT7Yhp/2n7UQx+XOPk64z/te1VbPwZ4LsfDmjnX3tYpNSsftD3k17JHKjMMjy4wNjAEgcmvLrzW9Q1DS7HTru48y1sAwto9ijywxyeQMnkd81q6d4/wDE+laUmm2OqMlogKpG8Mb7AeoDMpI/A0pauTXX/ghHRRXY6DWdK8N+FvCGjm40R9Vv9WsmnF413JGsLEDGEXhgMjg+nvXXrpnh7xDeeE9D1jSpLi6ufD8bJeLcsnkBUJGFHDHOevtXltr468SWWgtotvqjrp7RtH5LRo2FYYKhiCwHPY1HB401+21Gxv4b/bc6fbC0tn8mM+XEARtxtweCeTk03qmv62f+aHfTT+tV/kzv/BngfR7qw0y38R6VZ+bqZlNvOdRmW4kVQSGWJV2cY7t/gfKryAWt9PAp3CKRkBPfBxXQWHxF8V6ZYQ2Vjq7xwQHMa+TGxXnOMlSce2cVzcsrzzPLKdzyMWY4xkk5NLXmuNtWdhlFFFMkKKKKACiiigAooooAKKKKACiiigAooooAKKKKACiiigAooooAKKKKACiiigAooooAKKKKACiiigAooooAKKKKACiiigAooooAKKKKACiiigAooooAKKKKACiiigAooooAKKKKACiiigAooooAKKKKACiiigAooooAKKKKACiiigAooooAKKKKACvoHVPFOl6DpGnQ65q3mWs2hRj+xPsO/wA9iuA/m4wOmME9s18/Vf1XW9Q1t7d9UuPPa1gW3hOxV2xr0HygZ69TzRLWPL/WzBaS5v63R6LZ+C9Dm1XwFC2nlo9WtHlvgJZP3rBAc/e+Xn0xT7fw94U07R0vNR0Jr6SfX5dNRReSRhE3EAnB52gfjnk1x2mfETxVo+mwWGnau8Vtbn90hijYrznGWUnHtnFUZfFWszWsdvJeboo7036r5ScTkkl849zx09qLa+X/AAV+mgne2n9aP9bM9QtdI0Hw0fH9p/ZAvYLBYSFlnYFonAby9w5XB79TxnpWLD4U0S7g8DTxaYVGsXUq3iLNI25A4wuc8YGeRiuUtvH3iW01q81a31MpeXwVbmTyYyJAowMqV28AdhUlj8RvFem2zW9lq7xxNK0xXyo2w7NuYglcjJJ4HHJpJWafp+G/3lPr8/x/yO00vwZo0Osao2qaPYtpn9smxtJLnUZ4nHzY2IqBi592I+vcQ3PhDw34bs/E2q3+my6tBp+oraW9o1y0QRSFOSy8/wAePw965C1+IfiqyW6W11Z4xdztcS4ijOZG6sPl+X/gOKbZ/EDxPYale39pqrJcXzBrg+TGyyEcA7Su0H6CptLTXp/l/wAH7xtpt+v+f/AOr0XRLDxH4PhSJLjTre88TLbrAt3I6xRGPONrHaW/2iM/yrQ1vRND1nSdUjtrC8sz4av4rOPzr6WZZo2kCEBXOE9cL7V5xP4r1u5tZYJb9jHLe/b32oqt9o/vhgMg+wOPareq+P8AxPrdtHb6nqrzQxyLIEEaICy9C21Ruxjvmr0uvl+n+T+8UtVp/W/+a9LHfa14T8JM3i7TdO0WS0udDtBcx3f2yR95K79uwnGO3c149W7J4y16W61S4kv8y6tEIb1vJj/eoBtxjb8vHpisKpimtwbuFFFFUIKKKfG/lyo+0NtYHa3Q+1Nb6iOyu/CePCfhhU0xbfVdWuXQStO5klQthSYyMKPmHIPT616T4/8ADVzc+Ab/AE9LHyrXQUhk0+bepMyKmJeAcjHPUDOBXDeIvHWh6hqn/CR6R/bFt4iVUEAmEL21vgYYKDkkY3YyOpzxXI2PijWNN1S81CzvSl1fK63LtGjiQOcsCGBHJ9qiV5Jr5/5f1+Basmn/AF5nqKeDPCU+sWugDQ5o7i80YXw1BbuQ+U+3shODyM89yBiueutG8M2Hgzw60ukvLqmuwtGLk3TqkDB9vmlc4J+YfLwOKr+JfilqV7bwWPh68urOw+wR208UkUYZnAIYqwyQCMdCPpXH3ut6hqOn2NleXHmW+nqyWybFXywxBPIGT0HXNV9p9r/5/wDAM435V6fjp/wT07V/B3hcnxLo1hpM9peaDYrcrqLXTv552BiGQ/KM9OP0ra1PR9C8Sa9p2janpUz3knh+OaPUVuGXydoOAEHynnPJz1Aryu/8f+KNT0c6XfavLLaMoRk2IGcDoGcDc34nmpn+JPi19NewOsyC2eIQlFijUhAMYBC5HHoalp2a/rr925WnMn/XT79n952vhTwJo19o9ha69pdnFe31k9zFPHqMxuGXkq/lBfLAwR1P4dqz9J8PeGdU+Hhn0fT7fU9bhtZJLyOa/khmiI/jSMfK6jI9M+ua5m0+I/iyxsLeztdXdILZPLiXyYyQuMbSSuSMdjnt6VFF4+8TQ6GNHh1Ro7IQ+QEWGMME/u79u79acru9v63HHRq/9bHf63puh6y3gjRV0hbT+0bWJ1uUuG3Qxk7mQDoxPPzHnJqn4ms/DPhiOS+8NT2On65pt7shjhupLkun3SZEkXCsMk4GR9a4g+N/ER0S30n+03FnbFDCgRA0e05XD43cEDv2p2r+O/EevWsdvquo+fHHKsyjyI0O9cgElVBPU9aLa6d7/iLpr2Nr4jeK49ahsNL859SuLAFptUmtxA8zMAdqptBVR78nH4nhKvaxrF/r2qSajq0/2i6lADybFXOAAOFAHQCqNCVhthRRRTEFFFFABRRRQAUUUUAFFFFABRRRQAUUUUAFFFFABRRRQAUUUUAFFFFABRRRQAUUUUAFFFFABRRRQAUUUUAFFFFABRRRQAUUUUAFFFFABRRRQAUUUUAFFFFABRRRQAUVKJ3CgAR8esan+lH2h/7sf/fpf8KAIqKl+0P/AHY/+/S/4UfaH/ux/wDfpf8ACgCKipftD/3Y/wDv0v8AhR9of+7H/wB+l/woAioqX7Q/92P/AL9L/hR9of8Aux/9+l/woAioqX7Q/wDdj/79L/hR9of+7H/36X/CgCKipftD/wB2P/v0v+FH2h/7sf8A36X/AAoAioqX7Q/92P8A79L/AIUfaH/ux/8Afpf8KAIqKl+0P/dj/wC/S/4UfaH/ALsf/fpf8KAIqKl+0P8A3Y/+/S/4UfaH/ux/9+l/woAioqX7Q/8Adj/79L/hR9of+7H/AN+l/wAKAIqKl+0P/dj/AO/S/wCFH2h/7sf/AH6X/CgCKipftD/3Y/8Av0v+FH2h/wC7H/36X/CgCKipftD/AN2P/v0v+FH2h/7sf/fpf8KAIqKl+0P/AHY/+/S/4UfaH/ux/wDfpf8ACgCKipftD/3Y/wDv0v8AhR9of+7H/wB+l/woAioqX7Q/92P/AL9L/hR9of8Aux/9+l/woAioqX7Q/wDdj/79L/hR9of+7H/36X/CgCKipftD/wB2P/v0v+FH2h/7sf8A36X/AAoAioqX7Q/92P8A79L/AIUfaH/ux/8Afpf8KAIqKl+0P/dj/wC/S/4UfaH/ALsf/fpf8KAIqKl+0P8A3Y/+/S/4UfaH/ux/9+l/woAioqX7Q/8Adj/79L/hR9of+7H/AN+l/wAKAIqKl+0P/dj/AO/S/wCFH2h/7sf/AH6X/CgCKipftD/3Y/8Av0v+FH2h/wC7H/36X/CgCKipftD/AN2P/v0v+FH2h/7sf/fpf8KAIqKl+0P/AHY/+/S/4UfaH/ux/wDfpf8ACgCKipftD/3Y/wDv0v8AhR9of+7H/wB+l/woAioqX7Q/92P/AL9L/hR9of8Aux/9+l/woAioqX7Q/wDdj/79L/hR9of+7H/36X/CgCKipftD/wB2P/v0v+FH2h/7sf8A36X/AAoAioqX7Q/92P8A79L/AIUfaH/ux/8Afpf8KAIqKl+0P/dj/wC/S/4UfaH/ALsf/fpf8KAIqKl+0P8A3Y/+/S/4UfaH/ux/9+l/woAioqX7Q/8Adj/79L/hR9of+7H/AN+l/wAKAIqKl+0P/dj/AO/S/wCFH2h/7sf/AH6X/CgCKipftD/3Y/8Av0v+FH2h/wC7H/36X/CgCKipftD/AN2P/v0v+FH2h/7sf/fpf8KAIqKl+0P/AHY/+/S/4UfaH/ux/wDfpf8ACgCKipftD/3Y/wDv0v8AhR9of+7H/wB+l/woAioqX7Q/92P/AL9L/hR9of8Aux/9+l/woAioqX7Q/wDdj/79L/hR9of+7H/36X/CgCKipftD/wB2P/v0v+FH2h/7sf8A36X/AAoAioqX7Q/92P8A79L/AIUfaH/ux/8Afpf8KAIqKl+0P/dj/wC/S/4UfaH/ALsf/fpf8KAIqKl+0P8A3Y/+/S/4UfaH/ux/9+l/woAioqX7Q/8Adj/79L/hR9of+7H/AN+l/wAKAIqKl+0P/dj/AO/S/wCFH2h/7sf/AH6X/CgCKipftD/3Y/8Av0v+FH2h/wC7H/36X/CgCKipftD/AN2P/v0v+FH2h/7sf/fpf8KAIqKl+0P/AHY/+/S/4UfaH/ux/wDfpf8ACgCKipftD/3Y/wDv0v8AhR9of+7H/wB+l/woAioqX7Q/92P/AL9L/hR9of8Aux/9+l/woAioqX7Q/wDdj/79L/hUZOWJPf0GKAEooooAKKKKACiiigAooooAKKKKACiiigAooooAKKKKACiiigAooooAKKKKACiiigAooooAKKKKACiiigAooooAKKKKACiiigAooooAKKKKACiiigAooooAKKKKACiu8h+HK6v4Cg1zwzetqN7Hn7bZquGQ/wB1R1yPT+LqPQs8Q/D6Hwt4Kgv9a1HydauJAY7AAMCncHvkdSenb3oem4LXY4aiiuv8NW+j6vDNbXWiLFBa2Ukt1qZuZN8bgHawGQmC2FC7STnrQ9E2HWxyFFel6P4T0m68OWN3JpiS28ljLLdTtLMLsSLnBiiB2sgO3naR1yRiuK8P6INbvLhZbkWlta273NxNs3lEX0XIySSBjI60dWu39foG6TMmivQH8J2es6T4YtdDl3i4F5LNdmz2zFUKkhkUksw5AAJzkY61g+JvCcvh6zsbvddeTeb1CXtmbaZGQjIKFm4IIIINGwLXY52iu2sfAdhdzaTaSa80V9qtn9rii+xbkQYJwz78j7pxgHp2rNuPDNkbXT7zTNTnvLO7vGtHY2RWSN12nIQO28ENkYIPbGaP6/QDm6K7j/hXDPf6VALy6tY9RM6g6hYG3kiMSbslN5yp9c/hWdpPh3RtZ10abZavfPnpP/ZyBAoyWdszAqoAznr7DpQG2pzFFdVD4U0wQWk19rrQRajcyQ2LJZ7w6K23zH+cbAT2G41nWfhm7uvGA8Os8cdyLhoHcnKrtzub3AAJoAxqK7yDw5pt/wCD/J0C5F9c3Gsw2qTz2ghkTKP6Mx2Hg9e3I4qj4i8CS6JosupRS3rxQXIt5Beae1tnIOHTLHcvGM8HpxQ3b+vT/MEr/wBev+RyNFdV4Oi03U9Rs9LudBjuzJIWuruS5kQxRd2AUhVCjnLbs1ettN8P6baaMbuw/tJNXvJV8+SaSNooFk8tSoUgbjy3IPpijrb+v6/4Ir2V2cPRXb6RpWmL4ufw3caGt8YbyWO5vZbmRDHCrEFwFIVdoGSW3Z9qq6Lp/h+607xBGYri6vLa2mntpmbZGiIVCtgHLMd3OeB6VLklHm8rlWd7fI5KirNh9j+3w/2p5/2TdmX7OBvI9BniuwbQtGk+KVrpqWMkenTxROLZHkf5mgDgFhltu48kdBnpV2F3OGoruvEXhzSrFtHTUBBor3ImNxPZebdW+1fuFSzHLE8EBjjIJx0pPB+l6XrkccFzotqYY4pPtNwL92u3YLkGKFWyeo42MOvNLpcdtThqK9I0LwjZ31vocMehPf2+pQk3eqpM4NrIWI2jB2LtwOGBLZ4rm/Buk2+peJJ7S6s/t4jtbh44MuPMkRCVHyEMeQOAafVr1/AS1V/T8Tm6K9LsvC+lT6l4eTVtDXS7u7knFxpvnSjfGsZZZCGYunzDGM84rBsYdI1/RdRkg0aCwv8ATIftg8maVoriMMAyMHdiDhhyGH4VN9/IdtjkqK6/Um0mLwXp2ow+HdPjub6W4idhNckR7Nu0qDKefmPXI6cVyFMXS4UUUUAFFFFABRRRQAUUUUAFFFFABRRRQAUUUUAFFFFABRRRQAUUUUAFFFFABRRRQAUUUUAFFFFABRRRQAUUUUAFFFFABRRRQAUUUUAFFFFABRRRQAUUUUAFFFFABRRRQAUUUUAFFFFABRRXTQWWjT/D2+uobadtTtZoBJcSPhRvLjaig4xhRyecnt3HorgtWczRXRR6bptn4TsrzVUl87Ubw7HiOWjto+HKqSASzHAz/dpPGNnptpqNi2jWrWttc2ENwI3kMjAsCSST3+mB7Um7O3y/C4LX+vkc9RRRTAKKKKACiiigAooooAKKKKACit3whaaZe64YtX8pk8iRoIppvJjmmA+RGfI2gnvkdhmttdJmt9Uv2n8PWej3Gn6XJceTLHJcRTHcFDqJHI6NwcsuR0PZN2/MFqcPRRRTAKKKKACiiigAooooAKKKKACiiigAooooAKKKKACiiigAooooAKKKKACiiigAooooAKKKKACiiigAooooAKKKKACiiigAooooAKKKKACiiigAooooAKKKKACiiigAooooAKKKKACiiigDb8LeK9S8I6sL7S5B8w2ywvkpKvoR/I9qq67rt/4j1eXUdVmMs8h4HRUXsqjsBWdRRuAV1B8S6Q/hu20d9IvooY8PP9l1FEFzL/fcGFifYZwP1rl6KOlgOvtfG1tb3GnX76S76nptqLa3mF3tiIUEKWj2ZJAPOGANY/h/XBot7cPNai7tru3e2uId+wsjejYO0ggHOD0rIoo/r7wOvj8b29mNKg07SNlnYJcRSQz3PmG4jmADhmCrg8HkD0445wNTuNLn8oaTp89mFLGQz3QmL5xgDCLgDn161n0UBsdRbeMvs+vaLqX2Dd/ZViLTy/Ox5uFcbs7ePv8ATB6daPD3jI6DaWUAsfPFrdzXBYTbCwkiEZUcHaQOQ3P0rl6KO/mGx2Vv45tLA6Ymn6PIkOntcPiW83vKZo9hLNsAyOvA9ves3Q9fsdK0XULG5064lkvsJJc292sLiIcmMZjbgnr68CufoosO708jqLXxRpqWdjbX+jS3cemTvJZf6ZsIVm3bJPkO8Z5yNtUbPxNd2vjEeImSOW5Nw08kZGFbdncvsCCRWLRR1uLpY62Pxna6bYxW/h/SXszFqEd+JJ7vziWUMNn3F+XB+vXk5rK1nUdGv/Mk03R5rG4ll8xma881FHOVVdgwM88k1j0Uf1/X3Dv/AF9/+bOl03xJpll4ZfSZNLuw87E3Vza3yxNcLn5UO6JsKPQHk8mpdP8AFmn2tvYw3ejSXaaXcvPYE3mwoGIbZJhPnG4A8bfyrlaKOtxdLHWReL7F9Iu7W80y6+0387zX11aXyxNcZYkIQ0T4UZ6A896ydN1iLS5dU+z2rtFfWklqiySgtEGIIJIUbiNvoM+1ZNFJxTVh3CumTxhs8Uf2sbANG1oLOW3MpG9PKEbYcD5SQM9OPeuZopi8/wCv60OmPiXShZ2OmjRJZNLtppJ5IJ74tJLIy7Qd6ou0DAOAvOOabo3iDSNFuLS/t9EmfUbVPkke+/cmQdHMezP4bsVzdFAG/ouv2WiP9ui02SfV1DGK5luR5UbHOGEQQHIB7sRnnFVNC1k6LfT3Jh88zWs1uRv248xCu7OD0znHesuigd3e/wAzV8NayPD3iK11Nrc3Ig3ZiEmzduUr97Bx19KuSeIrG10O603QdLkszegLc3NxdedI6A5CDCIFGevHNc9RQI1LrWftPhvT9J8jb9immk83fnf5m3jGOMbfXvWXRRQHSwUUUUAFFFFABRRRQAUUUUAFFFFABRRRQAUUUUAFFFFABRRRQAUUUUAFFFFABRRRQAUUUUAFFFFABRRRQAUUUUAFFFFABRRRQAUUUUAFFFFABRRRQAUUUUAFFFFABRRRQAUUUUAFFFFABWla6t9m8P6hpnk7vtskMnm78bPL3cYxznd69qzaKOlgNPWtX/taW08uD7PBZ2sdtDFv3YCjkk4HJYs3TvSaxq39rNZHyfJ+y2cVr9/du2DG7oMZ9KzaKTSf5gFFFFMAooooAKKKKACiiigAooooAuabPYQTudVspbyFkKhYbjyWVsjDBirD14I710D+NYk09tPs9NaKzXTpbGFZLnzJFMjq7OzbQDyv3QAK5Oihq6swWgUUUUAFFFFABRRRQAUUUUAFFFFABRRRQAUUUUAFFFFABRRRQAUUUUAFFFFABRRRQAUUUUAFFFFABRRRQAUUUUAFFFFABRRRQAUUUUAFFFFABRRRQAUUUUAFFFFABRRRQAUUUUAFFFFABRRRQAUUUUAShoNo3RyE98SD/Cjdb/8APKT/AL+D/wCJqKigCXdb/wDPKT/v4P8A4mjdb/8APKT/AL+D/wCJqKigCXdb/wDPKT/v4P8A4mjdb/8APKT/AL+D/wCJqKigCXdb/wDPKT/v4P8A4mjdb/8APKT/AL+D/wCJqKigCXdb/wDPKT/v4P8A4mjdb/8APKT/AL+D/wCJqKigCXdb/wDPKT/v4P8A4mjdb/8APKT/AL+D/wCJqKigCXdb/wDPKT/v4P8A4mjdb/8APKT/AL+D/wCJqKigCXdb/wDPKT/v4P8A4mjdb/8APKT/AL+D/wCJqKigCXdb/wDPKT/v4P8A4mjdb/8APKT/AL+D/wCJqKigCXdb/wDPKT/v4P8A4mjdb/8APKT/AL+D/wCJqKigCXdb/wDPKT/v4P8A4mjdb/8APKT/AL+D/wCJqKigCXdb/wDPKT/v4P8A4mjdb/8APKT/AL+D/wCJqKigCXdb/wDPKT/v4P8A4mjdb/8APKT/AL+D/wCJqKigCXdb/wDPKT/v4P8A4mjdb/8APKT/AL+D/wCJqKigCXdb/wDPKT/v4P8A4mjdb/8APKT/AL+D/wCJqKigCXdb/wDPKT/v4P8A4mjdb/8APKT/AL+D/wCJqKigCXdb/wDPKT/v4P8A4mjdb/8APKT/AL+D/wCJqKigCXdb/wDPKT/v4P8A4mjdb/8APKT/AL+D/wCJqKigCXdb/wDPKT/v4P8A4mjdb/8APKT/AL+D/wCJqKigCXdb/wDPKT/v4P8A4mjdb/8APKT/AL+D/wCJqKigCXdb/wDPKT/v4P8A4mjdb/8APKT/AL+D/wCJqKigCXdb/wDPKT/v4P8A4mjdb/8APKT/AL+D/wCJqKigCXdb/wDPKT/v4P8A4mjdb/8APKT/AL+D/wCJqKigCXdb/wDPKT/v4P8A4mjdb/8APKT/AL+D/wCJqKigCXdb/wDPKT/v4P8A4mjdb/8APKT/AL+D/wCJqKigCXdb/wDPKT/v4P8A4mjdb/8APKT/AL+D/wCJqKigCXdb/wDPKT/v4P8A4mjdb/8APKT/AL+D/wCJqKigCXdb/wDPKT/v4P8A4mjdb/8APKT/AL+D/wCJqKigCXdb/wDPKT/v4P8A4mjdb/8APKT/AL+D/wCJqKigCXdb/wDPKT/v4P8A4mjdb/8APKT/AL+D/wCJqKigCXdb/wDPKT/v4P8A4mjdb/8APKT/AL+D/wCJqKigCXdb/wDPKT/v4P8A4mjdb/8APKT/AL+D/wCJqKigCXdb/wDPKT/v4P8A4mjdb/8APKT/AL+D/wCJqKigCXdb/wDPKT/v4P8A4mjdb/8APKT/AL+D/wCJqKigCXdb/wDPKT/v4P8A4mjdb/8APKT/AL+D/wCJqKigCXdb/wDPKT/v4P8A4mjdb/8APKT/AL+D/wCJqKigCXdb/wDPKT/v4P8A4mjdb/8APKT/AL+D/wCJqKigCXdb/wDPKT/v4P8A4mjdb/8APKT/AL+D/wCJqKigCXdb/wDPKT/v4P8A4mjdb/8APKT/AL+D/wCJqKigCXdb/wDPKT/v4P8A4mjdb/8APKT/AL+D/wCJqKigCXdb/wDPKT/v4P8A4mjdb/8APKT/AL+D/wCJqKigCXdb/wDPKT/v4P8A4mjdb/8APKT/AL+D/wCJqKigCXdb/wDPKT/v4P8A4mjdb/8APKT/AL+D/wCJqKigCXdb/wDPKT/v4P8A4mjdb/8APKT/AL+D/wCJqKu20HwBa3vhiLXfEGuppFpcuy2yrbiZ5ArbSxy6Kq7gQOckg8VE6kaceabsioxcnZHHbrf/AJ5Sf9/B/wDE0brf/nlJ/wB/B/8AE13P/CFeDf8Aoen/APBfD/8AJNH/AAhXg3/oen/8F8P/AMk1h9cofzfgzT2FTscNut/+eUn/AH8H/wATRut/+eUn/fwf/E13P/CFeDf+h6f/AMF8P/yTR/whXg3/AKHp/wDwXw//ACTR9cofzfgw9hU7HDbrf/nlJ/38H/xNG63/AOeUn/fwf/E13P8AwhXg3/oen/8ABfD/APJNH/CFeDf+h6f/AMF8P/yTR9cofzfgw9hU7HDbrf8A55Sf9/B/8TRut/8AnlJ/38H/AMTXc/8ACFeDf+h6f/wXw/8AyTR/whXg3/oen/8ABfD/APJNH1yh/N+DD2FTscNut/8AnlJ/38H/AMTRut/+eUn/AH8H/wATXc/8IV4N/wCh6f8A8F8P/wAk0f8ACFeDf+h6f/wXw/8AyTR9cofzfgw9hU7HDbrf/nlJ/wB/B/8AE0brf/nlJ/38H/xNdz/whXg3/oen/wDBfD/8k0f8IV4N/wCh6f8A8F8P/wAk0fXKH834MPYVOxw263/55Sf9/B/8TRut/wDnlJ/38H/xNdz/AMIV4N/6Hp//AAXw/wDyTR/whXg3/oen/wDBfD/8k0fXKH834MPYVOxw263/AOeUn/fwf/E1GcbjtGB2ya73/hCvBv8A0PT/APgvh/8Akmj/AIQrwb/0PT/+C+H/AOSaPrlD+b8GHsKnY4Giu+/4Qrwb/wBD0/8A4L4f/kmj/hCvBv8A0PT/APgvh/8Akmj65Q/m/Bh7Cp2OBorvv+EK8G/9D0//AIL4f/kmj/hCvBv/AEPT/wDgvh/+SaPrlD+b8GHsKnY4Giu+/wCEK8G/9D0//gvh/wDkmj/hCvBv/Q9P/wCC+H/5Jo+uUP5vwYewqdjgaK77/hCvBv8A0PT/APgvh/8Akmj/AIQrwb/0PT/+C+H/AOSaPrlD+b8GHsKnY4Giu+/4Qrwb/wBD0/8A4L4f/kmq+veALWy8MS674f11NXtLZ1W5VrcQvGGbaGGHdWXcQDzkEjiqjiqM5KKlqxSozirtHE0UUV0GQUUUUAFFFFABRRRQAUUUUAFFFFABRRRQAUUUUAFFFFABRRRQAUUUUAFFFFABRRRQAUUUUAFFFFABRRRQAUUUUAFFFFABRRRQAVo6PpSapO6SXcdttUlQw3M5wTgL+HJ6D8hWdV/RbmK01aKa4bZGquCcE9UIHT3NJ7aAtyjWm+l2j6fc3FhfPO1qFMqvBsUhjtyp3EnkjqBVSG4iS2eF7O3d3PFw5k3R/QBgPzBrW1EWMWmfZNL1W1eBcPIPLmEtw/qcpgAZOBnHfOTQxoyLiyms742l0vlyqQGAYNjPuOO9aOqeHZdP8QR6XFMLjzmCxy7dobJ2njJxhgR17VnzpBb6httrj7RCrDEoQru6djzXR3ev2Mv9pTLIzXMc8xsGCkbklOGPtgZIz3aht2TBGTfaC9vrE1jaXMM6xojiaWRIFYMoI+82O/rVaTSL6Lzt9u2YJFikAIJVm+7wOcHselbkl/plxcXMsdxbR3BS3WOa6tmlTasYDqF2t82QOSO3Wpf+EgsbTxBe6rBK0/mrHFHCqGPK7V3MeMAjbwPXB6ClrsGm5if2Jc+WYzE5uvta2oUMhTeQflzu65/Drk08+GtUCs7RQqina7G6iAjb+653YU+xwavWN/p9g0MQvPNji1aK4EnlsCYgDliMdeen86oPewtouoQeZmWa8jlQYPzKBJk5/wCBD86Lv+vl/wAEEl/Xz/4BVn0y8thcmeAp9ldY5skfKzZx9c4PIqaLQtRnzsgUBYlmZmlRVVG6MSTgCtW7v7DUG1OAXqQLcfZnilkjfaTGm1gdqkjr6dqNQ1Owaxu7e1uTJusraBCUZd7Iw3duOmaLv+vT/MNDNl8OapDG7yQJhUMmBPGSyAZ3KA2WXHcZFRaVp8WoTTied4I4IGmZkjDsQuOACR6+tacWqWa6pYTNN+7h01oHO08P5brjp6kc9KpaFfx6dNeSSMgZ7SSOMPGHVmOMAggj8+KNdf67hpp/XYS50cBbOSwuBPDeBtjTAQlSv3g2WIH1zikXRriOeSO6jPFs9wjQOjqwAPO4NgjI5wSeOlT2Oppd35fWJYQEgZLbfD+5hftmNBjHXop5PINaNxq9jtiT7VHIyabPAzQ2/lIZGLEAKFHHPXA98UO6X9eYaP8Ar0Mb+wNS8pHMCgPH5qK0yBnTbv3KpOSMeg9uvFRJo9/IlmyW5K3zFLc7h85Bwe/HJ74rRfV4Y/EGmXkcheK3gt45ODwFQK6/zFaQ17TojdwxzExWcYGmtsPzMI2Qnpxktu59KG2gsjDbRLhzCLeMjdbieR5pI0RQWIzuLYA6Dkg57VFFo17NNNHGsP7kgPI1xGIwT0G8ttJPsa1E1KNpLMW9/awolikM6XcLvG5Dk7SAjZ7HP5Gpk1PTVhvLKwmtbRDOk0Ulza+dE3ybWADK7LzyOM44OKev9eodP67GBHYS/wBqpYXAaCVphEwYcoScdK0LrQ7cQ3bafeyTyWcojljmgEecttBUhmB59cVA18ZPE0d5d3KT7Z0Z50j2qwUjkKAMcD0qa/1ya71GRfNjWzNz5mIoFjDgNwW2gFjj1yaFdtf12E9L/wBdyCTQNRhvFtZIFE7bv3fmpuUDqWGflGOcnAxzTG0W/F3FbiFXeZS0bJIrIwHU7wduBg5OeO9aH9p2r+I9XkeYi3vxNGs+0naGbKsR1xwM98HpU9tqOn2dpFphvBKjQ3CyXSRtsjMgUDAIDEDYM8dzjNK7sVZXKc/h6eOz08RL5l3eSyoFSVGRgoXBVgcdz37VmxWNzPb+fDEXj81YcryS7AkDHU5wa3rXUdP01tGQXguRaXErzPFGwChgoBG4Anoew6H2ythf6dolrCFvVvZE1CK4YQxuBsVWHBYDnn+XvTuSUbbwzeTXjW80ltCyxyOf9KiYgoucEBuDnjnpyexrJljaGVo3KllOCUcMPwI4P4VtWP2DTtW3/wBpxTwzxTRGRIpB5e5CqlgVHc/w5rFlRY5mRJFlVTgOgOG9xkA/mKBuwyiiimIKKKKACiiigAooooAKKKKACiiigAooooAKKKKACiiigAooooAKKKKACiiigAooooAKKKKACiiigAooooAKKKKACiiigAooooAKKKKACiiigAooooAKKKKACiiigAooooAKKKKACtEaUv8AYL6h9rjLq6r9nUZIDbsFj0H3Tx1+lZ1X7e5ij0O+t3bEsssTIuDyF3Z/mKT2BCQ6aZdNW6aZY/MuBBEr8BuMsxY9AMr+dGraemm3UcUVytykkKyiRUKg5HbPP+elP1O6hkhs7W0ffDbQgFsEbpG+Zzz7nH/ARTdVuYrlrQwtu8u1jjbgjDAcih3Gv0KFFFFMQV6XqVkl78IvC/n3K20EEEksshUsQPtVyMADqSWHFeaV6bfyWo+D/huC9maBLi2kjWUIWCMLy4YEgc4+XHHrWFVJyp3/AJluXFtRlbscLcaVCdO+26ZdPdRLII5Ukh8t4yfu8AsCDg85ok8P6jHKInij805zGLiMuuFLHKhsrwO+Ku217ZaLZiOC5W+mluYpZTEjKiJGc4G4Akkn0xUkU+m2viNtQGpJLDcPKCBE++IOrDLAjBwT2Jr1/Y0XbWz66qy+/f79DzvaVVeyvvbR6/lb9TN0nSnvruzMystpPdLbNIrDIJxkD8D1xin3ehS22lQ34mhZJpHUJ5qbgAQBxnJPPIA4xzWnY3mm6Zb6bD/aCTtDqS3MzxxuFVMAcZUE9PSq63Wm3Nhp6Xc422t3I00BV90kbsvKkDHQHqRVqjQ5FFtX9V/c/K8vxF7Wrz3s7enr/wAAoPoOoIYh5Ub+dKIVMc8bjeeikqx2n64qve6fcafIsd2qpIRkoJFZl9mAJKn2OK6cavp8CW6G8tX2anFcf6LaGJUiUMOflBJGR1z9TzXK3cgmvZ5AxYPIzBj3yawr06MIrkd2/NaaLt6v7jWjUqzl76svR/qXZfD+pwzRQyW4E0xASLzULnjOduc7eD83T3pp0HURNHGIUbzEZ1kSZGjKr947wdox354rVbWrMeMpb3zN9tLF5XmmLdtzEEztYc4PYjkUxtTnS4t0j1rTvLQSfcsikQDYBDKIhu3AdMEcVq6OGV7N7vqu/wAvW5mqlfTRbX2Zky6VdwpO7LGyQIryNHMjgBjgcqSDz6VYsNGaYTG8DRj7C93CVYfNg4GevGQfQ1pSXekOL+0gnhthd20YaZI5PJ81XDHAwWAI9uvalfUtOhKxQ3fmqmjva7/LYBpSzHAyOhz1/OmqNGOrknv1Xn/kgdWrJWt+D8v1uZ174eubO4t4lmt5WmiWQYuIxtyu45+bgD+8cA1XOi34vY7UQq0skfmIUlVlKc/NvB244POe1bIu9JnuIbma6t94sFhRJ4XcQyqoGWG0gjg4xnryKll1fT2mhga7Qq2nSWsk8VuY0R2csCECj5enQZ56ZpyoYe7tLq7arbW39eZKrV0krfgzMufD00VnpohRpbu8eVdqSK6ELtwVZeO5yc9u1ULzTbqwWNrhE2S52SRyLIrY6jcpIyPSt2HUtOsrbTrT7b56ol1FNNFG2I/NUAMu4AnH58H2rOvZ7W30GLTre6S7kNwZ3kjRlVPl2hRuAJPc8elZ1qVFRcovWy6rfTTz667F06lW6TXfo+7+7oGj+H7nUri0Lpttp5Qm7zUV2AI3FFJy2PYGootEvLuWX7HGrRrMYlaSVE3t/dG4jcfYVp2N5p8kui3VzfrbNp+FliaN2LASFgVwCOc85I6d6fb6vA+nrBFeWlpNBdSSK91ZiYOrEEFTsYqRj0GeOeKv2OHsk336q7+H7uuj1JdWvzOy/B+f39NjIvdOW00iyuT5izzSTJIj8bdhUdMZB5OajTSbySw+2bI0gIYq0kyIXC9dqkgtj2Bq3q+oR3um2iG4E9wlxcSTMEK53spDdAOcE4HSnXUllqOnWTtepBNaW3kvA8bkvhmYFSARzuxyRisnTpSk7PouqXRX/wCGNYzqKKv3fR93YpyaReRWJu2SNoVClikyMyBuhZQSRn3FaN74fSK9uYLVpCI5oY0eV0CjehY7iSPTjA/pVy+1HS10vVILK5tvLuEjW2hhtCjqA6kh3Kgk4B7kcH2pmo6xYzyXxin3CW6tZE+RhlUQhj07E10qjho3Tfbqu7vt5WMPa15a2t8n/d/zZX1fQ7ezN5HaJO72jqjSefFKrZYryFwUOR93k+uKz7jRL61kjjnSJZJHCCP7RGWVj2YBsr+OK1l1qzhvtZuFfzBPfxzwrtP7xVlZj244I61EP7IHiA3s1/Dc280ruI2hkyhIJUuMYIDYyATmsnTozs09/NK2r/QqFSrFNNbeTd9F+pnNoeoLPbwrCsjXJIiMMqSK+OvzKSOO/PFWZ/D80Ol2sgUyXVzctEixSLIjAAYwVyM5JHWtX+2bBI7CCW8hkKrdRTS2tr5SxiVFVWChVzj6Z4PtUNjqWn6Rb6fGLwXRhupJJTDG4Cq6BcjcBkjrVeww6TXNvbqtNY3/AAvrsJ1q7s7d+j13/wCAZEuh6hFJAhhRzPJ5UZjmR1L/AN0spIB9jXa6PZXFh8JPFsN2oSTy4yUDhiv+k2vBweD7HmudsLzT9JW2gF8t0G1CK4kkjjcLEiZ/vAHcd3YHpXQaNIJvhV40kDFg5Vgx75urWvMx9OlCNPld25LqnbRdvV/cd2FnUlKSktLPo1c87ooooKCiiigAooooAKKKKACiiigAooooAKKKKACiiigAooooAKKKKACiiigAooooAKKKKACiiigAooooAKKKKACiiigAooooAKKKKACiiigAoopce9ACUUuPcUY9xQAlFLj3FGPcUAJRS49xRj3FACUUuPcUY9xQAlFLj3FGPcUAJRS49xRj3FACUUuPcUY9xQAlFLj3FGPcUAJRS49xRj3FACUUuPcUY9xQAlFLj3FGPcUAJRS49xRj3FACUUuPcUY9xQAlFLj3FGPcUAJRS49xRj3FACUUuPcUY9xQAlFLj3FGPcUAJRS49xRj3FACUUuPcUY9xQAlFLj3FGPcUAJRS49xRj3FACUUuPcUY9xQAlFLj3FGPcUAJRS49xRj3FACUUuPcUY9xQAlFLj3FGPcUAJRS49xRj3FACUUuPcUY9xQAlFLj3FGPcUAJRS49xRj3FACUUuPcUY9xQAlFLj3FGPcUAJRS49xRj3FACUUuPcUY9xQAlFLj3FGPcUAJRS49xRj3FACUUuPcUY9xQAlFLj3FGPcUAJRS49xRj3FACUUuPcUY9xQAlFLj3FGPcUAJXfaN4u8NXPgu18P+L7K9P2Bn+zXFmiybkZy+1lLoQQzvghujYxXBY9xRj3FZ1KcakeWRUZODujvftPwu/54a7/4Br/8lUfafhd/zw13/wAA1/8AkquCx7ijHuKx+qU+8v8AwKX+Zp7aXZfcv8jvftPwu/54a7/4Br/8lUfafhd/zw13/wAA1/8AkquCx7ijHuKPqlPvL/wKX+Ye2l2X3L/I737T8Lv+eGu/+Aa//JVH2n4Xf88Nd/8AANf/AJKrgse4ox7ij6pT7y/8Cl/mHtpdl9y/yO9+0/C7/nhrv/gGv/yVR9p+F3/PDXf/AADX/wCSq4LHuKMe4o+qU+8v/Apf5h7aXZfcv8jvftPwu/54a7/4Br/8lUfafhd/zw13/wAA1/8AkquCx7ijHuKPqlPvL/wKX+Ye2l2X3L/I737T8Lv+eGu/+Aa//JVH2n4Xf88Nd/8AANf/AJKrgse4ox7ij6pT7y/8Cl/mHtpdl9y/yO9+0/C7/nhrv/gGv/yVR9p+F3/PDXf/AADX/wCSq4MDJ4Ip3lN7UfVKfeX/AIFL/MPbS7L7l/kd19p+F3/PDXf/AADX/wCSqPtPwu/54a7/AOAa/wDyVXC+U3tTDwaPqlPvL/wKX+Ye2l2X3L/I737T8Lv+eGu/+Aa//JVH2n4Xf88Nd/8AANf/AJKrgaKPqlPvL/wKX+Ye2l2X3L/I777T8Lv+eGu/+Aa//JVH2n4Xf88Nd/8AANf/AJKrgaKPqlPvL/wKX+Ye2l2X3L/I777T8Lv+eGu/+Aa//JVH2n4Xf88Nd/8AANf/AJKrgaKPqlPvL/wKX+Ye2l2X3L/I777T8Lv+eGu/+Aa//JVH2n4Xf88Nd/8AANf/AJKrgaKPqlPvL/wKX+Ye2l2X3L/I777T8Lv+eGu/+Aa//JVGs+LvDVt4LuvD/hCyvR9vZPtNxeIse1FcPtVQ7kksiZJbouMVwNFOOFpxkpau3eTf5tidaTVtPuS/JBRRRXSZBRRRQAUUUUAFFFFABRRRQAUUUUAFFFFABRRRQAUUUUAFFFFABRRRQAUUUUAFFFFABRRRQAUUUUAFFFFABRRRQAUUUUAFFFFABRRRQAUp6D6UlKeg+lACUVsaaUt7BJ1+yB5bgxyS3cHmpGoUEDG1sbiTyBn5eCOasXGnWcN+6X6M8s908KiwbbHCQRnAZSW5b7vy8DrzwdbB0uc/RW1FptiDDazGd7m4DFJ4nURJgsoyuMsPlJJyMA9DjmeK0sobG/gWGZ7iOzWVpnCMhztPyjblfvcNuOfQZ4Vx2d7HPUUoxuG4EjPIBxWw9rZ3x00WiTW0c0jQsJHSRuCDnKquT8x6+wzTEY1FdJpNpp91eRPbQTrDKs0MkUwSdjiIsGT5RyPTGQcc81R8uwhutOvYo5UtXmxJFckScKwychRuUg+nYjmlfWwdLmTRT5mVp5GjGELEqMYwM1c0aGObVE85VdI0eUo3RtiF9p+u3FPpcdtbFCiuk08afJpti18kIkild1HlgGcZA2Egc/MV69t3tSy6RZ3EN5LK3k3Z8+eJEOFKIT0RY8AZVhy649OmU3YErnNUVvS6TZJ4fGoiO6DtEoERlG5WLEeYRs/1R4AOc54z3rDQqHUyAsufmCnBI+van1ENorX1eCwiuP8AQrG6jijZBIzTh1OVzgHYMHr1z9Kk+y6fJrRjmjuBa/ZBMqxugcYhD4J2YPTGcDrn6q4GJRXT/wBh6T5skjzTw28IcP5snLEGPGCsbbR+8/unp2zxh6lDaQXzLp1x9ogwCrYPBxyOVXODxnAz6Ci47FSitPT7O3ubZWkhuJJPtccJWKQDcrhsADacNlevPXpV/T9G0uS/mt76adD9qa3gwxUvg44PlsrNyOCUAyOeeBu39en+YjnaK3o9M0hdJjlvL4w3M0TyJkuQMFgBtEZByV67xjPTjl9naWUVvcw+TNJcf2eZ2lcI0fKhhgFcrjI+YN1GMc0N2uOxz1FXbm3hj0uymjhu0ll3+Y8qgRPg4Hlnvjv71DZRxzX9vHMcRvKqufQE80xbEFFamoubuzgna3ihmM0kQWCIRgqNpAwOpBYjPU981HZwPa6jIt3BsmgjdxDPH/EFJGVP54PHHPFK+lx2M+iuktILSa9kvLtYojHYi4aNYA6h9wXIjBAPBDYOF5544qobdRrM9zdeXLb26LO22FYlkBAKLsXgZyAQP9rrii+oW0uY1FaVlMJLDUY2ggJMXmeYYxuU71GFP8I5PTHX6VSW3ne3edIZGhjIDyBSVUnoCegpiIqK2oxGdPFt5UJjNo07S+UN4cMcHf1xkBcZxz0zzReCNrC4hEUKx2yQtFKsQVmLAZBbq2ck85xjjApX1sHS5i0VJLBNBs8+J4vMQOm9SNynoRnqD61a0mG1uLxkvlmMQhkf9y4VsqpbuD6Y/H8KYFGiuifRtOF6m0zpaoZRO0swGNqqQchDgZcD7rH8+BNCsX1i4shJII/ISaG4aTbHECob94SmdvOAcDnHHPCuOxztFW9Thit9UuIbeKeKONyqpcEFxj1wB/KtGwsNLl0pLi6S8Mo3lxHMqqQGQDGVOM7x69PfhrVaC2djDoro5tG0i1tGF3qBjuWEhjJL/wALMqjaIyDkr13jGenHKHStKe13RLeLL5Kt80qFQxiMn93kDbjHfPbHK5la47a2OdorYurGwjS6ihFyJ7MAySO6lJfmCnaNuV5ORy2RTrm30OC8t4v9PVG8qSUs6HajqCVGF5Iz97HPTA6l7iMWitjVdKi0yz/fJKl09zIsamQMpiXjd90Hkng9Dg8CqWn28Vy06TLISsDyIUYDDKueeDkce1K91cdtbFSit8aVp0d4pu/tFvbNaJMfMc8M3QFljbAPJHy/jU40XRoJ7o3t3JFBHOIoyzkHG0HcSsT5zngEL0+uC4jmaK6PR7LT4tTshIJb37RdGOF0RfLwCBlkdTuznOOMDH4ZaW0DaXeTtDdmaOVVSSNB5Kgk5DnsfSi47FCiitu8ST+x1S5tII5sxmGOGALJGmMbnI5+bIwGJJ6jAxliMSit+6jhvbO1DQx2zpdC3mxbiHycj7uckvjBJZjuHfrVjUILYajEkIha3t5ZYhD9jER3ouQpOS0gJwMsc9eBmlcdrnMUVvQyRte2V9PbKS1vI8ywWiOoxvUSeXwuBgZ6D5c07yZ11RprVbWRJoFlM9zZxxpAhONzR8ovTsDnIxyaLiOforptJsra58QzSrDbrGJ0WK2uXSPKueW2uecL0Azywqvoy20UPlXUau89wYQBBHN5uABtDE5j+995c5z7UX0HbUwaKv2saQadPeTIrFswQKwyCxHzN/wFT+bKe1XlVJtBW2VTBOlu0zb7CPEihidwm++OMAcYyMd6G7CMKituTZL4flie1WKe28tiv2YIVUnG7zMlmLbgdpwO44FXNVsreO4jsrMxSw291HDIgtljZiwJBEpyzA4OScDpgYxguHQ5iit3Ub2BJLa9soYZSGkj3S2McSk4GB5akqcbs5PXIyOKJ5A2qIZoLcTW9oXZVt0RGk2lxlFABxkdRzt5zRfS47a2MKit1JLZL9ZpvsttNPaK4MtuGijkJHJjCkcqCcbSAWHA7STLBb63f2sMVvKklszlzDjYwhLHaD9z5vYEYA45FFwsc9RW1oiuIHeW1t3s9+2RpIQ7zEjiKMnkMf8AZwRnJPArKW2ne3edYZGhjIDyBDtUnoCegpiIqK0JokbQLa4CBZFnkhLBcbhhWGfUgk/hj0rPoAKKKKACiiigAooooAKKKKACiiigAooooAKKKKACiiigAooooAKKKKACiiigAooooAKKKKACiiigBy/eH1qxVdfvD61YoEFVm+8frVmqzfeP1oASiiigYUUUUAFFFFABRRRQAUUUUAFFFFABRRRQAUUUUAFFFFABRRRQAUUUUAFFFFABRRRQAUUUUAFFFFABRRRQAUUUUAFFFFABRRRQAUUUUAFFFFABRRRQAUUUUAFFFFABRRRQAUp6D6UlP2FlGBQBNaaheWDM1jdz2xcYYwylN31wadBqmoWqyLa31zCJTmQRzMu8+pwear+W3p+tHlt6frQBPFqV9DaPaw3lxHbvndCkrBGz1yucGnLq2opai2S/ultwCoiEzBADkEYzjufzqt5ben60eW3p+tACKQrAlQwByVPQ/lVq61A3HkiC3is0hJZEgL8McZbLMTngd+1VvLb0/Wjy29P1oAtPrOqSzCWTUrt5FUoHadiQp6jOeh9Kjm1C9uLpLm4u55bhMbJXlZnXByMEnIxUPlt6frR5ben60AI7tI7PIxZmOWZjkk+tSWtzJZ3cdxDjfG24BhkH2PtTPLb0/Wjy29P1oAsJql/HHFHFe3KJA26JFmYCM88qM8dT09aeut6qqsq6neBXYswFw2GJ6k89TVTy29P1o8tvT9aAuWG1XUGRla/uSrRiJgZmwUHRevTnp0qpT/Lb0/Wjy29P1oAmfUb2QQB7y4YW2PIzKx8rGMbefl6Dp6VM+u6vIwZ9UvWYAqCbhzgHqOvfFU/Lb0/Wjy29P1oC5ZXV9SR1dNQulZTlWE7Ag7duRz/dGPpxUNzdXF5MZrueSeU8F5XLMfxNM8tvT9aPLb0/WgCW2vruy3/Y7qa38wYfypCu4ehx1qUazqarKq6jdhZiTKBO2JCRglueePWqvlt6frR5ben60ATwanf2ts1vbXtzDA+d0UcrKrZ4OQDg06LVtRgtlt4b+6jgXOIkmYKM5zxnHc/nVby29P1o8tvT9aAuOe4mkgjhkmkeKLPlozEqmeTgds1HTvLb0/Wjy29P1oAlub67vJllvLqaeRBhXlkLFR6AmkN9dm8+2G5m+053ef5h359d3Wo/Lb0/Wjy29P1oAlF/eC9+2C6nF1nPn+Yd+cY+916U2S7nlWQSys/myeZIWOS7c8k9T1P50zy29P1o8tvT9aALFpqmoWEbJY31zbIxyywzMgJ9eDUK3M627wLNIIZCGeMOdrEdCR3pvlt6frR5ben60ASfbrsWf2P7TN9mJ3eR5h2Z9dvSiW+u5rWO2muZpIIv9XE8hKp9B0FR+W3p+tHlt6frQBNfXsuoXRnn2htqqFUYVVUAAD2wKZb3dxZyF7SeWB2UqWicqSD1HHameW3p+tHlt6frQBZXV9SR1dNQulZTlWE7Ag7duRz/AHRj6cUPq+pSb/M1C6bzAFfdOx3AEkA888kn8areW3p+tHlt6frQA64uZ7udpruaSeVvvSSuWY9upqVNSvo7dYI724SFQyrGsrBQG6gDOOe9QeW3p+tHlt6frQBaGs6oqSoNSuwsxJkUTthyRgk888Uf2xqe4H+0bvKgAHz24Azjv2ycfU1V8tvT9aPLb0/WiyC5Yk1TUJbeOCW+uXhiIMcbTMVQjpgZ4xS3Gq3t60Z1C6nvVjbIS4mdx7jrkZ9sVW8tvT9aPLb0/WgC3qmqS6rcRyyxRxCKFYUSPdhVXgfeJP61VguJrWdZrWWSGVfuyRsVYfQik8tvT9aPLb0/WgC4uuassplXU7wSEbS4uHzjOcZz6nNRW+p39pNJLa3tzDJKcyPHKyl+/JB5qDy29P1o8tvT9aALEOq6hb+b9nv7qLzm3SbJmXefU4PJqNry6eOVGuZmSdt8qmQ4kb1b1Puaj8tvT9aPLb0/WgBlXLjVtRu7cQXWoXU8IxiOSZmXjpwTiq3lt6frR5ben60AS3N9d3ixi8uppxEMRiWQtsHoM9OlLLqF7M0LTXc8jQYEJeViY8dNvPHTtUPlt6frR5ben60ATPqF7Jei8e7na5XGJzKxcY6fNnNSR6xqUVxJcRahdpNLjzJFnYM+OmTnJqr5ben60eW3p+tAEyahex3pvI7udbls5nWVg5z1+bOaWLUr6BZlgvbiMT8yhJWHmf72Dz1PWoPLb0/Wjy29P1oC4rzSSRRxs2UjBCjGMZOTUgvrsWRsxdTC1JyYPMOwn129Ki8tvT9aPLb0/WgCWS+u5rWO2muppLeI5jiaQlE+g6CiS+u5oYopbqZ44P8AVI0hIj/3R2/CovLb0/Wjy29P1oAlu767v5Fe+uprl1GA00hcgenNMS6njuhcxzyJOG3CVXIYH1z1zTfLb0/Wjy29P1oAnTU7+K8e7jvblLlxh5llYO31bOT0FLb6pqFnJI9pfXMDynMjRTMpc+pweepqv5ben60eW3p+tAFqHWdUtldbfUruISMXcJOy7mPUnB5J9arrczpbvAs0iwyEF4wxCsR0JHQ03y29P1o8tvT9aAJJLp5LWG3IVY4SxGB94t1J98AD6AVBT/Lb0/Wjy29P1oAZRT/Lb0/Wjy29P1oAZRT/AC29P1o8tvT9aAGUU/y29P1o8tvT9aAGUU/y29P1o8tvT9aAGUU/y29P1o8tvT9aAGUU/wAtvT9aPLb0/WgBlFP8tvT9aPLb0/WgBlFP8tvT9aPLb0/WgBlFP8tvT9aPLb0/WgBlFP8ALb0/Wjy29P1oAZRT/Lb0/Wjy29P1oAZRT/Lb0/Wjy29P1oAZRT/Lb0/Wjy29P1oAZRT/AC29P1o8tvT9aAEX7w+tWKgCMCCRwKk8xfX9KBD6rN94/WpvMX1/SoW+8frQAlFFFAwooooAKKKKACiiigAooooAKKKKACiiigAooooAKKKKACiiigAooooAKKKKACiiigAooooAKKKKACiiigAooooAKKKKACiiigAooooAKKKKACiiigAooooAKKKKACiiigAqeP8A1YqCp4/uCgB9FJmjNAhaKTNGaAFopM0ZoAWikzRmgBaKTNGaAFopM0ZoAWikzRmgBaKTNGaAFopM0ZoAWikzRmgBaKTNGaAFopM0ZoAWikzRmgBaKTNGaAFopM0ZoAWikzRmgBaKTNGaAFopM0ZoAWikzRmgBaKTNGaAFopM0ZoAWikzRmgBaKTNGaAFopM0ZoAWikzRmgBaKTNGaAFopM0ZoAWikzRmgBaKTNGaAFopM0ZoAWikzRmgBaKTNGaAFopM0ZoAWikzRmgBaKTNGaAFopM0ZoAWikzRmgBaKTNGaAFopM0ZoAWikzRmgBaKTNGaAFopM0ZoAWikzRmgBaKTNGaAFopM0ZoAWikzRmgBaKTNGaAFopM0ZoARvun6VXqw33T9Kg2n0P5UDEpW+8frRtPofyob7x+tACUUUUAFFFFABRRRQAUUUUAFFFFABRRRQAUUUUAFFFFABRRRQAUUUUAFFFFABRRRQAUUUUAFFFFABRRRQAUUUUAFFFFABRRRQAUUUUAFFFFABRRRQAUUUUAFFFFABRUot52UFYZCDyCFPNH2W4/54Sf98GgCKipfstx/zwk/74NH2W4/54Sf98GgCKipfstx/wA8JP8Avg0fZbj/AJ4Sf98GgCKipfstx/zwk/74NH2W4/54Sf8AfBoAioqX7Lcf88JP++DR9luP+eEn/fBoAioqX7Lcf88JP++DR9luP+eEn/fBoAioqX7Lcf8APCT/AL4NH2W4/wCeEn/fBoAioqX7Lcf88JP++DR9luP+eEn/AHwaAIqKl+y3H/PCT/vg0fZbj/nhJ/3waAIqKl+y3H/PCT/vg0fZbj/nhJ/3waAIqKl+y3H/ADwk/wC+DR9luP8AnhJ/3waAIqKl+y3H/PCT/vg0fZbj/nhJ/wB8GgCKipfstx/zwk/74NH2W4/54Sf98GgCKipfstx/zwk/74NH2W4/54Sf98GgCKipfstx/wA8JP8Avg0fZbj/AJ4Sf98GgCKipfstx/zwk/74NH2W4/54Sf8AfBoAioqX7Lcf88JP++DR9luP+eEn/fBoAioqX7Lcf88JP++DR9luP+eEn/fBoAioqX7Lcf8APCT/AL4NH2W4/wCeEn/fBoAioqX7Lcf88JP++DR9luP+eEn/AHwaAIqKl+y3H/PCT/vg0fZbj/nhJ/3waAIqKl+y3H/PCT/vg0fZbj/nhJ/3waAIqKl+y3H/ADwk/wC+DR9luP8AnhJ/3waAIqKl+y3H/PCT/vg0fZbj/nhJ/wB8GgCKipfstx/zwk/74NH2W4/54Sf98GgCKipfstx/zwk/74NH2W4/54Sf98GgCKipfstx/wA8JP8Avg0fZbj/AJ4Sf98GgCKipfstx/zwk/74NH2W4/54Sf8AfBoAioqX7Lcf88JP++DR9luP+eEn/fBoAioqX7Lcf88JP++DR9luP+eEn/fBoAioqX7Lcf8APCT/AL4NH2W4/wCeEn/fBoAioqX7Lcf88JP++DR9luP+eEn/AHwaAIqKl+y3H/PCT/vg0fZbj/nhJ/3waAIqKl+y3H/PCT/vg0fZbj/nhJ/3waAIqKl+y3H/ADwk/wC+DR9luP8AnhJ/3waAIqKl+y3H/PCT/vg0fZbj/nhJ/wB8GgCKipfstx/zwk/74NH2W4/54Sf98GgCKipfstx/zwk/74NH2W4/54Sf98GgCKipfstx/wA8JP8Avg0fZbj/AJ4Sf98GgCKipfstx/zwk/74NH2W4/54Sf8AfBoAioqX7Lcf88JP++DR9luP+eEn/fBoAioqX7Lcf88JP++DR9luP+eEn/fBoAioqX7Lcf8APCT/AL4NH2W4/wCeEn/fBoAioqX7Lcf88JP++DR9luP+eEn/AHwaAIqKl+y3H/PCT/vg0fZbj/nhJ/3waAIqKl+y3H/PCT/vg0fZbj/nhJ/3waAIqKl+y3H/ADwk/wC+DR9luP8AnhJ/3waAIqKl+y3H/PCT/vg0fZbj/nhJ/wB8GgCKipfstx/zwk/74NH2W4/54Sf98GgCKipfstx/zwk/74NH2W4/54Sf98GgCKipfstx/wA8JP8Avg0fZbj/AJ4Sf98GgCKipfstx/zwk/74NH2W4/54Sf8AfBoAioqX7Lcf88JP++DUZBViGGCOCD2oASiiigAooooAKKKKACiiigAooooAKKKKACiiigAooooAKKKKACiiigAooooAKKKKACiiigAooooAKKKKACiiigAooooAKKKKACiiigAooooAKKKKACiiigAooooAKKKKACiiigAooooAKKKKACiiigAooooAKKKKACiiigAooooAKKKKACiiigAooooAKKKKACiiigAooooAKKKKACiiigAooooAKKKKACiiigAooooAKKKKACiiigAooooAKKKKACiiigAooooAKKKKACiiigAooooAKKKKACiiigAooooAKKKKACiiigAooooAKKKKACiiigAooooAKKKKACiiigAooooAKKKKACiiigAooooAKKKKACiiigAooooAKKKKACiiigAooooAKKKKACiiigAooooAKKKKACiiigAooooAKKKKACiiigAooooAKKKKACiiigAooooAKKKKACiiigAooooAKKKKACiiigAooooAKKKKACiiigAooooAKKKKACiiigAooooAKKKKACiiigAooooAKKKKACiiigAooooAKKKKACiiigAooooAKKKKACiiigAooooAKKKKACiiigAooooAKKKKACiiigAooooAKKKKACiiigAooooAKKKKACiiigAooooAKKKKACiiigAooooAKKKKACiiigAooooAKKKKACiiigAooooAKKKKACiiigAooooAKKKKACiiigAooooAKKKKACiiigAooooAKKKKACiiigAooooAKKKKACiiigAooooAKKKKACiiigAooooAKKKKACiiigAooooAKKKKACiiigAooooAKKKKACiiigAooooAKKKKACiiigAooooAKKKKACiiigAooooAKKKKACiiigAooooAKKKKACiiigAooooAKKKKACiiigAooooAKKKKAP/Z)"
      ]
    }
  ]
}